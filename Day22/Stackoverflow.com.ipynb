{
 "cells": [
  {
   "cell_type": "code",
   "execution_count": 1,
   "id": "484cb096",
   "metadata": {},
   "outputs": [],
   "source": [
    "# !pipenv install requests-html requests"
   ]
  },
  {
   "cell_type": "code",
   "execution_count": 2,
   "id": "92ade572",
   "metadata": {},
   "outputs": [],
   "source": [
    "import requests\n",
    "import time\n",
    "import pandas as pd\n",
    "from requests_html import HTML"
   ]
  },
  {
   "cell_type": "code",
   "execution_count": 3,
   "id": "a8def421",
   "metadata": {},
   "outputs": [
    {
     "data": {
      "text/plain": [
       "'https://stackoverflow.com/questions/tagged/python?tab=Votes'"
      ]
     },
     "execution_count": 3,
     "metadata": {},
     "output_type": "execute_result"
    }
   ],
   "source": [
    "base_url = 'https://stackoverflow.com/questions/tagged/'\n",
    "tag = \"python\"\n",
    "query_filter = \"Votes\"\n",
    "url = f\"{base_url}{tag}?tab={query_filter}\"\n",
    "url"
   ]
  },
  {
   "cell_type": "code",
   "execution_count": 4,
   "id": "5c3baffe",
   "metadata": {},
   "outputs": [],
   "source": [
    "r = requests.get(url)\n",
    "html_str = r.text\n",
    "html = HTML(html = html_str)"
   ]
  },
  {
   "cell_type": "code",
   "execution_count": null,
   "id": "90fc7128",
   "metadata": {},
   "outputs": [],
   "source": []
  },
  {
   "cell_type": "code",
   "execution_count": 5,
   "id": "d853d758",
   "metadata": {
    "scrolled": true
   },
   "outputs": [
    {
     "name": "stdout",
     "output_type": "stream",
     "text": [
      "[<Element 'div' id='question-summary-231767' class=('s-post-summary', 'js-post-summary') data-post-id='231767' data-post-type-id='1'>, <Element 'div' id='question-summary-419163' class=('s-post-summary', 'js-post-summary') data-post-id='419163' data-post-type-id='1'>, <Element 'div' id='question-summary-394809' class=('s-post-summary', 'js-post-summary') data-post-id='394809' data-post-type-id='1'>, <Element 'div' id='question-summary-100003' class=('s-post-summary', 'js-post-summary') data-post-id='100003' data-post-type-id='1'>, <Element 'div' id='question-summary-82831' class=('s-post-summary', 'js-post-summary') data-post-id='82831' data-post-type-id='1'>, <Element 'div' id='question-summary-38987' class=('s-post-summary', 'js-post-summary') data-post-id='38987' data-post-type-id='1'>, <Element 'div' id='question-summary-89228' class=('s-post-summary', 'js-post-summary') data-post-id='89228' data-post-type-id='1'>, <Element 'div' id='question-summary-273192' class=('s-post-summary', 'js-post-summary') data-post-id='273192' data-post-type-id='1'>, <Element 'div' id='question-summary-522563' class=('s-post-summary', 'js-post-summary') data-post-id='522563' data-post-type-id='1'>, <Element 'div' id='question-summary-952914' class=('s-post-summary', 'js-post-summary') data-post-id='952914' data-post-type-id='1'>, <Element 'div' id='question-summary-136097' class=('s-post-summary', 'js-post-summary') data-post-id='136097' data-post-type-id='1'>, <Element 'div' id='question-summary-509211' class=('s-post-summary', 'js-post-summary') data-post-id='509211' data-post-type-id='1'>, <Element 'div' id='question-summary-176918' class=('s-post-summary', 'js-post-summary') data-post-id='176918' data-post-type-id='1'>, <Element 'div' id='question-summary-3294889' class=('s-post-summary', 'js-post-summary') data-post-id='3294889' data-post-type-id='1'>, <Element 'div' id='question-summary-423379' class=('s-post-summary', 'js-post-summary') data-post-id='423379' data-post-type-id='1'>, <Element 'div' id='question-summary-3437059' class=('s-post-summary', 'js-post-summary') data-post-id='3437059' data-post-type-id='1'>, <Element 'div' id='question-summary-415511' class=('s-post-summary', 'js-post-summary') data-post-id='415511' data-post-type-id='1'>, <Element 'div' id='question-summary-6470428' class=('s-post-summary', 'js-post-summary') data-post-id='6470428' data-post-type-id='1'>, <Element 'div' id='question-summary-16476924' class=('s-post-summary', 'js-post-summary') data-post-id='16476924' data-post-type-id='1'>, <Element 'div' id='question-summary-3207219' class=('s-post-summary', 'js-post-summary') data-post-id='3207219' data-post-type-id='1'>, <Element 'div' id='question-summary-1436703' class=('s-post-summary', 'js-post-summary') data-post-id='1436703' data-post-type-id='1'>, <Element 'div' id='question-summary-606191' class=('s-post-summary', 'js-post-summary') data-post-id='606191' data-post-type-id='1'>, <Element 'div' id='question-summary-613183' class=('s-post-summary', 'js-post-summary') data-post-id='613183' data-post-type-id='1'>, <Element 'div' id='question-summary-123198' class=('s-post-summary', 'js-post-summary') data-post-id='123198' data-post-type-id='1'>, <Element 'div' id='question-summary-1024847' class=('s-post-summary', 'js-post-summary') data-post-id='1024847' data-post-type-id='1'>, <Element 'div' id='question-summary-448271' class=('s-post-summary', 'js-post-summary') data-post-id='448271' data-post-type-id='1'>, <Element 'div' id='question-summary-1720421' class=('s-post-summary', 'js-post-summary') data-post-id='1720421' data-post-type-id='1'>, <Element 'div' id='question-summary-53513' class=('s-post-summary', 'js-post-summary') data-post-id='53513' data-post-type-id='1'>, <Element 'div' id='question-summary-1132941' class=('s-post-summary', 'js-post-summary') data-post-id='1132941' data-post-type-id='1'>, <Element 'div' id='question-summary-986006' class=('s-post-summary', 'js-post-summary') data-post-id='986006' data-post-type-id='1'>, <Element 'div' id='question-summary-2612802' class=('s-post-summary', 'js-post-summary') data-post-id='2612802' data-post-type-id='1'>, <Element 'div' id='question-summary-17071871' class=('s-post-summary', 'js-post-summary') data-post-id='17071871' data-post-type-id='1'>, <Element 'div' id='question-summary-252703' class=('s-post-summary', 'js-post-summary') data-post-id='252703' data-post-type-id='1'>, <Element 'div' id='question-summary-510348' class=('s-post-summary', 'js-post-summary') data-post-id='510348' data-post-type-id='1'>, <Element 'div' id='question-summary-36901' class=('s-post-summary', 'js-post-summary') data-post-id='36901' data-post-type-id='1'>, <Element 'div' id='question-summary-739654' class=('s-post-summary', 'js-post-summary') data-post-id='739654' data-post-type-id='1'>, <Element 'div' id='question-summary-576169' class=('s-post-summary', 'js-post-summary') data-post-id='576169' data-post-type-id='1'>, <Element 'div' id='question-summary-6996603' class=('s-post-summary', 'js-post-summary') data-post-id='6996603' data-post-type-id='1'>, <Element 'div' id='question-summary-332289' class=('s-post-summary', 'js-post-summary') data-post-id='332289' data-post-type-id='1'>, <Element 'div' id='question-summary-2052390' class=('s-post-summary', 'js-post-summary') data-post-id='2052390' data-post-type-id='1'>, <Element 'div' id='question-summary-312443' class=('s-post-summary', 'js-post-summary') data-post-id='312443' data-post-type-id='1'>, <Element 'div' id='question-summary-287871' class=('s-post-summary', 'js-post-summary') data-post-id='287871' data-post-type-id='1'>, <Element 'div' id='question-summary-4906977' class=('s-post-summary', 'js-post-summary') data-post-id='4906977' data-post-type-id='1'>, <Element 'div' id='question-summary-466345' class=('s-post-summary', 'js-post-summary') data-post-id='466345' data-post-type-id='1'>, <Element 'div' id='question-summary-30081275' class=('s-post-summary', 'js-post-summary') data-post-id='30081275' data-post-type-id='1'>, <Element 'div' id='question-summary-5137497' class=('s-post-summary', 'js-post-summary') data-post-id='5137497' data-post-type-id='1'>, <Element 'div' id='question-summary-1602934' class=('s-post-summary', 'js-post-summary') data-post-id='1602934' data-post-type-id='1'>, <Element 'div' id='question-summary-11346283' class=('s-post-summary', 'js-post-summary') data-post-id='11346283' data-post-type-id='1'>, <Element 'div' id='question-summary-379906' class=('s-post-summary', 'js-post-summary') data-post-id='379906' data-post-type-id='1'>, <Element 'div' id='question-summary-11277432' class=('s-post-summary', 'js-post-summary') data-post-id='11277432' data-post-type-id='1'>]\n"
     ]
    }
   ],
   "source": [
    "question_classes = html.find(\".s-link\")       # selenium\n",
    "question_summaries = html.find(\".s-post-summary\")\n",
    "print (question_summaries)"
   ]
  },
  {
   "cell_type": "code",
   "execution_count": 6,
   "id": "695cd6a5",
   "metadata": {},
   "outputs": [
    {
     "name": "stdout",
     "output_type": "stream",
     "text": [
      "12217 votes\n",
      "49 answers\n",
      "3.0m views\n",
      "What does the \"yield\" keyword do?\n",
      "What is the use of the yield keyword in Python? What does it do? For example, I'm trying to understand this code1: def _get_child_candidates(self, distance, min_dist, max_dist): if self._leftchild ...\n",
      "python iterator generator\n",
      "Alex. S.\n",
      "138k\n",
      "asked Oct 23, 2008 at 22:21\n"
     ]
    }
   ],
   "source": [
    "print(question_summaries[0].text)"
   ]
  },
  {
   "cell_type": "code",
   "execution_count": 7,
   "id": "ae9529e3",
   "metadata": {},
   "outputs": [],
   "source": [
    "columns = ['votes', 'num_answers', 'views', 'question', 'short_desc', 'tags', 'user', 'user_detail', 'date']"
   ]
  },
  {
   "cell_type": "code",
   "execution_count": 8,
   "id": "979aac40",
   "metadata": {},
   "outputs": [],
   "source": [
    "#this_row = list(question_summaries[0].text.split(\"\\n\"))\n",
    "#this_row"
   ]
  },
  {
   "cell_type": "code",
   "execution_count": 9,
   "id": "69f0e3e7",
   "metadata": {},
   "outputs": [],
   "source": [
    "#len(this_row) == len (columns)"
   ]
  },
  {
   "cell_type": "code",
   "execution_count": 10,
   "id": "42a5a5cf",
   "metadata": {},
   "outputs": [],
   "source": [
    "#row_data = dict(zip(columns, this_row))\n",
    "#row_data"
   ]
  },
  {
   "cell_type": "code",
   "execution_count": 11,
   "id": "401e67e3",
   "metadata": {},
   "outputs": [],
   "source": [
    "# nahrada\n",
    "#for column, row_v in zip(columns, this_row):\n",
    "#    print(column, row_v)"
   ]
  },
  {
   "cell_type": "code",
   "execution_count": 12,
   "id": "c7d323bb",
   "metadata": {},
   "outputs": [
    {
     "data": {
      "text/plain": [
       "'12217'"
      ]
     },
     "execution_count": 12,
     "metadata": {},
     "output_type": "execute_result"
    }
   ],
   "source": [
    "key_names = ['question', 'votes', 'tags', 'qu_id']\n",
    "classes_needed = ['.s-link', '.s-post-summary--stats-item__emphasized', '.tags','div.data-post-id']\n",
    "this_question_element = question_summaries[0]\n",
    "this_question_element.find('.s-link', first=True).text\n",
    "this_question_element.find('.s-post-summary--stats-item__emphasized', first=True).text.replace(' votes', '')"
   ]
  },
  {
   "cell_type": "code",
   "execution_count": 13,
   "id": "4808e887",
   "metadata": {},
   "outputs": [],
   "source": [
    "def clean_scraped_data(text, keyname = None):\n",
    "    if keyname == 'votes':\n",
    "        return text.replace(' votes', '')\n",
    "    return text"
   ]
  },
  {
   "cell_type": "code",
   "execution_count": 16,
   "id": "6f3ad42f",
   "metadata": {
    "scrolled": true
   },
   "outputs": [
    {
     "name": "stdout",
     "output_type": "stream",
     "text": [
      "qu_id 231767\n",
      "qu_id 419163\n",
      "qu_id 394809\n",
      "qu_id 100003\n",
      "qu_id 82831\n",
      "qu_id 38987\n",
      "qu_id 89228\n",
      "qu_id 273192\n",
      "qu_id 522563\n",
      "qu_id 952914\n",
      "qu_id 136097\n",
      "qu_id 509211\n",
      "qu_id 176918\n",
      "qu_id 3294889\n",
      "qu_id 423379\n",
      "qu_id 3437059\n",
      "qu_id 415511\n",
      "qu_id 6470428\n",
      "qu_id 16476924\n",
      "qu_id 3207219\n",
      "qu_id 1436703\n",
      "qu_id 606191\n",
      "qu_id 613183\n",
      "qu_id 123198\n",
      "qu_id 1024847\n",
      "qu_id 448271\n",
      "qu_id 1720421\n",
      "qu_id 53513\n",
      "qu_id 1132941\n",
      "qu_id 986006\n",
      "qu_id 2612802\n",
      "qu_id 17071871\n",
      "qu_id 252703\n",
      "qu_id 510348\n",
      "qu_id 36901\n",
      "qu_id 739654\n",
      "qu_id 576169\n",
      "qu_id 6996603\n",
      "qu_id 332289\n",
      "qu_id 2052390\n",
      "qu_id 312443\n",
      "qu_id 287871\n",
      "qu_id 4906977\n",
      "qu_id 466345\n",
      "qu_id 30081275\n",
      "qu_id 5137497\n",
      "qu_id 1602934\n",
      "qu_id 11346283\n",
      "qu_id 379906\n",
      "qu_id 11277432\n"
     ]
    }
   ],
   "source": [
    "datas = []\n",
    "\n",
    "for q_el in question_summaries:\n",
    "    question_data = {}\n",
    "    for i, _clas in enumerate(classes_needed):\n",
    "        sub_el = q_el.find(_clas, first=True)\n",
    "        key_name = key_names[i]\n",
    "        if i == 3:\n",
    "            question_data[key_name] = q_el.attrs['data-post-id']\n",
    "            print (key_name, question_data[key_name])\n",
    "        else:\n",
    "            question_data[key_name] = clean_scraped_data(sub_el.text, keyname = key_name)\n",
    "    datas.append(question_data)\n"
   ]
  },
  {
   "cell_type": "code",
   "execution_count": null,
   "id": "cfce1aa6",
   "metadata": {},
   "outputs": [],
   "source": [
    "#datas"
   ]
  },
  {
   "cell_type": "code",
   "execution_count": null,
   "id": "fc2b5eb0",
   "metadata": {},
   "outputs": [],
   "source": [
    "def parse_tagged_page(html):\n",
    "    question_summaries = html.find(\".s-post-summary\")\n",
    "    key_names = ['question', 'votes', 'tags', 'question_id']\n",
    "    classes_needed = ['.s-link', '.s-post-summary--stats-item__emphasized', '.tags', '.s-link']\n",
    "    datas = []\n",
    "    for q_el in question_summaries:\n",
    "        question_data = {}\n",
    "        for i, _clas in enumerate(classes_needed):\n",
    "            sub_el = q_el.find(_clas, first=True)\n",
    "            key_name = key_names[i]\n",
    "            if i == 3:\n",
    "                question_data[key_name] = q_el.attrs['data-post-id']\n",
    "            question_data[key_name] = clean_scraped_data(sub_el.text, keyname = key_name)\n",
    "        datas.append(question_data)\n",
    "    return datas"
   ]
  },
  {
   "cell_type": "code",
   "execution_count": null,
   "id": "036f8a42",
   "metadata": {},
   "outputs": [],
   "source": [
    "def extract_data_from_url(url):\n",
    "    r = requests.get(url)\n",
    "    if r.status_code not in range(200, 299):\n",
    "        return []\n",
    "    html_str = r.text\n",
    "    html = HTML(html = html_str)\n",
    "    datas = parse_tagged_page(html)\n",
    "    return datas"
   ]
  },
  {
   "cell_type": "code",
   "execution_count": null,
   "id": "d9f59670",
   "metadata": {},
   "outputs": [],
   "source": [
    "def scrape_tag(tag=\"python\", query_filter = \"Votes\", page=1, max_pages=50, pagesize = 25):\n",
    "    base_url = 'https://stackoverflow.com/questions/tagged/'\n",
    "    datas = []\n",
    "    for p in range (max_pages):\n",
    "        page_num = p+1\n",
    "        url = f\"{base_url}{tag}?tab={query_filter}&page={page_num}&pagesize={pagesize}\"\n",
    "        datas += extract_data_from_url(url)\n",
    "        time.sleep(1.2)\n",
    "    return datas\n"
   ]
  },
  {
   "cell_type": "code",
   "execution_count": null,
   "id": "068c38dd",
   "metadata": {},
   "outputs": [],
   "source": [
    "datas = scrape_tag(tag = 'python', max_pages=5)\n",
    "len(datas)"
   ]
  },
  {
   "cell_type": "code",
   "execution_count": null,
   "id": "02b418c4",
   "metadata": {},
   "outputs": [],
   "source": [
    "df = pd.DataFrame(datas)\n",
    "df.head()"
   ]
  },
  {
   "cell_type": "code",
   "execution_count": null,
   "id": "3fa97a92",
   "metadata": {},
   "outputs": [],
   "source": [
    "df.shape"
   ]
  },
  {
   "cell_type": "code",
   "execution_count": null,
   "id": "871cc3f5",
   "metadata": {},
   "outputs": [],
   "source": [
    "df.to_csv(\"python.csv\", index = False)"
   ]
  },
  {
   "cell_type": "code",
   "execution_count": null,
   "id": "747a1ce5",
   "metadata": {},
   "outputs": [],
   "source": [
    "# To-do after machine learning : auto-tagging question bot"
   ]
  },
  {
   "cell_type": "code",
   "execution_count": null,
   "id": "dd38f3ed",
   "metadata": {},
   "outputs": [],
   "source": [
    "url = 'https://stackoverflow.com/questions/231767/'\n",
    "regex_pattern = r\"https://stackoverflow.com/questions/(P<product_id>[0-9]+)/\"\n",
    "regex_options = [\n",
    "    r\"https://stackoverflow.com/questions/(P<question_id>[0-9]+)/\",\n",
    "    r\"https://gude.gude.sk/(?P<slug>[\\w-]+)/(?P<question_id>[0-9]+).html\"\n",
    "]\n",
    "def extract_question_id_from_url(url):\n",
    "    question_id = None\n",
    "    for regex_str in regex_options:\n",
    "        regex = re.compile(regex_str)\n",
    "        match = regex.match(url)\n",
    "        if match != None:\n",
    "            try:\n",
    "                question_id = match['question_id']\n",
    "            except:\n",
    "                pass\n",
    "    return question_id"
   ]
  },
  {
   "cell_type": "code",
   "execution_count": null,
   "id": "eba314e4",
   "metadata": {},
   "outputs": [],
   "source": []
  }
 ],
 "metadata": {
  "kernelspec": {
   "display_name": "Python 3 (ipykernel)",
   "language": "python",
   "name": "python3"
  },
  "language_info": {
   "codemirror_mode": {
    "name": "ipython",
    "version": 3
   },
   "file_extension": ".py",
   "mimetype": "text/x-python",
   "name": "python",
   "nbconvert_exporter": "python",
   "pygments_lexer": "ipython3",
   "version": "3.10.4"
  }
 },
 "nbformat": 4,
 "nbformat_minor": 5
}
