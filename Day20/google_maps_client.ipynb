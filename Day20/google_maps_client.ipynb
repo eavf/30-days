{
 "cells": [
  {
   "cell_type": "code",
   "execution_count": 1,
   "id": "30c3ab15",
   "metadata": {},
   "outputs": [],
   "source": [
    "import requests\n",
    "from urllib.parse import urlencode\n",
    "from urllib.parse import urlparse, parse_qsl\n",
    "from _kluce import api_key as GOOGLE_API_KEY"
   ]
  },
  {
   "cell_type": "markdown",
   "id": "8ee5a7dc",
   "metadata": {},
   "source": [
    "Google Maps Client API"
   ]
  },
  {
   "cell_type": "code",
   "execution_count": 2,
   "id": "be8f5c7b",
   "metadata": {},
   "outputs": [],
   "source": [
    "class GoogleMapsClient(object):\n",
    "    lat = None\n",
    "    lng = None\n",
    "    data_type = 'json'\n",
    "    location_query = None\n",
    "    api_key = None\n",
    "    \n",
    "    def __init__ (self, api_key=None, asdress_or_postal_code=None, *args, **kwargs):\n",
    "        super().__init__(*args, **kwargs)\n",
    "        if api_key == None:\n",
    "            raise Exception('API key is required')\n",
    "        self.api_key = api_key\n",
    "        self.location_query = asdress_or_postal_code\n",
    "        if self.location_query != None:\n",
    "            self.extract_lat_lng()\n",
    "    \n",
    "    def extract_lat_lng(self, location=None):\n",
    "        loc_query = self.location_query\n",
    "        if location != None:\n",
    "            loc_query=location\n",
    "        endpoint = f\"https://maps.googleapis.com/maps/api/geocode/{self.data_type}\"\n",
    "        params = {\"address\": loc_query, \"key\": self.api_key}\n",
    "        url_params = urlencode(params)\n",
    "\n",
    "        url = f\"{endpoint}?{url_params}\"\n",
    "        r = requests.get(url)\n",
    "        if r.status_code not in range (200,299):\n",
    "            return {}\n",
    "        latlng = {}\n",
    "        try:\n",
    "            latlng = r.json()['results'][0]['geometry']['location']\n",
    "        except:\n",
    "            pass\n",
    "        lat, lng = latlng.get(\"lat\"), latlng.get(\"lng\")\n",
    "        self.lat = lat\n",
    "        self.lng = lng\n",
    "        return lat, lng\n",
    "    \n",
    "    def search(self, keyword=\"China Food\", radius=5000,  location = None):\n",
    "        lat, lng = self.lat, self.lng\n",
    "        if location != None:\n",
    "            lat, lng = self.extract_lat_lng(location)\n",
    "        endpoint = f'https://maps.googleapis.com/maps/api/place/nearbysearch/{self.data_type}'\n",
    "        params = {\n",
    "            \"key\": self.api_key,\n",
    "            \"location\": f\"{lat},{lng}\",\n",
    "            \"radius\": radius,\n",
    "            \"keyword\": keyword\n",
    "        }\n",
    "        params_encoded = urlencode(params)\n",
    "        places_url = f\"{endpoint}?{params_encoded}\"\n",
    "        r = requests.get(places_url)\n",
    "        if r.status_code not in range(200,299):\n",
    "            return {}\n",
    "        return r.json()\n",
    "    \n",
    "    def detail(self, place_id='ChIJB8F-_QHFw0cRkIcY_Zn5M04', fields=[\"name\", \"rating\", \"formatted_phone_number\", \"formatted_address\"]):\n",
    "        #  Detail lookup\n",
    "        detail_base_endpoint = f'https://maps.googleapis.com/maps/api/place/details/{self.data_type}'\n",
    "        detail_params = {\n",
    "            \"place_id\": f\"{place_id}\",\n",
    "            \"fields\": \",\".join(fields),\n",
    "            \"key\": self.api_key\n",
    "        }\n",
    "        detail_params_encoded = urlencode(detail_params)\n",
    "        detail_url = f\"{detail_base_endpoint}?{detail_params_encoded}\"\n",
    "        r = requests.get(detail_url)\n",
    "        if r.status_code not in range(200,299):\n",
    "            return {}\n",
    "        return r.json()"
   ]
  },
  {
   "cell_type": "code",
   "execution_count": 3,
   "id": "b0dc1b36",
   "metadata": {},
   "outputs": [
    {
     "name": "stdout",
     "output_type": "stream",
     "text": [
      "50.8041613 4.3563086\n"
     ]
    }
   ],
   "source": [
    "client = GoogleMapsClient(api_key=GOOGLE_API_KEY, asdress_or_postal_code='163, avenue de Fre, uccle')\n",
    "print(client.lat, client.lng)"
   ]
  },
  {
   "cell_type": "code",
   "execution_count": 10,
   "id": "991cfc7c",
   "metadata": {},
   "outputs": [
    {
     "data": {
      "text/plain": [
       "{'html_attributions': [],\n",
       " 'results': [{'business_status': 'OPERATIONAL',\n",
       "   'geometry': {'location': {'lat': 50.80598120000001, 'lng': 4.3577732},\n",
       "    'viewport': {'northeast': {'lat': 50.80733182989272,\n",
       "      'lng': 4.359135729892722},\n",
       "     'southwest': {'lat': 50.80463217010728, 'lng': 4.356436070107277}}},\n",
       "   'icon': 'https://maps.gstatic.com/mapfiles/place_api/icons/v1/png_71/restaurant-71.png',\n",
       "   'icon_background_color': '#FF9E67',\n",
       "   'icon_mask_base_uri': 'https://maps.gstatic.com/mapfiles/place_api/icons/v2/restaurant_pinlet',\n",
       "   'name': 'I Monticelli',\n",
       "   'opening_hours': {'open_now': False},\n",
       "   'photos': [{'height': 1960,\n",
       "     'html_attributions': ['<a href=\"https://maps.google.com/maps/contrib/117120265918951312541\">vladimir bussi</a>'],\n",
       "     'photo_reference': 'AeJbb3eSGfR8VZef3JWKtCEv_RJ6KP8ZrZYzE2Gbd4fn2zFJKoQwiwwn29O3zRN1aPx-Eaf7Pr53ZuG3auxbCUOXQjgp_uo5JdzsyPTG2cnGKviBwETvsgVp8yvQcL3IYEgEhSXxLFSD2lDcMCji2zgTP8kwzfrXhW4P5Dtgenx34UUFsAx3',\n",
       "     'width': 4032}],\n",
       "   'place_id': 'ChIJDzuyJVzEw0cRUdPRfcP0iBw',\n",
       "   'plus_code': {'compound_code': 'R945+93 Uccle',\n",
       "    'global_code': '9F26R945+93'},\n",
       "   'price_level': 2,\n",
       "   'rating': 4.6,\n",
       "   'reference': 'ChIJDzuyJVzEw0cRUdPRfcP0iBw',\n",
       "   'scope': 'GOOGLE',\n",
       "   'types': ['restaurant', 'food', 'point_of_interest', 'establishment'],\n",
       "   'user_ratings_total': 259,\n",
       "   'vicinity': 'Rue Edith Cavell 153, Uccle'},\n",
       "  {'business_status': 'OPERATIONAL',\n",
       "   'geometry': {'location': {'lat': 50.80596999999999, 'lng': 4.3577825},\n",
       "    'viewport': {'northeast': {'lat': 50.80732257989272,\n",
       "      'lng': 4.359150079892722},\n",
       "     'southwest': {'lat': 50.80462292010728, 'lng': 4.356450420107278}}},\n",
       "   'icon': 'https://maps.gstatic.com/mapfiles/place_api/icons/v1/png_71/restaurant-71.png',\n",
       "   'icon_background_color': '#FF9E67',\n",
       "   'icon_mask_base_uri': 'https://maps.gstatic.com/mapfiles/place_api/icons/v2/restaurant_pinlet',\n",
       "   'name': 'La Rucola',\n",
       "   'opening_hours': {'open_now': False},\n",
       "   'photos': [{'height': 4618,\n",
       "     'html_attributions': ['<a href=\"https://maps.google.com/maps/contrib/115887581457338700769\">Ruggero Lopez</a>'],\n",
       "     'photo_reference': 'AeJbb3dW42G8CASNIJuo7XscXW4HfTsUxBVI0FDCxCDTe7CrErrYB_LZimtvCAwvdtG4978EeFpkb3qgBTb0vu0oHCxdlZrlq45OnQlj9LTRfeLKlV4UI2QMnb6jxDyOvrq0aw_4fdF0uGpW_XoWzCX5P2ohJKyO6i5vY-Iw2ny6GFNVPyEP',\n",
       "     'width': 3464}],\n",
       "   'place_id': 'ChIJB8F-_QHFw0cRkIcY_Zn5M04',\n",
       "   'plus_code': {'compound_code': 'R945+93 Uccle',\n",
       "    'global_code': '9F26R945+93'},\n",
       "   'price_level': 2,\n",
       "   'rating': 4.2,\n",
       "   'reference': 'ChIJB8F-_QHFw0cRkIcY_Zn5M04',\n",
       "   'scope': 'GOOGLE',\n",
       "   'types': ['restaurant', 'food', 'point_of_interest', 'establishment'],\n",
       "   'user_ratings_total': 167,\n",
       "   'vicinity': 'Rue Edith Cavell 151, Uccle'},\n",
       "  {'business_status': 'OPERATIONAL',\n",
       "   'geometry': {'location': {'lat': 50.8039312, 'lng': 4.3582784},\n",
       "    'viewport': {'northeast': {'lat': 50.80535012989272,\n",
       "      'lng': 4.359662879892721},\n",
       "     'southwest': {'lat': 50.80265047010727, 'lng': 4.356963220107278}}},\n",
       "   'icon': 'https://maps.gstatic.com/mapfiles/place_api/icons/v1/png_71/restaurant-71.png',\n",
       "   'icon_background_color': '#FF9E67',\n",
       "   'icon_mask_base_uri': 'https://maps.gstatic.com/mapfiles/place_api/icons/v2/restaurant_pinlet',\n",
       "   'name': 'La Donna',\n",
       "   'opening_hours': {'open_now': False},\n",
       "   'photos': [{'height': 3024,\n",
       "     'html_attributions': ['<a href=\"https://maps.google.com/maps/contrib/108020170103998231098\">A Google User</a>'],\n",
       "     'photo_reference': 'AeJbb3cV62UiblPuKah8WJ_y15-aLIy23c8topD_K92F5s9VcE_Avr10Az_kQo0I4qylIIy2PLF94fpMpRE7ITCGXJQCpz_Nh-FdtbjxyJKFogqNRNF0p5-uIeOSb5kvg3JeSwuyFb3jB_RCmaKRW70wK-CPa7nscSCdNgZLoiu5eLnuEr8y',\n",
       "     'width': 4032}],\n",
       "   'place_id': 'ChIJYdV4tBPFw0cRt33up0gVS2s',\n",
       "   'plus_code': {'compound_code': 'R935+H8 Uccle',\n",
       "    'global_code': '9F26R935+H8'},\n",
       "   'rating': 4.8,\n",
       "   'reference': 'ChIJYdV4tBPFw0cRt33up0gVS2s',\n",
       "   'scope': 'GOOGLE',\n",
       "   'types': ['restaurant', 'food', 'point_of_interest', 'establishment'],\n",
       "   'user_ratings_total': 8,\n",
       "   'vicinity': 'Av. De Fré 205, Uccle'}],\n",
       " 'status': 'OK'}"
      ]
     },
     "execution_count": 10,
     "metadata": {},
     "output_type": "execute_result"
    }
   ],
   "source": [
    "client.search(\"italien restaurant\", radius = 500)"
   ]
  },
  {
   "cell_type": "code",
   "execution_count": 12,
   "id": "ea9ee061",
   "metadata": {},
   "outputs": [
    {
     "data": {
      "text/plain": [
       "{'html_attributions': [],\n",
       " 'result': {'formatted_address': 'Av. De Fré 205, 1180 Uccle, Belgium',\n",
       "  'formatted_phone_number': '0491 22 90 91',\n",
       "  'name': 'La Donna',\n",
       "  'rating': 4.8},\n",
       " 'status': 'OK'}"
      ]
     },
     "execution_count": 12,
     "metadata": {},
     "output_type": "execute_result"
    }
   ],
   "source": [
    "client.detail(place_id='ChIJYdV4tBPFw0cRt33up0gVS2s')"
   ]
  },
  {
   "cell_type": "code",
   "execution_count": null,
   "id": "7f8240a9",
   "metadata": {},
   "outputs": [],
   "source": []
  }
 ],
 "metadata": {
  "kernelspec": {
   "display_name": "Python 3 (ipykernel)",
   "language": "python",
   "name": "python3"
  },
  "language_info": {
   "codemirror_mode": {
    "name": "ipython",
    "version": 3
   },
   "file_extension": ".py",
   "mimetype": "text/x-python",
   "name": "python",
   "nbconvert_exporter": "python",
   "pygments_lexer": "ipython3",
   "version": "3.10.4"
  }
 },
 "nbformat": 4,
 "nbformat_minor": 5
}
