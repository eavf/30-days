{
 "cells": [
  {
   "cell_type": "code",
   "execution_count": 1,
   "id": "e4fe7266",
   "metadata": {},
   "outputs": [],
   "source": [
    "from pathlib import Path\n",
    "import re\n",
    "import requests\n",
    "import time\n",
    "import datetime\n",
    "import pandas as pd\n",
    "from requests_html import HTML\n",
    "from selenium import webdriver\n",
    "from selenium.webdriver.common.by import By\n",
    "from selenium.webdriver.chrome.options import Options"
   ]
  },
  {
   "cell_type": "code",
   "execution_count": 2,
   "id": "606a8c05",
   "metadata": {},
   "outputs": [],
   "source": [
    "BASE_DIR = Path.cwd()\n",
    "DATA_DIR = BASE_DIR / \"data\"        # os.path.join(BASE_DIR, \"data\")\n",
    "if not DATA_DIR.exists():           # os.path.exists(DATA_DIR)\n",
    "    DATA_DIR.mkdir(exist_ok=True)   # os.ôakedirs(DATA_DIR, exist_ok=True)\n",
    "\n",
    "product_category_links_output = DATA_DIR / \"category-products.csv\"\n",
    "product_output = DATA_DIR / \"products.csv\""
   ]
  },
  {
   "cell_type": "code",
   "execution_count": 3,
   "id": "b0098014",
   "metadata": {},
   "outputs": [],
   "source": [
    "c = Options()\n",
    "c.add_argument(\"--headless\")\n",
    "\n",
    "driver = webdriver.Chrome(options=c)"
   ]
  },
  {
   "cell_type": "code",
   "execution_count": 4,
   "id": "8390d681",
   "metadata": {},
   "outputs": [],
   "source": [
    "categories = [\n",
    "    {\"name\": \"elektrocentrály\", \"url\": \"https://gude.gude.sk/7712-elektrocentraly\"},\n",
    "    {\"name\": \"cerpadla\", \"url\": \"https://gude.gude.sk/7674-cerpadla-a-vodarne\"},\n",
    "    {\"name\": \"nabijacky\", \"url\": \"https://gude.gude.sk/7711-nabijacky-autobaterii\"},\n",
    "    {\"name\": \"naradie\", \"url\": \"https://gude.gude.sk/8089-rucne-naradie\"}\n",
    "]\n"
   ]
  },
  {
   "cell_type": "code",
   "execution_count": 5,
   "id": "8c7d1ea4",
   "metadata": {},
   "outputs": [],
   "source": [
    "regex_options = [\n",
    "    r\"https://gude.gude.sk/(?P<slug>[\\w-]+)/(?P<slug1>[\\w-]+)-(?P<product_id>[0-9]+).html\",\n",
    "    r\"https://gude.gude.sk/(?P<slug>[\\w-]+)/(?P<product_id>[0-9]+).html\"\n",
    "]\n",
    "\n",
    "def extract_product_id_from_url(url):\n",
    "    product_id = None\n",
    "    for regex_str in regex_options:\n",
    "        regex = re.compile(regex_str)\n",
    "        match = regex.match(url)\n",
    "        if match != None:\n",
    "            try:\n",
    "                product_id = match['product_id']\n",
    "            except:\n",
    "                pass\n",
    "    return product_id"
   ]
  },
  {
   "cell_type": "code",
   "execution_count": 6,
   "id": "e60c276e",
   "metadata": {},
   "outputs": [],
   "source": [
    "def clean_page_links(page_links=[], category=None):\n",
    "    final_page_links = []\n",
    "    for x in page_links:\n",
    "        product_id = extract_product_id_from_url(x)\n",
    "        if product_id != None:\n",
    "            final_page_links.append({\"url\": x, \"product_id\": product_id, \"category\": category})\n",
    "    return final_page_links"
   ]
  },
  {
   "cell_type": "code",
   "execution_count": 7,
   "id": "ce4c085f",
   "metadata": {},
   "outputs": [],
   "source": [
    "def scrape_category_product_links(categories=[]):\n",
    "    all_product_links=[]\n",
    "    for category in categories:\n",
    "        url = category.get(\"url\")\n",
    "        driver.get(url)\n",
    "        body_el = driver.find_element(By.CSS_SELECTOR, \".product_list\")\n",
    "        html_str = body_el.get_attribute(\"innerHTML\")\n",
    "        html_obj = HTML(html = html_str)\n",
    "        new_links = [x for x in html_obj.links if x.startswith(\"https://gude.gude.sk/\")]\n",
    "        page_links = [x for x in new_links if x.endswith(\".html\")]\n",
    "        cleaned_links = clean_page_links(page_links=page_links, category=category)\n",
    "        all_product_links += cleaned_links\n",
    "    return all_product_links"
   ]
  },
  {
   "cell_type": "code",
   "execution_count": 8,
   "id": "77e2f334",
   "metadata": {},
   "outputs": [],
   "source": [
    "def extract_categories_and_save(categories=[]):\n",
    "    all_product_links = scrape_category_product_links(categories)\n",
    "    category_df = pd.DataFrame(all_product_links)\n",
    "    category_df.to_csv(product_category_links_output, index=False)"
   ]
  },
  {
   "cell_type": "code",
   "execution_count": 9,
   "id": "204e83f6",
   "metadata": {},
   "outputs": [],
   "source": [
    "extract_categories_and_save(categories)\n"
   ]
  },
  {
   "cell_type": "code",
   "execution_count": 10,
   "id": "a2855981",
   "metadata": {},
   "outputs": [],
   "source": [
    "def scrape_product_page(url, title_lookup = \"h1\", price_lookup = \".productPrice\", avail = \"#availability_value\"):\n",
    "    driver.get(url)\n",
    "    #time.sleep(1.2)\n",
    "    body_el = driver.find_element(By.CSS_SELECTOR, \"body\")\n",
    "    #body_el = driver.find_element_by_css_selector(\"body\")\n",
    "    html_str = body_el.get_attribute(\"innerHTML\")\n",
    "    html_obj = HTML(html = html_str)\n",
    "    product_title = html_obj.find(title_lookup, first=True).text\n",
    "    product_price = html_obj.find(price_lookup, first=True).text\n",
    "    if html_obj.find(avail, first=True).text == \"Skladom (ihneď k odberu)\":\n",
    "        product_av = True\n",
    "    else:\n",
    "        product_av = False\n",
    "    #print (product_title, product_price)\n",
    "    return product_title, product_price, product_av"
   ]
  },
  {
   "cell_type": "code",
   "execution_count": 11,
   "id": "d5bf218d",
   "metadata": {},
   "outputs": [],
   "source": [
    "def perform_scrape(cleaned_items=[]):\n",
    "    data_extracted = []\n",
    "    for obj in cleaned_items:\n",
    "        link = obj['url']\n",
    "        product_id = obj['product_id']\n",
    "        title, price = (None, None)\n",
    "        try:\n",
    "            title, price = scrape_product_page(link)\n",
    "        except:\n",
    "            pass\n",
    "        if title != None and price != None:\n",
    "            print (link, title, price)\n",
    "        product_data = {\n",
    "            \"url\": link,\n",
    "            \"product_id\": product_id,\n",
    "            \"title\": title,\n",
    "            \"price\": price\n",
    "        }\n",
    "        data_extracted.append(product_data)\n",
    "    return data_extracted"
   ]
  },
  {
   "cell_type": "code",
   "execution_count": 12,
   "id": "48af0f50",
   "metadata": {},
   "outputs": [],
   "source": [
    "#extracted_data = perform_scrape(cleaned_links)"
   ]
  },
  {
   "cell_type": "code",
   "execution_count": 13,
   "id": "09896c44",
   "metadata": {},
   "outputs": [],
   "source": [
    "#print (extracted_data)"
   ]
  },
  {
   "cell_type": "code",
   "execution_count": 14,
   "id": "854c1948",
   "metadata": {},
   "outputs": [],
   "source": [
    "def row_scrape_event(row, *args, **kwargs):\n",
    "    link = row['url']\n",
    "    scraped = 0\n",
    "    try:\n",
    "        scraped = row['scraped']\n",
    "    except:\n",
    "        pass\n",
    "    if scraped == 1 or scraped == \"1\":\n",
    "        return row\n",
    "    product_id = row['product_id']\n",
    "    title, price, avail = (None, None, None)\n",
    "    try:\n",
    "        title, price, avail = scrape_product_page(link)\n",
    "    except:\n",
    "        pass\n",
    "    row['title'] = title\n",
    "    row['price'] = price\n",
    "    row['avail'] = avail\n",
    "    row['scraped'] = 1\n",
    "    row['timestamp'] = datetime.datetime.now().timestamp()\n",
    "    return row"
   ]
  },
  {
   "cell_type": "code",
   "execution_count": 15,
   "id": "889b0253",
   "metadata": {},
   "outputs": [],
   "source": [
    "df = pd.read_csv(product_category_links_output)"
   ]
  },
  {
   "cell_type": "code",
   "execution_count": 16,
   "id": "8cafd2f5",
   "metadata": {
    "scrolled": false
   },
   "outputs": [],
   "source": [
    "df = df.apply(row_scrape_event, axis = 1)"
   ]
  },
  {
   "cell_type": "code",
   "execution_count": 17,
   "id": "d69b9587",
   "metadata": {},
   "outputs": [],
   "source": [
    "if not product_output.exists():\n",
    "    df.to_csv(product_output, index=False)\n",
    "else:\n",
    "    products_df = pd.read_csv(product_output)\n",
    "    final_df = pd.concat([products_df, df])\n",
    "    final_df.to_csv(product_output, index=False)"
   ]
  },
  {
   "cell_type": "code",
   "execution_count": null,
   "id": "35b37cfb",
   "metadata": {},
   "outputs": [],
   "source": []
  },
  {
   "cell_type": "code",
   "execution_count": null,
   "id": "5e79298c",
   "metadata": {},
   "outputs": [],
   "source": []
  },
  {
   "cell_type": "code",
   "execution_count": null,
   "id": "50865db4",
   "metadata": {},
   "outputs": [],
   "source": []
  }
 ],
 "metadata": {
  "kernelspec": {
   "display_name": "Python 3 (ipykernel)",
   "language": "python",
   "name": "python3"
  },
  "language_info": {
   "codemirror_mode": {
    "name": "ipython",
    "version": 3
   },
   "file_extension": ".py",
   "mimetype": "text/x-python",
   "name": "python",
   "nbconvert_exporter": "python",
   "pygments_lexer": "ipython3",
   "version": "3.10.4"
  }
 },
 "nbformat": 4,
 "nbformat_minor": 5
}
