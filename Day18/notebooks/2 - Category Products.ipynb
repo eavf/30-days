{
 "cells": [
  {
   "cell_type": "code",
   "execution_count": 1,
   "metadata": {},
   "outputs": [],
   "source": [
    "import requests\n",
    "import time\n",
    "from requests_html import HTML\n",
    "from selenium import webdriver\n",
    "from selenium.webdriver.common.by import By\n",
    "from selenium.webdriver.firefox.options import Options as FirefoxOptions\n",
    "from selenium.webdriver.chrome.options import Options"
   ]
  },
  {
   "cell_type": "code",
   "execution_count": 2,
   "metadata": {},
   "outputs": [],
   "source": [
    "options = Options()\n",
    "options.add_argument(\"--headless\")\n",
    "\n",
    "driver = webdriver.Chrome(options=options)"
   ]
  },
  {
   "cell_type": "code",
   "execution_count": 3,
   "metadata": {},
   "outputs": [],
   "source": [
    "categories = [\n",
    "    \"https://www.amazon.com/Best-Sellers-Toys-Games/zgbs/toys-and-games/\",\n",
    "    \"https://www.amazon.com/Best-Sellers-Electronics/zgbs/electronics/\",\n",
    "    \"https://www.amazon.com/Best-Sellers/zgbs/fashion/\"\n",
    "]"
   ]
  },
  {
   "cell_type": "code",
   "execution_count": 4,
   "metadata": {},
   "outputs": [],
   "source": [
    "# categories"
   ]
  },
  {
   "cell_type": "code",
   "execution_count": 5,
   "metadata": {},
   "outputs": [],
   "source": [
    "first_url = categories[0]"
   ]
  },
  {
   "cell_type": "code",
   "execution_count": 6,
   "metadata": {},
   "outputs": [],
   "source": [
    "driver.get(first_url)"
   ]
  },
  {
   "cell_type": "code",
   "execution_count": 8,
   "metadata": {},
   "outputs": [],
   "source": [
    "body_el = driver.find_element(By.CSS_SELECTOR, \"body\")\n",
    "html_str = body_el.get_attribute(\"innerHTML\")"
   ]
  },
  {
   "cell_type": "code",
   "execution_count": 9,
   "metadata": {},
   "outputs": [],
   "source": [
    "html_obj = HTML(html=html_str)"
   ]
  },
  {
   "cell_type": "code",
   "execution_count": 10,
   "metadata": {},
   "outputs": [],
   "source": [
    "new_links = [x for x in html_obj.links if x.startswith(\"/\")]\n",
    "new_links = [x for x in new_links if \"product-reviews/\" not in x]"
   ]
  },
  {
   "cell_type": "code",
   "execution_count": 11,
   "metadata": {},
   "outputs": [],
   "source": [
    "page_links = [f\"https://www.amazon.com{x}\" for x in new_links]"
   ]
  },
  {
   "cell_type": "code",
   "execution_count": 12,
   "metadata": {},
   "outputs": [
    {
     "data": {
      "text/plain": [
       "['https://www.amazon.com/gp/video/watchlist?ref_=nav_AccountFlyout_ywl',\n",
       " 'https://www.amazon.com/customer-preferences/edit?ie=UTF8&ref_=footer_cop&preferencesReturnUrl=%2FBest-Sellers-Toys-Games%2Fzgbs%2Ftoys-and-games%2FBest-Sellers-Toys-Games%2Fzgbs%2Ftoys-and-games%2F',\n",
       " 'https://www.amazon.com/gp/help/customer/display.html?nodeId=508510&ref_=nav_cs_customerservice',\n",
       " 'https://www.amazon.com/SHASHIBO-Shifting-Geometric-Magnetic-Transforming/dp/B07W7FLKRW/ref=zg_bs_toys-and-games_sccl_13/143-1182257-6719625?pd_rd_i=B09NTXBJDM&psc=1',\n",
       " 'https://www.amazon.com/Best-Sellers-Toys-Games-Toy-Vehicles/zgbs/toys-and-games/23539911011/ref=zg_bs_nav_toys-and-games_1',\n",
       " 'https://www.amazon.com/?ref_=footer_logo',\n",
       " 'https://www.amazon.com/interestbasedads/ref=footer_iba',\n",
       " 'https://www.amazon.com/gp/new-releases/toys-and-games/?ie=UTF8&ie=UTF8&ref_=sv_t_5',\n",
       " 'https://www.amazon.com/gp/help/customer/display.html?nodeId=508510&ref_=footer_gw_m_b_he',\n",
       " 'https://www.amazon.com/gp/cart/view.html?ref_=nav_cart',\n",
       " 'https://www.amazon.com/gp/history?ref_=nav_AccountFlyout_browsinghistory',\n",
       " 'https://www.amazon.com/gp/new-releases/toys-and-games/ref=zg_bs_tab_t_bsnr',\n",
       " 'https://www.amazon.com/gp/help/customer/accessibility',\n",
       " 'https://www.amazon.com/gp/browse.html?node=14498690011&ref_=amzn_nav_ftr_swa',\n",
       " 'https://www.amazon.com/Colorful-Writing-Learning-Educational-Drawing/dp/B08Z3TGRKZ/ref=zg_bs_toys-and-games_sccl_29/143-1182257-6719625?pd_rd_i=B09SV6XP5K&psc=1',\n",
       " 'https://www.amazon.com/Best-Sellers-Toys-Games-Stuffed-Animals-Plush-Toys/zgbs/toys-and-games/166461011/ref=zg_bs_nav_toys-and-games_1',\n",
       " 'https://www.amazon.com/gp/most-wished-for/toys-and-games/ref=zg_bs_tab_t_mw',\n",
       " 'https://www.amazon.com/First-Years-Stack-Count-Cups/dp/B00005C5H4/ref=zg_bs_toys-and-games_sccl_16/143-1182257-6719625?pd_rd_i=B07C4NGT17&psc=1',\n",
       " 'https://www.amazon.com/Balloons-Outdoor-Backyard-Balloon-Swimming/dp/B0B2P8M76Z/ref=zg_bs_toys-and-games_sccl_20/143-1182257-6719625?pd_rd_i=B0B93VVCZ5&psc=1',\n",
       " 'https://www.amazon.com/gp/help/customer/display.html?nodeId=468520&ref_=footer_shiprates',\n",
       " 'https://www.amazon.com/Best-Sellers-Toys-Games-Dolls-Accessories/zgbs/toys-and-games/166118011/ref=zg_bs_nav_toys-and-games_1',\n",
       " 'https://www.amazon.com/gp/css/returns/homepage.html?ref_=footer_hy_f_4',\n",
       " 'https://www.amazon.com/Aqua-Monterey-Multi-Purpose-Inflatable-Portable/dp/B073WMYP6M/ref=zg_bs_toys-and-games_sccl_14/143-1182257-6719625?pd_rd_i=B09X2GCSDD&psc=1',\n",
       " 'https://www.amazon.com/Kinetic-Sand-Original-Moldable-Sensory/dp/B07VLBWKWQ/ref=zg_bs_toys-and-games_sccl_21/143-1182257-6719625?pd_rd_i=B0B5YGHGYD&psc=1',\n",
       " 'https://www.amazon.com/customer-preferences/country?ie=UTF8&preferencesReturnUrl=%2FBest-Sellers-Toys-Games%2Fzgbs%2Ftoys-and-games%2F&ref_=footer_icp_cp',\n",
       " 'https://www.amazon.com/Cream-Tea-Magic-Mixies-Cauldron/dp/B08S583D9Q/ref=zg_bs_toys-and-games_sccl_19/143-1182257-6719625?pd_rd_i=B09F9KJRPM&psc=1',\n",
       " 'https://www.amazon.com/Best-Sellers-Toys-Games-Kids-Dress-Up-Pretend-Play/zgbs/toys-and-games/166316011/ref=zg_bs_nav_toys-and-games_1',\n",
       " 'https://www.amazon.com/gp/browse.html?node=2102313011&ref_=footer_devices',\n",
       " 'https://www.amazon.com/Best-Sellers-Toys-Games-Toy-Figures-Playsets/zgbs/toys-and-games/165993011/ref=zg_bs_nav_toys-and-games_1',\n",
       " 'https://www.amazon.com/Best-Sellers-Toys-Games-Games-Accessories/zgbs/toys-and-games/166220011/ref=zg_bs_nav_toys-and-games_1',\n",
       " 'https://www.amazon.com/dp/B07984JN3L?plattr=ACOMFO&ie=UTF-8',\n",
       " 'https://www.amazon.com/toys/b/?ie=UTF8&node=165793011&ref_=topnav_storetab_t',\n",
       " 'https://www.amazon.com/ref=nav_logo',\n",
       " 'https://www.amazon.com/Pok%C3%A9mon-Assorted-Cards-50-Pieces/dp/B001CJVTLC/ref=zg_bs_toys-and-games_sccl_25/143-1182257-6719625?pd_rd_i=B001CJVTLC&psc=1',\n",
       " 'https://www.amazon.com/Best-Sellers/zgbs/ref=zg_bs_unv_toys-and-games_0_1',\n",
       " 'https://www.amazon.com/b/?_encoding=UTF8&ie=UTF8&node=17728536011&ref_=sv_t_3',\n",
       " 'https://www.amazon.com/55Pcs-Packs%EF%BC%8CRare-Golden-Birthday-Favors/dp/B0B63FXZ39/ref=zg_bs_toys-and-games_sccl_17/143-1182257-6719625?pd_rd_i=B0B79X8D49&psc=1',\n",
       " 'https://www.amazon.com/Hasbro-A5640-Connect-4-Game/dp/B00D8STBHY/ref=zg_bs_toys-and-games_sccl_30/143-1182257-6719625?pd_rd_i=B00D8STBHY&psc=1',\n",
       " 'https://www.amazon.com/hz/mycd/myx?pageType=content&ref_=nav_AccountFlyout_myk',\n",
       " 'https://www.amazon.com/gp/css/order-history?ref_=nav_AccountFlyout_orders',\n",
       " 'https://www.amazon.com/registries/birthday/?_encoding=UTF8&sourceVendorId=from_toys_games&ref_=sv_t_8',\n",
       " 'https://www.amazon.com/Best-Sellers-Toys-Games-Puzzles/zgbs/toys-and-games/166359011/ref=zg_bs_nav_toys-and-games_1',\n",
       " 'https://www.amazon.com/Best-Sellers-Toys-Games-Collectible-Card-Games/zgbs/toys-and-games/166242011/ref=zg_bs_nav_toys-and-games_1',\n",
       " 'https://www.amazon.com/registries/holiday/?_encoding=UTF8&sourceVendorId=from_toys_games&ref_=sv_t_9',\n",
       " 'https://www.amazon.com/gp/yourstore?ref_=nav_AccountFlyout_recs',\n",
       " 'https://www.amazon.com/gp/video/library?ref_=nav_AccountFlyout_yvl',\n",
       " 'https://www.amazon.com/Fashion-Angels-1000-Animal-Stickers/dp/B08KRKY9BQ/ref=zg_bs_toys-and-games_sccl_18/143-1182257-6719625?pd_rd_i=B09RQN418N&psc=1',\n",
       " 'https://www.amazon.com/gp/browse.html?node=16115931011&ref_=nav_cs_registry',\n",
       " 'https://www.amazon.com/Best-Sellers-Toys-Games-Puppets-Puppet-Theaters/zgbs/toys-and-games/166333011/ref=zg_bs_nav_toys-and-games_1',\n",
       " 'https://www.amazon.com/IDAODAN-Portable-Electric-Inflator-Decoration/dp/B012A7R7I8/ref=zg_bs_toys-and-games_sccl_15/143-1182257-6719625?pd_rd_i=B0B18R7MY8&psc=1',\n",
       " 'https://www.amazon.com/gp/most-gifted/toys-and-games/ref=zg_bs_tab_t_mg',\n",
       " 'https://www.amazon.com/Play-Doh-Modeling-Compound-Non-Toxic-Exclusive/dp/B00JM5GW10/ref=zg_bs_toys-and-games_sccl_2/143-1182257-6719625?pd_rd_i=B00JM5GW10&psc=1',\n",
       " 'https://www.amazon.com/Best-Sellers-Toys-Games-Tricycles-Scooters-Wagons/zgbs/toys-and-games/256994011/ref=zg_bs_nav_toys-and-games_1',\n",
       " 'https://www.amazon.com/gcx/-/gfhz/events/?_encoding=UTF8&categoryId=holiday-toy-list&ref_=sv_t_1',\n",
       " 'https://www.amazon.com/gp/browse.html?node=230659011&ref_=footer_amazonglobal',\n",
       " 'https://www.amazon.com/Best-Sellers-Toys-Games/zgbs/toys-and-games/ref=zg_bs_pg_1?_encoding=UTF8&pg=1',\n",
       " 'https://www.amazon.com/services?ref_=footer_services',\n",
       " 'https://www.amazon.com/Best-Sellers-Toys-Games-Learning-Education-Toys/zgbs/toys-and-games/166269011/ref=zg_bs_nav_toys-and-games_1',\n",
       " 'https://www.amazon.com/Play-Pack-Case-Spring-Colors/dp/B07BC1NR52/ref=zg_bs_toys-and-games_sccl_27/143-1182257-6719625?pd_rd_i=B09VYKNCS1&psc=1',\n",
       " 'https://www.amazon.com/LeapFrog-Animals-Book-Frustration-Packaging/dp/B085KTB1WY/ref=zg_bs_toys-and-games_sccl_5/143-1182257-6719625?pd_rd_i=B0953YFR2M&psc=1',\n",
       " 'https://www.amazon.com/gp/browse.html?node=10232440011&ref_=footer_reload_us',\n",
       " 'https://www.amazon.com/Best-Sellers-Toys-Games-Kids-Party-Supplies/zgbs/toys-and-games/1266203011/ref=zg_bs_nav_toys-and-games_1',\n",
       " 'https://www.amazon.com/Play-Doh-Modeling-Compound-Non-Toxic-Exclusive/dp/B00JM5GZGW/ref=zg_bs_toys-and-games_sccl_12/143-1182257-6719625?pd_rd_i=B00JM5GZGW&psc=1',\n",
       " 'https://www.amazon.com/Elmers-Liquid-School-Glue-Washable/dp/B072J37ZZD/ref=zg_bs_toys-and-games_sccl_26/143-1182257-6719625?pd_rd_i=B09YMS5KV8&psc=1',\n",
       " 'https://www.amazon.com/Crayola-Colored-Pencil-Supplies-Assorted/dp/B00006RVTS/ref=zg_bs_toys-and-games_sccl_1/143-1182257-6719625?pd_rd_i=B09MH514FH&psc=1',\n",
       " 'https://www.amazon.com/Crayola-Jumbo-Crayons-Amazon-Exclusive/dp/B08R6J4P4L/ref=zg_bs_toys-and-games_sccl_8/143-1182257-6719625?pd_rd_i=B099TGWCBL&psc=1',\n",
       " 'https://www.amazon.com/gp/digital/fiona/manage?ref_=footer_myk',\n",
       " 'https://www.amazon.com/gp/help/customer/display.html?nodeId=468496&ref_=footer_privacy',\n",
       " 'https://www.amazon.com/b/?node=18190131011&ld=AZUSSOA-seemore&ref_=footer_seemore',\n",
       " 'https://www.amazon.com/Best-Sellers-Toys-Games-Kids-Musical-Instruments/zgbs/toys-and-games/166326011/ref=zg_bs_nav_toys-and-games_1',\n",
       " 'https://www.amazon.com/registries?ref_=nav_ListFlyout_find',\n",
       " 'https://www.amazon.com/Family-Sturdy-Storage-Travel-Friendly-Exclusive/dp/B07P6MZPK3/ref=zg_bs_toys-and-games_sccl_28/143-1182257-6719625?pd_rd_i=B09PRL4CDJ&psc=1',\n",
       " 'https://www.amazon.com/gp/seller-account/mm-summary-page.html?ld=AZFooterSelfPublish&topic=200260520&ref_=footer_publishing',\n",
       " 'https://www.amazon.com/gp/help/customer/display.html?nodeId=GDFU3JS5AL6SYHRD&ref_=footer_covid',\n",
       " 'https://www.amazon.com/Best-Sellers-Toys-Games-Sports-Outdoor-Play-Toys/zgbs/toys-and-games/166420011/ref=zg_bs_nav_toys-and-games_1',\n",
       " 'https://www.amazon.com/Best-Sellers-Toys-Games-Hobby-Remote-App-Controlled-Vehicles-Parts/zgbs/toys-and-games/6925830011/ref=zg_bs_nav_toys-and-games_1',\n",
       " 'https://www.amazon.com/gp/history',\n",
       " 'https://www.amazon.com/b/?_encoding=UTF8&ld=AZUSSOA-sell&node=12766669011&ref_=nav_cs_sell',\n",
       " 'https://www.amazon.com/fcx/shop-by-age/store/?_encoding=UTF8&age=0m_24m&st=165793011&ref_=sv_t_2',\n",
       " 'https://www.amazon.com/Tru-Ray-Construction-50-Count-Bright-Assorted/dp/B007OCF0C0/ref=zg_bs_toys-and-games_sccl_24/143-1182257-6719625?pd_rd_i=B097WSDFQV&psc=1',\n",
       " 'https://www.amazon.com/Best-Sellers-Toys-Games/zgbs/toys-and-games/ref=zg_bs_pg_2?_encoding=UTF8&pg=2',\n",
       " 'https://www.amazon.com/Best-Sellers-Toys-Games-Preschool-Toys/zgbs/toys-and-games/251909011/ref=zg_bs_nav_toys-and-games_1',\n",
       " 'https://www.amazon.com/Oball-81107-Kids-Shaker-Toy/dp/B008J1QP7Y/ref=zg_bs_toys-and-games_sccl_22/143-1182257-6719625?pd_rd_i=B008J1QP7Y&psc=1',\n",
       " 'https://www.amazon.com/business?ref_=footer_retail_b2b',\n",
       " 'https://www.amazon.com/b/?_encoding=UTF8&_encoding=UTF8&node=2241292011&ref_=sv_t_7',\n",
       " 'https://www.amazon.com/Crayola-Ultra-Clean-Washable-Markers-Broad/dp/B005NF3R7U/ref=zg_bs_toys-and-games_sccl_11/143-1182257-6719625?pd_rd_i=B005NF3R7U&psc=1',\n",
       " 'https://www.amazon.com/Squishmallows-14-Inch-Panda-Plush-Ultrasoft/dp/B0973H4WFF/ref=zg_bs_toys-and-games_sccl_10/143-1182257-6719625?pd_rd_i=B0973H4WFF&psc=1',\n",
       " 'https://www.amazon.com/Best-Sellers-Toys-Games-Kids-Electronics/zgbs/toys-and-games/166164011/ref=zg_bs_nav_toys-and-games_1',\n",
       " 'https://www.amazon.com/Crayola-Ultraclean-Broadline-Classic-Washable/dp/B00XVCUYIC/ref=zg_bs_toys-and-games_sccl_6/143-1182257-6719625?pd_rd_i=B07SLCMCH1&psc=1',\n",
       " 'https://www.amazon.com/gp/css/order-history?ref_=nav_orders_first',\n",
       " 'https://www.amazon.com/Franklin-Sports-X-40-Pickleballs-Championships/dp/B07XKKXQ7D/ref=zg_bs_toys-and-games_sccl_23/143-1182257-6719625?pd_rd_i=B09H3Z8PJL&psc=1',\n",
       " 'https://www.amazon.com/gp/BIT/ref=footer_bit_v2_us_A0029?bitCampaignCode=A0029',\n",
       " 'https://www.amazon.com/gp/bestsellers/toys-and-games/?ie=UTF8&ie=UTF8&ref_=sv_t_4',\n",
       " 'https://www.amazon.com/customer-preferences/edit?ie=UTF8&preferencesReturnUrl=%2FBest-Sellers-Toys-Games%2Fzgbs%2Ftoys-and-games%2F&ref_=topnav_lang_ais',\n",
       " 'https://www.amazon.com/Crayola-68-4012-Colored-12-Count-Assorted/dp/B00FX9DFAU/ref=zg_bs_toys-and-games_sccl_3/143-1182257-6719625?pd_rd_i=B094VK6Z5F&psc=1',\n",
       " 'https://www.amazon.com/Sassy-Stacks-Circles-Stacking-Learning/dp/B07NXDJ52C/ref=zg_bs_toys-and-games_sccl_9/143-1182257-6719625?pd_rd_i=B09STL9ZN7&psc=1',\n",
       " 'https://www.amazon.com/gp/movers-and-shakers/toys-and-games/ref=zg_bs_tab_t_bsms',\n",
       " 'https://www.amazon.com/Play-Doh-Non-Toxic-Modeling-Classroom-Exclusive/dp/B087N9N6HH/ref=zg_bs_toys-and-games_sccl_7/143-1182257-6719625?pd_rd_i=B08MQMQHJP&psc=1',\n",
       " 'https://www.amazon.com/Best-Sellers-Toys-Games-Arts-Crafts-Supplies/zgbs/toys-and-games/166057011/ref=zg_bs_nav_toys-and-games_1',\n",
       " 'https://www.amazon.com/gp/browse.html?node=388305011&ref_=footer_tfx',\n",
       " 'https://www.amazon.com/Best-Sellers-Toys-Games-Baby-Toddler-Toys/zgbs/toys-and-games/196601011/ref=zg_bs_nav_toys-and-games_1',\n",
       " 'https://www.amazon.com/Bicycle-Dice-10-Die-Package/dp/B00508ZS40/ref=zg_bs_toys-and-games_sccl_4/143-1182257-6719625?pd_rd_i=B08LWNW1ZX&psc=1',\n",
       " 'https://www.amazon.com/hz5/yourmembershipsandsubscriptions?ref_=nav_AccountFlyout_digital_subscriptions',\n",
       " 'https://www.amazon.com/Best-Sellers-Toys-Games-Building-Toys/zgbs/toys-and-games/166092011/ref=zg_bs_nav_toys-and-games_1',\n",
       " 'https://www.amazon.com/gift-cards/b/?ie=UTF8&node=2238192011&ref_=nav_cs_gc',\n",
       " 'https://www.amazon.com/hz/charitylist/homepage?ref_=nav_ListFlyout_smi_se_ya_lll_ll',\n",
       " 'https://www.amazon.com/hz/wishlist/ls?triggerElementID=createList&ref_=nav_ListFlyout_navFlyout_createList_lv_redirect',\n",
       " 'https://www.amazon.com/gp/subscribe-and-save/manager/viewsubscriptions?ref_=nav_AccountFlyout_sns',\n",
       " 'https://www.amazon.com/gp/kindle/ku/ku_central?ref_=nav_AccountFlyout_ku',\n",
       " 'https://www.amazon.com/gp/help/customer/display.html?nodeId=508088&ref_=footer_cou',\n",
       " 'https://www.amazon.com/b/?_encoding=UTF8&ie=UTF8&node=17403333011&ref_=sv_t_6',\n",
       " 'https://www.amazon.com/gp/css/homepage.html?ref_=nav_AccountFlyout_ya',\n",
       " 'https://www.amazon.com/gp/browse.html?node=15547130011&ref_=_us_footer_drive',\n",
       " 'https://www.amazon.com/customer-preferences/edit?ie=UTF8&preferencesReturnUrl=%2FBest-Sellers-Toys-Games%2Fzgbs%2Ftoys-and-games%2F&ref_=footer_lang',\n",
       " 'https://www.amazon.com/gp/goldbox?ref_=nav_cs_gb',\n",
       " 'https://www.amazon.com/Best-Sellers-Toys-Games-Novelty-Toys-Amusements/zgbs/toys-and-games/166027011/ref=zg_bs_nav_toys-and-games_1',\n",
       " 'https://www.amazon.com/gp/browse.html?node=16218619011&ref_=footer_swp']"
      ]
     },
     "execution_count": 12,
     "metadata": {},
     "output_type": "execute_result"
    }
   ],
   "source": [
    "page_links"
   ]
  },
  {
   "cell_type": "code",
   "execution_count": 13,
   "metadata": {},
   "outputs": [],
   "source": [
    "def scrape_product_page(url, title_lookup = \"#productTitle\", price_lookup = \"#priceblock_ourprice\"):\n",
    "    driver.get(url)\n",
    "    time.sleep(1.2)\n",
    "    body_el = driver.find_element_by_css_selector(\"body\")\n",
    "    html_str = body_el.get_attribute(\"innerHTML\")\n",
    "    html_obj = HTML(html=html_str)\n",
    "    product_title = html_obj.find(title_lookup, first=True).text\n",
    "    product_price = html_obj.find(price_lookup, first=True).text\n",
    "    return product_title, product_price"
   ]
  },
  {
   "cell_type": "code",
   "execution_count": 14,
   "metadata": {},
   "outputs": [
    {
     "data": {
      "text/plain": [
       "'https://www.amazon.com/gp/video/watchlist?ref_=nav_AccountFlyout_ywl'"
      ]
     },
     "execution_count": 14,
     "metadata": {},
     "output_type": "execute_result"
    }
   ],
   "source": [
    "first_product_link = page_links[0]\n",
    "first_product_link"
   ]
  },
  {
   "cell_type": "code",
   "execution_count": 15,
   "metadata": {},
   "outputs": [],
   "source": [
    "for link in page_links:\n",
    "    title, price = (None, None)\n",
    "    try:\n",
    "        title, price = scrape_product_page(link)\n",
    "    except:\n",
    "        pass\n",
    "    if title != None and price != None:\n",
    "        print(link, title, price)"
   ]
  },
  {
   "cell_type": "code",
   "execution_count": 16,
   "metadata": {},
   "outputs": [],
   "source": [
    "# https://www.amazon.com/LEGO-Classic-Medium-Creative-Brick/dp/B00NHQFA1I/\n",
    "# https://www.amazon.com/Crayola-Washable-Watercolors-8-ea/dp/B000HHKAE2/\n",
    "\n",
    "# <base-url>/<slug>/dp/<product_id>/"
   ]
  },
  {
   "cell_type": "code",
   "execution_count": null,
   "metadata": {},
   "outputs": [],
   "source": []
  }
 ],
 "metadata": {
  "kernelspec": {
   "display_name": "Python 3 (ipykernel)",
   "language": "python",
   "name": "python3"
  },
  "language_info": {
   "codemirror_mode": {
    "name": "ipython",
    "version": 3
   },
   "file_extension": ".py",
   "mimetype": "text/x-python",
   "name": "python",
   "nbconvert_exporter": "python",
   "pygments_lexer": "ipython3",
   "version": "3.10.4"
  }
 },
 "nbformat": 4,
 "nbformat_minor": 4
}
