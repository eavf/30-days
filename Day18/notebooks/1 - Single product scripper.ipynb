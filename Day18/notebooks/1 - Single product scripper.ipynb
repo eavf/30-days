{
 "cells": [
  {
   "cell_type": "code",
   "execution_count": 32,
   "id": "e4fe7266",
   "metadata": {},
   "outputs": [],
   "source": [
    "import requests\n",
    "from requests_html import HTML\n",
    "from selenium import webdriver\n",
    "from selenium.webdriver.common.by import By\n",
    "from selenium.webdriver.chrome.options import Options"
   ]
  },
  {
   "cell_type": "code",
   "execution_count": 33,
   "id": "b0098014",
   "metadata": {},
   "outputs": [],
   "source": [
    "c = Options()\n",
    "c.add_argument(\"--headless\")\n",
    "\n",
    "driver = webdriver.Chrome(options=c)"
   ]
  },
  {
   "cell_type": "code",
   "execution_count": 34,
   "id": "b32881ff",
   "metadata": {},
   "outputs": [],
   "source": [
    "url = \"https://www.amazon.fr/Samnuerly-Exerciseur-%C3%A9lectrique-physioth%C3%A9rapie-Personnes/dp/B0B5ZYB888/ref=sr_1_19?c=ts&keywords=Cardio-training&qid=1661092017&s=sports&sr=1-19&ts_id=486046031\"\n",
    "url = \"https://www.amazon.fr/CAPITAL-SPORTS-Azura-Cardiofr%C3%A9quencem%C3%A8tre-dentra%C3%AEnement/dp/B07MP13LPG/ref=sr_1_3?c=ts&keywords=Cardio-training&qid=1661092017&s=sports&sr=1-3&ts_id=486046031\"\n",
    "title_lookup = \"#productTitle\"\n",
    "price_lookup = \".a-offscreen\""
   ]
  },
  {
   "cell_type": "code",
   "execution_count": 35,
   "id": "218c6ab7",
   "metadata": {},
   "outputs": [],
   "source": [
    "# requests is not working kvôli ochrane amazonu\n",
    "#r = requests.get(url)\n",
    "#html_str = r.text"
   ]
  },
  {
   "cell_type": "code",
   "execution_count": 36,
   "id": "7f5a574e",
   "metadata": {
    "scrolled": true
   },
   "outputs": [],
   "source": [
    "#print(html_str)\n",
    "\n",
    "driver.get(url)\n",
    "body_el = driver.find_element(By.CSS_SELECTOR, \"body\")\n",
    "#body_el = driver.find_element_by_css_selector(\"body\")\n",
    "html_str = body_el.get_attribute(\"innerHTML\")\n",
    "#print(html_str)"
   ]
  },
  {
   "cell_type": "code",
   "execution_count": 37,
   "id": "91269c2d",
   "metadata": {},
   "outputs": [],
   "source": [
    "html_obj = HTML(html=html_str)"
   ]
  },
  {
   "cell_type": "code",
   "execution_count": 38,
   "id": "0b68ab47",
   "metadata": {},
   "outputs": [],
   "source": [
    "product_title = html_obj.find(title_lookup, first=True).text"
   ]
  },
  {
   "cell_type": "code",
   "execution_count": 39,
   "id": "01282bb4",
   "metadata": {},
   "outputs": [],
   "source": [
    "product_price = html_obj.find(price_lookup, first=True).text"
   ]
  },
  {
   "cell_type": "code",
   "execution_count": 40,
   "id": "b42373f0",
   "metadata": {},
   "outputs": [
    {
     "name": "stdout",
     "output_type": "stream",
     "text": [
      "129,99€\n"
     ]
    }
   ],
   "source": [
    "print(product_price)"
   ]
  },
  {
   "cell_type": "code",
   "execution_count": null,
   "id": "8390d681",
   "metadata": {},
   "outputs": [],
   "source": []
  },
  {
   "cell_type": "code",
   "execution_count": null,
   "id": "f9e0434a",
   "metadata": {},
   "outputs": [],
   "source": []
  }
 ],
 "metadata": {
  "kernelspec": {
   "display_name": "Python 3 (ipykernel)",
   "language": "python",
   "name": "python3"
  },
  "language_info": {
   "codemirror_mode": {
    "name": "ipython",
    "version": 3
   },
   "file_extension": ".py",
   "mimetype": "text/x-python",
   "name": "python",
   "nbconvert_exporter": "python",
   "pygments_lexer": "ipython3",
   "version": "3.10.4"
  }
 },
 "nbformat": 4,
 "nbformat_minor": 5
}
