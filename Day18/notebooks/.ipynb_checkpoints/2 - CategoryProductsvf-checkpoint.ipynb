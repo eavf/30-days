{
 "cells": [
  {
   "cell_type": "code",
   "execution_count": 1,
   "id": "e4fe7266",
   "metadata": {},
   "outputs": [],
   "source": [
    "import requests\n",
    "import time\n",
    "from requests_html import HTML\n",
    "from selenium import webdriver\n",
    "from selenium.webdriver.common.by import By\n",
    "from selenium.webdriver.firefox.options import Options as FirefoxOptions\n",
    "from selenium.webdriver.chrome.options import Options"
   ]
  },
  {
   "cell_type": "code",
   "execution_count": 2,
   "id": "b0098014",
   "metadata": {},
   "outputs": [],
   "source": [
    "c = Options()\n",
    "c.add_argument(\"--headless\")\n",
    "\n",
    "c1 = FirefoxOptions()\n",
    "c1.headless = True\n",
    "\n",
    "driver = webdriver.Firefox(options=c1)\n",
    "driver1 = webdriver.Chrome(options=c)"
   ]
  },
  {
   "cell_type": "code",
   "execution_count": 3,
   "id": "8390d681",
   "metadata": {},
   "outputs": [],
   "source": [
    "categories = [\"https://gude.gude.sk/7674-cerpadla-a-vodarne\",\n",
    "             \"https://gude.gude.sk/7711-nabijacky-autobaterii\",\n",
    "             \"https://gude.gude.sk/8089-rucne-naradie\"]\n",
    "\n"
   ]
  },
  {
   "cell_type": "code",
   "execution_count": 4,
   "id": "f9e0434a",
   "metadata": {},
   "outputs": [
    {
     "data": {
      "text/plain": [
       "['https://gude.gude.sk/7674-cerpadla-a-vodarne',\n",
       " 'https://gude.gude.sk/7711-nabijacky-autobaterii',\n",
       " 'https://gude.gude.sk/8089-rucne-naradie']"
      ]
     },
     "execution_count": 4,
     "metadata": {},
     "output_type": "execute_result"
    }
   ],
   "source": [
    "categories"
   ]
  },
  {
   "cell_type": "code",
   "execution_count": 5,
   "id": "e84ba1f1",
   "metadata": {},
   "outputs": [],
   "source": [
    "first_url = categories[0]"
   ]
  },
  {
   "cell_type": "code",
   "execution_count": 6,
   "id": "aa968a55",
   "metadata": {},
   "outputs": [],
   "source": [
    "driver.get(first_url)\n",
    "driver1.get(first_url)"
   ]
  },
  {
   "cell_type": "code",
   "execution_count": 7,
   "id": "4cf1a236",
   "metadata": {},
   "outputs": [],
   "source": [
    "#Firefox\n",
    "body_el = driver.find_element(By.CSS_SELECTOR, \".product_list grid row \")\n",
    "#body_el = driver.find_element_by_css_selector(\"body\")\n",
    "html_str = body_el.get_attribute(\"innerHTML\")\n",
    "\n",
    "#Chrome\n",
    "body_el1 = driver1.find_element(By.CSS_SELECTOR, \".product_list grid row \")\n",
    "#body_el1 = driver.find_element_by_css_selector(\"body\")\n",
    "html_str1 = body_el.get_attribute(\"innerHTML\")"
   ]
  },
  {
   "cell_type": "code",
   "execution_count": 8,
   "id": "bb4f3b2b",
   "metadata": {
    "scrolled": true
   },
   "outputs": [
    {
     "name": "stdout",
     "output_type": "stream",
     "text": [
      "{'https://gude.gude.sk/7635-kompresory', 'https://gude.gude.sk/7654-vrtacie-a-frezovacie-stroje', 'https://gude.gude.sk/7724-sustruhy', 'https://gude.gude.sk/7681-zahradna-technika', 'https://gude.gude.sk/7960-akumulatory-nabijacky', 'https://gude.gude.sk/content/15-ako-nakupovat', 'https://gude.gude.sk/motorove-cerpadla/11963-guede-motorove-cerpadlo-na-vodu-gmp-5025-4015671945075.html', 'https://gude.gude.sk/7680-cerpadla-na-naftu', 'https://gude.gude.sk/7682-vyzinace-a-krovinorezy', 'https://gude.gude.sk/7727-brusky', 'https://gude.gude.sk/7734-rozny-sortiment', 'https://gude.gude.sk/7689-kosacky', 'https://gude.gude.sk/index.php?controller=cart&add=1&id_product=8677&token=e1e4f6d58882ce18d088f58f7cae49ea', 'https://gude.gude.sk/7688-vertikulatory-a-vretenove-kosacky', 'https://gude.gude.sk/content/19-vratenie-tovaru-odstupenie-od-zmluvy', 'https://gude.gude.sk/ponorne-kalove-cerpadla/8657-guede-ponorne-kalove-cerpadlo-pro-1100a-4015671758002.html', 'https://gude.gude.sk/7702-snezne-frezy', 'https://gude.gude.sk/7675-ponorne-kalove-cerpadla', 'https://gude.gude.sk/7697-zametacie-stroje', 'https://gude.gude.sk/domace-vodarne-a-vodne-automaty/8674-guede-domaca-vodaren-hww-3100-k-4015671946676.html', '/11_gude', 'https://gude.gude.sk/content/27-zasady-ochrany-osobnych-udajov', 'https://gude.gude.sk/7642-profi-kompresory', 'https://gude.gude.sk/7679-prislusenstvo-pre-cerpadla-a-vodarne', 'https://gude.gude.sk/7634-kompresory-pneumaticke-naradie', 'https://gude.gude.sk/8216-hopfenhoehle', 'https://gude.gude.sk/7725-odsavacie-zariadenia', 'https://gude.gude.sk/7670-miesacky-a-rucne-miesadla', 'https://gude.gude.sk/7684-plotove-noznice', 'https://gude.gude.sk/7717-katalyticke-pece', 'https://gude.gude.sk/8017-kompresory', 'https://gude.gude.sk/7700-umyvacky-suciastok', 'https://gude.gude.sk/7685-drvice-zahradneho-odpadu', 'https://gude.gude.sk/content/16-obchodne-podmienky', 'https://gude.gude.sk/7662-retazove-pily', 'https://gude.gude.sk/7968-dema', 'https://velkoobchod.gude.sk/', 'https://gude.gude.sk/ponorne-kalove-cerpadla/8655-guede-ponorne-tlakove-cerpadlo-gdt-901-4015671942463.html', 'https://gude.gude.sk/8234-agro', 'https://gude.gude.sk/content/18-reklamacny-poriadok-', 'https://gude.gude.sk/8018-prislusenstvo-pre-staceny-vzduch', 'https://gude.gude.sk/7714-olejove-ohrievace', 'https://gude.gude.sk/7710-zdvihacie-plosiny', 'https://gude.gude.sk/8237-intex', 'https://gude.gude.sk/8083-carlson', 'https://gude.gude.sk/index.php?controller=my-account', 'https://gude.gude.sk/zahradne-cerpadla/8664-guede-zahradne-cerpadlo-jg-3100-4015671941565.html', 'https://gude.gude.sk/8233-vypredaj', 'https://gude.gude.sk/7687-kultivatory', 'https://gude.gude.sk/8238-slovakia-trend', 'https://gude.gude.sk/index.php?controller=new-products', 'https://gude.gude.sk/ponorne-kalove-cerpadla/10042-guede-ponorne-tlakove-cerpadlo-gdt-1200-i-4015671942425.html', 'https://gude.gude.sk/content/14-dodacie-podmienky', 'https://gude.gude.sk/8016-kompresory', 'https://gude.gude.sk/7686-odvetvovace', 'https://gude.gude.sk/index.php?controller=cart&add=1&id_product=8662&token=e1e4f6d58882ce18d088f58f7cae49ea', '/predajna', 'https://gude.gude.sk/7652-stolove-vrtacky', 'https://gude.gude.sk/content/26-subory-cookies', 'https://gude.gude.sk/7661-spracovanie-palivoveho-dreva', 'https://gude.gude.sk/ruris/18249-ruris-nahradna-retaz-rm540-olej-6424340290626.html', 'https://gude.gude.sk/7649-zvaracie-stity', 'https://gude.gude.sk/7690-zemne-vrtaky', 'https://gude.gude.sk/7718-peletove-pece', '/29_wolpertech', 'https://gude.gude.sk/7711-nabijacky-autobaterii', 'https://gude.gude.sk/7935-orezavace-hran-travnika', 'https://gude.gude.sk/7701-prislusenstvo-pre-cistiacu-techniku', 'https://gude.gude.sk/index.php?controller=cart&add=1&id_product=8655&token=e1e4f6d58882ce18d088f58f7cae49ea', 'https://gude.gude.sk/8019-pneumaticke-naradie', 'https://gude.gude.sk/7657-pasove-pily-na-kov', 'https://gude.gude.sk/7656-sustruhy', 'https://gude.gude.sk/7636-airbrush-kompresory', 'https://gude.gude.sk/8026-stavebne-odvlhcovace', 'https://gude.gude.sk/8087-bestway', 'https://gude.gude.sk/zahradne-cerpadla/8668-guede-zahradne-cerpadlo-mp-1205agj-4015671941886.html', 'https://gude.gude.sk/8217-springos', 'https://gude.gude.sk/7716-elektricke-ohrievace', 'https://gude.gude.sk/index.php?controller=cart&add=1&id_product=11963&token=e1e4f6d58882ce18d088f58f7cae49ea', 'https://gude.gude.sk/7644-elektrodove-zvaracky', 'https://gude.gude.sk/8001-zavlazovanie', 'https://gude.gude.sk/', '/kontakt', 'https://gude.gude.sk/8166-postrekovace-a-rosice', 'https://gude.gude.sk/7678-motorove-cerpadla', 'https://gude.gude.sk/7666-prislusenstvo-pre-drevospracujuce-stroje', 'https://gude.gude.sk/7639-bubny-s-hadicami', 'https://gude.gude.sk/8253-nebo', '/10_dema', 'https://gude.gude.sk/7721-kapovacie-a-pokosove-pily', '/cms/odberatelia_stranka.pdf', 'https://gude.gude.sk/7719-drevoobrabacie-stroje', 'https://gude.gude.sk/7720-vyrezavacie-pily', 'https://gude.gude.sk/7707-retazove-kladkostroje', 'https://gude.gude.sk/7704-hydraulicke-zdvihaky', 'https://gude.gude.sk/7676-zahradne-cerpadla', 'https://gude.gude.sk/7677-domace-vodarne-a-vodne-automaty', 'https://gude.gude.sk/7966-wolpertech', 'https://gude.gude.sk/7637-pieskovacie-kabiny', '/upload/recyklacia.pdf', 'https://gude.gude.sk/8073-den-braven', 'https://gude.gude.sk/7660-prislusenstvo-pre-kovoobrabacie-stroje', 'https://gude.gude.sk/ponorne-kalove-cerpadla/8662-guede-ponorne-kalove-cerpadlo-gs-4002-p-4015671209313.html', '/index.php?controller=authentication?back=my-account', 'https://gude.gude.sk/7715-plynove-ohrievace', '/content/14-dodacie-podmienky', 'https://gude.gude.sk/7924-zdvihaky-na-platne', 'https://gude.gude.sk/7673-lamacky-kamena-noznice-na-podlahy', 'https://gude.gude.sk/8167-patrol', 'https://gude.gude.sk/index.php?controller=cart&add=1&id_product=10042&token=e1e4f6d58882ce18d088f58f7cae49ea', 'https://gude.gude.sk/8254-true', 'https://gude.gude.sk/7651-kovoobrabacie-stroje', '/content/15-ako-nakupovat', 'https://gude.gude.sk/8081-dynamax', 'https://gude.gude.sk/7989-dom-dielna-zahrada', 'https://gude.gude.sk/8124-dunlop', 'https://gude.gude.sk/7730-vintec', 'https://gude.gude.sk/7731-naradie-a-nastroje', 'https://gude.gude.sk/index.php?controller=cart&add=1&id_product=8664&token=e1e4f6d58882ce18d088f58f7cae49ea', 'https://gude.gude.sk/7695-cistiaca-technika', 'https://gude.gude.sk/7694-zahradne-voziky', 'https://gude.gude.sk/7692-zberace-ovocia', 'https://gude.gude.sk/ponorne-kalove-cerpadla/8656-guede-cerpadlo-do-studne-gtt-900-4015671941381.html', 'https://gude.gude.sk/7659-rucne-pakove-noznice', 'https://gude.gude.sk/7706-paletove-voziky', 'https://gude.gude.sk/7648-zvaracie-droty-cievky-elektrody', 'https://gude.gude.sk/8255-ruris', 'https://gude.gude.sk/7728-prislusenstvo-pre-drevoobrabacie-stroje', 'https://gude.gude.sk/index.php?controller=order', 'https://gude.gude.sk/7705-dielenske-zeriavy', 'https://gude.gude.sk/8241-g21', 'https://gude.gude.sk/index.php?controller=cart&add=1&id_product=8674&token=e1e4f6d58882ce18d088f58f7cae49ea', 'https://gude.gude.sk/7722-stolove-kotucove-pily', 'https://gude.gude.sk/7951-akumulatorove-rucne-naradie', 'https://gude.gude.sk/7647-invertory', 'https://gude.gude.sk/7729-zariadenie-dielni', 'https://gude.gude.sk/7653-stlpove-vrtacky', 'https://kovonabytok.eu/sk/', 'https://gude.gude.sk/7674-cerpadla-a-vodarne', 'https://gude.gude.sk/index.php?controller=cart&add=1&id_product=13135&token=e1e4f6d58882ce18d088f58f7cae49ea', 'https://gude.gude.sk/ponorne-kalove-cerpadla/13392-guede-aku-cerpadlo-na-cistu-vodu-ktp-18-201-23-4015671210258.html', 'https://gude.gude.sk/7655-brusky', 'https://gude.gude.sk/7708-rucne-navijaky', 'https://gude.gude.sk/7726-hoblovacky', 'https://gude.gude.sk/7650-prislusenstvo-pre-zvaranie', 'https://gude.gude.sk/index.php?controller=cart&add=1&id_product=8668&token=e1e4f6d58882ce18d088f58f7cae49ea', 'https://gude.gude.sk/ponorne-kalove-cerpadla/11857-ponorne-kalove-cerpadlo-gs-1103-pi-4015671854162.html', 'https://gude.gude.sk/7640-pneumaticke-naradie', 'https://gude.gude.sk/7658-kotucove-pily-na-kov', 'https://gude.gude.sk/7672-motorove-furiky', 'https://gude.gude.sk/7699-odsavace-zachytavace-oleja', '/23_vintec', 'https://gude.gude.sk/7703-zdvihacia-technika', 'https://gude.gude.sk/7643-zvaranie', 'https://gude.gude.sk/ponorne-kalove-cerpadla/13135-guede-aku-cerpadlo-do-suda-rfp-12-201-04-4015671968265.html', 'https://gude.gude.sk/index.php?controller=cart&add=1&id_product=8657&token=e1e4f6d58882ce18d088f58f7cae49ea', 'https://gude.gude.sk/7645-zvaranie-plniacim-trubickovym-drotom', 'https://gude.gude.sk/8022-cistiaca-technika', 'https://gude.gude.sk/7646-zvaranie-v-ochrannej-atmosfere', 'https://gude.gude.sk/7712-elektrocentraly', 'https://gude.gude.sk/8236-prosperplast', 'https://gude.gude.sk/7693-prislusenstvo-pre-zahradnu-techniku', 'https://gude.gude.sk/7733-zahrada-hobby-volny-cas', 'https://gude.gude.sk/7854-prislusenstvo-pre-rucne-naradie', 'https://gude.gude.sk/7709-elektricke-lanove-zdvihaky', 'https://gude.gude.sk/index.php?controller=cart&add=1&id_product=11857&token=e1e4f6d58882ce18d088f58f7cae49ea', 'https://gude.gude.sk/7698-vysavace', 'https://gude.gude.sk/8024-gardena', 'https://gude.gude.sk/8121-menavet', 'https://zaruka.gude.sk/', 'https://gude.gude.sk/ruris/18248-ruris-nahradna-retaz-rm500-olej-6424340290602.html', 'https://gude.gude.sk/content/21-nahradne-diely', 'https://gude.gude.sk/content/13-profil-firmy', 'https://gude.gude.sk/7638-pneumaticke-pistole', 'https://gude.gude.sk/7683-vysavace-listia', 'https://gude.gude.sk/domace-vodarne-a-vodne-automaty/8677-guede-domaca-vodaren-hww-1000-p-4015671198570.html', 'https://gude.gude.sk/8165-baterie-a-nabijacky-pre-zahradne-naradie', 'https://gude.gude.sk/7665-stiepacky-dreva', 'https://gude.gude.sk/7641-prislusenstvo-pre-pneumaticke-naradie', 'https://gude.gude.sk/index.php?controller=cart&add=1&id_product=8656&token=e1e4f6d58882ce18d088f58f7cae49ea', 'https://gude.gude.sk/7723-pasove-pily', 'https://www.google.sk/maps/place/G%C3%BCde+Slovakia,+s.r.o./@49.0403945,19.7035973,17z/data=!3m1!4b1!4m5!3m4!1s0x47159c7d098b5ec3:0xd8ba5bdb80a4d66b!8m2!3d49.040391!4d19.705786', 'https://gude.gude.sk/7671-vibracne-platne', 'https://gude.gude.sk/7669-stavebne-stroje', 'https://gude.gude.sk/8023-cerpadla-a-vodarne', 'https://gude.gude.sk/7667-elektricke-rucne-naradie', 'https://gude.gude.sk/7668-rezacky-dlazdic', 'https://gude.gude.sk/index.php?controller=cart&add=1&id_product=13392&token=e1e4f6d58882ce18d088f58f7cae49ea', 'https://gude.gude.sk/7713-ohrievace', 'https://gude.gude.sk/7691-mlynceky-a-lisy-na-ovocie', 'https://gude.gude.sk/7696-vysokotlakove-cistice', 'https://priemyselnytovar.sk/', 'https://gude.gude.sk/7664-koliskove-pily', 'https://gude.gude.sk/8089-rucne-naradie', 'https://gude.gude.sk/7663-brusky-na-retaze-a-pilove-kotuce'}\n"
     ]
    }
   ],
   "source": [
    "html_obj = HTML(html = html_str)\n",
    "html_obj1 = HTML(html = html_str1)\n",
    "print(html_obj.links)"
   ]
  },
  {
   "cell_type": "code",
   "execution_count": 9,
   "id": "2c94e9b5",
   "metadata": {
    "scrolled": true
   },
   "outputs": [
    {
     "name": "stdout",
     "output_type": "stream",
     "text": [
      "['https://gude.gude.sk/motorove-cerpadla/11963-guede-motorove-cerpadlo-na-vodu-gmp-5025-4015671945075.html', 'https://gude.gude.sk/ponorne-kalove-cerpadla/8657-guede-ponorne-kalove-cerpadlo-pro-1100a-4015671758002.html', 'https://gude.gude.sk/domace-vodarne-a-vodne-automaty/8674-guede-domaca-vodaren-hww-3100-k-4015671946676.html', 'https://gude.gude.sk/ponorne-kalove-cerpadla/8655-guede-ponorne-tlakove-cerpadlo-gdt-901-4015671942463.html', 'https://gude.gude.sk/zahradne-cerpadla/8664-guede-zahradne-cerpadlo-jg-3100-4015671941565.html', 'https://gude.gude.sk/ponorne-kalove-cerpadla/10042-guede-ponorne-tlakove-cerpadlo-gdt-1200-i-4015671942425.html', 'https://gude.gude.sk/ruris/18249-ruris-nahradna-retaz-rm540-olej-6424340290626.html', 'https://gude.gude.sk/zahradne-cerpadla/8668-guede-zahradne-cerpadlo-mp-1205agj-4015671941886.html', 'https://gude.gude.sk/ponorne-kalove-cerpadla/8662-guede-ponorne-kalove-cerpadlo-gs-4002-p-4015671209313.html', 'https://gude.gude.sk/ponorne-kalove-cerpadla/8656-guede-cerpadlo-do-studne-gtt-900-4015671941381.html', 'https://gude.gude.sk/ponorne-kalove-cerpadla/13392-guede-aku-cerpadlo-na-cistu-vodu-ktp-18-201-23-4015671210258.html', 'https://gude.gude.sk/ponorne-kalove-cerpadla/11857-ponorne-kalove-cerpadlo-gs-1103-pi-4015671854162.html', 'https://gude.gude.sk/ponorne-kalove-cerpadla/13135-guede-aku-cerpadlo-do-suda-rfp-12-201-04-4015671968265.html', 'https://gude.gude.sk/ruris/18248-ruris-nahradna-retaz-rm500-olej-6424340290602.html', 'https://gude.gude.sk/domace-vodarne-a-vodne-automaty/8677-guede-domaca-vodaren-hww-1000-p-4015671198570.html'] .................. ['https://gude.gude.sk/motorove-cerpadla/11963-guede-motorove-cerpadlo-na-vodu-gmp-5025-4015671945075.html', 'https://gude.gude.sk/ponorne-kalove-cerpadla/8657-guede-ponorne-kalove-cerpadlo-pro-1100a-4015671758002.html', 'https://gude.gude.sk/domace-vodarne-a-vodne-automaty/8674-guede-domaca-vodaren-hww-3100-k-4015671946676.html', 'https://gude.gude.sk/ponorne-kalove-cerpadla/8655-guede-ponorne-tlakove-cerpadlo-gdt-901-4015671942463.html', 'https://gude.gude.sk/zahradne-cerpadla/8664-guede-zahradne-cerpadlo-jg-3100-4015671941565.html', 'https://gude.gude.sk/ponorne-kalove-cerpadla/10042-guede-ponorne-tlakove-cerpadlo-gdt-1200-i-4015671942425.html', 'https://gude.gude.sk/ruris/18249-ruris-nahradna-retaz-rm540-olej-6424340290626.html', 'https://gude.gude.sk/zahradne-cerpadla/8668-guede-zahradne-cerpadlo-mp-1205agj-4015671941886.html', 'https://gude.gude.sk/ponorne-kalove-cerpadla/8662-guede-ponorne-kalove-cerpadlo-gs-4002-p-4015671209313.html', 'https://gude.gude.sk/ponorne-kalove-cerpadla/8656-guede-cerpadlo-do-studne-gtt-900-4015671941381.html', 'https://gude.gude.sk/ponorne-kalove-cerpadla/13392-guede-aku-cerpadlo-na-cistu-vodu-ktp-18-201-23-4015671210258.html', 'https://gude.gude.sk/ponorne-kalove-cerpadla/11857-ponorne-kalove-cerpadlo-gs-1103-pi-4015671854162.html', 'https://gude.gude.sk/ponorne-kalove-cerpadla/13135-guede-aku-cerpadlo-do-suda-rfp-12-201-04-4015671968265.html', 'https://gude.gude.sk/ruris/18248-ruris-nahradna-retaz-rm500-olej-6424340290602.html', 'https://gude.gude.sk/domace-vodarne-a-vodne-automaty/8677-guede-domaca-vodaren-hww-1000-p-4015671198570.html']\n"
     ]
    }
   ],
   "source": [
    "new_links = [x for x in html_obj.links if x.startswith(\"https://gude.gude.sk/\")]\n",
    "new_links = [x for x in html_obj.links if x.endswith(\".html\")]\n",
    "\n",
    "\n",
    "#new_links = [x for x in html_obj.links if x.startswith(\"/\")]\n",
    "#new_links = [x for x in new_links if \"lnk_view\" in x]\n",
    "#new_links = [x for x in new_links if \"nav_cs_video_games\" not in x]\n",
    "#new_links = [x for x in new_links if \"nav_cs_automotive\" not in x]\n",
    "#new_links = [x for x in new_links if \"nav_AccountFlyout_ya\" not in x]\n",
    "\n",
    "new_links1 = [x for x in html_obj.links if x.startswith(\"https://gude.gude.sk/\")]\n",
    "new_links1 = [x for x in html_obj.links if x.endswith(\".html\")]\n",
    "#new_links1 = [x for x in html_obj1.links if x.startswith(\"/\")]\n",
    "#new_links1 = [x for x in new_links if \"lnk_view\" in x]\n",
    "#new_links1 = [x for x in new_links if \"nav_cs_video_games\" not in x]\n",
    "#new_links1 = [x for x in new_links if \"nav_cs_automotive\" not in x]\n",
    "#new_links1 = [x for x in new_links if \"nav_AccountFlyout_ya\" not in x]\n",
    "\n",
    "print(new_links, \"..................\", new_links1)"
   ]
  },
  {
   "cell_type": "code",
   "execution_count": 10,
   "id": "d88555ee",
   "metadata": {},
   "outputs": [],
   "source": [
    "#page_links = [f\"https://gude.gude.sk{x}\" for x in new_links]\n",
    "page_links = new_links\n",
    "page_links1 = new_links1\n",
    "#page_links1 = [f\"https://gude.gude.sk{x}\" for x in new_links1]"
   ]
  },
  {
   "cell_type": "code",
   "execution_count": 11,
   "id": "3291a410",
   "metadata": {
    "scrolled": true
   },
   "outputs": [
    {
     "data": {
      "text/plain": [
       "['https://gude.gude.sk/motorove-cerpadla/11963-guede-motorove-cerpadlo-na-vodu-gmp-5025-4015671945075.html',\n",
       " 'https://gude.gude.sk/ponorne-kalove-cerpadla/8657-guede-ponorne-kalove-cerpadlo-pro-1100a-4015671758002.html',\n",
       " 'https://gude.gude.sk/domace-vodarne-a-vodne-automaty/8674-guede-domaca-vodaren-hww-3100-k-4015671946676.html',\n",
       " 'https://gude.gude.sk/ponorne-kalove-cerpadla/8655-guede-ponorne-tlakove-cerpadlo-gdt-901-4015671942463.html',\n",
       " 'https://gude.gude.sk/zahradne-cerpadla/8664-guede-zahradne-cerpadlo-jg-3100-4015671941565.html',\n",
       " 'https://gude.gude.sk/ponorne-kalove-cerpadla/10042-guede-ponorne-tlakove-cerpadlo-gdt-1200-i-4015671942425.html',\n",
       " 'https://gude.gude.sk/ruris/18249-ruris-nahradna-retaz-rm540-olej-6424340290626.html',\n",
       " 'https://gude.gude.sk/zahradne-cerpadla/8668-guede-zahradne-cerpadlo-mp-1205agj-4015671941886.html',\n",
       " 'https://gude.gude.sk/ponorne-kalove-cerpadla/8662-guede-ponorne-kalove-cerpadlo-gs-4002-p-4015671209313.html',\n",
       " 'https://gude.gude.sk/ponorne-kalove-cerpadla/8656-guede-cerpadlo-do-studne-gtt-900-4015671941381.html',\n",
       " 'https://gude.gude.sk/ponorne-kalove-cerpadla/13392-guede-aku-cerpadlo-na-cistu-vodu-ktp-18-201-23-4015671210258.html',\n",
       " 'https://gude.gude.sk/ponorne-kalove-cerpadla/11857-ponorne-kalove-cerpadlo-gs-1103-pi-4015671854162.html',\n",
       " 'https://gude.gude.sk/ponorne-kalove-cerpadla/13135-guede-aku-cerpadlo-do-suda-rfp-12-201-04-4015671968265.html',\n",
       " 'https://gude.gude.sk/ruris/18248-ruris-nahradna-retaz-rm500-olej-6424340290602.html',\n",
       " 'https://gude.gude.sk/domace-vodarne-a-vodne-automaty/8677-guede-domaca-vodaren-hww-1000-p-4015671198570.html']"
      ]
     },
     "execution_count": 11,
     "metadata": {},
     "output_type": "execute_result"
    }
   ],
   "source": [
    "page_links"
   ]
  },
  {
   "cell_type": "code",
   "execution_count": 12,
   "id": "7857c7a3",
   "metadata": {},
   "outputs": [
    {
     "data": {
      "text/plain": [
       "['https://gude.gude.sk/motorove-cerpadla/11963-guede-motorove-cerpadlo-na-vodu-gmp-5025-4015671945075.html',\n",
       " 'https://gude.gude.sk/ponorne-kalove-cerpadla/8657-guede-ponorne-kalove-cerpadlo-pro-1100a-4015671758002.html',\n",
       " 'https://gude.gude.sk/domace-vodarne-a-vodne-automaty/8674-guede-domaca-vodaren-hww-3100-k-4015671946676.html',\n",
       " 'https://gude.gude.sk/ponorne-kalove-cerpadla/8655-guede-ponorne-tlakove-cerpadlo-gdt-901-4015671942463.html',\n",
       " 'https://gude.gude.sk/zahradne-cerpadla/8664-guede-zahradne-cerpadlo-jg-3100-4015671941565.html',\n",
       " 'https://gude.gude.sk/ponorne-kalove-cerpadla/10042-guede-ponorne-tlakove-cerpadlo-gdt-1200-i-4015671942425.html',\n",
       " 'https://gude.gude.sk/ruris/18249-ruris-nahradna-retaz-rm540-olej-6424340290626.html',\n",
       " 'https://gude.gude.sk/zahradne-cerpadla/8668-guede-zahradne-cerpadlo-mp-1205agj-4015671941886.html',\n",
       " 'https://gude.gude.sk/ponorne-kalove-cerpadla/8662-guede-ponorne-kalove-cerpadlo-gs-4002-p-4015671209313.html',\n",
       " 'https://gude.gude.sk/ponorne-kalove-cerpadla/8656-guede-cerpadlo-do-studne-gtt-900-4015671941381.html',\n",
       " 'https://gude.gude.sk/ponorne-kalove-cerpadla/13392-guede-aku-cerpadlo-na-cistu-vodu-ktp-18-201-23-4015671210258.html',\n",
       " 'https://gude.gude.sk/ponorne-kalove-cerpadla/11857-ponorne-kalove-cerpadlo-gs-1103-pi-4015671854162.html',\n",
       " 'https://gude.gude.sk/ponorne-kalove-cerpadla/13135-guede-aku-cerpadlo-do-suda-rfp-12-201-04-4015671968265.html',\n",
       " 'https://gude.gude.sk/ruris/18248-ruris-nahradna-retaz-rm500-olej-6424340290602.html',\n",
       " 'https://gude.gude.sk/domace-vodarne-a-vodne-automaty/8677-guede-domaca-vodaren-hww-1000-p-4015671198570.html']"
      ]
     },
     "execution_count": 12,
     "metadata": {},
     "output_type": "execute_result"
    }
   ],
   "source": [
    "page_links1"
   ]
  },
  {
   "cell_type": "code",
   "execution_count": 13,
   "id": "a2855981",
   "metadata": {},
   "outputs": [],
   "source": [
    "def scrape_product_page(url, title_lookup = \"h1\", price_lookup = \".productPrice\"):\n",
    "    driver.get(url)\n",
    "    #time.sleep(1.2)\n",
    "    body_el = driver.find_element(By.CSS_SELECTOR, \"body\")\n",
    "    #body_el = driver.find_element_by_css_selector(\"body\")\n",
    "    html_str = body_el.get_attribute(\"innerHTML\")\n",
    "    html_obj = HTML(html = html_str)\n",
    "    product_title = html_obj.find(title_lookup, first=True).text\n",
    "    product_price = html_obj.find(price_lookup, first=True).text\n",
    "    print (product_title, product_price)\n",
    "    return product_title, product_price"
   ]
  },
  {
   "cell_type": "code",
   "execution_count": 15,
   "id": "c3d3db86",
   "metadata": {},
   "outputs": [],
   "source": [
    "#title, price = scrape_product_page('https://gude.gude.sk/ponorne-kalove-cerpadla/8662-guede-ponorne-kalove-cerpadlo-gs-4002-p-4015671209313.html')\n",
    "#print (title, price)"
   ]
  },
  {
   "cell_type": "code",
   "execution_count": 16,
   "id": "66cb2ae7",
   "metadata": {},
   "outputs": [
    {
     "data": {
      "text/plain": [
       "'https://gude.gude.sk/motorove-cerpadla/11963-guede-motorove-cerpadlo-na-vodu-gmp-5025-4015671945075.html'"
      ]
     },
     "execution_count": 16,
     "metadata": {},
     "output_type": "execute_result"
    }
   ],
   "source": [
    "first_product_link = page_links1[0]\n",
    "first_product_link"
   ]
  },
  {
   "cell_type": "code",
   "execution_count": 17,
   "id": "6aac5bf5",
   "metadata": {
    "scrolled": true
   },
   "outputs": [
    {
     "name": "stdout",
     "output_type": "stream",
     "text": [
      "Güde Motorové čerpadlo na vodu GMP 50.25 232,90 €\n",
      "Güde Ponorné kalové čerpadlo PRO 1100A 259,90 €\n",
      "Güde Domáca vodáreň HWW 3100 K 131,90 €\n",
      "Güde Ponorné tlakové čerpadlo GDT 901 99,90 €\n",
      "Güde Záhradné čerpadlo JG 3100 68,90 €\n",
      "Güde Ponorné tlakové čerpadlo GDT 1200 I 179,90 €\n",
      "RURIS náhradná reťaz RM540 + olej 18,90 €\n",
      "Güde Záhradné čerpadlo MP 120/5A/GJ 209,90 €\n",
      "Güde Ponorné kalové čerpadlo GS 4002 P 38,90 €\n",
      "Güde Čerpadlo do studne GTT 900 199,90 €\n",
      "Güde Aku čerpadlo na čistú vodu KTP 18-201-23 107,90 €\n",
      "Güde Ponorné kalové čerpadlo GS 1103 PI 61,90 €\n",
      "Güde Aku čerpadlo do suda RFP 12-201-04 72,90 €\n",
      "RURIS náhradná reťaz RM500 + olej 16,90 €\n",
      "Güde Domáca vodáreň HWW 1000 P 145,90 €\n"
     ]
    }
   ],
   "source": [
    "#i = 0\n",
    "#j = 0\n",
    "#for cat in page_links1:\n",
    "    #i += 1\n",
    "for link in page_links1:\n",
    "    #j +=1\n",
    "    #print (\"Cyklus: \", i, j, \" : \", cat)\n",
    "    title, price = (None, None)\n",
    "    try:\n",
    "        title, price = scrape_product_page(link)\n",
    "    except:\n",
    "        pass\n",
    "    if title != None and price != None:\n",
    "        if \"$\" in price:\n",
    "            print (link, title, price)"
   ]
  },
  {
   "cell_type": "raw",
   "id": "2b29935a",
   "metadata": {},
   "source": []
  },
  {
   "cell_type": "code",
   "execution_count": null,
   "id": "2c9025da",
   "metadata": {},
   "outputs": [],
   "source": [
    "#https://www.amazon.com/PAT-PATROUILLE-V%C3%89HICULE-Collectionner-Patrouille/dp/B08T19F29G/ref=zg_bs_toys_sccl_7/257-3831156-2876045?pd_rd_i=B0B9MKL3CS&psc=1\n",
    "#https://www.amazon.com/BIC-Kids-Visacolor-Feutres-Coloriage/dp/B001ANYZGG/ref=zg_bs_toys_sccl_19/257-3831156-2876045?pd_rd_i=B09ZFP34NY&psc=1\n",
    "\n",
    "# <base-url>/<slug>/dp/<product_id>"
   ]
  },
  {
   "cell_type": "code",
   "execution_count": null,
   "id": "b57df124",
   "metadata": {},
   "outputs": [],
   "source": []
  },
  {
   "cell_type": "code",
   "execution_count": null,
   "id": "60b4e49c",
   "metadata": {},
   "outputs": [],
   "source": []
  },
  {
   "cell_type": "code",
   "execution_count": null,
   "id": "b2c71ce4",
   "metadata": {},
   "outputs": [],
   "source": []
  }
 ],
 "metadata": {
  "kernelspec": {
   "display_name": "Python 3 (ipykernel)",
   "language": "python",
   "name": "python3"
  },
  "language_info": {
   "codemirror_mode": {
    "name": "ipython",
    "version": 3
   },
   "file_extension": ".py",
   "mimetype": "text/x-python",
   "name": "python",
   "nbconvert_exporter": "python",
   "pygments_lexer": "ipython3",
   "version": "3.10.4"
  }
 },
 "nbformat": 4,
 "nbformat_minor": 5
}
