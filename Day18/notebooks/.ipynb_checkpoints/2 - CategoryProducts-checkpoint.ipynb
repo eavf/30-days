{
 "cells": [
  {
   "cell_type": "code",
   "execution_count": null,
   "id": "e4fe7266",
   "metadata": {},
   "outputs": [],
   "source": [
    "import requests\n",
    "import time\n",
    "from requests_html import HTML\n",
    "from selenium import webdriver\n",
    "from selenium.webdriver.common.by import By\n",
    "from selenium.webdriver.firefox.options import Options \n",
    "#from selenium.webdriver.chrome.options import Options"
   ]
  },
  {
   "cell_type": "code",
   "execution_count": null,
   "id": "b0098014",
   "metadata": {},
   "outputs": [],
   "source": [
    "c = Options()\n",
    "c.add_argument(\"--headless\")\n",
    "\n",
    "driver = webdriver.Firefox()\n",
    "#driver = webdriver.Chrome(options=c)"
   ]
  },
  {
   "cell_type": "code",
   "execution_count": null,
   "id": "8390d681",
   "metadata": {},
   "outputs": [],
   "source": [
    "categories = [\"https://www.amazon.fr/gp/bestsellers/toys/ref=zg_bs_nav_0\",\n",
    "             \"https://www.amazon.fr/gp/bestsellers/computers/ref=zg_bs_nav_0\",\n",
    "             \"https://www.amazon.fr/gp/bestsellers/apparel/ref=zg_bs_nav_0\"]\n",
    "\n"
   ]
  },
  {
   "cell_type": "code",
   "execution_count": null,
   "id": "f9e0434a",
   "metadata": {},
   "outputs": [],
   "source": [
    "categories"
   ]
  },
  {
   "cell_type": "code",
   "execution_count": null,
   "id": "e84ba1f1",
   "metadata": {},
   "outputs": [],
   "source": [
    "first_url = categories[0]"
   ]
  },
  {
   "cell_type": "code",
   "execution_count": null,
   "id": "aa968a55",
   "metadata": {},
   "outputs": [],
   "source": [
    "driver.get(first_url)"
   ]
  },
  {
   "cell_type": "code",
   "execution_count": null,
   "id": "4cf1a236",
   "metadata": {},
   "outputs": [],
   "source": [
    "body_el = driver.find_element(By.CSS_SELECTOR, \"body\")\n",
    "#body_el = driver.find_element_by_css_selector(\"body\")\n",
    "html_str = body_el.get_attribute(\"innerHTML\")"
   ]
  },
  {
   "cell_type": "code",
   "execution_count": null,
   "id": "bb4f3b2b",
   "metadata": {},
   "outputs": [],
   "source": [
    "html_obj = HTML(html = html_str)"
   ]
  },
  {
   "cell_type": "code",
   "execution_count": null,
   "id": "2c94e9b5",
   "metadata": {
    "scrolled": true
   },
   "outputs": [],
   "source": [
    "new_links = [x for x in html_obj.links if x.startswith(\"/\")]\n",
    "new_links = [x for x in new_links if \"product-reviews/\" not in x]\n",
    "print(new_links)"
   ]
  },
  {
   "cell_type": "code",
   "execution_count": null,
   "id": "d88555ee",
   "metadata": {},
   "outputs": [],
   "source": [
    "page_links = [f\"https://www.amazon.com{x}\" for x in new_links]"
   ]
  },
  {
   "cell_type": "code",
   "execution_count": null,
   "id": "3291a410",
   "metadata": {},
   "outputs": [],
   "source": [
    "page_links"
   ]
  },
  {
   "cell_type": "code",
   "execution_count": null,
   "id": "a2855981",
   "metadata": {},
   "outputs": [],
   "source": [
    "def scrape_product_page(url, title_lookup = \"#productTitle\", price_lookup = \".a-offscreen\"):\n",
    "    driver.get(url)\n",
    "    time.sleep(1.2)\n",
    "    body_el = driver.find_element(By.CSS_SELECTOR, \"body\")\n",
    "    #body_el = driver.find_element_by_css_selector(\"body\")\n",
    "    html_str = body_el.get_attribute(\"innerHTML\")\n",
    "    html_obj = HTML(html = html_str)\n",
    "    product_title = html_obj.find(title_lookup, first=True).text\n",
    "    product_price = html_obj.find(price_lookup, first=True).text\n",
    "    return product_title, product_price"
   ]
  },
  {
   "cell_type": "code",
   "execution_count": null,
   "id": "66cb2ae7",
   "metadata": {},
   "outputs": [],
   "source": [
    "first_product_link = page_links[0]\n",
    "first_product_link"
   ]
  },
  {
   "cell_type": "code",
   "execution_count": null,
   "id": "6aac5bf5",
   "metadata": {},
   "outputs": [],
   "source": [
    "for cat in page_links:\n",
    "    for link in cat:\n",
    "        title, price = (None, None)\n",
    "        try:\n",
    "            title, price = scrape_product_page(link)\n",
    "        except:\n",
    "            pass\n",
    "        if title != None and price != None:\n",
    "            if \"$\" in price:\n",
    "                print (link, title, price)"
   ]
  },
  {
   "cell_type": "raw",
   "id": "2b29935a",
   "metadata": {},
   "source": []
  },
  {
   "cell_type": "code",
   "execution_count": null,
   "id": "2c9025da",
   "metadata": {},
   "outputs": [],
   "source": [
    "#https://www.amazon.com/PAT-PATROUILLE-V%C3%89HICULE-Collectionner-Patrouille/dp/B08T19F29G/ref=zg_bs_toys_sccl_7/257-3831156-2876045?pd_rd_i=B0B9MKL3CS&psc=1\n",
    "#https://www.amazon.com/BIC-Kids-Visacolor-Feutres-Coloriage/dp/B001ANYZGG/ref=zg_bs_toys_sccl_19/257-3831156-2876045?pd_rd_i=B09ZFP34NY&psc=1\n"
   ]
  },
  {
   "cell_type": "code",
   "execution_count": null,
   "id": "b57df124",
   "metadata": {},
   "outputs": [],
   "source": []
  },
  {
   "cell_type": "code",
   "execution_count": null,
   "id": "60b4e49c",
   "metadata": {},
   "outputs": [],
   "source": []
  }
 ],
 "metadata": {
  "kernelspec": {
   "display_name": "Python 3 (ipykernel)",
   "language": "python",
   "name": "python3"
  },
  "language_info": {
   "codemirror_mode": {
    "name": "ipython",
    "version": 3
   },
   "file_extension": ".py",
   "mimetype": "text/x-python",
   "name": "python",
   "nbconvert_exporter": "python",
   "pygments_lexer": "ipython3",
   "version": "3.10.4"
  }
 },
 "nbformat": 4,
 "nbformat_minor": 5
}
