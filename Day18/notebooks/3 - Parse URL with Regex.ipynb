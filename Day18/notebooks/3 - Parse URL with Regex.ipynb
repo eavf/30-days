{
 "cells": [
  {
   "cell_type": "code",
   "execution_count": 1,
   "id": "e4fe7266",
   "metadata": {},
   "outputs": [],
   "source": [
    "import re\n",
    "import requests\n",
    "import time\n",
    "from requests_html import HTML\n",
    "from selenium import webdriver\n",
    "from selenium.webdriver.common.by import By\n",
    "from selenium.webdriver.chrome.options import Options"
   ]
  },
  {
   "cell_type": "code",
   "execution_count": 2,
   "id": "b0098014",
   "metadata": {},
   "outputs": [],
   "source": [
    "c = Options()\n",
    "c.add_argument(\"--headless\")\n",
    "\n",
    "driver = webdriver.Chrome(options=c)"
   ]
  },
  {
   "cell_type": "code",
   "execution_count": 3,
   "id": "8390d681",
   "metadata": {},
   "outputs": [],
   "source": [
    "categories = [\"https://gude.gude.sk/7674-cerpadla-a-vodarne\",\n",
    "             \"https://gude.gude.sk/7711-nabijacky-autobaterii\",\n",
    "             \"https://gude.gude.sk/8089-rucne-naradie\"]\n",
    "\n"
   ]
  },
  {
   "cell_type": "code",
   "execution_count": 4,
   "id": "f9e0434a",
   "metadata": {},
   "outputs": [
    {
     "data": {
      "text/plain": [
       "['https://gude.gude.sk/7674-cerpadla-a-vodarne',\n",
       " 'https://gude.gude.sk/7711-nabijacky-autobaterii',\n",
       " 'https://gude.gude.sk/8089-rucne-naradie']"
      ]
     },
     "execution_count": 4,
     "metadata": {},
     "output_type": "execute_result"
    }
   ],
   "source": [
    "categories"
   ]
  },
  {
   "cell_type": "code",
   "execution_count": 5,
   "id": "e84ba1f1",
   "metadata": {},
   "outputs": [],
   "source": [
    "first_url = categories[0]"
   ]
  },
  {
   "cell_type": "code",
   "execution_count": 6,
   "id": "aa968a55",
   "metadata": {},
   "outputs": [],
   "source": [
    "driver.get(first_url)"
   ]
  },
  {
   "cell_type": "code",
   "execution_count": 7,
   "id": "4cf1a236",
   "metadata": {},
   "outputs": [],
   "source": [
    "#Chrome\n",
    "body_el = driver.find_element(By.CSS_SELECTOR, \".product_list\")\n",
    "html_str = body_el.get_attribute(\"innerHTML\")"
   ]
  },
  {
   "cell_type": "code",
   "execution_count": 8,
   "id": "bb4f3b2b",
   "metadata": {
    "scrolled": true
   },
   "outputs": [
    {
     "name": "stdout",
     "output_type": "stream",
     "text": [
      "{'https://gude.gude.sk/zahradne-cerpadla/8664-guede-zahradne-cerpadlo-jg-3100-4015671941565.html', 'https://gude.gude.sk/domace-vodarne-a-vodne-automaty/8674-guede-domaca-vodaren-hww-3100-k-4015671946676.html', 'https://gude.gude.sk/index.php?controller=cart&add=1&id_product=8674&token=e1e4f6d58882ce18d088f58f7cae49ea', 'https://gude.gude.sk/domace-vodarne-a-vodne-automaty/8677-guede-domaca-vodaren-hww-1000-p-4015671198570.html', 'https://gude.gude.sk/index.php?controller=cart&add=1&id_product=8656&token=e1e4f6d58882ce18d088f58f7cae49ea', 'https://gude.gude.sk/ponorne-kalove-cerpadla/13392-guede-aku-cerpadlo-na-cistu-vodu-ktp-18-201-23-4015671210258.html', 'https://gude.gude.sk/zahradne-cerpadla/8668-guede-zahradne-cerpadlo-mp-1205agj-4015671941886.html', 'https://gude.gude.sk/ponorne-kalove-cerpadla/8656-guede-cerpadlo-do-studne-gtt-900-4015671941381.html', 'https://gude.gude.sk/index.php?controller=cart&add=1&id_product=13135&token=e1e4f6d58882ce18d088f58f7cae49ea', 'https://gude.gude.sk/index.php?controller=cart&add=1&id_product=8657&token=e1e4f6d58882ce18d088f58f7cae49ea', 'https://gude.gude.sk/index.php?controller=cart&add=1&id_product=10042&token=e1e4f6d58882ce18d088f58f7cae49ea', 'https://gude.gude.sk/index.php?controller=cart&add=1&id_product=13392&token=e1e4f6d58882ce18d088f58f7cae49ea', 'https://gude.gude.sk/ponorne-kalove-cerpadla/13135-guede-aku-cerpadlo-do-suda-rfp-12-201-04-4015671968265.html', 'https://gude.gude.sk/ponorne-kalove-cerpadla/8662-guede-ponorne-kalove-cerpadlo-gs-4002-p-4015671209313.html', 'https://gude.gude.sk/index.php?controller=cart&add=1&id_product=11963&token=e1e4f6d58882ce18d088f58f7cae49ea', 'https://gude.gude.sk/index.php?controller=cart&add=1&id_product=11857&token=e1e4f6d58882ce18d088f58f7cae49ea', 'https://gude.gude.sk/index.php?controller=cart&add=1&id_product=8677&token=e1e4f6d58882ce18d088f58f7cae49ea', 'https://gude.gude.sk/ponorne-kalove-cerpadla/10042-guede-ponorne-tlakove-cerpadlo-gdt-1200-i-4015671942425.html', 'https://gude.gude.sk/index.php?controller=cart&add=1&id_product=8668&token=e1e4f6d58882ce18d088f58f7cae49ea', 'https://gude.gude.sk/index.php?controller=cart&add=1&id_product=8664&token=e1e4f6d58882ce18d088f58f7cae49ea', 'https://gude.gude.sk/index.php?controller=cart&add=1&id_product=8655&token=e1e4f6d58882ce18d088f58f7cae49ea', 'https://gude.gude.sk/ponorne-kalove-cerpadla/8657-guede-ponorne-kalove-cerpadlo-pro-1100a-4015671758002.html', 'https://gude.gude.sk/index.php?controller=cart&add=1&id_product=8662&token=e1e4f6d58882ce18d088f58f7cae49ea', 'https://gude.gude.sk/ponorne-kalove-cerpadla/8655-guede-ponorne-tlakove-cerpadlo-gdt-901-4015671942463.html', 'https://gude.gude.sk/ponorne-kalove-cerpadla/11857-ponorne-kalove-cerpadlo-gs-1103-pi-4015671854162.html', 'https://gude.gude.sk/motorove-cerpadla/11963-guede-motorove-cerpadlo-na-vodu-gmp-5025-4015671945075.html'}\n"
     ]
    }
   ],
   "source": [
    "html_obj = HTML(html = html_str)\n",
    "print(html_obj.links)"
   ]
  },
  {
   "cell_type": "code",
   "execution_count": 9,
   "id": "2c94e9b5",
   "metadata": {
    "scrolled": true
   },
   "outputs": [
    {
     "name": "stdout",
     "output_type": "stream",
     "text": [
      "['https://gude.gude.sk/zahradne-cerpadla/8664-guede-zahradne-cerpadlo-jg-3100-4015671941565.html', 'https://gude.gude.sk/domace-vodarne-a-vodne-automaty/8674-guede-domaca-vodaren-hww-3100-k-4015671946676.html', 'https://gude.gude.sk/domace-vodarne-a-vodne-automaty/8677-guede-domaca-vodaren-hww-1000-p-4015671198570.html', 'https://gude.gude.sk/ponorne-kalove-cerpadla/13392-guede-aku-cerpadlo-na-cistu-vodu-ktp-18-201-23-4015671210258.html', 'https://gude.gude.sk/zahradne-cerpadla/8668-guede-zahradne-cerpadlo-mp-1205agj-4015671941886.html', 'https://gude.gude.sk/ponorne-kalove-cerpadla/8656-guede-cerpadlo-do-studne-gtt-900-4015671941381.html', 'https://gude.gude.sk/ponorne-kalove-cerpadla/13135-guede-aku-cerpadlo-do-suda-rfp-12-201-04-4015671968265.html', 'https://gude.gude.sk/ponorne-kalove-cerpadla/8662-guede-ponorne-kalove-cerpadlo-gs-4002-p-4015671209313.html', 'https://gude.gude.sk/ponorne-kalove-cerpadla/10042-guede-ponorne-tlakove-cerpadlo-gdt-1200-i-4015671942425.html', 'https://gude.gude.sk/ponorne-kalove-cerpadla/8657-guede-ponorne-kalove-cerpadlo-pro-1100a-4015671758002.html', 'https://gude.gude.sk/ponorne-kalove-cerpadla/8655-guede-ponorne-tlakove-cerpadlo-gdt-901-4015671942463.html', 'https://gude.gude.sk/ponorne-kalove-cerpadla/11857-ponorne-kalove-cerpadlo-gs-1103-pi-4015671854162.html', 'https://gude.gude.sk/motorove-cerpadla/11963-guede-motorove-cerpadlo-na-vodu-gmp-5025-4015671945075.html']\n"
     ]
    }
   ],
   "source": [
    "new_links = [x for x in html_obj.links if x.startswith(\"https://gude.gude.sk/\")]\n",
    "new_links = [x for x in new_links if x.endswith(\".html\")]\n",
    "\n",
    "\n",
    "print(new_links)"
   ]
  },
  {
   "cell_type": "code",
   "execution_count": 10,
   "id": "d88555ee",
   "metadata": {},
   "outputs": [],
   "source": [
    "page_links = new_links"
   ]
  },
  {
   "cell_type": "code",
   "execution_count": 11,
   "id": "3291a410",
   "metadata": {
    "scrolled": true
   },
   "outputs": [
    {
     "data": {
      "text/plain": [
       "['https://gude.gude.sk/zahradne-cerpadla/8664-guede-zahradne-cerpadlo-jg-3100-4015671941565.html',\n",
       " 'https://gude.gude.sk/domace-vodarne-a-vodne-automaty/8674-guede-domaca-vodaren-hww-3100-k-4015671946676.html',\n",
       " 'https://gude.gude.sk/domace-vodarne-a-vodne-automaty/8677-guede-domaca-vodaren-hww-1000-p-4015671198570.html',\n",
       " 'https://gude.gude.sk/ponorne-kalove-cerpadla/13392-guede-aku-cerpadlo-na-cistu-vodu-ktp-18-201-23-4015671210258.html',\n",
       " 'https://gude.gude.sk/zahradne-cerpadla/8668-guede-zahradne-cerpadlo-mp-1205agj-4015671941886.html',\n",
       " 'https://gude.gude.sk/ponorne-kalove-cerpadla/8656-guede-cerpadlo-do-studne-gtt-900-4015671941381.html',\n",
       " 'https://gude.gude.sk/ponorne-kalove-cerpadla/13135-guede-aku-cerpadlo-do-suda-rfp-12-201-04-4015671968265.html',\n",
       " 'https://gude.gude.sk/ponorne-kalove-cerpadla/8662-guede-ponorne-kalove-cerpadlo-gs-4002-p-4015671209313.html',\n",
       " 'https://gude.gude.sk/ponorne-kalove-cerpadla/10042-guede-ponorne-tlakove-cerpadlo-gdt-1200-i-4015671942425.html',\n",
       " 'https://gude.gude.sk/ponorne-kalove-cerpadla/8657-guede-ponorne-kalove-cerpadlo-pro-1100a-4015671758002.html',\n",
       " 'https://gude.gude.sk/ponorne-kalove-cerpadla/8655-guede-ponorne-tlakove-cerpadlo-gdt-901-4015671942463.html',\n",
       " 'https://gude.gude.sk/ponorne-kalove-cerpadla/11857-ponorne-kalove-cerpadlo-gs-1103-pi-4015671854162.html',\n",
       " 'https://gude.gude.sk/motorove-cerpadla/11963-guede-motorove-cerpadlo-na-vodu-gmp-5025-4015671945075.html']"
      ]
     },
     "execution_count": 11,
     "metadata": {},
     "output_type": "execute_result"
    }
   ],
   "source": [
    "page_links"
   ]
  },
  {
   "cell_type": "code",
   "execution_count": 12,
   "id": "a2855981",
   "metadata": {},
   "outputs": [],
   "source": [
    "def scrape_product_page(url, title_lookup = \"h1\", price_lookup = \".productPrice\"):\n",
    "    driver.get(url)\n",
    "    #time.sleep(1.2)\n",
    "    body_el = driver.find_element(By.CSS_SELECTOR, \"body\")\n",
    "    #body_el = driver.find_element_by_css_selector(\"body\")\n",
    "    html_str = body_el.get_attribute(\"innerHTML\")\n",
    "    html_obj = HTML(html = html_str)\n",
    "    product_title = html_obj.find(title_lookup, first=True).text\n",
    "    product_price = html_obj.find(price_lookup, first=True).text\n",
    "    #print (product_title, product_price)\n",
    "    return product_title, product_price"
   ]
  },
  {
   "cell_type": "code",
   "execution_count": 13,
   "id": "f864e00d",
   "metadata": {},
   "outputs": [],
   "source": [
    "#title, price = scrape_product_page('https://gude.gude.sk/ponorne-kalove-cerpadla/8662-guede-ponorne-kalove-cerpadlo-gs-4002-p-4015671209313.html')\n",
    "#print (title, price)"
   ]
  },
  {
   "cell_type": "code",
   "execution_count": 14,
   "id": "66cb2ae7",
   "metadata": {},
   "outputs": [
    {
     "data": {
      "text/plain": [
       "'https://gude.gude.sk/zahradne-cerpadla/8664-guede-zahradne-cerpadlo-jg-3100-4015671941565.html'"
      ]
     },
     "execution_count": 14,
     "metadata": {},
     "output_type": "execute_result"
    }
   ],
   "source": [
    "first_product_link = page_links[0]\n",
    "first_product_link"
   ]
  },
  {
   "cell_type": "code",
   "execution_count": 15,
   "id": "6aac5bf5",
   "metadata": {
    "scrolled": false
   },
   "outputs": [
    {
     "name": "stdout",
     "output_type": "stream",
     "text": [
      "1 https://gude.gude.sk/zahradne-cerpadla/8664-guede-zahradne-cerpadlo-jg-3100-4015671941565.html Güde Záhradné čerpadlo JG 3100 68,90 €\n",
      "2 https://gude.gude.sk/domace-vodarne-a-vodne-automaty/8674-guede-domaca-vodaren-hww-3100-k-4015671946676.html Güde Domáca vodáreň HWW 3100 K 131,90 €\n",
      "3 https://gude.gude.sk/domace-vodarne-a-vodne-automaty/8677-guede-domaca-vodaren-hww-1000-p-4015671198570.html Güde Domáca vodáreň HWW 1000 P 145,90 €\n",
      "4 https://gude.gude.sk/ponorne-kalove-cerpadla/13392-guede-aku-cerpadlo-na-cistu-vodu-ktp-18-201-23-4015671210258.html Güde Aku čerpadlo na čistú vodu KTP 18-201-23 107,90 €\n",
      "5 https://gude.gude.sk/zahradne-cerpadla/8668-guede-zahradne-cerpadlo-mp-1205agj-4015671941886.html Güde Záhradné čerpadlo MP 120/5A/GJ 209,90 €\n",
      "6 https://gude.gude.sk/ponorne-kalove-cerpadla/8656-guede-cerpadlo-do-studne-gtt-900-4015671941381.html Güde Čerpadlo do studne GTT 900 199,90 €\n",
      "7 https://gude.gude.sk/ponorne-kalove-cerpadla/13135-guede-aku-cerpadlo-do-suda-rfp-12-201-04-4015671968265.html Güde Aku čerpadlo do suda RFP 12-201-04 72,90 €\n",
      "8 https://gude.gude.sk/ponorne-kalove-cerpadla/8662-guede-ponorne-kalove-cerpadlo-gs-4002-p-4015671209313.html Güde Ponorné kalové čerpadlo GS 4002 P 38,90 €\n",
      "9 https://gude.gude.sk/ponorne-kalove-cerpadla/10042-guede-ponorne-tlakove-cerpadlo-gdt-1200-i-4015671942425.html Güde Ponorné tlakové čerpadlo GDT 1200 I 179,90 €\n",
      "10 https://gude.gude.sk/ponorne-kalove-cerpadla/8657-guede-ponorne-kalove-cerpadlo-pro-1100a-4015671758002.html Güde Ponorné kalové čerpadlo PRO 1100A 259,90 €\n",
      "11 https://gude.gude.sk/ponorne-kalove-cerpadla/8655-guede-ponorne-tlakove-cerpadlo-gdt-901-4015671942463.html Güde Ponorné tlakové čerpadlo GDT 901 99,90 €\n",
      "12 https://gude.gude.sk/ponorne-kalove-cerpadla/11857-ponorne-kalove-cerpadlo-gs-1103-pi-4015671854162.html Güde Ponorné kalové čerpadlo GS 1103 PI 61,90 €\n",
      "13 https://gude.gude.sk/motorove-cerpadla/11963-guede-motorove-cerpadlo-na-vodu-gmp-5025-4015671945075.html Güde Motorové čerpadlo na vodu GMP 50.25 232,90 €\n"
     ]
    }
   ],
   "source": [
    "#i = 0\n",
    "j = 0\n",
    "#for cat in page_links1:\n",
    "    #i += 1\n",
    "for link in page_links:\n",
    "    #j +=1\n",
    "    #print (\"Cyklus: \", i, j, \" : \", cat)\n",
    "    title, price = (None, None)\n",
    "    try:\n",
    "        title, price = scrape_product_page(link)\n",
    "    except:\n",
    "        pass\n",
    "    if title != None and price != None:\n",
    "        j +=1\n",
    "        print (j, link, title, price)"
   ]
  },
  {
   "cell_type": "code",
   "execution_count": 16,
   "id": "2c9025da",
   "metadata": {},
   "outputs": [],
   "source": [
    "#https://gude.gude.sk/ponorne-kalove-cerpadla/8657-guede-ponorne-kalove-cerpadlo-pro-1100a-4015671758002.html\n",
    "#https://gude.gude.sk/ponorne-kalove-cerpadla/10042-guede-ponorne-tlakove-cerpadlo-gdt-1200-i-4015671942425.html\n",
    "\n",
    "# <base-url>/<slug>/<slug><product_id>"
   ]
  },
  {
   "cell_type": "code",
   "execution_count": 17,
   "id": "b57df124",
   "metadata": {},
   "outputs": [],
   "source": [
    "\n",
    "# [\\w-] -> grab all letters smal and large and numbers and dash\n",
    "# '[0-9]+' all numbers\n",
    "my_regex_pattern = r\"https://gude.gude.sk/(?P<slug>[\\w-]+)/(?P<slug1>[\\w-]+)-(?P<product_id>[0-9]+).html\"\n",
    "my_url = 'https://gude.gude.sk/ponorne-kalove-cerpadla/10042-guede-ponorne-tlakove-cerpadlo-gdt-1200-i-4015671942425.html'"
   ]
  },
  {
   "cell_type": "code",
   "execution_count": 18,
   "id": "60b4e49c",
   "metadata": {},
   "outputs": [],
   "source": [
    "regex = re.compile(my_regex_pattern)"
   ]
  },
  {
   "cell_type": "code",
   "execution_count": 19,
   "id": "b2c71ce4",
   "metadata": {},
   "outputs": [
    {
     "name": "stdout",
     "output_type": "stream",
     "text": [
      "<re.Match object; span=(0, 111), match='https://gude.gude.sk/ponorne-kalove-cerpadla/1004>\n"
     ]
    },
    {
     "data": {
      "text/plain": [
       "'4015671942425'"
      ]
     },
     "execution_count": 19,
     "metadata": {},
     "output_type": "execute_result"
    }
   ],
   "source": [
    "my_match = regex.match(my_url)\n",
    "\n",
    "print (my_match)\n",
    "\n",
    "my_match['product_id']"
   ]
  },
  {
   "cell_type": "code",
   "execution_count": 20,
   "id": "72e4c2fc",
   "metadata": {},
   "outputs": [
    {
     "data": {
      "text/plain": [
       "'10042-guede-ponorne-tlakove-cerpadlo-gdt-1200-i'"
      ]
     },
     "execution_count": 20,
     "metadata": {},
     "output_type": "execute_result"
    }
   ],
   "source": [
    "my_match['slug1']"
   ]
  },
  {
   "cell_type": "code",
   "execution_count": 21,
   "id": "45b4e37d",
   "metadata": {},
   "outputs": [
    {
     "data": {
      "text/plain": [
       "'ponorne-kalove-cerpadla'"
      ]
     },
     "execution_count": 21,
     "metadata": {},
     "output_type": "execute_result"
    }
   ],
   "source": [
    "my_match['slug']"
   ]
  },
  {
   "cell_type": "code",
   "execution_count": 22,
   "id": "7f4d41d4",
   "metadata": {},
   "outputs": [],
   "source": [
    "regex_options = [\n",
    "    r\"https://gude.gude.sk/(?P<slug>[\\w-]+)/(?P<slug1>[\\w-]+)-(?P<product_id>[0-9]+).html\",\n",
    "    r\"https://gude.gude.sk/(?P<slug>[\\w-]+)/(?P<product_id>[0-9]+).html\"\n",
    "]\n",
    "\n",
    "def extract_product_id_from_url(url):\n",
    "    product_id = None\n",
    "    for regex_str in regex_options:\n",
    "        regex = re.compile(regex_str)\n",
    "        match = regex.match(url)\n",
    "        if match != None:\n",
    "            try:\n",
    "                product_id = match['product_id']\n",
    "            except:\n",
    "                pass\n",
    "    return product_id"
   ]
  },
  {
   "cell_type": "code",
   "execution_count": 23,
   "id": "8439a530",
   "metadata": {},
   "outputs": [],
   "source": [
    "page_links = [x for x in page_links if extract_product_id_from_url(x) != None]\n",
    "def clean_page_links(page_links=[]):\n",
    "    final_page_links = []\n",
    "    for x in page_links:\n",
    "        product_id = extract_product_id_from_url(x)\n",
    "        if product_id != None:\n",
    "            final_page_links.append({\"url\": x, \"product_id\": product_id})\n",
    "    return final_page_links\n",
    "\n",
    "cleaned_links = clean_page_links (page_links)"
   ]
  },
  {
   "cell_type": "code",
   "execution_count": 25,
   "id": "bfb06654",
   "metadata": {},
   "outputs": [
    {
     "data": {
      "text/plain": [
       "True"
      ]
     },
     "execution_count": 25,
     "metadata": {},
     "output_type": "execute_result"
    }
   ],
   "source": [
    "len (page_links) ==len(cleaned_links)"
   ]
  },
  {
   "cell_type": "code",
   "execution_count": 29,
   "id": "30bbc1c5",
   "metadata": {},
   "outputs": [
    {
     "data": {
      "text/plain": [
       "13"
      ]
     },
     "execution_count": 29,
     "metadata": {},
     "output_type": "execute_result"
    }
   ],
   "source": [
    "cleaned_links\n",
    "len(page_links)"
   ]
  },
  {
   "cell_type": "code",
   "execution_count": 38,
   "id": "d5bf218d",
   "metadata": {},
   "outputs": [],
   "source": [
    "def perform_scrape(cleaned_items=[]):\n",
    "    data_extracted = []\n",
    "    for obj in cleaned_items:\n",
    "        link = obj['url']\n",
    "        product_id = obj['product_id']\n",
    "        title, price = (None, None)\n",
    "        try:\n",
    "            title, price = scrape_product_page(link)\n",
    "        except:\n",
    "            pass\n",
    "        if title != None and price != None:\n",
    "            print (link, title, price)\n",
    "        product_data = {\n",
    "            \"url\": link,\n",
    "            \"product_id\": product_id,\n",
    "            \"title\": title,\n",
    "            \"price\": price\n",
    "        }\n",
    "        data_extracted.append(product_data)\n",
    "    return data_extracted"
   ]
  },
  {
   "cell_type": "code",
   "execution_count": 39,
   "id": "48af0f50",
   "metadata": {},
   "outputs": [
    {
     "name": "stdout",
     "output_type": "stream",
     "text": [
      "https://gude.gude.sk/zahradne-cerpadla/8664-guede-zahradne-cerpadlo-jg-3100-4015671941565.html Güde Záhradné čerpadlo JG 3100 68,90 €\n",
      "https://gude.gude.sk/domace-vodarne-a-vodne-automaty/8674-guede-domaca-vodaren-hww-3100-k-4015671946676.html Güde Domáca vodáreň HWW 3100 K 131,90 €\n",
      "https://gude.gude.sk/domace-vodarne-a-vodne-automaty/8677-guede-domaca-vodaren-hww-1000-p-4015671198570.html Güde Domáca vodáreň HWW 1000 P 145,90 €\n",
      "https://gude.gude.sk/ponorne-kalove-cerpadla/13392-guede-aku-cerpadlo-na-cistu-vodu-ktp-18-201-23-4015671210258.html Güde Aku čerpadlo na čistú vodu KTP 18-201-23 107,90 €\n",
      "https://gude.gude.sk/zahradne-cerpadla/8668-guede-zahradne-cerpadlo-mp-1205agj-4015671941886.html Güde Záhradné čerpadlo MP 120/5A/GJ 209,90 €\n",
      "https://gude.gude.sk/ponorne-kalove-cerpadla/8656-guede-cerpadlo-do-studne-gtt-900-4015671941381.html Güde Čerpadlo do studne GTT 900 199,90 €\n",
      "https://gude.gude.sk/ponorne-kalove-cerpadla/13135-guede-aku-cerpadlo-do-suda-rfp-12-201-04-4015671968265.html Güde Aku čerpadlo do suda RFP 12-201-04 72,90 €\n",
      "https://gude.gude.sk/ponorne-kalove-cerpadla/8662-guede-ponorne-kalove-cerpadlo-gs-4002-p-4015671209313.html Güde Ponorné kalové čerpadlo GS 4002 P 38,90 €\n",
      "https://gude.gude.sk/ponorne-kalove-cerpadla/10042-guede-ponorne-tlakove-cerpadlo-gdt-1200-i-4015671942425.html Güde Ponorné tlakové čerpadlo GDT 1200 I 179,90 €\n",
      "https://gude.gude.sk/ponorne-kalove-cerpadla/8657-guede-ponorne-kalove-cerpadlo-pro-1100a-4015671758002.html Güde Ponorné kalové čerpadlo PRO 1100A 259,90 €\n",
      "https://gude.gude.sk/ponorne-kalove-cerpadla/8655-guede-ponorne-tlakove-cerpadlo-gdt-901-4015671942463.html Güde Ponorné tlakové čerpadlo GDT 901 99,90 €\n",
      "https://gude.gude.sk/ponorne-kalove-cerpadla/11857-ponorne-kalove-cerpadlo-gs-1103-pi-4015671854162.html Güde Ponorné kalové čerpadlo GS 1103 PI 61,90 €\n",
      "https://gude.gude.sk/motorove-cerpadla/11963-guede-motorove-cerpadlo-na-vodu-gmp-5025-4015671945075.html Güde Motorové čerpadlo na vodu GMP 50.25 232,90 €\n"
     ]
    }
   ],
   "source": [
    "extracted_data = perform_scrape(cleaned_links)"
   ]
  },
  {
   "cell_type": "code",
   "execution_count": 40,
   "id": "09896c44",
   "metadata": {},
   "outputs": [
    {
     "name": "stdout",
     "output_type": "stream",
     "text": [
      "[{'url': 'https://gude.gude.sk/zahradne-cerpadla/8664-guede-zahradne-cerpadlo-jg-3100-4015671941565.html', 'product_id': '4015671941565', 'title': 'Güde Záhradné čerpadlo JG 3100', 'price': '68,90 €'}, {'url': 'https://gude.gude.sk/domace-vodarne-a-vodne-automaty/8674-guede-domaca-vodaren-hww-3100-k-4015671946676.html', 'product_id': '4015671946676', 'title': 'Güde Domáca vodáreň HWW 3100 K', 'price': '131,90 €'}, {'url': 'https://gude.gude.sk/domace-vodarne-a-vodne-automaty/8677-guede-domaca-vodaren-hww-1000-p-4015671198570.html', 'product_id': '4015671198570', 'title': 'Güde Domáca vodáreň HWW 1000 P', 'price': '145,90 €'}, {'url': 'https://gude.gude.sk/ponorne-kalove-cerpadla/13392-guede-aku-cerpadlo-na-cistu-vodu-ktp-18-201-23-4015671210258.html', 'product_id': '4015671210258', 'title': 'Güde Aku čerpadlo na čistú vodu KTP 18-201-23', 'price': '107,90 €'}, {'url': 'https://gude.gude.sk/zahradne-cerpadla/8668-guede-zahradne-cerpadlo-mp-1205agj-4015671941886.html', 'product_id': '4015671941886', 'title': 'Güde Záhradné čerpadlo MP 120/5A/GJ', 'price': '209,90 €'}, {'url': 'https://gude.gude.sk/ponorne-kalove-cerpadla/8656-guede-cerpadlo-do-studne-gtt-900-4015671941381.html', 'product_id': '4015671941381', 'title': 'Güde Čerpadlo do studne GTT 900', 'price': '199,90 €'}, {'url': 'https://gude.gude.sk/ponorne-kalove-cerpadla/13135-guede-aku-cerpadlo-do-suda-rfp-12-201-04-4015671968265.html', 'product_id': '4015671968265', 'title': 'Güde Aku čerpadlo do suda RFP 12-201-04', 'price': '72,90 €'}, {'url': 'https://gude.gude.sk/ponorne-kalove-cerpadla/8662-guede-ponorne-kalove-cerpadlo-gs-4002-p-4015671209313.html', 'product_id': '4015671209313', 'title': 'Güde Ponorné kalové čerpadlo GS 4002 P', 'price': '38,90 €'}, {'url': 'https://gude.gude.sk/ponorne-kalove-cerpadla/10042-guede-ponorne-tlakove-cerpadlo-gdt-1200-i-4015671942425.html', 'product_id': '4015671942425', 'title': 'Güde Ponorné tlakové čerpadlo GDT 1200 I', 'price': '179,90 €'}, {'url': 'https://gude.gude.sk/ponorne-kalove-cerpadla/8657-guede-ponorne-kalove-cerpadlo-pro-1100a-4015671758002.html', 'product_id': '4015671758002', 'title': 'Güde Ponorné kalové čerpadlo PRO 1100A', 'price': '259,90 €'}, {'url': 'https://gude.gude.sk/ponorne-kalove-cerpadla/8655-guede-ponorne-tlakove-cerpadlo-gdt-901-4015671942463.html', 'product_id': '4015671942463', 'title': 'Güde Ponorné tlakové čerpadlo GDT 901', 'price': '99,90 €'}, {'url': 'https://gude.gude.sk/ponorne-kalove-cerpadla/11857-ponorne-kalove-cerpadlo-gs-1103-pi-4015671854162.html', 'product_id': '4015671854162', 'title': 'Güde Ponorné kalové čerpadlo GS 1103 PI', 'price': '61,90 €'}, {'url': 'https://gude.gude.sk/motorove-cerpadla/11963-guede-motorove-cerpadlo-na-vodu-gmp-5025-4015671945075.html', 'product_id': '4015671945075', 'title': 'Güde Motorové čerpadlo na vodu GMP 50.25', 'price': '232,90 €'}]\n"
     ]
    }
   ],
   "source": [
    "print (extracted_data)"
   ]
  },
  {
   "cell_type": "code",
   "execution_count": null,
   "id": "889b0253",
   "metadata": {},
   "outputs": [],
   "source": []
  }
 ],
 "metadata": {
  "kernelspec": {
   "display_name": "Python 3 (ipykernel)",
   "language": "python",
   "name": "python3"
  },
  "language_info": {
   "codemirror_mode": {
    "name": "ipython",
    "version": 3
   },
   "file_extension": ".py",
   "mimetype": "text/x-python",
   "name": "python",
   "nbconvert_exporter": "python",
   "pygments_lexer": "ipython3",
   "version": "3.10.4"
  }
 },
 "nbformat": 4,
 "nbformat_minor": 5
}
