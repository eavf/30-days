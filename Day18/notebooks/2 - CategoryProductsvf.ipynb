{
 "cells": [
  {
   "cell_type": "code",
   "execution_count": 1,
   "id": "e4fe7266",
   "metadata": {},
   "outputs": [],
   "source": [
    "import requests\n",
    "import time\n",
    "from requests_html import HTML\n",
    "from selenium import webdriver\n",
    "from selenium.webdriver.common.by import By\n",
    "from selenium.webdriver.firefox.options import Options as FirefoxOptions\n",
    "from selenium.webdriver.chrome.options import Options"
   ]
  },
  {
   "cell_type": "code",
   "execution_count": 2,
   "id": "b0098014",
   "metadata": {},
   "outputs": [],
   "source": [
    "c = Options()\n",
    "c.add_argument(\"--headless\")\n",
    "\n",
    "c1 = FirefoxOptions()\n",
    "c1.headless = True\n",
    "\n",
    "driver = webdriver.Firefox(options=c1)\n",
    "driver1 = webdriver.Chrome(options=c)"
   ]
  },
  {
   "cell_type": "code",
   "execution_count": 3,
   "id": "8390d681",
   "metadata": {},
   "outputs": [],
   "source": [
    "categories = [\"https://gude.gude.sk/7674-cerpadla-a-vodarne\",\n",
    "             \"https://gude.gude.sk/7711-nabijacky-autobaterii\",\n",
    "             \"https://gude.gude.sk/8089-rucne-naradie\"]\n",
    "\n"
   ]
  },
  {
   "cell_type": "code",
   "execution_count": 4,
   "id": "f9e0434a",
   "metadata": {},
   "outputs": [
    {
     "data": {
      "text/plain": [
       "['https://gude.gude.sk/7674-cerpadla-a-vodarne',\n",
       " 'https://gude.gude.sk/7711-nabijacky-autobaterii',\n",
       " 'https://gude.gude.sk/8089-rucne-naradie']"
      ]
     },
     "execution_count": 4,
     "metadata": {},
     "output_type": "execute_result"
    }
   ],
   "source": [
    "categories"
   ]
  },
  {
   "cell_type": "code",
   "execution_count": 5,
   "id": "e84ba1f1",
   "metadata": {},
   "outputs": [],
   "source": [
    "first_url = categories[0]"
   ]
  },
  {
   "cell_type": "code",
   "execution_count": 6,
   "id": "aa968a55",
   "metadata": {},
   "outputs": [],
   "source": [
    "driver.get(first_url)\n",
    "driver1.get(first_url)"
   ]
  },
  {
   "cell_type": "code",
   "execution_count": 8,
   "id": "4cf1a236",
   "metadata": {},
   "outputs": [],
   "source": [
    "#Firefox\n",
    "body_el = driver.find_element(By.CSS_SELECTOR, \".product_list\")\n",
    "#body_el = driver.find_element_by_css_selector(\"body\")\n",
    "html_str = body_el.get_attribute(\"innerHTML\")\n",
    "\n",
    "#Chrome\n",
    "body_el1 = driver1.find_element(By.CSS_SELECTOR, \".product_list\")\n",
    "#body_el1 = driver.find_element_by_css_selector(\"body\")\n",
    "html_str1 = body_el.get_attribute(\"innerHTML\")"
   ]
  },
  {
   "cell_type": "code",
   "execution_count": 9,
   "id": "bb4f3b2b",
   "metadata": {
    "scrolled": true
   },
   "outputs": [
    {
     "name": "stdout",
     "output_type": "stream",
     "text": [
      "{'https://gude.gude.sk/ponorne-kalove-cerpadla/8656-guede-cerpadlo-do-studne-gtt-900-4015671941381.html', 'https://gude.gude.sk/ponorne-kalove-cerpadla/13392-guede-aku-cerpadlo-na-cistu-vodu-ktp-18-201-23-4015671210258.html', 'https://gude.gude.sk/index.php?controller=cart&add=1&id_product=8656&token=e1e4f6d58882ce18d088f58f7cae49ea', 'https://gude.gude.sk/index.php?controller=cart&add=1&id_product=8662&token=e1e4f6d58882ce18d088f58f7cae49ea', 'https://gude.gude.sk/zahradne-cerpadla/8664-guede-zahradne-cerpadlo-jg-3100-4015671941565.html', 'https://gude.gude.sk/ponorne-kalove-cerpadla/8657-guede-ponorne-kalove-cerpadlo-pro-1100a-4015671758002.html', 'https://gude.gude.sk/motorove-cerpadla/11963-guede-motorove-cerpadlo-na-vodu-gmp-5025-4015671945075.html', 'https://gude.gude.sk/domace-vodarne-a-vodne-automaty/8674-guede-domaca-vodaren-hww-3100-k-4015671946676.html', 'https://gude.gude.sk/ponorne-kalove-cerpadla/13135-guede-aku-cerpadlo-do-suda-rfp-12-201-04-4015671968265.html', 'https://gude.gude.sk/ponorne-kalove-cerpadla/8655-guede-ponorne-tlakove-cerpadlo-gdt-901-4015671942463.html', 'https://gude.gude.sk/index.php?controller=cart&add=1&id_product=10042&token=e1e4f6d58882ce18d088f58f7cae49ea', 'https://gude.gude.sk/zahradne-cerpadla/8668-guede-zahradne-cerpadlo-mp-1205agj-4015671941886.html', 'https://gude.gude.sk/index.php?controller=cart&add=1&id_product=8664&token=e1e4f6d58882ce18d088f58f7cae49ea', 'https://gude.gude.sk/ponorne-kalove-cerpadla/10042-guede-ponorne-tlakove-cerpadlo-gdt-1200-i-4015671942425.html', 'https://gude.gude.sk/domace-vodarne-a-vodne-automaty/8677-guede-domaca-vodaren-hww-1000-p-4015671198570.html', 'https://gude.gude.sk/index.php?controller=cart&add=1&id_product=8677&token=e1e4f6d58882ce18d088f58f7cae49ea', 'https://gude.gude.sk/index.php?controller=cart&add=1&id_product=11963&token=e1e4f6d58882ce18d088f58f7cae49ea', 'https://gude.gude.sk/index.php?controller=cart&add=1&id_product=8674&token=e1e4f6d58882ce18d088f58f7cae49ea', 'https://gude.gude.sk/ponorne-kalove-cerpadla/11857-ponorne-kalove-cerpadlo-gs-1103-pi-4015671854162.html', 'https://gude.gude.sk/index.php?controller=cart&add=1&id_product=11857&token=e1e4f6d58882ce18d088f58f7cae49ea', 'https://gude.gude.sk/index.php?controller=cart&add=1&id_product=13135&token=e1e4f6d58882ce18d088f58f7cae49ea', 'https://gude.gude.sk/index.php?controller=cart&add=1&id_product=13392&token=e1e4f6d58882ce18d088f58f7cae49ea', 'https://gude.gude.sk/index.php?controller=cart&add=1&id_product=8668&token=e1e4f6d58882ce18d088f58f7cae49ea', 'https://gude.gude.sk/index.php?controller=cart&add=1&id_product=8655&token=e1e4f6d58882ce18d088f58f7cae49ea', 'https://gude.gude.sk/ponorne-kalove-cerpadla/8662-guede-ponorne-kalove-cerpadlo-gs-4002-p-4015671209313.html', 'https://gude.gude.sk/index.php?controller=cart&add=1&id_product=8657&token=e1e4f6d58882ce18d088f58f7cae49ea'}\n"
     ]
    }
   ],
   "source": [
    "html_obj = HTML(html = html_str)\n",
    "html_obj1 = HTML(html = html_str1)\n",
    "print(html_obj.links)"
   ]
  },
  {
   "cell_type": "code",
   "execution_count": 10,
   "id": "2c94e9b5",
   "metadata": {
    "scrolled": true
   },
   "outputs": [
    {
     "name": "stdout",
     "output_type": "stream",
     "text": [
      "['https://gude.gude.sk/ponorne-kalove-cerpadla/8656-guede-cerpadlo-do-studne-gtt-900-4015671941381.html', 'https://gude.gude.sk/ponorne-kalove-cerpadla/13392-guede-aku-cerpadlo-na-cistu-vodu-ktp-18-201-23-4015671210258.html', 'https://gude.gude.sk/zahradne-cerpadla/8664-guede-zahradne-cerpadlo-jg-3100-4015671941565.html', 'https://gude.gude.sk/ponorne-kalove-cerpadla/8657-guede-ponorne-kalove-cerpadlo-pro-1100a-4015671758002.html', 'https://gude.gude.sk/motorove-cerpadla/11963-guede-motorove-cerpadlo-na-vodu-gmp-5025-4015671945075.html', 'https://gude.gude.sk/domace-vodarne-a-vodne-automaty/8674-guede-domaca-vodaren-hww-3100-k-4015671946676.html', 'https://gude.gude.sk/ponorne-kalove-cerpadla/13135-guede-aku-cerpadlo-do-suda-rfp-12-201-04-4015671968265.html', 'https://gude.gude.sk/ponorne-kalove-cerpadla/8655-guede-ponorne-tlakove-cerpadlo-gdt-901-4015671942463.html', 'https://gude.gude.sk/zahradne-cerpadla/8668-guede-zahradne-cerpadlo-mp-1205agj-4015671941886.html', 'https://gude.gude.sk/ponorne-kalove-cerpadla/10042-guede-ponorne-tlakove-cerpadlo-gdt-1200-i-4015671942425.html', 'https://gude.gude.sk/domace-vodarne-a-vodne-automaty/8677-guede-domaca-vodaren-hww-1000-p-4015671198570.html', 'https://gude.gude.sk/ponorne-kalove-cerpadla/11857-ponorne-kalove-cerpadlo-gs-1103-pi-4015671854162.html', 'https://gude.gude.sk/ponorne-kalove-cerpadla/8662-guede-ponorne-kalove-cerpadlo-gs-4002-p-4015671209313.html'] .................. ['https://gude.gude.sk/ponorne-kalove-cerpadla/8656-guede-cerpadlo-do-studne-gtt-900-4015671941381.html', 'https://gude.gude.sk/ponorne-kalove-cerpadla/13392-guede-aku-cerpadlo-na-cistu-vodu-ktp-18-201-23-4015671210258.html', 'https://gude.gude.sk/zahradne-cerpadla/8664-guede-zahradne-cerpadlo-jg-3100-4015671941565.html', 'https://gude.gude.sk/ponorne-kalove-cerpadla/8657-guede-ponorne-kalove-cerpadlo-pro-1100a-4015671758002.html', 'https://gude.gude.sk/motorove-cerpadla/11963-guede-motorove-cerpadlo-na-vodu-gmp-5025-4015671945075.html', 'https://gude.gude.sk/domace-vodarne-a-vodne-automaty/8674-guede-domaca-vodaren-hww-3100-k-4015671946676.html', 'https://gude.gude.sk/ponorne-kalove-cerpadla/13135-guede-aku-cerpadlo-do-suda-rfp-12-201-04-4015671968265.html', 'https://gude.gude.sk/ponorne-kalove-cerpadla/8655-guede-ponorne-tlakove-cerpadlo-gdt-901-4015671942463.html', 'https://gude.gude.sk/zahradne-cerpadla/8668-guede-zahradne-cerpadlo-mp-1205agj-4015671941886.html', 'https://gude.gude.sk/ponorne-kalove-cerpadla/10042-guede-ponorne-tlakove-cerpadlo-gdt-1200-i-4015671942425.html', 'https://gude.gude.sk/domace-vodarne-a-vodne-automaty/8677-guede-domaca-vodaren-hww-1000-p-4015671198570.html', 'https://gude.gude.sk/ponorne-kalove-cerpadla/11857-ponorne-kalove-cerpadlo-gs-1103-pi-4015671854162.html', 'https://gude.gude.sk/ponorne-kalove-cerpadla/8662-guede-ponorne-kalove-cerpadlo-gs-4002-p-4015671209313.html']\n"
     ]
    }
   ],
   "source": [
    "new_links = [x for x in html_obj.links if x.startswith(\"https://gude.gude.sk/\")]\n",
    "new_links = [x for x in html_obj.links if x.endswith(\".html\")]\n",
    "\n",
    "\n",
    "#new_links = [x for x in html_obj.links if x.startswith(\"/\")]\n",
    "#new_links = [x for x in new_links if \"lnk_view\" in x]\n",
    "#new_links = [x for x in new_links if \"nav_cs_video_games\" not in x]\n",
    "#new_links = [x for x in new_links if \"nav_cs_automotive\" not in x]\n",
    "#new_links = [x for x in new_links if \"nav_AccountFlyout_ya\" not in x]\n",
    "\n",
    "new_links1 = [x for x in html_obj.links if x.startswith(\"https://gude.gude.sk/\")]\n",
    "new_links1 = [x for x in html_obj.links if x.endswith(\".html\")]\n",
    "#new_links1 = [x for x in html_obj1.links if x.startswith(\"/\")]\n",
    "#new_links1 = [x for x in new_links if \"lnk_view\" in x]\n",
    "#new_links1 = [x for x in new_links if \"nav_cs_video_games\" not in x]\n",
    "#new_links1 = [x for x in new_links if \"nav_cs_automotive\" not in x]\n",
    "#new_links1 = [x for x in new_links if \"nav_AccountFlyout_ya\" not in x]\n",
    "\n",
    "print(new_links, \"..................\", new_links1)"
   ]
  },
  {
   "cell_type": "code",
   "execution_count": 11,
   "id": "d88555ee",
   "metadata": {},
   "outputs": [],
   "source": [
    "#page_links = [f\"https://gude.gude.sk{x}\" for x in new_links]\n",
    "page_links = new_links\n",
    "page_links1 = new_links1\n",
    "#page_links1 = [f\"https://gude.gude.sk{x}\" for x in new_links1]"
   ]
  },
  {
   "cell_type": "code",
   "execution_count": 12,
   "id": "3291a410",
   "metadata": {
    "scrolled": true
   },
   "outputs": [
    {
     "data": {
      "text/plain": [
       "['https://gude.gude.sk/ponorne-kalove-cerpadla/8656-guede-cerpadlo-do-studne-gtt-900-4015671941381.html',\n",
       " 'https://gude.gude.sk/ponorne-kalove-cerpadla/13392-guede-aku-cerpadlo-na-cistu-vodu-ktp-18-201-23-4015671210258.html',\n",
       " 'https://gude.gude.sk/zahradne-cerpadla/8664-guede-zahradne-cerpadlo-jg-3100-4015671941565.html',\n",
       " 'https://gude.gude.sk/ponorne-kalove-cerpadla/8657-guede-ponorne-kalove-cerpadlo-pro-1100a-4015671758002.html',\n",
       " 'https://gude.gude.sk/motorove-cerpadla/11963-guede-motorove-cerpadlo-na-vodu-gmp-5025-4015671945075.html',\n",
       " 'https://gude.gude.sk/domace-vodarne-a-vodne-automaty/8674-guede-domaca-vodaren-hww-3100-k-4015671946676.html',\n",
       " 'https://gude.gude.sk/ponorne-kalove-cerpadla/13135-guede-aku-cerpadlo-do-suda-rfp-12-201-04-4015671968265.html',\n",
       " 'https://gude.gude.sk/ponorne-kalove-cerpadla/8655-guede-ponorne-tlakove-cerpadlo-gdt-901-4015671942463.html',\n",
       " 'https://gude.gude.sk/zahradne-cerpadla/8668-guede-zahradne-cerpadlo-mp-1205agj-4015671941886.html',\n",
       " 'https://gude.gude.sk/ponorne-kalove-cerpadla/10042-guede-ponorne-tlakove-cerpadlo-gdt-1200-i-4015671942425.html',\n",
       " 'https://gude.gude.sk/domace-vodarne-a-vodne-automaty/8677-guede-domaca-vodaren-hww-1000-p-4015671198570.html',\n",
       " 'https://gude.gude.sk/ponorne-kalove-cerpadla/11857-ponorne-kalove-cerpadlo-gs-1103-pi-4015671854162.html',\n",
       " 'https://gude.gude.sk/ponorne-kalove-cerpadla/8662-guede-ponorne-kalove-cerpadlo-gs-4002-p-4015671209313.html']"
      ]
     },
     "execution_count": 12,
     "metadata": {},
     "output_type": "execute_result"
    }
   ],
   "source": [
    "page_links"
   ]
  },
  {
   "cell_type": "code",
   "execution_count": 13,
   "id": "7857c7a3",
   "metadata": {},
   "outputs": [
    {
     "data": {
      "text/plain": [
       "['https://gude.gude.sk/ponorne-kalove-cerpadla/8656-guede-cerpadlo-do-studne-gtt-900-4015671941381.html',\n",
       " 'https://gude.gude.sk/ponorne-kalove-cerpadla/13392-guede-aku-cerpadlo-na-cistu-vodu-ktp-18-201-23-4015671210258.html',\n",
       " 'https://gude.gude.sk/zahradne-cerpadla/8664-guede-zahradne-cerpadlo-jg-3100-4015671941565.html',\n",
       " 'https://gude.gude.sk/ponorne-kalove-cerpadla/8657-guede-ponorne-kalove-cerpadlo-pro-1100a-4015671758002.html',\n",
       " 'https://gude.gude.sk/motorove-cerpadla/11963-guede-motorove-cerpadlo-na-vodu-gmp-5025-4015671945075.html',\n",
       " 'https://gude.gude.sk/domace-vodarne-a-vodne-automaty/8674-guede-domaca-vodaren-hww-3100-k-4015671946676.html',\n",
       " 'https://gude.gude.sk/ponorne-kalove-cerpadla/13135-guede-aku-cerpadlo-do-suda-rfp-12-201-04-4015671968265.html',\n",
       " 'https://gude.gude.sk/ponorne-kalove-cerpadla/8655-guede-ponorne-tlakove-cerpadlo-gdt-901-4015671942463.html',\n",
       " 'https://gude.gude.sk/zahradne-cerpadla/8668-guede-zahradne-cerpadlo-mp-1205agj-4015671941886.html',\n",
       " 'https://gude.gude.sk/ponorne-kalove-cerpadla/10042-guede-ponorne-tlakove-cerpadlo-gdt-1200-i-4015671942425.html',\n",
       " 'https://gude.gude.sk/domace-vodarne-a-vodne-automaty/8677-guede-domaca-vodaren-hww-1000-p-4015671198570.html',\n",
       " 'https://gude.gude.sk/ponorne-kalove-cerpadla/11857-ponorne-kalove-cerpadlo-gs-1103-pi-4015671854162.html',\n",
       " 'https://gude.gude.sk/ponorne-kalove-cerpadla/8662-guede-ponorne-kalove-cerpadlo-gs-4002-p-4015671209313.html']"
      ]
     },
     "execution_count": 13,
     "metadata": {},
     "output_type": "execute_result"
    }
   ],
   "source": [
    "page_links1"
   ]
  },
  {
   "cell_type": "code",
   "execution_count": 14,
   "id": "a2855981",
   "metadata": {},
   "outputs": [],
   "source": [
    "def scrape_product_page(url, title_lookup = \"h1\", price_lookup = \".productPrice\"):\n",
    "    driver.get(url)\n",
    "    #time.sleep(1.2)\n",
    "    body_el = driver.find_element(By.CSS_SELECTOR, \"body\")\n",
    "    #body_el = driver.find_element_by_css_selector(\"body\")\n",
    "    html_str = body_el.get_attribute(\"innerHTML\")\n",
    "    html_obj = HTML(html = html_str)\n",
    "    product_title = html_obj.find(title_lookup, first=True).text\n",
    "    product_price = html_obj.find(price_lookup, first=True).text\n",
    "    #print (product_title, product_price)\n",
    "    return product_title, product_price"
   ]
  },
  {
   "cell_type": "code",
   "execution_count": 15,
   "id": "f864e00d",
   "metadata": {},
   "outputs": [],
   "source": [
    "#title, price = scrape_product_page('https://gude.gude.sk/ponorne-kalove-cerpadla/8662-guede-ponorne-kalove-cerpadlo-gs-4002-p-4015671209313.html')\n",
    "#print (title, price)"
   ]
  },
  {
   "cell_type": "code",
   "execution_count": 16,
   "id": "66cb2ae7",
   "metadata": {},
   "outputs": [
    {
     "data": {
      "text/plain": [
       "'https://gude.gude.sk/ponorne-kalove-cerpadla/8656-guede-cerpadlo-do-studne-gtt-900-4015671941381.html'"
      ]
     },
     "execution_count": 16,
     "metadata": {},
     "output_type": "execute_result"
    }
   ],
   "source": [
    "first_product_link = page_links1[0]\n",
    "first_product_link"
   ]
  },
  {
   "cell_type": "code",
   "execution_count": 25,
   "id": "6aac5bf5",
   "metadata": {
    "scrolled": false
   },
   "outputs": [
    {
     "name": "stdout",
     "output_type": "stream",
     "text": [
      "Güde Čerpadlo do studne GTT 900 199,90 €\n",
      "1 https://gude.gude.sk/ponorne-kalove-cerpadla/8656-guede-cerpadlo-do-studne-gtt-900-4015671941381.html Güde Čerpadlo do studne GTT 900 199,90 €\n",
      "Güde Aku čerpadlo na čistú vodu KTP 18-201-23 107,90 €\n",
      "2 https://gude.gude.sk/ponorne-kalove-cerpadla/13392-guede-aku-cerpadlo-na-cistu-vodu-ktp-18-201-23-4015671210258.html Güde Aku čerpadlo na čistú vodu KTP 18-201-23 107,90 €\n",
      "Güde Záhradné čerpadlo JG 3100 68,90 €\n",
      "3 https://gude.gude.sk/zahradne-cerpadla/8664-guede-zahradne-cerpadlo-jg-3100-4015671941565.html Güde Záhradné čerpadlo JG 3100 68,90 €\n",
      "Güde Ponorné kalové čerpadlo PRO 1100A 259,90 €\n",
      "4 https://gude.gude.sk/ponorne-kalove-cerpadla/8657-guede-ponorne-kalove-cerpadlo-pro-1100a-4015671758002.html Güde Ponorné kalové čerpadlo PRO 1100A 259,90 €\n",
      "Güde Motorové čerpadlo na vodu GMP 50.25 232,90 €\n",
      "5 https://gude.gude.sk/motorove-cerpadla/11963-guede-motorove-cerpadlo-na-vodu-gmp-5025-4015671945075.html Güde Motorové čerpadlo na vodu GMP 50.25 232,90 €\n",
      "Güde Domáca vodáreň HWW 3100 K 131,90 €\n",
      "6 https://gude.gude.sk/domace-vodarne-a-vodne-automaty/8674-guede-domaca-vodaren-hww-3100-k-4015671946676.html Güde Domáca vodáreň HWW 3100 K 131,90 €\n",
      "Güde Aku čerpadlo do suda RFP 12-201-04 72,90 €\n",
      "7 https://gude.gude.sk/ponorne-kalove-cerpadla/13135-guede-aku-cerpadlo-do-suda-rfp-12-201-04-4015671968265.html Güde Aku čerpadlo do suda RFP 12-201-04 72,90 €\n",
      "Güde Ponorné tlakové čerpadlo GDT 901 99,90 €\n",
      "8 https://gude.gude.sk/ponorne-kalove-cerpadla/8655-guede-ponorne-tlakove-cerpadlo-gdt-901-4015671942463.html Güde Ponorné tlakové čerpadlo GDT 901 99,90 €\n",
      "Güde Záhradné čerpadlo MP 120/5A/GJ 209,90 €\n",
      "9 https://gude.gude.sk/zahradne-cerpadla/8668-guede-zahradne-cerpadlo-mp-1205agj-4015671941886.html Güde Záhradné čerpadlo MP 120/5A/GJ 209,90 €\n",
      "Güde Ponorné tlakové čerpadlo GDT 1200 I 179,90 €\n",
      "10 https://gude.gude.sk/ponorne-kalove-cerpadla/10042-guede-ponorne-tlakove-cerpadlo-gdt-1200-i-4015671942425.html Güde Ponorné tlakové čerpadlo GDT 1200 I 179,90 €\n",
      "Güde Domáca vodáreň HWW 1000 P 145,90 €\n",
      "11 https://gude.gude.sk/domace-vodarne-a-vodne-automaty/8677-guede-domaca-vodaren-hww-1000-p-4015671198570.html Güde Domáca vodáreň HWW 1000 P 145,90 €\n",
      "Güde Ponorné kalové čerpadlo GS 1103 PI 61,90 €\n",
      "12 https://gude.gude.sk/ponorne-kalove-cerpadla/11857-ponorne-kalove-cerpadlo-gs-1103-pi-4015671854162.html Güde Ponorné kalové čerpadlo GS 1103 PI 61,90 €\n",
      "Güde Ponorné kalové čerpadlo GS 4002 P 38,90 €\n",
      "13 https://gude.gude.sk/ponorne-kalove-cerpadla/8662-guede-ponorne-kalove-cerpadlo-gs-4002-p-4015671209313.html Güde Ponorné kalové čerpadlo GS 4002 P 38,90 €\n"
     ]
    }
   ],
   "source": [
    "#i = 0\n",
    "j = 0\n",
    "#for cat in page_links1:\n",
    "    #i += 1\n",
    "for link in page_links1:\n",
    "    #j +=1\n",
    "    #print (\"Cyklus: \", i, j, \" : \", cat)\n",
    "    title, price = (None, None)\n",
    "    try:\n",
    "        title, price = scrape_product_page(link)\n",
    "    except:\n",
    "        pass\n",
    "    if title != None and price != None:\n",
    "        j +=1\n",
    "        print (j, link, title, price)"
   ]
  },
  {
   "cell_type": "raw",
   "id": "2b29935a",
   "metadata": {},
   "source": []
  },
  {
   "cell_type": "code",
   "execution_count": 21,
   "id": "7c288826",
   "metadata": {},
   "outputs": [
    {
     "name": "stdout",
     "output_type": "stream",
     "text": [
      "0\n",
      "1\n",
      "2\n",
      "3\n",
      "4\n",
      "5\n",
      "6\n",
      "7\n",
      "8\n",
      "9\n"
     ]
    }
   ],
   "source": [
    "for i in range(0,10):\n",
    "    print (i)"
   ]
  },
  {
   "cell_type": "code",
   "execution_count": null,
   "id": "2c9025da",
   "metadata": {},
   "outputs": [],
   "source": [
    "#https://www.amazon.com/PAT-PATROUILLE-V%C3%89HICULE-Collectionner-Patrouille/dp/B08T19F29G/ref=zg_bs_toys_sccl_7/257-3831156-2876045?pd_rd_i=B0B9MKL3CS&psc=1\n",
    "#https://www.amazon.com/BIC-Kids-Visacolor-Feutres-Coloriage/dp/B001ANYZGG/ref=zg_bs_toys_sccl_19/257-3831156-2876045?pd_rd_i=B09ZFP34NY&psc=1\n",
    "\n",
    "# <base-url>/<slug>/dp/<product_id>"
   ]
  },
  {
   "cell_type": "code",
   "execution_count": null,
   "id": "b57df124",
   "metadata": {},
   "outputs": [],
   "source": []
  },
  {
   "cell_type": "code",
   "execution_count": null,
   "id": "60b4e49c",
   "metadata": {},
   "outputs": [],
   "source": []
  },
  {
   "cell_type": "code",
   "execution_count": null,
   "id": "b2c71ce4",
   "metadata": {},
   "outputs": [],
   "source": []
  }
 ],
 "metadata": {
  "kernelspec": {
   "display_name": "Python 3 (ipykernel)",
   "language": "python",
   "name": "python3"
  },
  "language_info": {
   "codemirror_mode": {
    "name": "ipython",
    "version": 3
   },
   "file_extension": ".py",
   "mimetype": "text/x-python",
   "name": "python",
   "nbconvert_exporter": "python",
   "pygments_lexer": "ipython3",
   "version": "3.10.4"
  }
 },
 "nbformat": 4,
 "nbformat_minor": 5
}
