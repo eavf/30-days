{
 "cells": [
  {
   "cell_type": "code",
   "execution_count": 7,
   "id": "373a5c08",
   "metadata": {},
   "outputs": [
    {
     "ename": "ImportError",
     "evalue": "cannot import name 'access_token' from '_kluce' (D:\\Pythonprojakty\\30-days\\Day21\\_kluce.py)",
     "output_type": "error",
     "traceback": [
      "\u001b[1;31m---------------------------------------------------------------------------\u001b[0m",
      "\u001b[1;31mImportError\u001b[0m                               Traceback (most recent call last)",
      "Input \u001b[1;32mIn [7]\u001b[0m, in \u001b[0;36m<cell line: 6>\u001b[1;34m()\u001b[0m\n\u001b[0;32m      3\u001b[0m \u001b[38;5;28;01mimport\u001b[39;00m \u001b[38;5;21;01mtime\u001b[39;00m\n\u001b[0;32m      5\u001b[0m \u001b[38;5;28;01mfrom\u001b[39;00m \u001b[38;5;21;01m_kluce\u001b[39;00m \u001b[38;5;28;01mimport\u001b[39;00m api_key \u001b[38;5;28;01mas\u001b[39;00m consumer_key, api_key_secret \u001b[38;5;28;01mas\u001b[39;00m consumer_secret\n\u001b[1;32m----> 6\u001b[0m \u001b[38;5;28;01mfrom\u001b[39;00m \u001b[38;5;21;01m_kluce\u001b[39;00m \u001b[38;5;28;01mimport\u001b[39;00m access_token, access_token_secret\n",
      "\u001b[1;31mImportError\u001b[0m: cannot import name 'access_token' from '_kluce' (D:\\Pythonprojakty\\30-days\\Day21\\_kluce.py)"
     ]
    }
   ],
   "source": [
    "import tweepy\n",
    "import webbrowser\n",
    "import time\n",
    "\n",
    "from _kluce import api_key as consumer_key, api_key_secret as consumer_secret\n",
    "from _kluce import access_token, access_token_secret\n"
   ]
  },
  {
   "cell_type": "code",
   "execution_count": 2,
   "id": "bd42ead1",
   "metadata": {},
   "outputs": [],
   "source": [
    "callback_uri = 'oob'                # https://cfe.sh/twitter/callback"
   ]
  },
  {
   "cell_type": "code",
   "execution_count": 3,
   "id": "d3257694",
   "metadata": {},
   "outputs": [
    {
     "name": "stdout",
     "output_type": "stream",
     "text": [
      "https://api.twitter.com/oauth/authorize?oauth_token=zgl5-QAAAAABgf7CAAABgurQp80\n"
     ]
    }
   ],
   "source": [
    "auth = tweepy.OAuthHandler(consumer_key, consumer_secret, callback_uri)\n",
    "redirect_url = auth.get_authorization_url()\n",
    "print (redirect_url)"
   ]
  },
  {
   "cell_type": "code",
   "execution_count": 4,
   "id": "ea9d171c",
   "metadata": {},
   "outputs": [
    {
     "data": {
      "text/plain": [
       "True"
      ]
     },
     "execution_count": 4,
     "metadata": {},
     "output_type": "execute_result"
    }
   ],
   "source": [
    "webbrowser.open(redirect_url)"
   ]
  },
  {
   "cell_type": "code",
   "execution_count": 5,
   "id": "3d2d657a",
   "metadata": {},
   "outputs": [
    {
     "ename": "TweepyException",
     "evalue": "No client verifier has been set.",
     "output_type": "error",
     "traceback": [
      "\u001b[1;31m---------------------------------------------------------------------------\u001b[0m",
      "\u001b[1;31mVerifierMissing\u001b[0m                           Traceback (most recent call last)",
      "File \u001b[1;32m~\\.virtualenvs\\Day21-ZMlZ_pge\\lib\\site-packages\\tweepy\\auth.py:95\u001b[0m, in \u001b[0;36mOAuth1UserHandler.get_access_token\u001b[1;34m(self, verifier)\u001b[0m\n\u001b[0;32m     89\u001b[0m \u001b[38;5;28mself\u001b[39m\u001b[38;5;241m.\u001b[39moauth \u001b[38;5;241m=\u001b[39m OAuth1Session(\n\u001b[0;32m     90\u001b[0m     \u001b[38;5;28mself\u001b[39m\u001b[38;5;241m.\u001b[39mconsumer_key, client_secret\u001b[38;5;241m=\u001b[39m\u001b[38;5;28mself\u001b[39m\u001b[38;5;241m.\u001b[39mconsumer_secret,\n\u001b[0;32m     91\u001b[0m     resource_owner_key\u001b[38;5;241m=\u001b[39m\u001b[38;5;28mself\u001b[39m\u001b[38;5;241m.\u001b[39mrequest_token[\u001b[38;5;124m'\u001b[39m\u001b[38;5;124moauth_token\u001b[39m\u001b[38;5;124m'\u001b[39m],\n\u001b[0;32m     92\u001b[0m     resource_owner_secret\u001b[38;5;241m=\u001b[39m\u001b[38;5;28mself\u001b[39m\u001b[38;5;241m.\u001b[39mrequest_token[\u001b[38;5;124m'\u001b[39m\u001b[38;5;124moauth_token_secret\u001b[39m\u001b[38;5;124m'\u001b[39m],\n\u001b[0;32m     93\u001b[0m     verifier\u001b[38;5;241m=\u001b[39mverifier, callback_uri\u001b[38;5;241m=\u001b[39m\u001b[38;5;28mself\u001b[39m\u001b[38;5;241m.\u001b[39mcallback\n\u001b[0;32m     94\u001b[0m )\n\u001b[1;32m---> 95\u001b[0m resp \u001b[38;5;241m=\u001b[39m \u001b[38;5;28;43mself\u001b[39;49m\u001b[38;5;241;43m.\u001b[39;49m\u001b[43moauth\u001b[49m\u001b[38;5;241;43m.\u001b[39;49m\u001b[43mfetch_access_token\u001b[49m\u001b[43m(\u001b[49m\u001b[43murl\u001b[49m\u001b[43m)\u001b[49m\n\u001b[0;32m     96\u001b[0m \u001b[38;5;28mself\u001b[39m\u001b[38;5;241m.\u001b[39maccess_token \u001b[38;5;241m=\u001b[39m resp[\u001b[38;5;124m'\u001b[39m\u001b[38;5;124moauth_token\u001b[39m\u001b[38;5;124m'\u001b[39m]\n",
      "File \u001b[1;32m~\\.virtualenvs\\Day21-ZMlZ_pge\\lib\\site-packages\\requests_oauthlib\\oauth1_session.py:322\u001b[0m, in \u001b[0;36mOAuth1Session.fetch_access_token\u001b[1;34m(self, url, verifier, **request_kwargs)\u001b[0m\n\u001b[0;32m    321\u001b[0m \u001b[38;5;28;01mif\u001b[39;00m \u001b[38;5;129;01mnot\u001b[39;00m \u001b[38;5;28mgetattr\u001b[39m(\u001b[38;5;28mself\u001b[39m\u001b[38;5;241m.\u001b[39m_client\u001b[38;5;241m.\u001b[39mclient, \u001b[38;5;124m\"\u001b[39m\u001b[38;5;124mverifier\u001b[39m\u001b[38;5;124m\"\u001b[39m, \u001b[38;5;28;01mNone\u001b[39;00m):\n\u001b[1;32m--> 322\u001b[0m     \u001b[38;5;28;01mraise\u001b[39;00m VerifierMissing(\u001b[38;5;124m\"\u001b[39m\u001b[38;5;124mNo client verifier has been set.\u001b[39m\u001b[38;5;124m\"\u001b[39m)\n\u001b[0;32m    323\u001b[0m token \u001b[38;5;241m=\u001b[39m \u001b[38;5;28mself\u001b[39m\u001b[38;5;241m.\u001b[39m_fetch_token(url, \u001b[38;5;241m*\u001b[39m\u001b[38;5;241m*\u001b[39mrequest_kwargs)\n",
      "\u001b[1;31mVerifierMissing\u001b[0m: No client verifier has been set.",
      "\nDuring handling of the above exception, another exception occurred:\n",
      "\u001b[1;31mTweepyException\u001b[0m                           Traceback (most recent call last)",
      "Input \u001b[1;32mIn [5]\u001b[0m, in \u001b[0;36m<cell line: 1>\u001b[1;34m()\u001b[0m\n\u001b[1;32m----> 1\u001b[0m \u001b[43mauth\u001b[49m\u001b[38;5;241;43m.\u001b[39;49m\u001b[43mget_access_token\u001b[49m\u001b[43m(\u001b[49m\u001b[43m)\u001b[49m\n",
      "File \u001b[1;32m~\\.virtualenvs\\Day21-ZMlZ_pge\\lib\\site-packages\\tweepy\\auth.py:100\u001b[0m, in \u001b[0;36mOAuth1UserHandler.get_access_token\u001b[1;34m(self, verifier)\u001b[0m\n\u001b[0;32m     98\u001b[0m     \u001b[38;5;28;01mreturn\u001b[39;00m \u001b[38;5;28mself\u001b[39m\u001b[38;5;241m.\u001b[39maccess_token, \u001b[38;5;28mself\u001b[39m\u001b[38;5;241m.\u001b[39maccess_token_secret\n\u001b[0;32m     99\u001b[0m \u001b[38;5;28;01mexcept\u001b[39;00m \u001b[38;5;167;01mException\u001b[39;00m \u001b[38;5;28;01mas\u001b[39;00m e:\n\u001b[1;32m--> 100\u001b[0m     \u001b[38;5;28;01mraise\u001b[39;00m TweepyException(e)\n",
      "\u001b[1;31mTweepyException\u001b[0m: No client verifier has been set."
     ]
    }
   ],
   "source": [
    "auth.get_access_token()"
   ]
  },
  {
   "cell_type": "code",
   "execution_count": null,
   "id": "4d85f49d",
   "metadata": {},
   "outputs": [],
   "source": []
  }
 ],
 "metadata": {
  "kernelspec": {
   "display_name": "Python 3 (ipykernel)",
   "language": "python",
   "name": "python3"
  },
  "language_info": {
   "codemirror_mode": {
    "name": "ipython",
    "version": 3
   },
   "file_extension": ".py",
   "mimetype": "text/x-python",
   "name": "python",
   "nbconvert_exporter": "python",
   "pygments_lexer": "ipython3",
   "version": "3.10.4"
  }
 },
 "nbformat": 4,
 "nbformat_minor": 5
}
