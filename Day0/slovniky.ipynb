{
 "cells": [
  {
   "cell_type": "markdown",
   "id": "6d198072",
   "metadata": {},
   "source": [
    "#Dictionaries"
   ]
  },
  {
   "cell_type": "code",
   "execution_count": 2,
   "id": "808edfa8",
   "metadata": {},
   "outputs": [
    {
     "name": "stdout",
     "output_type": "stream",
     "text": [
      "{}\n",
      "{1: 'red', 2: 'green', 3: 'yellow'}\n",
      "{'name': 'Vlado', 1: ['red', 'green'], 3: 'yellow'}\n",
      "<class 'dict'>\n"
     ]
    }
   ],
   "source": [
    "my_dict = {}\n",
    "\n",
    "print (my_dict)\n",
    "\n",
    "my_dict1 = {1:'red', 2:'green', 3:'yellow'}\n",
    "print (my_dict1)\n",
    "\n",
    "my_dict1 = {'name':'Vlado', 1:['red', 'green'], 3:'yellow'}\n",
    "print (my_dict1)\n",
    "print (type(my_dict))\n",
    "\n",
    "zamestnanci = {'name': 'Vladimir', 'adresa': 'Uccle', 'spol': 'GK Brusel'}"
   ]
  },
  {
   "cell_type": "code",
   "execution_count": 8,
   "id": "86e74260",
   "metadata": {},
   "outputs": [],
   "source": [
    "del zamestnanci\n",
    "zamestnanci = {'name': 'Vladimir','spol': 'XXXXX', 'adresa': 'Uccle', 'spol': 'GK Brusel'}"
   ]
  },
  {
   "cell_type": "code",
   "execution_count": 9,
   "id": "57b9bb16",
   "metadata": {},
   "outputs": [
    {
     "name": "stdout",
     "output_type": "stream",
     "text": [
      "{'name': 'Vladimir', 'spol': 'GK Brusel', 'adresa': 'Uccle'}\n"
     ]
    }
   ],
   "source": [
    "print (zamestnanci)"
   ]
  },
  {
   "cell_type": "code",
   "execution_count": 11,
   "id": "2ea0af5a",
   "metadata": {},
   "outputs": [
    {
     "name": "stdout",
     "output_type": "stream",
     "text": [
      "Vladimir\n",
      "Uccle\n"
     ]
    }
   ],
   "source": [
    "# Accessing values\n",
    "\n",
    "del zamestnanci\n",
    "zamestnanci = {'name': 'Vladimir','age': 51, 'adresa': 'Uccle', 'spol': 'GK Brusel'}\n",
    "\n",
    "print(zamestnanci['name'])\n",
    "print(zamestnanci['adresa'])\n",
    "\n"
   ]
  },
  {
   "cell_type": "code",
   "execution_count": 12,
   "id": "23c56e66",
   "metadata": {},
   "outputs": [
    {
     "ename": "KeyError",
     "evalue": "'phone'",
     "output_type": "error",
     "traceback": [
      "\u001b[1;31m---------------------------------------------------------------------------\u001b[0m",
      "\u001b[1;31mKeyError\u001b[0m                                  Traceback (most recent call last)",
      "Cell \u001b[1;32mIn[12], line 1\u001b[0m\n\u001b[1;32m----> 1\u001b[0m \u001b[38;5;28mprint\u001b[39m(\u001b[43mzamestnanci\u001b[49m\u001b[43m[\u001b[49m\u001b[38;5;124;43m'\u001b[39;49m\u001b[38;5;124;43mphone\u001b[39;49m\u001b[38;5;124;43m'\u001b[39;49m\u001b[43m]\u001b[49m)\n",
      "\u001b[1;31mKeyError\u001b[0m: 'phone'"
     ]
    }
   ],
   "source": [
    "# Access inexistent key:\n",
    "\n",
    "print(zamestnanci['phone'])"
   ]
  },
  {
   "cell_type": "code",
   "execution_count": 14,
   "id": "ecd35135",
   "metadata": {},
   "outputs": [
    {
     "name": "stdout",
     "output_type": "stream",
     "text": [
      "Vladimir\n",
      "None\n"
     ]
    }
   ],
   "source": [
    "print(zamestnanci.get('name'))\n",
    "\n",
    "print(zamestnanci.get('phone'))\n"
   ]
  },
  {
   "cell_type": "code",
   "execution_count": 15,
   "id": "e4786440",
   "metadata": {},
   "outputs": [
    {
     "name": "stdout",
     "output_type": "stream",
     "text": [
      "32426798088\n"
     ]
    }
   ],
   "source": [
    "# Adding keys\n",
    "\n",
    "zamestnanci['phone'] = +32426798088\n",
    "\n",
    "print(zamestnanci['phone'])"
   ]
  },
  {
   "cell_type": "code",
   "execution_count": 16,
   "id": "a5fd6798",
   "metadata": {},
   "outputs": [
    {
     "name": "stdout",
     "output_type": "stream",
     "text": [
      "{'name': 'Vladimir', 'age': 51, 'adresa': 'Uccle', 'spol': 'GK Brusel', 'phone': 421944589700}\n"
     ]
    }
   ],
   "source": [
    "# Updating existing value\n",
    "\n",
    "zamestnanci['phone'] = +421944589700\n",
    "\n",
    "print(zamestnanci)"
   ]
  },
  {
   "cell_type": "markdown",
   "id": "baf9a3a7",
   "metadata": {},
   "source": [
    "#Deleting "
   ]
  },
  {
   "cell_type": "code",
   "execution_count": 19,
   "id": "9c6e4bc6",
   "metadata": {},
   "outputs": [
    {
     "name": "stdout",
     "output_type": "stream",
     "text": [
      "51\n",
      "{'name': 'Vladimir', 'adresa': 'Uccle', 'spol': 'GK Brusel', 'phone': 421944589700}\n"
     ]
    }
   ],
   "source": [
    "print (zamestnanci.pop('age'))\n",
    "print (zamestnanci)"
   ]
  },
  {
   "cell_type": "code",
   "execution_count": 3,
   "id": "c0aa7bc7",
   "metadata": {},
   "outputs": [
    {
     "ename": "KeyError",
     "evalue": "'email'",
     "output_type": "error",
     "traceback": [
      "\u001b[1;31m---------------------------------------------------------------------------\u001b[0m",
      "\u001b[1;31mKeyError\u001b[0m                                  Traceback (most recent call last)",
      "Cell \u001b[1;32mIn[3], line 1\u001b[0m\n\u001b[1;32m----> 1\u001b[0m \u001b[38;5;28mprint\u001b[39m (\u001b[43mzamestnanci\u001b[49m\u001b[38;5;241;43m.\u001b[39;49m\u001b[43mpop\u001b[49m\u001b[43m(\u001b[49m\u001b[38;5;124;43m'\u001b[39;49m\u001b[38;5;124;43memail\u001b[39;49m\u001b[38;5;124;43m'\u001b[39;49m\u001b[43m)\u001b[49m)\n",
      "\u001b[1;31mKeyError\u001b[0m: 'email'"
     ]
    }
   ],
   "source": [
    "# Error\n",
    "\n",
    "print (zamestnanci.pop('email'))"
   ]
  },
  {
   "cell_type": "code",
   "execution_count": 4,
   "id": "833b46e7",
   "metadata": {},
   "outputs": [
    {
     "name": "stdout",
     "output_type": "stream",
     "text": [
      "{'name': 'Vladimir', 'age': 51, 'adresa': 'Uccle', 'spol': 'GK Brusel'}\n"
     ]
    }
   ],
   "source": [
    "# popitem()\n",
    "\n",
    "zamestnanci = {'name': 'Vladimir', 'age': 51, 'adresa': 'Uccle', 'spol': 'GK Brusel', 'phone': 421944589700}\n",
    "zamestnanci.popitem()\n",
    "\n",
    "print (zamestnanci)"
   ]
  },
  {
   "cell_type": "code",
   "execution_count": 5,
   "id": "7106b56f",
   "metadata": {},
   "outputs": [
    {
     "name": "stdout",
     "output_type": "stream",
     "text": [
      "{'name': 'Vladimir', 'age': 51, 'adresa': 'Uccle'}\n"
     ]
    }
   ],
   "source": [
    "zamestnanci.popitem()\n",
    "\n",
    "print (zamestnanci)"
   ]
  },
  {
   "cell_type": "code",
   "execution_count": 6,
   "id": "ddaf0633",
   "metadata": {},
   "outputs": [
    {
     "name": "stdout",
     "output_type": "stream",
     "text": [
      "{'name': 'Vladimir', 'age': 51}\n"
     ]
    }
   ],
   "source": [
    "zamestnanci.popitem()\n",
    "\n",
    "print (zamestnanci)"
   ]
  },
  {
   "cell_type": "code",
   "execution_count": 7,
   "id": "c8eb37df",
   "metadata": {},
   "outputs": [],
   "source": [
    "zamestnanci = {'name': 'Vladimir', 'age': 51, 'adresa': 'Uccle', 'spol': 'GK Brusel', 'phone': 421944589700}"
   ]
  },
  {
   "cell_type": "code",
   "execution_count": 8,
   "id": "2debbeb0",
   "metadata": {},
   "outputs": [
    {
     "name": "stdout",
     "output_type": "stream",
     "text": [
      "{1: 1, 2: 8, 3: 27, 5: 125}\n"
     ]
    }
   ],
   "source": [
    "# del()\n",
    "\n",
    "cube = {1:1, 2:8, 3:27, 4:64, 5:125}\n",
    "\n",
    "del cube [4]\n",
    "print(cube)"
   ]
  },
  {
   "cell_type": "code",
   "execution_count": 9,
   "id": "8577157c",
   "metadata": {},
   "outputs": [
    {
     "ename": "NameError",
     "evalue": "name 'cube' is not defined",
     "output_type": "error",
     "traceback": [
      "\u001b[1;31m---------------------------------------------------------------------------\u001b[0m",
      "\u001b[1;31mNameError\u001b[0m                                 Traceback (most recent call last)",
      "Cell \u001b[1;32mIn[9], line 3\u001b[0m\n\u001b[0;32m      1\u001b[0m \u001b[38;5;28;01mdel\u001b[39;00m cube\n\u001b[1;32m----> 3\u001b[0m \u001b[38;5;28mprint\u001b[39m(\u001b[43mcube\u001b[49m)\n",
      "\u001b[1;31mNameError\u001b[0m: name 'cube' is not defined"
     ]
    }
   ],
   "source": [
    "del cube\n",
    "\n",
    "print(cube)"
   ]
  },
  {
   "cell_type": "code",
   "execution_count": 11,
   "id": "c6daa079",
   "metadata": {},
   "outputs": [
    {
     "name": "stdout",
     "output_type": "stream",
     "text": [
      "{1: 1, 2: 8, 3: 27, 4: 64, 5: 125}\n",
      "{}\n"
     ]
    }
   ],
   "source": [
    "# clear()\n",
    "\n",
    "cube = {1:1, 2:8, 3:27, 4:64, 5:125}\n",
    "print(cube)\n",
    "cube.clear()\n",
    "print(cube)"
   ]
  },
  {
   "cell_type": "markdown",
   "id": "c8bb9ea8",
   "metadata": {},
   "source": [
    "#Looping"
   ]
  },
  {
   "cell_type": "code",
   "execution_count": 15,
   "id": "2e7f08b5",
   "metadata": {},
   "outputs": [
    {
     "name": "stdout",
     "output_type": "stream",
     "text": [
      "Cube of 1 is 1\n",
      "Cube of 2 is 8\n",
      "Cube of 3 is 27\n",
      "Cube of 4 is 64\n",
      "Cube of 5 is 125\n"
     ]
    }
   ],
   "source": [
    "cube = {1:1, 2:8, 3:27, 4:64, 5:125}\n",
    "\n",
    "for num in cube:\n",
    "    print('Cube of', num, 'is', cube[num])"
   ]
  },
  {
   "cell_type": "markdown",
   "id": "008bc7ea",
   "metadata": {},
   "source": [
    "#Dictionary Methods"
   ]
  },
  {
   "cell_type": "code",
   "execution_count": 17,
   "id": "ad20f0b4",
   "metadata": {},
   "outputs": [
    {
     "name": "stdout",
     "output_type": "stream",
     "text": [
      "Dlzka dict zamestnanci je : 5\n"
     ]
    }
   ],
   "source": [
    "#len()\n",
    "\n",
    "zamestnanci = {'name': 'Vladimir', 'age': 51, 'adresa': 'Uccle', 'spol': 'GK Brusel', 'phone': 421944589700}\n",
    "print ('Dlzka dict zamestnanci je :', len(zamestnanci))\n",
    "\n"
   ]
  },
  {
   "cell_type": "code",
   "execution_count": 19,
   "id": "e490bb0d",
   "metadata": {},
   "outputs": [
    {
     "name": "stdout",
     "output_type": "stream",
     "text": [
      "True\n",
      "False\n",
      "True\n"
     ]
    }
   ],
   "source": [
    "# membership\n",
    "\n",
    "print('name' in zamestnanci)\n",
    "\n",
    "print('email' in zamestnanci)\n",
    "\n",
    "\n",
    "print('email' not in zamestnanci)"
   ]
  },
  {
   "cell_type": "code",
   "execution_count": 21,
   "id": "689f521e",
   "metadata": {},
   "outputs": [
    {
     "name": "stdout",
     "output_type": "stream",
     "text": [
      "['adresa', 'age', 'name', 'phone', 'spol']\n",
      "['spol', 'phone', 'name', 'age', 'adresa']\n"
     ]
    }
   ],
   "source": [
    "# sorting\n",
    "\n",
    "print(sorted(zamestnanci))\n",
    "\n",
    "print(sorted(zamestnanci, reverse=True))\n"
   ]
  },
  {
   "cell_type": "code",
   "execution_count": 24,
   "id": "901d274e",
   "metadata": {},
   "outputs": [
    {
     "name": "stdout",
     "output_type": "stream",
     "text": [
      "dict_keys(['name', 'age', 'adresa', 'spol', 'phone'])\n",
      "dict_values(['Vladimir', 51, 'Uccle', 'GK Brusel', 421944589700])\n",
      "dict_items([('name', 'Vladimir'), ('age', 51), ('adresa', 'Uccle'), ('spol', 'GK Brusel'), ('phone', 421944589700)])\n"
     ]
    }
   ],
   "source": [
    "# Keys\n",
    "\n",
    "print(zamestnanci.keys())\n",
    "\n",
    "# Values\n",
    "\n",
    "print(zamestnanci.values())\n",
    "\n",
    "# Tupple view\n",
    "\n",
    "print(zamestnanci.items())"
   ]
  },
  {
   "cell_type": "code",
   "execution_count": 25,
   "id": "23879cb4",
   "metadata": {},
   "outputs": [
    {
     "name": "stdout",
     "output_type": "stream",
     "text": [
      "Original {'name': 'Vladimir', 'age': 51, 'adresa': 'Uccle', 'spol': 'GK Brusel', 'phone': 421944589700}\n",
      "Copy {'name': 'Vladimir', 'age': 51, 'adresa': 'Uccle', 'spol': 'GK Brusel', 'phone': 421944589700}\n"
     ]
    }
   ],
   "source": [
    "# Copying\n",
    "\n",
    "zamestnanci1 = zamestnanci.copy()\n",
    "print(\"Original\",zamestnanci)\n",
    "print(\"Copy\", zamestnanci1)"
   ]
  },
  {
   "cell_type": "code",
   "execution_count": 26,
   "id": "20e83c27",
   "metadata": {},
   "outputs": [
    {
     "name": "stdout",
     "output_type": "stream",
     "text": [
      "{'brand': 'Audi', 'model': 'A7', 'year': 2019, 'color': 'White'}\n"
     ]
    }
   ],
   "source": [
    "# Updating\n",
    "\n",
    "car = {\"brand\":\"Audi\", \"model\":\"A7\", \"year\":2019}\n",
    "\n",
    "car.update({'color':'White'})\n",
    "\n",
    "print(car)"
   ]
  },
  {
   "cell_type": "code",
   "execution_count": 28,
   "id": "70a7fc17",
   "metadata": {},
   "outputs": [
    {
     "name": "stdout",
     "output_type": "stream",
     "text": [
      "{'brand': 'Audi', 'model': 'A7', 'color': 'Black', 'year': 2019}\n",
      "Updated car is  {'brand': 'Audi', 'model': 'A7', 'color': 'Blue', 'year': 2019, 'cost': '6000€'}\n"
     ]
    }
   ],
   "source": [
    "car = {'brand': 'Audi', 'model': 'A7','color': 'White', 'year': 2019}\n",
    "car.update({'color':'Black'})\n",
    "\n",
    "print(car)\n",
    "\n",
    "car.update(cost = '6000€', color='Blue')\n",
    "\n",
    "print('Updated car is ',car)"
   ]
  },
  {
   "cell_type": "code",
   "execution_count": 29,
   "id": "292e2df2",
   "metadata": {},
   "outputs": [
    {
     "data": {
      "text/plain": [
       "{'e': 'vowels', 'o': 'vowels', 'a': 'vowels', 'u': 'vowels', 'i': 'vowels'}"
      ]
     },
     "execution_count": 29,
     "metadata": {},
     "output_type": "execute_result"
    }
   ],
   "source": [
    "# fromkeys()\n",
    "# It creates a new dictionary from the given sequence of elements with a value provided by the user.\n",
    "# It has 2 params:\n",
    "# - sequence - sequence of elements which is to be used as keys for the new dict.\n",
    "# - value (Optional) - value which is set to each element of the dict\n",
    "\n",
    "mykeys = {'a', 'e', 'i', 'o', 'u'}\n",
    "\n",
    "value = 'vowels'\n",
    "\n",
    "dict.fromkeys(mykeys, value)\n",
    "\n"
   ]
  },
  {
   "cell_type": "code",
   "execution_count": 30,
   "id": "ef3b8260",
   "metadata": {},
   "outputs": [
    {
     "name": "stdout",
     "output_type": "stream",
     "text": [
      "{'name': 'Vovo', 'salary': None}\n"
     ]
    }
   ],
   "source": [
    "# setdefault()\n",
    "\n",
    "employee={'name': 'Vovo'}\n",
    "\n",
    "employee.setdefault('salary')\n",
    "\n",
    "print (employee)"
   ]
  },
  {
   "cell_type": "code",
   "execution_count": 31,
   "id": "2286fa47",
   "metadata": {},
   "outputs": [
    {
     "name": "stdout",
     "output_type": "stream",
     "text": [
      "{'name': 'Vovo', 'company': 'Google'}\n"
     ]
    }
   ],
   "source": [
    "employee={'name': 'Vovo'}\n",
    "\n",
    "employee.setdefault('company', 'Google')\n",
    "\n",
    "print (employee)"
   ]
  },
  {
   "cell_type": "code",
   "execution_count": 32,
   "id": "31e7bdea",
   "metadata": {},
   "outputs": [
    {
     "name": "stdout",
     "output_type": "stream",
     "text": [
      "['__class__', '__class_getitem__', '__contains__', '__delattr__', '__delitem__', '__dir__', '__doc__', '__eq__', '__format__', '__ge__', '__getattribute__', '__getitem__', '__getstate__', '__gt__', '__hash__', '__init__', '__init_subclass__', '__ior__', '__iter__', '__le__', '__len__', '__lt__', '__ne__', '__new__', '__or__', '__reduce__', '__reduce_ex__', '__repr__', '__reversed__', '__ror__', '__setattr__', '__setitem__', '__sizeof__', '__str__', '__subclasshook__', 'clear', 'copy', 'fromkeys', 'get', 'items', 'keys', 'pop', 'popitem', 'setdefault', 'update', 'values']\n",
      "['__class__', '__class_getitem__', '__contains__', '__delattr__', '__delitem__', '__dir__', '__doc__', '__eq__', '__format__', '__ge__', '__getattribute__', '__getitem__', '__getstate__', '__gt__', '__hash__', '__init__', '__init_subclass__', '__ior__', '__iter__', '__le__', '__len__', '__lt__', '__ne__', '__new__', '__or__', '__reduce__', '__reduce_ex__', '__repr__', '__reversed__', '__ror__', '__setattr__', '__setitem__', '__sizeof__', '__str__', '__subclasshook__', 'clear', 'copy', 'fromkeys', 'get', 'items', 'keys', 'pop', 'popitem', 'setdefault', 'update', 'values']\n"
     ]
    }
   ],
   "source": [
    "# dir()\n",
    "\n",
    "mydict = {}\n",
    "\n",
    "print(dir(mydict))\n",
    "\n",
    "print(dir(employee))\n",
    "\n"
   ]
  },
  {
   "cell_type": "code",
   "execution_count": 33,
   "id": "03c44a1b",
   "metadata": {},
   "outputs": [
    {
     "data": {
      "text/plain": [
       "{0: 0,\n",
       " 1: 1,\n",
       " 2: 8,\n",
       " 3: 27,\n",
       " 4: 64,\n",
       " 5: 125,\n",
       " 6: 216,\n",
       " 7: 343,\n",
       " 8: 512,\n",
       " 9: 729,\n",
       " 10: 1000,\n",
       " 11: 1331,\n",
       " 12: 1728,\n",
       " 13: 2197,\n",
       " 14: 2744,\n",
       " 15: 3375,\n",
       " 16: 4096,\n",
       " 17: 4913,\n",
       " 18: 5832,\n",
       " 19: 6859}"
      ]
     },
     "execution_count": 33,
     "metadata": {},
     "output_type": "execute_result"
    }
   ],
   "source": [
    "# Dictionary comprehension\n",
    "\n",
    "# It is an elegant way to create new dict from an iterable in python\n",
    "# It consist of an expression pair (key:value) followed by for statement inside curly braces {}\n",
    "\n",
    "{x:x**3 for x in range(20)}"
   ]
  },
  {
   "cell_type": "code",
   "execution_count": 34,
   "id": "d14260de",
   "metadata": {},
   "outputs": [
    {
     "data": {
      "text/plain": [
       "{'apple': 5, 'mango': 5, 'banana': 6}"
      ]
     },
     "execution_count": 34,
     "metadata": {},
     "output_type": "execute_result"
    }
   ],
   "source": [
    "# list of fruits\n",
    "fruits = ['apple', 'mango', 'banana']\n",
    "\n",
    "# dict comprehension to create dict with fruit name as keys\n",
    "\n",
    "{key: len(key) for key in fruits}"
   ]
  },
  {
   "cell_type": "code",
   "execution_count": null,
   "id": "6af21156",
   "metadata": {},
   "outputs": [],
   "source": []
  }
 ],
 "metadata": {
  "kernelspec": {
   "display_name": "Python 3 (ipykernel)",
   "language": "python",
   "name": "python3"
  },
  "language_info": {
   "codemirror_mode": {
    "name": "ipython",
    "version": 3
   },
   "file_extension": ".py",
   "mimetype": "text/x-python",
   "name": "python",
   "nbconvert_exporter": "python",
   "pygments_lexer": "ipython3",
   "version": "3.11.2"
  }
 },
 "nbformat": 4,
 "nbformat_minor": 5
}
