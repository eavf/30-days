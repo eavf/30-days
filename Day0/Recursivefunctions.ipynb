{
 "cells": [
  {
   "cell_type": "markdown",
   "id": "e7b0d503",
   "metadata": {},
   "source": [
    "# Recursive functions"
   ]
  },
  {
   "cell_type": "code",
   "execution_count": 1,
   "id": "d288d53b",
   "metadata": {},
   "outputs": [
    {
     "name": "stdout",
     "output_type": "stream",
     "text": [
      "Hello user one\n"
     ]
    }
   ],
   "source": [
    "# Funkcia jeden\n",
    "\n",
    "def wuo():\n",
    "    print (\"Hello user one\")\n",
    "\n",
    "wuo()\n",
    "\n"
   ]
  },
  {
   "cell_type": "code",
   "execution_count": 2,
   "id": "6b9f709e",
   "metadata": {},
   "outputs": [
    {
     "name": "stdout",
     "output_type": "stream",
     "text": [
      "Hello user two\n",
      "Hello user one\n"
     ]
    }
   ],
   "source": [
    "def wut():\n",
    "    print (\"Hello user two\")\n",
    "    wuo()\n",
    "\n",
    "wut()\n"
   ]
  },
  {
   "cell_type": "code",
   "execution_count": 5,
   "id": "3278a70e",
   "metadata": {},
   "outputs": [
    {
     "data": {
      "text/plain": [
       "120"
      ]
     },
     "execution_count": 5,
     "metadata": {},
     "output_type": "execute_result"
    }
   ],
   "source": [
    "# Faktoriál čísla\n",
    "\n",
    "def factorial (num):\n",
    "    return 1 if num == 1 else(num * factorial(num-1))\n",
    "\n",
    "\n",
    "factorial (5)\n",
    "\n"
   ]
  },
  {
   "cell_type": "code",
   "execution_count": null,
   "id": "ab4f3fb0",
   "metadata": {},
   "outputs": [],
   "source": []
  }
 ],
 "metadata": {
  "kernelspec": {
   "display_name": "Python 3 (ipykernel)",
   "language": "python",
   "name": "python3"
  },
  "language_info": {
   "codemirror_mode": {
    "name": "ipython",
    "version": 3
   },
   "file_extension": ".py",
   "mimetype": "text/x-python",
   "name": "python",
   "nbconvert_exporter": "python",
   "pygments_lexer": "ipython3",
   "version": "3.11.2"
  }
 },
 "nbformat": 4,
 "nbformat_minor": 5
}
