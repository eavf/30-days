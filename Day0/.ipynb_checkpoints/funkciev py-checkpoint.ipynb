{
 "cells": [
  {
   "cell_type": "markdown",
   "id": "80bfd360",
   "metadata": {},
   "source": [
    "5 W and 1 H Approach\n",
    "\n",
    "\n",
    "1. Why ?\n",
    "2. Who ?\n",
    "3. Where ?\n",
    "4. When ?\n",
    "5. What ?\n",
    "6. How ?\n",
    "\n",
    "What is Python funkcia\n",
    "\n",
    "1. blok organizovaného a znovupoužiteľného kódu\n",
    "2. funkcia rozdeľuje program do menších modulárnych dielov\n",
    "\n",
    "Syntax: \n",
    "def function_name (parameters)\n",
    "    \"\"\"docstring\"\"\"\n",
    "    statement(s) or coding logic\n",
    "    return [expression] - optionala\n"
   ]
  },
  {
   "cell_type": "code",
   "execution_count": 9,
   "id": "35b1b17d",
   "metadata": {},
   "outputs": [],
   "source": [
    "def welcomeUser(name):\n",
    "    \"\"\"\n",
    "    Tato funkcia víta užívateľa\n",
    "    a tento textový reťazec je docstring, viď 4 polia nižšie\n",
    "    \"\"\"\n",
    "    \n",
    "    print (\"Dear \"+str(name)+\", Welcome to python tuto\")\n",
    "    \n",
    "    "
   ]
  },
  {
   "cell_type": "code",
   "execution_count": 10,
   "id": "c8465427",
   "metadata": {},
   "outputs": [
    {
     "name": "stdout",
     "output_type": "stream",
     "text": [
      "Dear Vlado, Welcome to python tuto\n"
     ]
    }
   ],
   "source": [
    "welcomeUser(\"Vlado\")"
   ]
  },
  {
   "cell_type": "code",
   "execution_count": 11,
   "id": "da3cc41f",
   "metadata": {},
   "outputs": [],
   "source": [
    "def ver_ev_odd(num):\n",
    "    if (num % 2 == 0):\n",
    "        print(\"{} is even number\".format(num))\n",
    "    else:\n",
    "        print(\"{} is odd number\".format(num))\n",
    "        "
   ]
  },
  {
   "cell_type": "code",
   "execution_count": 13,
   "id": "bfef3ae2",
   "metadata": {},
   "outputs": [
    {
     "name": "stdout",
     "output_type": "stream",
     "text": [
      "5 is odd number\n",
      "10 is even number\n",
      "11 is odd number\n"
     ]
    }
   ],
   "source": [
    "ver_ev_odd (5)\n",
    "ver_ev_odd (10)\n",
    "ver_ev_odd (11)"
   ]
  },
  {
   "cell_type": "code",
   "execution_count": 17,
   "id": "c82c9561",
   "metadata": {},
   "outputs": [
    {
     "name": "stdout",
     "output_type": "stream",
     "text": [
      "\n",
      "    Tato funkcia víta užívateľa\n",
      "    a tento textový reťazec je docstring, viď 4 polia nižšie\n",
      "    \n",
      "None\n"
     ]
    }
   ],
   "source": [
    "# Docstring\n",
    "\n",
    "print(welcomeUser.__doc__)                  # s docstingom\n",
    "print(ver_ev_odd.__doc__)                  # bez docstingu"
   ]
  },
  {
   "cell_type": "markdown",
   "id": "5d7c90b3",
   "metadata": {},
   "source": [
    "# Funkcie s return value\n"
   ]
  },
  {
   "cell_type": "code",
   "execution_count": 19,
   "id": "43dd673f",
   "metadata": {},
   "outputs": [
    {
     "data": {
      "text/plain": [
       "35"
      ]
     },
     "execution_count": 19,
     "metadata": {},
     "output_type": "execute_result"
    }
   ],
   "source": [
    "def add(x,y):\n",
    "    return x+y\n",
    "\n",
    "# volanie funkcie\n",
    "add(10,25)"
   ]
  },
  {
   "cell_type": "markdown",
   "id": "e92a9e94",
   "metadata": {},
   "source": [
    "# Scope of variables"
   ]
  },
  {
   "cell_type": "code",
   "execution_count": 21,
   "id": "ad54fd6c",
   "metadata": {},
   "outputs": [
    {
     "name": "stdout",
     "output_type": "stream",
     "text": [
      "Toto je globalna premenna\n",
      "Toto je globalna premenna\n"
     ]
    }
   ],
   "source": [
    "# Globalna premenna\n",
    "\n",
    "globalVar = \"Toto je globalna premenna\"\n",
    "\n",
    "def test_life_time():\n",
    "    print(globalVar)\n",
    "\n",
    "test_life_time()\n",
    "\n",
    "print(globalVar)"
   ]
  },
  {
   "cell_type": "code",
   "execution_count": 27,
   "id": "a3e8447e",
   "metadata": {},
   "outputs": [
    {
     "name": "stdout",
     "output_type": "stream",
     "text": [
      "Som v teste localVar Toto je lokalna premenna\n",
      "Som v teste globalVar Toto je lokalna premenna\n",
      "Toto je globalna premenna\n"
     ]
    }
   ],
   "source": [
    "# Globalna aj lokálna premenna\n",
    "\n",
    "globalVar = \"Toto je globalna premenna\"\n",
    "\n",
    "def test_life_time():\n",
    "    localVar = \"Toto je lokalna premenna\"\n",
    "    globalVar = localVar\n",
    "    print(\"Som v teste localVar\",localVar)\n",
    "    print(\"Som v teste globalVar\",globalVar)\n",
    "\n",
    "test_life_time()\n",
    "\n",
    "print(globalVar)\n",
    "# print(locallVar)"
   ]
  },
  {
   "cell_type": "code",
   "execution_count": 28,
   "id": "07207f72",
   "metadata": {},
   "outputs": [
    {
     "name": "stdout",
     "output_type": "stream",
     "text": [
      "Dear Vlado, Have a nice day\n"
     ]
    }
   ],
   "source": [
    "# Funkčné argumenty python funkcií\n",
    "\n",
    "def welcomeUser(name, message):\n",
    "    \"\"\"\n",
    "    Tato funkcia víta užívateľa\n",
    "    a tento textový reťazec je docstring, viď 4 polia nižšie\n",
    "    \"\"\"\n",
    "    \n",
    "    print (\"Dear {0}, {1}\".format(name, message))\n",
    "\n",
    "welcomeUser(\"Vlado\", \"Have a nice day\")"
   ]
  },
  {
   "cell_type": "code",
   "execution_count": 29,
   "id": "e7432588",
   "metadata": {},
   "outputs": [
    {
     "ename": "TypeError",
     "evalue": "welcomeUser() missing 1 required positional argument: 'message'",
     "output_type": "error",
     "traceback": [
      "\u001b[1;31m---------------------------------------------------------------------------\u001b[0m",
      "\u001b[1;31mTypeError\u001b[0m                                 Traceback (most recent call last)",
      "Cell \u001b[1;32mIn[29], line 1\u001b[0m\n\u001b[1;32m----> 1\u001b[0m \u001b[43mwelcomeUser\u001b[49m\u001b[43m(\u001b[49m\u001b[38;5;124;43m\"\u001b[39;49m\u001b[38;5;124;43mVlado\u001b[39;49m\u001b[38;5;124;43m\"\u001b[39;49m\u001b[43m)\u001b[49m\n",
      "\u001b[1;31mTypeError\u001b[0m: welcomeUser() missing 1 required positional argument: 'message'"
     ]
    }
   ],
   "source": [
    "welcomeUser(\"Vlado\")"
   ]
  },
  {
   "cell_type": "code",
   "execution_count": 30,
   "id": "d1fb4c86",
   "metadata": {},
   "outputs": [],
   "source": [
    "# Workaround :\n",
    "# 1. Default arguments\n",
    "# 2. Keyword arguments\n",
    "# 3. Arbitrary arguments\n",
    "\n"
   ]
  },
  {
   "cell_type": "code",
   "execution_count": 31,
   "id": "673c7815",
   "metadata": {},
   "outputs": [
    {
     "name": "stdout",
     "output_type": "stream",
     "text": [
      "Dear Vlado, Have a nice day\n",
      "Dear Vlado, It was fine to see you\n"
     ]
    }
   ],
   "source": [
    "# Default arguments\n",
    "def welcomeUser(name, message=\"Have a nice day\"):\n",
    "    \"\"\"\n",
    "    Tato funkcia víta užívateľa\n",
    "    a tento textový reťazec je docstring, viď 4 polia nižšie\n",
    "    \"\"\"\n",
    "    \n",
    "    print (\"Dear {0}, {1}\".format(name, message))\n",
    "\n",
    "welcomeUser(\"Vlado\")\n",
    "welcomeUser(\"Vlado\", \"It was fine to see you\")"
   ]
  },
  {
   "cell_type": "code",
   "execution_count": 32,
   "id": "1a3f9c8f",
   "metadata": {},
   "outputs": [
    {
     "ename": "SyntaxError",
     "evalue": "non-default argument follows default argument (1466604444.py, line 1)",
     "output_type": "error",
     "traceback": [
      "\u001b[1;36m  Cell \u001b[1;32mIn[32], line 1\u001b[1;36m\u001b[0m\n\u001b[1;33m    def welcomeUser(message=\"Have a nice day\", name):\u001b[0m\n\u001b[1;37m                                               ^\u001b[0m\n\u001b[1;31mSyntaxError\u001b[0m\u001b[1;31m:\u001b[0m non-default argument follows default argument\n"
     ]
    }
   ],
   "source": [
    "def welcomeUser(message=\"Have a nice day\", name):\n",
    "    \"\"\"\n",
    "    Tato funkcia víta užívateľa\n",
    "    a tento textový reťazec je docstring, viď 4 polia nižšie\n",
    "    \"\"\"\n",
    "    \n",
    "    print (\"Dear {0}, {1}\".format(name, message))\n",
    "\n",
    "welcomeUser(\"Vlado\")\n",
    "welcomeUser(\"Vlado\", \"It was fine to see you\")"
   ]
  },
  {
   "cell_type": "code",
   "execution_count": 34,
   "id": "8f77710b",
   "metadata": {},
   "outputs": [
    {
     "name": "stdout",
     "output_type": "stream",
     "text": [
      "Name:  Vladimir\n",
      "Age:  51\n",
      "Company:  GK Brusel\n",
      "Name:  Vladimir\n",
      "Age:  51\n",
      "Company:  GK Brusel\n"
     ]
    }
   ],
   "source": [
    "# Keyword arguments\n",
    "\n",
    "def emplDet(**user):\n",
    "    \"\"\"\n",
    "    This function used to display the employee details\n",
    "    \"\"\"\n",
    "    print(\"Name: \",user['name'])\n",
    "    print(\"Age: \",user['age'])\n",
    "    print(\"Company: \",user['comp'])\n",
    "\n",
    "emplDet(name=\"Vladimir\", age=\"51\", comp=\"GK Brusel\")\n",
    "emplDet(comp=\"GK Brusel\", name=\"Vladimir\", age=\"51\")"
   ]
  },
  {
   "cell_type": "code",
   "execution_count": 37,
   "id": "e58c598b",
   "metadata": {},
   "outputs": [
    {
     "name": "stdout",
     "output_type": "stream",
     "text": [
      "Name:  Vladimir\n",
      "Age:  51\n",
      "Company:  GK Brusel\n",
      "Name:  Vladimir\n",
      "Age:  51\n",
      "Company:  GK Brusel\n"
     ]
    }
   ],
   "source": [
    "def emplDet(name, **user):\n",
    "    \"\"\"\n",
    "    This function used to display the employee details\n",
    "    \"\"\"\n",
    "    print(\"Name: \",name)\n",
    "    print(\"Age: \",user['age'])\n",
    "    print(\"Company: \",user['comp'])\n",
    "\n",
    "emplDet(\"Vladimir\", age=\"51\", comp=\"GK Brusel\")\n",
    "emplDet(\"Vladimir\", comp=\"GK Brusel\", age=\"51\")"
   ]
  },
  {
   "cell_type": "code",
   "execution_count": 39,
   "id": "83352934",
   "metadata": {},
   "outputs": [
    {
     "name": "stdout",
     "output_type": "stream",
     "text": [
      "The walue entered by user ('Vladimir', 'Ivan', 'Maťa', 'Nicole', 'Fero')\n",
      "Dear Vladimir, Welcome to python tuto\n",
      "Dear Ivan, Welcome to python tuto\n",
      "Dear Maťa, Welcome to python tuto\n",
      "Dear Nicole, Welcome to python tuto\n",
      "Dear Fero, Welcome to python tuto\n"
     ]
    }
   ],
   "source": [
    "# Arbitrary arguments\n",
    "\n",
    "def emplDet(*names):\n",
    "    \"\"\"\n",
    "    This function used to display the employee details\n",
    "    \"\"\"\n",
    "    print(\"The walue entered by user\",names)\n",
    "    \n",
    "    for name in names:\n",
    "        print (\"Dear \"+str(name)+\", Welcome to python tuto\")\n",
    "\n",
    "        \n",
    "emplDet(\"Vladimir\",\"Ivan\", \"Maťa\", \"Nicole\", \"Fero\")\n"
   ]
  },
  {
   "cell_type": "code",
   "execution_count": null,
   "id": "1d2f167a",
   "metadata": {},
   "outputs": [],
   "source": []
  }
 ],
 "metadata": {
  "kernelspec": {
   "display_name": "Python 3 (ipykernel)",
   "language": "python",
   "name": "python3"
  },
  "language_info": {
   "codemirror_mode": {
    "name": "ipython",
    "version": 3
   },
   "file_extension": ".py",
   "mimetype": "text/x-python",
   "name": "python",
   "nbconvert_exporter": "python",
   "pygments_lexer": "ipython3",
   "version": "3.11.2"
  }
 },
 "nbformat": 4,
 "nbformat_minor": 5
}
