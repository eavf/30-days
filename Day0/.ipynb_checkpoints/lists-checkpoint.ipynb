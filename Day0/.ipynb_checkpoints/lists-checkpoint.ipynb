{
 "cells": [
  {
   "cell_type": "markdown",
   "id": "c23c7a87",
   "metadata": {},
   "source": [
    "# Lists"
   ]
  },
  {
   "cell_type": "code",
   "execution_count": 47,
   "id": "6864c757",
   "metadata": {},
   "outputs": [
    {
     "name": "stdout",
     "output_type": "stream",
     "text": [
      "[]\n",
      "[10, 20, 3, 25, 55, 85, 100]\n",
      "['Python', 'Java', 'C']\n",
      "[45, 92.55, 'C']\n",
      "[[45, 92.55, 'C'], [15, 25, 63]]\n"
     ]
    }
   ],
   "source": [
    "lst1 = []\n",
    "\n",
    "print(lst1)\n",
    "\n",
    "lst2 = [10,20,3,25,55,85,100]\n",
    "\n",
    "print(lst2)\n",
    "\n",
    "lst3 = [\"Python\",\"Java\",\"C\"]\n",
    "\n",
    "print(lst3)\n",
    "\n",
    "lst4 = [45,92.55,\"C\"]\n",
    "\n",
    "print(lst4)\n",
    "\n",
    "lst5 = [[45,92.55,\"C\"],[15,25,63]]\n",
    "\n",
    "print(lst5)"
   ]
  },
  {
   "cell_type": "code",
   "execution_count": 45,
   "id": "e77f6544",
   "metadata": {},
   "outputs": [
    {
     "name": "stdout",
     "output_type": "stream",
     "text": [
      "[10, 20, 3, 25, 55, 85, 100]\n",
      "3\n",
      "85\n",
      "[20, 3]\n",
      "[10, 20, 3, 25, 55, 85, 100]\n",
      "[20, 3, 25, 55, 85, 100]\n",
      "[10, 20, 3]\n"
     ]
    }
   ],
   "source": [
    "print(lst2)\n",
    "print (lst2[2])\n",
    "print (lst2[-2])\n",
    "print (lst2[1:3])\n",
    "print (lst2[:])\n",
    "print (lst2[1:])\n",
    "print (lst2[:3])"
   ]
  },
  {
   "cell_type": "code",
   "execution_count": 18,
   "id": "0008869b",
   "metadata": {},
   "outputs": [
    {
     "name": "stdout",
     "output_type": "stream",
     "text": [
      "['Python', 'Java', 'R']\n",
      "List before update ['Python', 'Java', 'R']\n",
      "List after update ['Python', 'Java', 'R']\n"
     ]
    }
   ],
   "source": [
    "print(lst3)\n",
    "\n",
    "# Updating\n",
    "\n",
    "print(\"List before update\", lst3)\n",
    "lst3[2] = 'R'\n",
    "\n",
    "print(\"List after update\", lst3)\n",
    "lst3[2] = 'C'"
   ]
  },
  {
   "cell_type": "code",
   "execution_count": 21,
   "id": "f4b0e07f",
   "metadata": {},
   "outputs": [
    {
     "name": "stdout",
     "output_type": "stream",
     "text": [
      "['Python', 'Java']\n"
     ]
    },
    {
     "ename": "NameError",
     "evalue": "name 'lst3' is not defined",
     "output_type": "error",
     "traceback": [
      "\u001b[1;31m---------------------------------------------------------------------------\u001b[0m",
      "\u001b[1;31mNameError\u001b[0m                                 Traceback (most recent call last)",
      "Cell \u001b[1;32mIn[21], line 7\u001b[0m\n\u001b[0;32m      4\u001b[0m \u001b[38;5;28mprint\u001b[39m(lst3)\n\u001b[0;32m      6\u001b[0m \u001b[38;5;28;01mdel\u001b[39;00m lst3\n\u001b[1;32m----> 7\u001b[0m \u001b[38;5;28mprint\u001b[39m(\u001b[43mlst3\u001b[49m)\n",
      "\u001b[1;31mNameError\u001b[0m: name 'lst3' is not defined"
     ]
    }
   ],
   "source": [
    "# Delete....\n",
    "lst3 = [\"Python\",\"Java\",\"C\"]\n",
    "del lst3[2]\n",
    "print(lst3)\n",
    "\n",
    "del lst3\n",
    "print(lst3)"
   ]
  },
  {
   "cell_type": "code",
   "execution_count": 22,
   "id": "17463c32",
   "metadata": {},
   "outputs": [],
   "source": [
    "lst3 = [\"Python\",\"Java\",\"C\"]"
   ]
  },
  {
   "cell_type": "code",
   "execution_count": 23,
   "id": "b8b8c983",
   "metadata": {},
   "outputs": [
    {
     "name": "stdout",
     "output_type": "stream",
     "text": [
      "Python\n",
      "Java\n",
      "C\n"
     ]
    }
   ],
   "source": [
    "# Traversin list by loops\n",
    "\n",
    "for element in lst3:\n",
    "    print(element)"
   ]
  },
  {
   "cell_type": "code",
   "execution_count": 28,
   "id": "baa4ce74",
   "metadata": {},
   "outputs": [
    {
     "name": "stdout",
     "output_type": "stream",
     "text": [
      "[45, 92.55, 'C']\n",
      "[10, 20, 3, 25, 55, 85, 100]\n",
      "[45, 92.55, 'C', 10, 20, 3, 25, 55, 85, 100]\n",
      "Dlzka listu je  10\n"
     ]
    }
   ],
   "source": [
    "# Concatenation\n",
    "\n",
    "finl = lst4+lst2\n",
    "print (lst4)\n",
    "print (lst2)\n",
    "print (finl)\n",
    "\n",
    "\n",
    "\n",
    "# Lenght of list\n",
    "\n",
    "print (\"Dlzka listu je \",len(finl))"
   ]
  },
  {
   "cell_type": "code",
   "execution_count": 30,
   "id": "ef4df578",
   "metadata": {},
   "outputs": [
    {
     "name": "stdout",
     "output_type": "stream",
     "text": [
      "[45, 92.55, 'C', 10, 20, 3, 25, 55, 85, 100, 45, 92.55, 'C', 10, 20, 3, 25, 55, 85, 100, 45, 92.55, 'C', 10, 20, 3, 25, 55, 85, 100, 45, 92.55, 'C', 10, 20, 3, 25, 55, 85, 100, 45, 92.55, 'C', 10, 20, 3, 25, 55, 85, 100, 45, 92.55, 'C', 10, 20, 3, 25, 55, 85, 100, 45, 92.55, 'C', 10, 20, 3, 25, 55, 85, 100, 45, 92.55, 'C', 10, 20, 3, 25, 55, 85, 100]\n",
      "Pôvodný  [45, 92.55, 'C', 10, 20, 3, 25, 55, 85, 100]\n"
     ]
    }
   ],
   "source": [
    "# Repetition \n",
    "print(finl*8)\n",
    "\n",
    "print(\"Pôvodný \",finl)"
   ]
  },
  {
   "cell_type": "code",
   "execution_count": 34,
   "id": "53b7255f",
   "metadata": {},
   "outputs": [
    {
     "name": "stdout",
     "output_type": "stream",
     "text": [
      "True\n",
      "True\n"
     ]
    }
   ],
   "source": [
    "# Memnbership\n",
    "\n",
    "\n",
    "print (25 in finl)\n",
    "print (26 not in finl)"
   ]
  },
  {
   "cell_type": "code",
   "execution_count": 35,
   "id": "aaef6c32",
   "metadata": {},
   "outputs": [
    {
     "name": "stdout",
     "output_type": "stream",
     "text": [
      "Smalest is: 3\n",
      "Bigest is: 100\n",
      "Suma je : 298\n"
     ]
    }
   ],
   "source": [
    "# Min and Max and Sum\n",
    "\n",
    "print(\"Smalest is:\", min(lst2))\n",
    "print(\"Bigest is:\", max(lst2))\n",
    "\n",
    "print(\"Suma je :\", sum(lst2))"
   ]
  },
  {
   "cell_type": "code",
   "execution_count": 38,
   "id": "28961efa",
   "metadata": {},
   "outputs": [
    {
     "name": "stdout",
     "output_type": "stream",
     "text": [
      "['Python', 'Java', 'C', 'C++']\n",
      "['Python', 'Java', 'C', 'C++', 'C++']\n",
      "['Python', 'Java', 'C', 'C++', 'C++', [10, 20, 3, 25, 55, 85, 100]]\n"
     ]
    }
   ],
   "source": [
    "# Append\n",
    "\n",
    "print(lst3)\n",
    "lst3.append(\"C++\")\n",
    "print(lst3)\n",
    "\n",
    "lst3.append(lst2)\n",
    "\n",
    "print(lst3)\n"
   ]
  },
  {
   "cell_type": "code",
   "execution_count": 40,
   "id": "cb87d492",
   "metadata": {},
   "outputs": [
    {
     "name": "stdout",
     "output_type": "stream",
     "text": [
      "['Python', 'Java', 'C']\n",
      "['Python', 'Java', 'C', 10, 20, 3, 25, 55, 85, 100]\n"
     ]
    }
   ],
   "source": [
    "# Extending\n",
    "lst3 = [\"Python\",\"Java\",\"C\"]\n",
    "print(lst3)\n",
    "lst3.extend(lst2)\n",
    "print(lst3)\n",
    "\n",
    "\n",
    "\n",
    "lst3 = [\"Python\",\"Java\",\"C\"]\n",
    "\n"
   ]
  },
  {
   "cell_type": "code",
   "execution_count": 46,
   "id": "e0fd7763",
   "metadata": {},
   "outputs": [
    {
     "name": "stdout",
     "output_type": "stream",
     "text": [
      "[10, 20, 3, 25, 55, 85, 100]\n",
      "['Python', 'Java', 'C']\n",
      "[10, 20, 3, 99, 25, 55, 85, 100]\n",
      "['Python', 'C++', 'Java', 'C']\n"
     ]
    }
   ],
   "source": [
    "# Insert\n",
    "\n",
    "print(lst2)\n",
    "print(lst3)\n",
    "\n",
    "lst2.insert(3,99)\n",
    "print(lst2)\n",
    "lst3.insert(1,\"C++\")\n",
    "print(lst3)\n",
    "\n",
    "lst2 = [10,20,3,25,55,85,100]\n",
    "lst3 = [\"Python\",\"Java\",\"C\"]"
   ]
  },
  {
   "cell_type": "code",
   "execution_count": 49,
   "id": "df0c9f08",
   "metadata": {},
   "outputs": [
    {
     "name": "stdout",
     "output_type": "stream",
     "text": [
      "['Python', 'Java']\n"
     ]
    }
   ],
   "source": [
    "# Remove\n",
    "lst3 = [\"Python\",\"Java\",\"C\"]\n",
    "lst3.remove(\"C\")\n",
    "print(lst3)\n",
    "lst3 = [\"Python\",\"Java\",\"C\"]\n"
   ]
  },
  {
   "cell_type": "code",
   "execution_count": 53,
   "id": "3f18ee36",
   "metadata": {},
   "outputs": [
    {
     "name": "stdout",
     "output_type": "stream",
     "text": [
      "['Python', 'Java']\n",
      "['Python', 'Java', 'C']\n",
      "['Java', 'C']\n"
     ]
    }
   ],
   "source": [
    "# POP\n",
    "lst3 = [\"Python\",\"Java\",\"C\"]\n",
    "a = lst3.pop()\n",
    "print(lst3)\n",
    "lst3 = [\"Python\",\"Java\",\"C\"]\n",
    "print(lst3)\n",
    "a = lst3.pop(0)\n",
    "print(lst3)\n",
    "lst3 = [\"Python\",\"Java\",\"C\"]"
   ]
  },
  {
   "cell_type": "code",
   "execution_count": 55,
   "id": "0e68b604",
   "metadata": {},
   "outputs": [
    {
     "name": "stdout",
     "output_type": "stream",
     "text": [
      "[10, 20, 3, 25, 55, 85, 100]\n",
      "1\n"
     ]
    }
   ],
   "source": [
    "# Count\n",
    "print(lst2)\n",
    "print(lst2.count(20))"
   ]
  },
  {
   "cell_type": "code",
   "execution_count": 56,
   "id": "bf67fefa",
   "metadata": {},
   "outputs": [
    {
     "name": "stdout",
     "output_type": "stream",
     "text": [
      "[10, 20, 3, 25, 55, 85, 100]\n",
      "[100, 85, 55, 25, 3, 20, 10]\n"
     ]
    }
   ],
   "source": [
    "# Reverse\n",
    "print(lst2)\n",
    "lst2.reverse()\n",
    "print(lst2)"
   ]
  },
  {
   "cell_type": "code",
   "execution_count": 60,
   "id": "d773a9f6",
   "metadata": {},
   "outputs": [
    {
     "name": "stdout",
     "output_type": "stream",
     "text": [
      "[3, 10, 20, 25, 55, 85, 100]\n",
      "['C', 'Java', 'Python']\n",
      "Sorted:  [100, 85, 55, 25, 20, 10, 3]\n",
      "Sorted:  ['C', 'Java', 'Python']\n"
     ]
    }
   ],
   "source": [
    "# Sort\n",
    "print(lst2)\n",
    "print(lst3)\n",
    "lst2.sort(reverse=True)\n",
    "lst3.sort()\n",
    "print(\"Sorted: \", lst2)\n",
    "print(\"Sorted: \", lst3)"
   ]
  },
  {
   "cell_type": "code",
   "execution_count": 64,
   "id": "bf9df65b",
   "metadata": {},
   "outputs": [
    {
     "name": "stdout",
     "output_type": "stream",
     "text": [
      "['Welcome', 'home', 'fernando']\n",
      "['Vlado', 'Nina', 'Natasha', 'Alex', 'Nicole']\n",
      "['654364', '3684368', '43684368', '436836873', '687368', '7136', '876', '3749']\n"
     ]
    }
   ],
   "source": [
    "# String split\n",
    "\n",
    "str1 = \"Welcome home fernando\"\n",
    "print(str1.split())\n",
    "\n",
    "str2 = \"Vlado,Nina,Natasha,Alex,Nicole\"\n",
    "print(str2.split(','))\n",
    "\n",
    "str3 = \"654364:3684368:43684368:436836873:687368:7136:876:3749\"\n",
    "print(str3.split(':'))\n"
   ]
  },
  {
   "cell_type": "code",
   "execution_count": 67,
   "id": "ea79a218",
   "metadata": {},
   "outputs": [
    {
     "name": "stdout",
     "output_type": "stream",
     "text": [
      "[0, 1, 8, 27, 64, 125, 216, 343, 512, 729]\n",
      "[0, 1, 8, 27, 64, 125, 216, 343, 512, 729]\n",
      "Párne cisla su :  [0, 2, 4, 6, 8, 10, 12, 14, 16, 18]\n",
      "Nepárne cisla su :  [1, 3, 5, 7, 9, 11, 13, 15, 17, 19]\n"
     ]
    }
   ],
   "source": [
    "# List comprehension\n",
    "\n",
    "cube = []\n",
    "\n",
    "for i in range(10):\n",
    "    cube.append(i**3)\n",
    "print(cube)\n",
    "\n",
    "cube = [i**3 for i in range(10)]\n",
    "print(cube)\n",
    "\n",
    "lst111 = [x for x in range(20) if x%2 ==0]\n",
    "print(\"Párne cisla su : \", lst111)\n",
    "lst222 = [x for x in range(20) if x%2 !=0]\n",
    "print(\"Nepárne cisla su : \", lst222)"
   ]
  },
  {
   "cell_type": "code",
   "execution_count": null,
   "id": "3f858783",
   "metadata": {},
   "outputs": [],
   "source": []
  }
 ],
 "metadata": {
  "kernelspec": {
   "display_name": "Python 3 (ipykernel)",
   "language": "python",
   "name": "python3"
  },
  "language_info": {
   "codemirror_mode": {
    "name": "ipython",
    "version": 3
   },
   "file_extension": ".py",
   "mimetype": "text/x-python",
   "name": "python",
   "nbconvert_exporter": "python",
   "pygments_lexer": "ipython3",
   "version": "3.11.2"
  }
 },
 "nbformat": 4,
 "nbformat_minor": 5
}
