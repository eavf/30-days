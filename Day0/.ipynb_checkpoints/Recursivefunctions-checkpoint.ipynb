{
 "cells": [
  {
   "cell_type": "markdown",
   "id": "8283e27b",
   "metadata": {},
   "source": [
    "# Recursive functions"
   ]
  },
  {
   "cell_type": "code",
   "execution_count": 1,
   "id": "719b2406",
   "metadata": {},
   "outputs": [
    {
     "name": "stdout",
     "output_type": "stream",
     "text": [
      "Hello user one\n"
     ]
    }
   ],
   "source": [
    "# Funkcia jeden\n",
    "\n",
    "def wuo():\n",
    "    print (\"Hello user one\")\n",
    "\n",
    "wuo()\n",
    "\n"
   ]
  },
  {
   "cell_type": "code",
   "execution_count": 2,
   "id": "475fc2a8",
   "metadata": {},
   "outputs": [
    {
     "name": "stdout",
     "output_type": "stream",
     "text": [
      "Hello user two\n",
      "Hello user one\n"
     ]
    }
   ],
   "source": [
    "def wut():\n",
    "    print (\"Hello user two\")\n",
    "    wuo()\n",
    "\n",
    "wut()\n"
   ]
  },
  {
   "cell_type": "code",
   "execution_count": null,
   "id": "831ed611",
   "metadata": {},
   "outputs": [],
   "source": []
  }
 ],
 "metadata": {
  "kernelspec": {
   "display_name": "Python 3 (ipykernel)",
   "language": "python",
   "name": "python3"
  },
  "language_info": {
   "codemirror_mode": {
    "name": "ipython",
    "version": 3
   },
   "file_extension": ".py",
   "mimetype": "text/x-python",
   "name": "python",
   "nbconvert_exporter": "python",
   "pygments_lexer": "ipython3",
   "version": "3.11.2"
  }
 },
 "nbformat": 4,
 "nbformat_minor": 5
}
