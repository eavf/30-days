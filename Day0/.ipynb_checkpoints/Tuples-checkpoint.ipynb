{
 "cells": [
  {
   "cell_type": "markdown",
   "id": "0daef3ac",
   "metadata": {},
   "source": [
    "# Tuples"
   ]
  },
  {
   "cell_type": "code",
   "execution_count": 11,
   "id": "7f7e9106",
   "metadata": {},
   "outputs": [
    {
     "name": "stdout",
     "output_type": "stream",
     "text": [
      "()\n",
      "(1, 2, 30, 40, 50, 60, 70, 800, 900)\n",
      "('Python', 'Java', 'C')\n",
      "((2, 5), ('Python', 'Java', 'C'))\n",
      "(50, 98.4, 'Rusty', (2, 5), ('Python', 'Java', 'C'))\n"
     ]
    }
   ],
   "source": [
    "# Tuples sú immutable, ordered and unchangeables\n",
    "\n",
    "tpl1 = ()\n",
    "print (tpl1)\n",
    "\n",
    "tpl2 = (1,2,30,40,50,60,70,800,900)\n",
    "print (tpl2)\n",
    "\n",
    "tpl3 = (\"Python\",\"Java\",\"C\")\n",
    "print (tpl3)\n",
    "\n",
    "\n",
    "tpl4 = ((2,5),(\"Python\",\"Java\",\"C\"))\n",
    "print (tpl4)\n",
    "\n",
    "\n",
    "tpl5 = (50, 98.4, 'Rusty', (2,5),(\"Python\",\"Java\",\"C\"))\n",
    "print (tpl5)\n"
   ]
  },
  {
   "cell_type": "code",
   "execution_count": 3,
   "id": "300cbee2",
   "metadata": {},
   "outputs": [
    {
     "name": "stdout",
     "output_type": "stream",
     "text": [
      "<class 'str'>\n",
      "<class 'tuple'>\n"
     ]
    }
   ],
   "source": [
    "tupl6 = ('pyyytt')\n",
    "print (type(tupl6))\n",
    "\n",
    "tupl6 = ('pyyytt',)\n",
    "print (type(tupl6))"
   ]
  },
  {
   "cell_type": "code",
   "execution_count": 5,
   "id": "d76e160c",
   "metadata": {},
   "outputs": [
    {
     "name": "stdout",
     "output_type": "stream",
     "text": [
      "(1, 2, 30, 40, 50, 60, 70, 800, 900)\n",
      "40\n",
      "800\n",
      "(2, 30)\n",
      "(40, 50, 60, 70, 800, 900)\n",
      "(1, 2, 30)\n"
     ]
    }
   ],
   "source": [
    "# Indexing\n",
    "print(tpl2[:])\n",
    "print(tpl2[3])\n",
    "print(tpl2[-2])\n",
    "print(tpl2[1:3])\n",
    "print(tpl2[3:])\n",
    "print(tpl2[:3])\n",
    "\n",
    "\n"
   ]
  },
  {
   "cell_type": "code",
   "execution_count": 9,
   "id": "9930bcfb",
   "metadata": {},
   "outputs": [
    {
     "ename": "TypeError",
     "evalue": "'tuple' object doesn't support item deletion",
     "output_type": "error",
     "traceback": [
      "\u001b[1;31m---------------------------------------------------------------------------\u001b[0m",
      "\u001b[1;31mTypeError\u001b[0m                                 Traceback (most recent call last)",
      "Cell \u001b[1;32mIn[9], line 5\u001b[0m\n\u001b[0;32m      1\u001b[0m \u001b[38;5;66;03m# Updating tuple:\u001b[39;00m\n\u001b[0;32m      2\u001b[0m \n\u001b[0;32m      3\u001b[0m \u001b[38;5;66;03m#tpl1[2] = 55555\u001b[39;00m\n\u001b[1;32m----> 5\u001b[0m \u001b[38;5;28;01mdel\u001b[39;00m \u001b[43mtpl2\u001b[49m\u001b[43m[\u001b[49m\u001b[38;5;241;43m1\u001b[39;49m\u001b[43m]\u001b[49m\n",
      "\u001b[1;31mTypeError\u001b[0m: 'tuple' object doesn't support item deletion"
     ]
    }
   ],
   "source": [
    "# Updating tuple:\n",
    "\n",
    "#tpl1[2] = 55555\n",
    "\n",
    "del tpl2[1]"
   ]
  },
  {
   "cell_type": "code",
   "execution_count": 10,
   "id": "1866d33b",
   "metadata": {},
   "outputs": [],
   "source": [
    "del tpl1\n",
    "\n",
    "tpl1=()"
   ]
  },
  {
   "cell_type": "code",
   "execution_count": 13,
   "id": "d297d4bb",
   "metadata": {},
   "outputs": [
    {
     "name": "stdout",
     "output_type": "stream",
     "text": [
      "50\n",
      "98.4\n",
      "Rusty\n",
      "(2, 5)\n",
      "('Python', 'Java', 'C')\n"
     ]
    }
   ],
   "source": [
    "for element in tpl5:\n",
    "    print(element)"
   ]
  },
  {
   "cell_type": "markdown",
   "id": "784b4ad5",
   "metadata": {},
   "source": [
    "# Methods"
   ]
  },
  {
   "cell_type": "code",
   "execution_count": 14,
   "id": "cd06d6b9",
   "metadata": {},
   "outputs": [
    {
     "name": "stdout",
     "output_type": "stream",
     "text": [
      "(1, 2, 30, 40, 50, 60, 70, 800, 900, 'Python', 'Java', 'C')\n"
     ]
    }
   ],
   "source": [
    "# Concatenation\n",
    "\n",
    "finaltpl = tpl2+tpl3\n",
    "print(finaltpl)"
   ]
  },
  {
   "cell_type": "code",
   "execution_count": 15,
   "id": "579a70fd",
   "metadata": {},
   "outputs": [
    {
     "name": "stdout",
     "output_type": "stream",
     "text": [
      "12\n"
     ]
    }
   ],
   "source": [
    "# Lenght\n",
    "\n",
    "print(len(finaltpl))"
   ]
  },
  {
   "cell_type": "code",
   "execution_count": 17,
   "id": "f0e530ed",
   "metadata": {},
   "outputs": [
    {
     "name": "stdout",
     "output_type": "stream",
     "text": [
      "(1, 2, 30, 40, 50, 60, 70, 800, 900, 'Python', 'Java', 'C', 1, 2, 30, 40, 50, 60, 70, 800, 900, 'Python', 'Java', 'C', 1, 2, 30, 40, 50, 60, 70, 800, 900, 'Python', 'Java', 'C', 1, 2, 30, 40, 50, 60, 70, 800, 900, 'Python', 'Java', 'C', 1, 2, 30, 40, 50, 60, 70, 800, 900, 'Python', 'Java', 'C', 1, 2, 30, 40, 50, 60, 70, 800, 900, 'Python', 'Java', 'C', 1, 2, 30, 40, 50, 60, 70, 800, 900, 'Python', 'Java', 'C')\n",
      "(1, 2, 30, 40, 50, 60, 70, 800, 900, 'Python', 'Java', 'C')\n"
     ]
    }
   ],
   "source": [
    "# Repetition\n",
    "\n",
    "print (finaltpl*7)\n",
    "\n",
    "print (finaltpl)"
   ]
  },
  {
   "cell_type": "code",
   "execution_count": 19,
   "id": "14d843b5",
   "metadata": {},
   "outputs": [
    {
     "name": "stdout",
     "output_type": "stream",
     "text": [
      "True\n",
      "True\n"
     ]
    }
   ],
   "source": [
    "# Membership\n",
    "\n",
    "print (40 in finaltpl)\n",
    "\n",
    "print (41 not in finaltpl)"
   ]
  },
  {
   "cell_type": "code",
   "execution_count": 20,
   "id": "b2be73c2",
   "metadata": {},
   "outputs": [
    {
     "name": "stdout",
     "output_type": "stream",
     "text": [
      "1\n",
      "900\n",
      "1953\n"
     ]
    }
   ],
   "source": [
    "# Min, Max a Sum\n",
    "\n",
    "print (min(tpl2))\n",
    "print (max(tpl2))\n",
    "print (sum(tpl2))\n"
   ]
  },
  {
   "cell_type": "code",
   "execution_count": 21,
   "id": "d262725b",
   "metadata": {},
   "outputs": [
    {
     "name": "stdout",
     "output_type": "stream",
     "text": [
      "1\n"
     ]
    }
   ],
   "source": [
    "# Count - how much times element in the tuple\n",
    "\n",
    "print (tpl2.count(30))"
   ]
  },
  {
   "cell_type": "code",
   "execution_count": 23,
   "id": "8062024f",
   "metadata": {},
   "outputs": [
    {
     "name": "stdout",
     "output_type": "stream",
     "text": [
      "2\n",
      "2\n"
     ]
    }
   ],
   "source": [
    "# Index - returns position of index\n",
    "\n",
    "print (tpl2.index(30))\n",
    "\n",
    "print (tpl3.index(\"C\"))\n"
   ]
  },
  {
   "cell_type": "code",
   "execution_count": 26,
   "id": "9aa75333",
   "metadata": {},
   "outputs": [
    {
     "name": "stdout",
     "output_type": "stream",
     "text": [
      "[1, 2, 30, 40, 50, 60, 70, 800, 900]\n",
      "[900, 800, 70, 60, 50, 40, 30, 2, 1]\n",
      "(1, 2, 30, 40, 50, 60, 70, 800, 900)\n",
      "['C', 'Java', 'Python']\n"
     ]
    }
   ],
   "source": [
    "#Sorting\n",
    "\n",
    "print (sorted(tpl2))\n",
    "\n",
    "print (sorted(tpl2, reverse=True))\n",
    "\n",
    "print (tpl2)\n",
    "\n",
    "print (sorted(tpl3))"
   ]
  },
  {
   "cell_type": "code",
   "execution_count": 30,
   "id": "095f4eb5",
   "metadata": {},
   "outputs": [
    {
     "name": "stdout",
     "output_type": "stream",
     "text": [
      "(1, 2, 3, 4, 5, 6, 7, 8, 9)\n",
      "('P', 'y', 't', 'h', 'o', 'n')\n",
      "(1, 2)\n"
     ]
    }
   ],
   "source": [
    "# Creating tuple \n",
    "\n",
    "# From list\n",
    "tpl33 = tuple([1,2,3,4,5,6,7,8,9])\n",
    "\n",
    "print(tpl33)\n",
    "\n",
    "\n",
    "# From String\n",
    "tpl34 = tuple('Python')\n",
    "print(tpl34)\n",
    "\n",
    "\n",
    "# From Dictionary - only Keys are converted to the tuple\n",
    "tpl35 = tuple({1:'Python', 2: 'Java'})\n",
    "print(tpl35)\n",
    "\n"
   ]
  },
  {
   "cell_type": "code",
   "execution_count": null,
   "id": "2a50d25c",
   "metadata": {},
   "outputs": [],
   "source": []
  }
 ],
 "metadata": {
  "kernelspec": {
   "display_name": "Python 3 (ipykernel)",
   "language": "python",
   "name": "python3"
  },
  "language_info": {
   "codemirror_mode": {
    "name": "ipython",
    "version": 3
   },
   "file_extension": ".py",
   "mimetype": "text/x-python",
   "name": "python",
   "nbconvert_exporter": "python",
   "pygments_lexer": "ipython3",
   "version": "3.11.2"
  }
 },
 "nbformat": 4,
 "nbformat_minor": 5
}
