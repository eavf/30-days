{
 "cells": [
  {
   "cell_type": "code",
   "execution_count": 1,
   "id": "211243cd",
   "metadata": {},
   "outputs": [],
   "source": [
    "#!pip install pandas sqlalchemy sqlacodegen"
   ]
  },
  {
   "cell_type": "code",
   "execution_count": 2,
   "id": "96bf521e",
   "metadata": {},
   "outputs": [],
   "source": [
    "import pickle\n",
    "import pandas as pd"
   ]
  },
  {
   "cell_type": "code",
   "execution_count": 3,
   "id": "57dbd2be",
   "metadata": {},
   "outputs": [],
   "source": [
    "data = [{\"name\": \"Justin\"}]\n",
    "\n",
    "with open(\"users.pkl\", 'wb') as f:\n",
    "    pickle.dump(data, f) # pickle.dump"
   ]
  },
  {
   "cell_type": "code",
   "execution_count": 4,
   "id": "ce1d1a0d",
   "metadata": {},
   "outputs": [
    {
     "name": "stdout",
     "output_type": "stream",
     "text": [
      "[{'name': 'Justin'}] <class 'list'>\n"
     ]
    }
   ],
   "source": [
    "data_from_pkl = pickle.load(open('users.pkl', 'rb')) # pickle.loads -> pickle.load\n",
    "print(data_from_pkl, type(data_from_pkl))"
   ]
  },
  {
   "cell_type": "code",
   "execution_count": 5,
   "id": "49c4fa5d",
   "metadata": {},
   "outputs": [
    {
     "data": {
      "text/html": [
       "<div>\n",
       "<style scoped>\n",
       "    .dataframe tbody tr th:only-of-type {\n",
       "        vertical-align: middle;\n",
       "    }\n",
       "\n",
       "    .dataframe tbody tr th {\n",
       "        vertical-align: top;\n",
       "    }\n",
       "\n",
       "    .dataframe thead th {\n",
       "        text-align: right;\n",
       "    }\n",
       "</style>\n",
       "<table border=\"1\" class=\"dataframe\">\n",
       "  <thead>\n",
       "    <tr style=\"text-align: right;\">\n",
       "      <th></th>\n",
       "      <th>name</th>\n",
       "    </tr>\n",
       "  </thead>\n",
       "  <tbody>\n",
       "    <tr>\n",
       "      <th>0</th>\n",
       "      <td>Justin</td>\n",
       "    </tr>\n",
       "  </tbody>\n",
       "</table>\n",
       "</div>"
      ],
      "text/plain": [
       "     name\n",
       "0  Justin"
      ]
     },
     "execution_count": 5,
     "metadata": {},
     "output_type": "execute_result"
    }
   ],
   "source": [
    "df = pd.DataFrame(data)\n",
    "df.head()"
   ]
  },
  {
   "cell_type": "code",
   "execution_count": 6,
   "id": "3fdac827",
   "metadata": {},
   "outputs": [
    {
     "data": {
      "text/plain": [
       "name    object\n",
       "dtype: object"
      ]
     },
     "execution_count": 6,
     "metadata": {},
     "output_type": "execute_result"
    }
   ],
   "source": [
    "df.to_pickle(\"df_pkl\")\n",
    "df.dtypes"
   ]
  },
  {
   "cell_type": "code",
   "execution_count": 7,
   "id": "8de5c5e7",
   "metadata": {},
   "outputs": [
    {
     "data": {
      "text/html": [
       "<div>\n",
       "<style scoped>\n",
       "    .dataframe tbody tr th:only-of-type {\n",
       "        vertical-align: middle;\n",
       "    }\n",
       "\n",
       "    .dataframe tbody tr th {\n",
       "        vertical-align: top;\n",
       "    }\n",
       "\n",
       "    .dataframe thead th {\n",
       "        text-align: right;\n",
       "    }\n",
       "</style>\n",
       "<table border=\"1\" class=\"dataframe\">\n",
       "  <thead>\n",
       "    <tr style=\"text-align: right;\">\n",
       "      <th></th>\n",
       "      <th>name</th>\n",
       "    </tr>\n",
       "  </thead>\n",
       "  <tbody>\n",
       "    <tr>\n",
       "      <th>0</th>\n",
       "      <td>Justin</td>\n",
       "    </tr>\n",
       "  </tbody>\n",
       "</table>\n",
       "</div>"
      ],
      "text/plain": [
       "     name\n",
       "0  Justin"
      ]
     },
     "execution_count": 7,
     "metadata": {},
     "output_type": "execute_result"
    }
   ],
   "source": [
    "df2 = pd.read_pickle(\"df_pkl\")\n",
    "df2.head()"
   ]
  },
  {
   "cell_type": "code",
   "execution_count": 8,
   "id": "caf31a0f",
   "metadata": {},
   "outputs": [
    {
     "data": {
      "text/plain": [
       "name    object\n",
       "dtype: object"
      ]
     },
     "execution_count": 8,
     "metadata": {},
     "output_type": "execute_result"
    }
   ],
   "source": [
    "df2.dtypes"
   ]
  },
  {
   "cell_type": "code",
   "execution_count": 9,
   "id": "988c57b5",
   "metadata": {},
   "outputs": [],
   "source": [
    "df.to_csv(\"my_df.csv\", index=False)"
   ]
  },
  {
   "cell_type": "markdown",
   "id": "fdb8363b",
   "metadata": {},
   "source": [
    "# SQLAlchemy\n",
    "\n",
    "SQLAlchmey & Django have a similar object-relational mappings (aka ORM) are ways to connect Python to a SQL database."
   ]
  },
  {
   "cell_type": "code",
   "execution_count": 10,
   "id": "d6f2e156",
   "metadata": {},
   "outputs": [],
   "source": [
    "from dataclasses import dataclass\n",
    "\n",
    "@dataclass\n",
    "class Movie:\n",
    "    name:str = 'Unknown'\n",
    "    genre:str = 'Action'\n",
    "    year:int = None\n",
    "    \n",
    "# class Movie:\n",
    "#     name = 'Unknown'\n",
    "#     genre = 'Action'\n",
    "    \n",
    "#     def __init__(self, name='', *args, **kwargs):\n",
    "#         super().__init__(*args, **kwargs)\n",
    "#         self.name = name"
   ]
  },
  {
   "cell_type": "code",
   "execution_count": 11,
   "id": "edfb7f46",
   "metadata": {},
   "outputs": [
    {
     "data": {
      "text/plain": [
       "'Interstellar'"
      ]
     },
     "execution_count": 11,
     "metadata": {},
     "output_type": "execute_result"
    }
   ],
   "source": [
    "movie_obj = Movie(name='Interstellar', genre='Sci-Fi')\n",
    "movie_obj.name"
   ]
  },
  {
   "cell_type": "code",
   "execution_count": 12,
   "id": "add3b300",
   "metadata": {},
   "outputs": [],
   "source": [
    "data = [{\n",
    "    \"name\": \"Interstellar\",\n",
    "    \"genre\": \"Sci-Fi\"\n",
    "},\n",
    "{\n",
    "    \"name\": \"The Martian\",\n",
    "    \"genre\": \"Sci-Fi\"\n",
    "},\n",
    "{\n",
    "    \"name\": \"Arrival\",\n",
    "    \"genre\": \"Sci-Fi\"\n",
    "}\n",
    "]"
   ]
  },
  {
   "cell_type": "code",
   "execution_count": 13,
   "id": "bd10ba2a",
   "metadata": {},
   "outputs": [
    {
     "data": {
      "text/html": [
       "<div>\n",
       "<style scoped>\n",
       "    .dataframe tbody tr th:only-of-type {\n",
       "        vertical-align: middle;\n",
       "    }\n",
       "\n",
       "    .dataframe tbody tr th {\n",
       "        vertical-align: top;\n",
       "    }\n",
       "\n",
       "    .dataframe thead th {\n",
       "        text-align: right;\n",
       "    }\n",
       "</style>\n",
       "<table border=\"1\" class=\"dataframe\">\n",
       "  <thead>\n",
       "    <tr style=\"text-align: right;\">\n",
       "      <th></th>\n",
       "      <th>name</th>\n",
       "      <th>genre</th>\n",
       "    </tr>\n",
       "  </thead>\n",
       "  <tbody>\n",
       "    <tr>\n",
       "      <th>0</th>\n",
       "      <td>Interstellar</td>\n",
       "      <td>Sci-Fi</td>\n",
       "    </tr>\n",
       "    <tr>\n",
       "      <th>1</th>\n",
       "      <td>The Martian</td>\n",
       "      <td>Sci-Fi</td>\n",
       "    </tr>\n",
       "    <tr>\n",
       "      <th>2</th>\n",
       "      <td>Arrival</td>\n",
       "      <td>Sci-Fi</td>\n",
       "    </tr>\n",
       "  </tbody>\n",
       "</table>\n",
       "</div>"
      ],
      "text/plain": [
       "           name   genre\n",
       "0  Interstellar  Sci-Fi\n",
       "1   The Martian  Sci-Fi\n",
       "2       Arrival  Sci-Fi"
      ]
     },
     "execution_count": 13,
     "metadata": {},
     "output_type": "execute_result"
    }
   ],
   "source": [
    "df = pd.DataFrame(data)\n",
    "df.head()"
   ]
  },
  {
   "cell_type": "code",
   "execution_count": 14,
   "id": "7b251043",
   "metadata": {},
   "outputs": [],
   "source": [
    "import sqlalchemy\n",
    "from sqlalchemy import Column, Integer, String\n",
    "from sqlalchemy import create_engine, Column, String, Integer\n",
    "from sqlalchemy.orm import sessionmaker"
   ]
  },
  {
   "cell_type": "code",
   "execution_count": 15,
   "id": "289e4adf",
   "metadata": {},
   "outputs": [],
   "source": [
    "engine = create_engine(\"sqlite:///app.db\") # mysql, postgres"
   ]
  },
  {
   "cell_type": "code",
   "execution_count": 16,
   "id": "46ae291f",
   "metadata": {},
   "outputs": [],
   "source": [
    "Session = sessionmaker(bind=engine)\n",
    "my_sess = Session()\n",
    "\n",
    "# why not this way? :\n",
    "\n",
    "#my_sess = sessionmaker(bind=engine)\n",
    "\n",
    "# Because it throw an error......"
   ]
  },
  {
   "cell_type": "markdown",
   "id": "87025243",
   "metadata": {},
   "source": [
    "Vytvorenie tabulky pomocou triedy:"
   ]
  },
  {
   "cell_type": "code",
   "execution_count": 17,
   "id": "7d984465",
   "metadata": {},
   "outputs": [],
   "source": [
    "from sqlalchemy.ext.declarative import declarative_base\n",
    "\n",
    "Base = declarative_base()"
   ]
  },
  {
   "cell_type": "code",
   "execution_count": 18,
   "id": "097828a1",
   "metadata": {},
   "outputs": [],
   "source": [
    "class Movie(Base): # table\n",
    "    __tablename__ = \"movies\"\n",
    "    \n",
    "    id = Column(Integer, primary_key=True) # auto created for us\n",
    "    name = Column(String) # 'Unknown' # col\n",
    "    genre = Column(String) # 'Action' # col\n",
    "    description = Column(String) # 'Action' # col\n",
    "    year = Column(Integer, nullable=True) # None # col\n",
    "    \n",
    "    # String representation of this class:\n",
    "    def __repr__(self):\n",
    "        return f\"<Movie name={self.name}>\"\n",
    "        \n",
    "# saved instance = row"
   ]
  },
  {
   "cell_type": "code",
   "execution_count": 19,
   "id": "d7244911",
   "metadata": {},
   "outputs": [],
   "source": [
    "# Add table(s) to database\n",
    "Base.metadata.create_all(engine)"
   ]
  },
  {
   "cell_type": "code",
   "execution_count": 20,
   "id": "056eeac6",
   "metadata": {},
   "outputs": [
    {
     "name": "stdout",
     "output_type": "stream",
     "text": [
      "Interstellar\n"
     ]
    }
   ],
   "source": [
    "movie_obj = Movie(name='Interstellar', genre='Sci-Fi')\n",
    "print(movie_obj.name)"
   ]
  },
  {
   "cell_type": "code",
   "execution_count": 21,
   "id": "9e8e818d",
   "metadata": {},
   "outputs": [],
   "source": [
    "movie_obj.id"
   ]
  },
  {
   "cell_type": "markdown",
   "id": "6bd636eb",
   "metadata": {},
   "source": [
    "Ešte zapísať do DB"
   ]
  },
  {
   "cell_type": "code",
   "execution_count": 22,
   "id": "86256990",
   "metadata": {},
   "outputs": [],
   "source": [
    "my_sess.add(movie_obj) # prepare to save\n",
    "my_sess.commit() # save"
   ]
  },
  {
   "cell_type": "code",
   "execution_count": 23,
   "id": "18a2af89",
   "metadata": {},
   "outputs": [
    {
     "name": "stdout",
     "output_type": "stream",
     "text": [
      "1 None\n"
     ]
    }
   ],
   "source": [
    "print(movie_obj.id, movie_obj.description)"
   ]
  },
  {
   "cell_type": "code",
   "execution_count": 36,
   "id": "18b544ad",
   "metadata": {},
   "outputs": [
    {
     "name": "stdout",
     "output_type": "stream",
     "text": [
      "The Martian None\n"
     ]
    }
   ],
   "source": [
    "movie_obj2 = Movie(name='The Martian', genre='Sci-Fi')\n",
    "print(movie_obj2.name, movie_obj2.id)"
   ]
  },
  {
   "cell_type": "code",
   "execution_count": 37,
   "id": "4fb9c663",
   "metadata": {},
   "outputs": [],
   "source": [
    "my_sess.add(movie_obj2)"
   ]
  },
  {
   "cell_type": "code",
   "execution_count": 38,
   "id": "c999cc09",
   "metadata": {},
   "outputs": [
    {
     "name": "stdout",
     "output_type": "stream",
     "text": [
      "Inception None\n"
     ]
    }
   ],
   "source": [
    "movie_obj3 = Movie(name='Inception', genre='Sci-Fi')\n",
    "print(movie_obj3.name, movie_obj3.id)"
   ]
  },
  {
   "cell_type": "code",
   "execution_count": 39,
   "id": "8a403370",
   "metadata": {},
   "outputs": [],
   "source": [
    "my_sess.add(movie_obj3)"
   ]
  },
  {
   "cell_type": "code",
   "execution_count": 40,
   "id": "2b7d3915",
   "metadata": {},
   "outputs": [],
   "source": [
    "my_sess.commit()"
   ]
  },
  {
   "cell_type": "code",
   "execution_count": 41,
   "id": "e3a8fc24",
   "metadata": {},
   "outputs": [
    {
     "name": "stdout",
     "output_type": "stream",
     "text": [
      "5 6\n"
     ]
    }
   ],
   "source": [
    "print(movie_obj2.id, movie_obj3.id)"
   ]
  },
  {
   "cell_type": "markdown",
   "id": "f5fe63fa",
   "metadata": {},
   "source": [
    "# CRUD in SQLAlchemy\n",
    "Create\n",
    "Retreive\n",
    "Update\n",
    "Delete"
   ]
  },
  {
   "cell_type": "code",
   "execution_count": 42,
   "id": "a9ec4ff1",
   "metadata": {},
   "outputs": [],
   "source": [
    "Session = sessionmaker(bind=engine)\n",
    "session = Session()"
   ]
  },
  {
   "cell_type": "markdown",
   "id": "809f95a5",
   "metadata": {},
   "source": [
    "# Create"
   ]
  },
  {
   "cell_type": "code",
   "execution_count": 43,
   "id": "bb4ee3b1",
   "metadata": {},
   "outputs": [],
   "source": [
    "\n",
    "movie = Movie(name='Guaridans of the Galaxy')\n",
    "session.add(movie)\n",
    "session.commit()"
   ]
  },
  {
   "cell_type": "code",
   "execution_count": 44,
   "id": "56d6e419",
   "metadata": {},
   "outputs": [
    {
     "name": "stdout",
     "output_type": "stream",
     "text": [
      "7\n"
     ]
    }
   ],
   "source": [
    "print(movie.id)"
   ]
  },
  {
   "cell_type": "markdown",
   "id": "e849e493",
   "metadata": {},
   "source": [
    "# Retreive"
   ]
  },
  {
   "cell_type": "markdown",
   "id": "1c3c32c7",
   "metadata": {},
   "source": [
    "## Get 1 item"
   ]
  },
  {
   "cell_type": "code",
   "execution_count": 52,
   "id": "865d9f4d",
   "metadata": {},
   "outputs": [
    {
     "name": "stdout",
     "output_type": "stream",
     "text": [
      "3 Inception None\n"
     ]
    }
   ],
   "source": [
    "movie_a = session.query(Movie).get(3)\n",
    "print(movie_a.id, movie_a.name, movie_a.description)"
   ]
  },
  {
   "cell_type": "markdown",
   "id": "1d5610d7",
   "metadata": {},
   "source": [
    "## List"
   ]
  },
  {
   "cell_type": "code",
   "execution_count": 46,
   "id": "9f3a1885",
   "metadata": {},
   "outputs": [
    {
     "name": "stdout",
     "output_type": "stream",
     "text": [
      "[<Movie name=Interstellar>, <Movie name=The Martian>, <Movie name=Inception>, <Movie name=Guaridans of the Galaxy>, <Movie name=The Martian>, <Movie name=Inception>, <Movie name=Guaridans of the Galaxy>]\n"
     ]
    }
   ],
   "source": [
    "qs = session.query(Movie).all()\n",
    "print(qs)"
   ]
  },
  {
   "cell_type": "markdown",
   "id": "f75de984",
   "metadata": {},
   "source": [
    "## List & Filter by Column Value"
   ]
  },
  {
   "cell_type": "code",
   "execution_count": 48,
   "id": "c12ab27f",
   "metadata": {},
   "outputs": [
    {
     "data": {
      "text/plain": [
       "[<Movie name=Guaridans of the Galaxy>, <Movie name=Guaridans of the Galaxy>]"
      ]
     },
     "execution_count": 48,
     "metadata": {},
     "output_type": "execute_result"
    }
   ],
   "source": [
    "qs = session.query(Movie).filter_by(name='Guaridans of the Galaxy').all()\n",
    "qs"
   ]
  },
  {
   "cell_type": "markdown",
   "id": "2f4f9b59",
   "metadata": {},
   "source": [
    "## List & Filter by Column Value Containing Something"
   ]
  },
  {
   "cell_type": "code",
   "execution_count": 49,
   "id": "f9f43861",
   "metadata": {},
   "outputs": [
    {
     "data": {
      "text/plain": [
       "[<Movie name=Guaridans of the Galaxy>, <Movie name=Guaridans of the Galaxy>]"
      ]
     },
     "execution_count": 49,
     "metadata": {},
     "output_type": "execute_result"
    }
   ],
   "source": [
    "\n",
    "qs = session.query(Movie).filter(Movie.name.contains(\"Guaridans\")).all()\n",
    "qs"
   ]
  },
  {
   "cell_type": "markdown",
   "id": "b2d79734",
   "metadata": {},
   "source": [
    "## List & Filter by Column Value Containing Something"
   ]
  },
  {
   "cell_type": "code",
   "execution_count": 50,
   "id": "58b14003",
   "metadata": {},
   "outputs": [
    {
     "name": "stdout",
     "output_type": "stream",
     "text": [
      "What are you looking for?\n",
      "gua\n",
      "[<Movie name=Guaridans of the Galaxy>, <Movie name=Guaridans of the Galaxy>]\n"
     ]
    }
   ],
   "source": [
    "my_query = input(\"What are you looking for?\\n\") or \"Unknown\"\n",
    "qs = session.query(Movie).filter(Movie.name.contains(my_query)).all()\n",
    "print(qs)"
   ]
  },
  {
   "cell_type": "markdown",
   "id": "fc1480fe",
   "metadata": {},
   "source": [
    "# Update"
   ]
  },
  {
   "cell_type": "code",
   "execution_count": 57,
   "id": "570f0f73",
   "metadata": {},
   "outputs": [
    {
     "name": "stdout",
     "output_type": "stream",
     "text": [
      "3 Inception A dream within a dream\n"
     ]
    }
   ],
   "source": [
    "movie_a = session.query(Movie).get(3)\n",
    "movie_a.description = \"A dream within a dream\"\n",
    "print(movie_a.id, movie_a.name, movie_a.description)\n",
    "session.commit()"
   ]
  },
  {
   "cell_type": "code",
   "execution_count": 58,
   "id": "35e60e48",
   "metadata": {},
   "outputs": [
    {
     "name": "stdout",
     "output_type": "stream",
     "text": [
      "A dream within a dream\n"
     ]
    }
   ],
   "source": [
    "movie_a = session.query(Movie).get(3)\n",
    "print(movie_a.description)"
   ]
  },
  {
   "cell_type": "code",
   "execution_count": 59,
   "id": "52a298f6",
   "metadata": {},
   "outputs": [],
   "source": [
    "qs = session.query(Movie).filter(Movie.name.contains(\"Guaridans\")).all()\n",
    "for movie_obj in qs:\n",
    "    movie_obj.name = \"Guardians of the Galaxy\"\n",
    "session.commit()"
   ]
  },
  {
   "cell_type": "code",
   "execution_count": 60,
   "id": "e7ebb953",
   "metadata": {},
   "outputs": [
    {
     "data": {
      "text/plain": [
       "[]"
      ]
     },
     "execution_count": 60,
     "metadata": {},
     "output_type": "execute_result"
    }
   ],
   "source": [
    "qs = session.query(Movie).filter(Movie.name.contains(\"Guaridans\")).all()\n",
    "qs"
   ]
  },
  {
   "cell_type": "markdown",
   "id": "084ddbec",
   "metadata": {},
   "source": [
    "# Delete"
   ]
  },
  {
   "cell_type": "code",
   "execution_count": 61,
   "id": "6346e684",
   "metadata": {},
   "outputs": [
    {
     "name": "stdout",
     "output_type": "stream",
     "text": [
      "1 Interstellar None\n"
     ]
    }
   ],
   "source": [
    "movie_a = session.query(Movie).get(1)\n",
    "print(movie_a.id, movie_a.name, movie_a.description)"
   ]
  },
  {
   "cell_type": "code",
   "execution_count": 62,
   "id": "b9029af0",
   "metadata": {},
   "outputs": [],
   "source": [
    "session.delete(movie_a)\n",
    "\n"
   ]
  },
  {
   "cell_type": "code",
   "execution_count": 63,
   "id": "11601b87",
   "metadata": {},
   "outputs": [],
   "source": [
    "session.flush()"
   ]
  },
  {
   "cell_type": "markdown",
   "id": "63f42864",
   "metadata": {},
   "source": [
    "# SQLAlchemy & Pandas"
   ]
  },
  {
   "cell_type": "code",
   "execution_count": 65,
   "id": "6d3cc668",
   "metadata": {},
   "outputs": [
    {
     "name": "stdout",
     "output_type": "stream",
     "text": [
      "# coding: utf-8\n",
      "from sqlalchemy import Column, Integer, String\n",
      "from sqlalchemy.ext.declarative import declarative_base\n",
      "\n",
      "Base = declarative_base()\n",
      "metadata = Base.metadata\n",
      "\n",
      "\n",
      "class Movie(Base):\n",
      "    __tablename__ = 'movies'\n",
      "\n",
      "    id = Column(Integer, primary_key=True)\n",
      "    name = Column(String)\n",
      "    genre = Column(String)\n",
      "    year = Column(Integer)\n"
     ]
    }
   ],
   "source": [
    "!sqlacodegen sqlite:///app2.db"
   ]
  },
  {
   "cell_type": "code",
   "execution_count": 66,
   "id": "e6ca7bac",
   "metadata": {},
   "outputs": [],
   "source": [
    "engine = create_engine(\"sqlite:///app2.db\")\n",
    "Session = sessionmaker(bind=engine)\n",
    "session = Session()"
   ]
  },
  {
   "cell_type": "code",
   "execution_count": 71,
   "id": "61f422f5",
   "metadata": {},
   "outputs": [],
   "source": [
    "# coding: utf-8\n",
    "from sqlalchemy import Column, Integer, String\n",
    "from sqlalchemy.ext.declarative import declarative_base\n",
    "\n",
    "Base = declarative_base()\n",
    "metadata = Base.metadata\n",
    "\n",
    "\n",
    "class MovieApp2(Base):\n",
    "    __tablename__ = 'movies'\n",
    "\n",
    "    id = Column(Integer, primary_key=True)\n",
    "    name = Column(String)\n",
    "    genre = Column(String)\n",
    "    year = Column(Integer)\n",
    "    \n",
    "    # String representation of this class:\n",
    "    def __repr__(self):\n",
    "        return f\"<Movie name={self.name}>\""
   ]
  },
  {
   "cell_type": "code",
   "execution_count": 72,
   "id": "cf0c35eb",
   "metadata": {},
   "outputs": [
    {
     "name": "stdout",
     "output_type": "stream",
     "text": [
      "[<Movie name=Interstellar>, <Movie name=The Martian>, <Movie name=Inception>]\n"
     ]
    }
   ],
   "source": [
    "qs = session.query(MovieApp2).all()\n",
    "print(qs)"
   ]
  },
  {
   "cell_type": "code",
   "execution_count": 83,
   "id": "4164ee58",
   "metadata": {},
   "outputs": [
    {
     "name": "stdout",
     "output_type": "stream",
     "text": [
      "Interstellar\n",
      "The Martian\n",
      "Inception\n"
     ]
    }
   ],
   "source": [
    "for old_obj in qs:\n",
    "    #stored_data_dict = old_obj.__dict__\n",
    "    #print(stored_data_dict)\n",
    "    movie_obj = Movie(name = old_obj.name, genre = old_obj.genre, year = old_obj.year)\n",
    "    print(movie_obj.name)\n",
    "    my_sess.add(movie_obj)\n",
    "my_sess.commit()"
   ]
  },
  {
   "cell_type": "markdown",
   "id": "ddaf0018",
   "metadata": {},
   "source": [
    "# Prevod DB cez pandas"
   ]
  },
  {
   "cell_type": "code",
   "execution_count": 84,
   "id": "b57708ea",
   "metadata": {},
   "outputs": [
    {
     "data": {
      "text/html": [
       "<div>\n",
       "<style scoped>\n",
       "    .dataframe tbody tr th:only-of-type {\n",
       "        vertical-align: middle;\n",
       "    }\n",
       "\n",
       "    .dataframe tbody tr th {\n",
       "        vertical-align: top;\n",
       "    }\n",
       "\n",
       "    .dataframe thead th {\n",
       "        text-align: right;\n",
       "    }\n",
       "</style>\n",
       "<table border=\"1\" class=\"dataframe\">\n",
       "  <thead>\n",
       "    <tr style=\"text-align: right;\">\n",
       "      <th></th>\n",
       "      <th>id</th>\n",
       "      <th>name</th>\n",
       "      <th>genre</th>\n",
       "      <th>year</th>\n",
       "    </tr>\n",
       "  </thead>\n",
       "  <tbody>\n",
       "    <tr>\n",
       "      <th>0</th>\n",
       "      <td>1</td>\n",
       "      <td>Interstellar</td>\n",
       "      <td>Sci-Fi</td>\n",
       "      <td>None</td>\n",
       "    </tr>\n",
       "    <tr>\n",
       "      <th>1</th>\n",
       "      <td>2</td>\n",
       "      <td>The Martian</td>\n",
       "      <td>Sci-Fi</td>\n",
       "      <td>None</td>\n",
       "    </tr>\n",
       "    <tr>\n",
       "      <th>2</th>\n",
       "      <td>3</td>\n",
       "      <td>Inception</td>\n",
       "      <td>Sci-Fi</td>\n",
       "      <td>None</td>\n",
       "    </tr>\n",
       "  </tbody>\n",
       "</table>\n",
       "</div>"
      ],
      "text/plain": [
       "   id          name   genre  year\n",
       "0   1  Interstellar  Sci-Fi  None\n",
       "1   2   The Martian  Sci-Fi  None\n",
       "2   3     Inception  Sci-Fi  None"
      ]
     },
     "execution_count": 84,
     "metadata": {},
     "output_type": "execute_result"
    }
   ],
   "source": [
    "old_engine = create_engine(\"sqlite:///app2.db\")\n",
    "old_df = pd.read_sql_table(\"movies\", old_engine)\n",
    "old_df.head()"
   ]
  },
  {
   "cell_type": "code",
   "execution_count": 86,
   "id": "22692a52",
   "metadata": {},
   "outputs": [
    {
     "data": {
      "text/html": [
       "<div>\n",
       "<style scoped>\n",
       "    .dataframe tbody tr th:only-of-type {\n",
       "        vertical-align: middle;\n",
       "    }\n",
       "\n",
       "    .dataframe tbody tr th {\n",
       "        vertical-align: top;\n",
       "    }\n",
       "\n",
       "    .dataframe thead th {\n",
       "        text-align: right;\n",
       "    }\n",
       "</style>\n",
       "<table border=\"1\" class=\"dataframe\">\n",
       "  <thead>\n",
       "    <tr style=\"text-align: right;\">\n",
       "      <th></th>\n",
       "      <th>id</th>\n",
       "      <th>name</th>\n",
       "      <th>genre</th>\n",
       "      <th>description</th>\n",
       "      <th>year</th>\n",
       "    </tr>\n",
       "  </thead>\n",
       "  <tbody>\n",
       "    <tr>\n",
       "      <th>0</th>\n",
       "      <td>1</td>\n",
       "      <td>Interstellar</td>\n",
       "      <td>Sci-Fi</td>\n",
       "      <td>None</td>\n",
       "      <td>None</td>\n",
       "    </tr>\n",
       "    <tr>\n",
       "      <th>1</th>\n",
       "      <td>2</td>\n",
       "      <td>The Martian</td>\n",
       "      <td>Sci-Fi</td>\n",
       "      <td>None</td>\n",
       "      <td>None</td>\n",
       "    </tr>\n",
       "    <tr>\n",
       "      <th>2</th>\n",
       "      <td>3</td>\n",
       "      <td>Inception</td>\n",
       "      <td>Sci-Fi</td>\n",
       "      <td>A dream within a dream</td>\n",
       "      <td>None</td>\n",
       "    </tr>\n",
       "    <tr>\n",
       "      <th>3</th>\n",
       "      <td>4</td>\n",
       "      <td>Guardians of the Galaxy</td>\n",
       "      <td>None</td>\n",
       "      <td>None</td>\n",
       "      <td>None</td>\n",
       "    </tr>\n",
       "    <tr>\n",
       "      <th>4</th>\n",
       "      <td>5</td>\n",
       "      <td>The Martian</td>\n",
       "      <td>Sci-Fi</td>\n",
       "      <td>An another planet</td>\n",
       "      <td>None</td>\n",
       "    </tr>\n",
       "    <tr>\n",
       "      <th>5</th>\n",
       "      <td>6</td>\n",
       "      <td>Inception</td>\n",
       "      <td>Sci-Fi</td>\n",
       "      <td>None</td>\n",
       "      <td>None</td>\n",
       "    </tr>\n",
       "    <tr>\n",
       "      <th>6</th>\n",
       "      <td>7</td>\n",
       "      <td>Guardians of the Galaxy</td>\n",
       "      <td>None</td>\n",
       "      <td>None</td>\n",
       "      <td>None</td>\n",
       "    </tr>\n",
       "    <tr>\n",
       "      <th>7</th>\n",
       "      <td>8</td>\n",
       "      <td>Interstellar</td>\n",
       "      <td>Sci-Fi</td>\n",
       "      <td>None</td>\n",
       "      <td>None</td>\n",
       "    </tr>\n",
       "    <tr>\n",
       "      <th>8</th>\n",
       "      <td>9</td>\n",
       "      <td>The Martian</td>\n",
       "      <td>Sci-Fi</td>\n",
       "      <td>None</td>\n",
       "      <td>None</td>\n",
       "    </tr>\n",
       "    <tr>\n",
       "      <th>9</th>\n",
       "      <td>10</td>\n",
       "      <td>Inception</td>\n",
       "      <td>Sci-Fi</td>\n",
       "      <td>None</td>\n",
       "      <td>None</td>\n",
       "    </tr>\n",
       "    <tr>\n",
       "      <th>10</th>\n",
       "      <td>11</td>\n",
       "      <td>Interstellar</td>\n",
       "      <td>Sci-Fi</td>\n",
       "      <td>None</td>\n",
       "      <td>None</td>\n",
       "    </tr>\n",
       "    <tr>\n",
       "      <th>11</th>\n",
       "      <td>12</td>\n",
       "      <td>The Martian</td>\n",
       "      <td>Sci-Fi</td>\n",
       "      <td>None</td>\n",
       "      <td>None</td>\n",
       "    </tr>\n",
       "    <tr>\n",
       "      <th>12</th>\n",
       "      <td>13</td>\n",
       "      <td>Inception</td>\n",
       "      <td>Sci-Fi</td>\n",
       "      <td>None</td>\n",
       "      <td>None</td>\n",
       "    </tr>\n",
       "    <tr>\n",
       "      <th>13</th>\n",
       "      <td>14</td>\n",
       "      <td>Interstellar</td>\n",
       "      <td>Sci-Fi</td>\n",
       "      <td>None</td>\n",
       "      <td>None</td>\n",
       "    </tr>\n",
       "    <tr>\n",
       "      <th>14</th>\n",
       "      <td>15</td>\n",
       "      <td>The Martian</td>\n",
       "      <td>Sci-Fi</td>\n",
       "      <td>None</td>\n",
       "      <td>None</td>\n",
       "    </tr>\n",
       "    <tr>\n",
       "      <th>15</th>\n",
       "      <td>16</td>\n",
       "      <td>Inception</td>\n",
       "      <td>Sci-Fi</td>\n",
       "      <td>None</td>\n",
       "      <td>None</td>\n",
       "    </tr>\n",
       "    <tr>\n",
       "      <th>16</th>\n",
       "      <td>17</td>\n",
       "      <td>Interstellar</td>\n",
       "      <td>Sci-Fi</td>\n",
       "      <td>None</td>\n",
       "      <td>None</td>\n",
       "    </tr>\n",
       "    <tr>\n",
       "      <th>17</th>\n",
       "      <td>18</td>\n",
       "      <td>The Martian</td>\n",
       "      <td>Sci-Fi</td>\n",
       "      <td>None</td>\n",
       "      <td>None</td>\n",
       "    </tr>\n",
       "    <tr>\n",
       "      <th>18</th>\n",
       "      <td>19</td>\n",
       "      <td>Inception</td>\n",
       "      <td>Sci-Fi</td>\n",
       "      <td>None</td>\n",
       "      <td>None</td>\n",
       "    </tr>\n",
       "    <tr>\n",
       "      <th>19</th>\n",
       "      <td>20</td>\n",
       "      <td>Interstellar</td>\n",
       "      <td>Sci-Fi</td>\n",
       "      <td>None</td>\n",
       "      <td>None</td>\n",
       "    </tr>\n",
       "    <tr>\n",
       "      <th>20</th>\n",
       "      <td>21</td>\n",
       "      <td>The Martian</td>\n",
       "      <td>Sci-Fi</td>\n",
       "      <td>None</td>\n",
       "      <td>None</td>\n",
       "    </tr>\n",
       "    <tr>\n",
       "      <th>21</th>\n",
       "      <td>22</td>\n",
       "      <td>Inception</td>\n",
       "      <td>Sci-Fi</td>\n",
       "      <td>None</td>\n",
       "      <td>None</td>\n",
       "    </tr>\n",
       "    <tr>\n",
       "      <th>22</th>\n",
       "      <td>23</td>\n",
       "      <td>Interstellar</td>\n",
       "      <td>Sci-Fi</td>\n",
       "      <td>None</td>\n",
       "      <td>None</td>\n",
       "    </tr>\n",
       "    <tr>\n",
       "      <th>23</th>\n",
       "      <td>24</td>\n",
       "      <td>The Martian</td>\n",
       "      <td>Sci-Fi</td>\n",
       "      <td>None</td>\n",
       "      <td>None</td>\n",
       "    </tr>\n",
       "    <tr>\n",
       "      <th>24</th>\n",
       "      <td>25</td>\n",
       "      <td>Inception</td>\n",
       "      <td>Sci-Fi</td>\n",
       "      <td>None</td>\n",
       "      <td>None</td>\n",
       "    </tr>\n",
       "  </tbody>\n",
       "</table>\n",
       "</div>"
      ],
      "text/plain": [
       "    id                     name   genre             description  year\n",
       "0    1             Interstellar  Sci-Fi                    None  None\n",
       "1    2              The Martian  Sci-Fi                    None  None\n",
       "2    3                Inception  Sci-Fi  A dream within a dream  None\n",
       "3    4  Guardians of the Galaxy    None                    None  None\n",
       "4    5              The Martian  Sci-Fi       An another planet  None\n",
       "5    6                Inception  Sci-Fi                    None  None\n",
       "6    7  Guardians of the Galaxy    None                    None  None\n",
       "7    8             Interstellar  Sci-Fi                    None  None\n",
       "8    9              The Martian  Sci-Fi                    None  None\n",
       "9   10                Inception  Sci-Fi                    None  None\n",
       "10  11             Interstellar  Sci-Fi                    None  None\n",
       "11  12              The Martian  Sci-Fi                    None  None\n",
       "12  13                Inception  Sci-Fi                    None  None\n",
       "13  14             Interstellar  Sci-Fi                    None  None\n",
       "14  15              The Martian  Sci-Fi                    None  None\n",
       "15  16                Inception  Sci-Fi                    None  None\n",
       "16  17             Interstellar  Sci-Fi                    None  None\n",
       "17  18              The Martian  Sci-Fi                    None  None\n",
       "18  19                Inception  Sci-Fi                    None  None\n",
       "19  20             Interstellar  Sci-Fi                    None  None\n",
       "20  21              The Martian  Sci-Fi                    None  None\n",
       "21  22                Inception  Sci-Fi                    None  None\n",
       "22  23             Interstellar  Sci-Fi                    None  None\n",
       "23  24              The Martian  Sci-Fi                    None  None\n",
       "24  25                Inception  Sci-Fi                    None  None"
      ]
     },
     "execution_count": 86,
     "metadata": {},
     "output_type": "execute_result"
    }
   ],
   "source": [
    "current_engine = create_engine(\"sqlite:///app.db\")\n",
    "current_df = pd.read_sql_table(\"movies\", current_engine)\n",
    "current_df.head(100)"
   ]
  },
  {
   "cell_type": "code",
   "execution_count": 87,
   "id": "b1abc778",
   "metadata": {},
   "outputs": [
    {
     "data": {
      "text/html": [
       "<div>\n",
       "<style scoped>\n",
       "    .dataframe tbody tr th:only-of-type {\n",
       "        vertical-align: middle;\n",
       "    }\n",
       "\n",
       "    .dataframe tbody tr th {\n",
       "        vertical-align: top;\n",
       "    }\n",
       "\n",
       "    .dataframe thead th {\n",
       "        text-align: right;\n",
       "    }\n",
       "</style>\n",
       "<table border=\"1\" class=\"dataframe\">\n",
       "  <thead>\n",
       "    <tr style=\"text-align: right;\">\n",
       "      <th></th>\n",
       "      <th>id</th>\n",
       "      <th>name</th>\n",
       "      <th>genre</th>\n",
       "      <th>description</th>\n",
       "      <th>year</th>\n",
       "    </tr>\n",
       "  </thead>\n",
       "  <tbody>\n",
       "    <tr>\n",
       "      <th>0</th>\n",
       "      <td>1</td>\n",
       "      <td>Interstellar</td>\n",
       "      <td>Sci-Fi</td>\n",
       "      <td>None</td>\n",
       "      <td>None</td>\n",
       "    </tr>\n",
       "    <tr>\n",
       "      <th>1</th>\n",
       "      <td>2</td>\n",
       "      <td>The Martian</td>\n",
       "      <td>Sci-Fi</td>\n",
       "      <td>None</td>\n",
       "      <td>None</td>\n",
       "    </tr>\n",
       "    <tr>\n",
       "      <th>2</th>\n",
       "      <td>3</td>\n",
       "      <td>Inception</td>\n",
       "      <td>Sci-Fi</td>\n",
       "      <td>A dream within a dream</td>\n",
       "      <td>None</td>\n",
       "    </tr>\n",
       "    <tr>\n",
       "      <th>3</th>\n",
       "      <td>4</td>\n",
       "      <td>Guardians of the Galaxy</td>\n",
       "      <td>None</td>\n",
       "      <td>None</td>\n",
       "      <td>None</td>\n",
       "    </tr>\n",
       "    <tr>\n",
       "      <th>4</th>\n",
       "      <td>5</td>\n",
       "      <td>The Martian</td>\n",
       "      <td>Sci-Fi</td>\n",
       "      <td>An another planet</td>\n",
       "      <td>None</td>\n",
       "    </tr>\n",
       "    <tr>\n",
       "      <th>5</th>\n",
       "      <td>6</td>\n",
       "      <td>Inception</td>\n",
       "      <td>Sci-Fi</td>\n",
       "      <td>None</td>\n",
       "      <td>None</td>\n",
       "    </tr>\n",
       "    <tr>\n",
       "      <th>6</th>\n",
       "      <td>7</td>\n",
       "      <td>Guardians of the Galaxy</td>\n",
       "      <td>None</td>\n",
       "      <td>None</td>\n",
       "      <td>None</td>\n",
       "    </tr>\n",
       "    <tr>\n",
       "      <th>7</th>\n",
       "      <td>8</td>\n",
       "      <td>Interstellar</td>\n",
       "      <td>Sci-Fi</td>\n",
       "      <td>None</td>\n",
       "      <td>None</td>\n",
       "    </tr>\n",
       "    <tr>\n",
       "      <th>8</th>\n",
       "      <td>9</td>\n",
       "      <td>The Martian</td>\n",
       "      <td>Sci-Fi</td>\n",
       "      <td>None</td>\n",
       "      <td>None</td>\n",
       "    </tr>\n",
       "    <tr>\n",
       "      <th>9</th>\n",
       "      <td>10</td>\n",
       "      <td>Inception</td>\n",
       "      <td>Sci-Fi</td>\n",
       "      <td>None</td>\n",
       "      <td>None</td>\n",
       "    </tr>\n",
       "    <tr>\n",
       "      <th>10</th>\n",
       "      <td>11</td>\n",
       "      <td>Interstellar</td>\n",
       "      <td>Sci-Fi</td>\n",
       "      <td>None</td>\n",
       "      <td>None</td>\n",
       "    </tr>\n",
       "    <tr>\n",
       "      <th>11</th>\n",
       "      <td>12</td>\n",
       "      <td>The Martian</td>\n",
       "      <td>Sci-Fi</td>\n",
       "      <td>None</td>\n",
       "      <td>None</td>\n",
       "    </tr>\n",
       "    <tr>\n",
       "      <th>12</th>\n",
       "      <td>13</td>\n",
       "      <td>Inception</td>\n",
       "      <td>Sci-Fi</td>\n",
       "      <td>None</td>\n",
       "      <td>None</td>\n",
       "    </tr>\n",
       "    <tr>\n",
       "      <th>13</th>\n",
       "      <td>14</td>\n",
       "      <td>Interstellar</td>\n",
       "      <td>Sci-Fi</td>\n",
       "      <td>None</td>\n",
       "      <td>None</td>\n",
       "    </tr>\n",
       "    <tr>\n",
       "      <th>14</th>\n",
       "      <td>15</td>\n",
       "      <td>The Martian</td>\n",
       "      <td>Sci-Fi</td>\n",
       "      <td>None</td>\n",
       "      <td>None</td>\n",
       "    </tr>\n",
       "    <tr>\n",
       "      <th>15</th>\n",
       "      <td>16</td>\n",
       "      <td>Inception</td>\n",
       "      <td>Sci-Fi</td>\n",
       "      <td>None</td>\n",
       "      <td>None</td>\n",
       "    </tr>\n",
       "    <tr>\n",
       "      <th>16</th>\n",
       "      <td>17</td>\n",
       "      <td>Interstellar</td>\n",
       "      <td>Sci-Fi</td>\n",
       "      <td>None</td>\n",
       "      <td>None</td>\n",
       "    </tr>\n",
       "    <tr>\n",
       "      <th>17</th>\n",
       "      <td>18</td>\n",
       "      <td>The Martian</td>\n",
       "      <td>Sci-Fi</td>\n",
       "      <td>None</td>\n",
       "      <td>None</td>\n",
       "    </tr>\n",
       "    <tr>\n",
       "      <th>18</th>\n",
       "      <td>19</td>\n",
       "      <td>Inception</td>\n",
       "      <td>Sci-Fi</td>\n",
       "      <td>None</td>\n",
       "      <td>None</td>\n",
       "    </tr>\n",
       "    <tr>\n",
       "      <th>19</th>\n",
       "      <td>20</td>\n",
       "      <td>Interstellar</td>\n",
       "      <td>Sci-Fi</td>\n",
       "      <td>None</td>\n",
       "      <td>None</td>\n",
       "    </tr>\n",
       "    <tr>\n",
       "      <th>20</th>\n",
       "      <td>21</td>\n",
       "      <td>The Martian</td>\n",
       "      <td>Sci-Fi</td>\n",
       "      <td>None</td>\n",
       "      <td>None</td>\n",
       "    </tr>\n",
       "    <tr>\n",
       "      <th>21</th>\n",
       "      <td>22</td>\n",
       "      <td>Inception</td>\n",
       "      <td>Sci-Fi</td>\n",
       "      <td>None</td>\n",
       "      <td>None</td>\n",
       "    </tr>\n",
       "    <tr>\n",
       "      <th>22</th>\n",
       "      <td>23</td>\n",
       "      <td>Interstellar</td>\n",
       "      <td>Sci-Fi</td>\n",
       "      <td>None</td>\n",
       "      <td>None</td>\n",
       "    </tr>\n",
       "    <tr>\n",
       "      <th>23</th>\n",
       "      <td>24</td>\n",
       "      <td>The Martian</td>\n",
       "      <td>Sci-Fi</td>\n",
       "      <td>None</td>\n",
       "      <td>None</td>\n",
       "    </tr>\n",
       "    <tr>\n",
       "      <th>24</th>\n",
       "      <td>25</td>\n",
       "      <td>Inception</td>\n",
       "      <td>Sci-Fi</td>\n",
       "      <td>None</td>\n",
       "      <td>None</td>\n",
       "    </tr>\n",
       "    <tr>\n",
       "      <th>0</th>\n",
       "      <td>1</td>\n",
       "      <td>Interstellar</td>\n",
       "      <td>Sci-Fi</td>\n",
       "      <td>NaN</td>\n",
       "      <td>None</td>\n",
       "    </tr>\n",
       "    <tr>\n",
       "      <th>1</th>\n",
       "      <td>2</td>\n",
       "      <td>The Martian</td>\n",
       "      <td>Sci-Fi</td>\n",
       "      <td>NaN</td>\n",
       "      <td>None</td>\n",
       "    </tr>\n",
       "    <tr>\n",
       "      <th>2</th>\n",
       "      <td>3</td>\n",
       "      <td>Inception</td>\n",
       "      <td>Sci-Fi</td>\n",
       "      <td>NaN</td>\n",
       "      <td>None</td>\n",
       "    </tr>\n",
       "  </tbody>\n",
       "</table>\n",
       "</div>"
      ],
      "text/plain": [
       "    id                     name   genre             description  year\n",
       "0    1             Interstellar  Sci-Fi                    None  None\n",
       "1    2              The Martian  Sci-Fi                    None  None\n",
       "2    3                Inception  Sci-Fi  A dream within a dream  None\n",
       "3    4  Guardians of the Galaxy    None                    None  None\n",
       "4    5              The Martian  Sci-Fi       An another planet  None\n",
       "5    6                Inception  Sci-Fi                    None  None\n",
       "6    7  Guardians of the Galaxy    None                    None  None\n",
       "7    8             Interstellar  Sci-Fi                    None  None\n",
       "8    9              The Martian  Sci-Fi                    None  None\n",
       "9   10                Inception  Sci-Fi                    None  None\n",
       "10  11             Interstellar  Sci-Fi                    None  None\n",
       "11  12              The Martian  Sci-Fi                    None  None\n",
       "12  13                Inception  Sci-Fi                    None  None\n",
       "13  14             Interstellar  Sci-Fi                    None  None\n",
       "14  15              The Martian  Sci-Fi                    None  None\n",
       "15  16                Inception  Sci-Fi                    None  None\n",
       "16  17             Interstellar  Sci-Fi                    None  None\n",
       "17  18              The Martian  Sci-Fi                    None  None\n",
       "18  19                Inception  Sci-Fi                    None  None\n",
       "19  20             Interstellar  Sci-Fi                    None  None\n",
       "20  21              The Martian  Sci-Fi                    None  None\n",
       "21  22                Inception  Sci-Fi                    None  None\n",
       "22  23             Interstellar  Sci-Fi                    None  None\n",
       "23  24              The Martian  Sci-Fi                    None  None\n",
       "24  25                Inception  Sci-Fi                    None  None\n",
       "0    1             Interstellar  Sci-Fi                     NaN  None\n",
       "1    2              The Martian  Sci-Fi                     NaN  None\n",
       "2    3                Inception  Sci-Fi                     NaN  None"
      ]
     },
     "execution_count": 87,
     "metadata": {},
     "output_type": "execute_result"
    }
   ],
   "source": [
    "final_df = pd.concat([current_df, old_df])\n",
    "final_df.head(100)"
   ]
  },
  {
   "cell_type": "code",
   "execution_count": 89,
   "id": "050e26a8",
   "metadata": {},
   "outputs": [
    {
     "data": {
      "text/html": [
       "<div>\n",
       "<style scoped>\n",
       "    .dataframe tbody tr th:only-of-type {\n",
       "        vertical-align: middle;\n",
       "    }\n",
       "\n",
       "    .dataframe tbody tr th {\n",
       "        vertical-align: top;\n",
       "    }\n",
       "\n",
       "    .dataframe thead th {\n",
       "        text-align: right;\n",
       "    }\n",
       "</style>\n",
       "<table border=\"1\" class=\"dataframe\">\n",
       "  <thead>\n",
       "    <tr style=\"text-align: right;\">\n",
       "      <th></th>\n",
       "      <th>name</th>\n",
       "      <th>genre</th>\n",
       "      <th>description</th>\n",
       "      <th>year</th>\n",
       "    </tr>\n",
       "  </thead>\n",
       "  <tbody>\n",
       "    <tr>\n",
       "      <th>0</th>\n",
       "      <td>Interstellar</td>\n",
       "      <td>Sci-Fi</td>\n",
       "      <td>None</td>\n",
       "      <td>None</td>\n",
       "    </tr>\n",
       "    <tr>\n",
       "      <th>1</th>\n",
       "      <td>The Martian</td>\n",
       "      <td>Sci-Fi</td>\n",
       "      <td>None</td>\n",
       "      <td>None</td>\n",
       "    </tr>\n",
       "    <tr>\n",
       "      <th>2</th>\n",
       "      <td>Inception</td>\n",
       "      <td>Sci-Fi</td>\n",
       "      <td>A dream within a dream</td>\n",
       "      <td>None</td>\n",
       "    </tr>\n",
       "    <tr>\n",
       "      <th>3</th>\n",
       "      <td>Guardians of the Galaxy</td>\n",
       "      <td>None</td>\n",
       "      <td>None</td>\n",
       "      <td>None</td>\n",
       "    </tr>\n",
       "    <tr>\n",
       "      <th>4</th>\n",
       "      <td>The Martian</td>\n",
       "      <td>Sci-Fi</td>\n",
       "      <td>An another planet</td>\n",
       "      <td>None</td>\n",
       "    </tr>\n",
       "    <tr>\n",
       "      <th>5</th>\n",
       "      <td>Inception</td>\n",
       "      <td>Sci-Fi</td>\n",
       "      <td>None</td>\n",
       "      <td>None</td>\n",
       "    </tr>\n",
       "    <tr>\n",
       "      <th>6</th>\n",
       "      <td>Guardians of the Galaxy</td>\n",
       "      <td>None</td>\n",
       "      <td>None</td>\n",
       "      <td>None</td>\n",
       "    </tr>\n",
       "    <tr>\n",
       "      <th>7</th>\n",
       "      <td>Interstellar</td>\n",
       "      <td>Sci-Fi</td>\n",
       "      <td>None</td>\n",
       "      <td>None</td>\n",
       "    </tr>\n",
       "    <tr>\n",
       "      <th>8</th>\n",
       "      <td>The Martian</td>\n",
       "      <td>Sci-Fi</td>\n",
       "      <td>None</td>\n",
       "      <td>None</td>\n",
       "    </tr>\n",
       "    <tr>\n",
       "      <th>9</th>\n",
       "      <td>Inception</td>\n",
       "      <td>Sci-Fi</td>\n",
       "      <td>None</td>\n",
       "      <td>None</td>\n",
       "    </tr>\n",
       "    <tr>\n",
       "      <th>10</th>\n",
       "      <td>Interstellar</td>\n",
       "      <td>Sci-Fi</td>\n",
       "      <td>None</td>\n",
       "      <td>None</td>\n",
       "    </tr>\n",
       "    <tr>\n",
       "      <th>11</th>\n",
       "      <td>The Martian</td>\n",
       "      <td>Sci-Fi</td>\n",
       "      <td>None</td>\n",
       "      <td>None</td>\n",
       "    </tr>\n",
       "    <tr>\n",
       "      <th>12</th>\n",
       "      <td>Inception</td>\n",
       "      <td>Sci-Fi</td>\n",
       "      <td>None</td>\n",
       "      <td>None</td>\n",
       "    </tr>\n",
       "    <tr>\n",
       "      <th>13</th>\n",
       "      <td>Interstellar</td>\n",
       "      <td>Sci-Fi</td>\n",
       "      <td>None</td>\n",
       "      <td>None</td>\n",
       "    </tr>\n",
       "    <tr>\n",
       "      <th>14</th>\n",
       "      <td>The Martian</td>\n",
       "      <td>Sci-Fi</td>\n",
       "      <td>None</td>\n",
       "      <td>None</td>\n",
       "    </tr>\n",
       "    <tr>\n",
       "      <th>15</th>\n",
       "      <td>Inception</td>\n",
       "      <td>Sci-Fi</td>\n",
       "      <td>None</td>\n",
       "      <td>None</td>\n",
       "    </tr>\n",
       "    <tr>\n",
       "      <th>16</th>\n",
       "      <td>Interstellar</td>\n",
       "      <td>Sci-Fi</td>\n",
       "      <td>None</td>\n",
       "      <td>None</td>\n",
       "    </tr>\n",
       "    <tr>\n",
       "      <th>17</th>\n",
       "      <td>The Martian</td>\n",
       "      <td>Sci-Fi</td>\n",
       "      <td>None</td>\n",
       "      <td>None</td>\n",
       "    </tr>\n",
       "    <tr>\n",
       "      <th>18</th>\n",
       "      <td>Inception</td>\n",
       "      <td>Sci-Fi</td>\n",
       "      <td>None</td>\n",
       "      <td>None</td>\n",
       "    </tr>\n",
       "    <tr>\n",
       "      <th>19</th>\n",
       "      <td>Interstellar</td>\n",
       "      <td>Sci-Fi</td>\n",
       "      <td>None</td>\n",
       "      <td>None</td>\n",
       "    </tr>\n",
       "    <tr>\n",
       "      <th>20</th>\n",
       "      <td>The Martian</td>\n",
       "      <td>Sci-Fi</td>\n",
       "      <td>None</td>\n",
       "      <td>None</td>\n",
       "    </tr>\n",
       "    <tr>\n",
       "      <th>21</th>\n",
       "      <td>Inception</td>\n",
       "      <td>Sci-Fi</td>\n",
       "      <td>None</td>\n",
       "      <td>None</td>\n",
       "    </tr>\n",
       "    <tr>\n",
       "      <th>22</th>\n",
       "      <td>Interstellar</td>\n",
       "      <td>Sci-Fi</td>\n",
       "      <td>None</td>\n",
       "      <td>None</td>\n",
       "    </tr>\n",
       "    <tr>\n",
       "      <th>23</th>\n",
       "      <td>The Martian</td>\n",
       "      <td>Sci-Fi</td>\n",
       "      <td>None</td>\n",
       "      <td>None</td>\n",
       "    </tr>\n",
       "    <tr>\n",
       "      <th>24</th>\n",
       "      <td>Inception</td>\n",
       "      <td>Sci-Fi</td>\n",
       "      <td>None</td>\n",
       "      <td>None</td>\n",
       "    </tr>\n",
       "    <tr>\n",
       "      <th>25</th>\n",
       "      <td>Interstellar</td>\n",
       "      <td>Sci-Fi</td>\n",
       "      <td>NaN</td>\n",
       "      <td>None</td>\n",
       "    </tr>\n",
       "    <tr>\n",
       "      <th>26</th>\n",
       "      <td>The Martian</td>\n",
       "      <td>Sci-Fi</td>\n",
       "      <td>NaN</td>\n",
       "      <td>None</td>\n",
       "    </tr>\n",
       "    <tr>\n",
       "      <th>27</th>\n",
       "      <td>Inception</td>\n",
       "      <td>Sci-Fi</td>\n",
       "      <td>NaN</td>\n",
       "      <td>None</td>\n",
       "    </tr>\n",
       "  </tbody>\n",
       "</table>\n",
       "</div>"
      ],
      "text/plain": [
       "                       name   genre             description  year\n",
       "0              Interstellar  Sci-Fi                    None  None\n",
       "1               The Martian  Sci-Fi                    None  None\n",
       "2                 Inception  Sci-Fi  A dream within a dream  None\n",
       "3   Guardians of the Galaxy    None                    None  None\n",
       "4               The Martian  Sci-Fi       An another planet  None\n",
       "5                 Inception  Sci-Fi                    None  None\n",
       "6   Guardians of the Galaxy    None                    None  None\n",
       "7              Interstellar  Sci-Fi                    None  None\n",
       "8               The Martian  Sci-Fi                    None  None\n",
       "9                 Inception  Sci-Fi                    None  None\n",
       "10             Interstellar  Sci-Fi                    None  None\n",
       "11              The Martian  Sci-Fi                    None  None\n",
       "12                Inception  Sci-Fi                    None  None\n",
       "13             Interstellar  Sci-Fi                    None  None\n",
       "14              The Martian  Sci-Fi                    None  None\n",
       "15                Inception  Sci-Fi                    None  None\n",
       "16             Interstellar  Sci-Fi                    None  None\n",
       "17              The Martian  Sci-Fi                    None  None\n",
       "18                Inception  Sci-Fi                    None  None\n",
       "19             Interstellar  Sci-Fi                    None  None\n",
       "20              The Martian  Sci-Fi                    None  None\n",
       "21                Inception  Sci-Fi                    None  None\n",
       "22             Interstellar  Sci-Fi                    None  None\n",
       "23              The Martian  Sci-Fi                    None  None\n",
       "24                Inception  Sci-Fi                    None  None\n",
       "25             Interstellar  Sci-Fi                     NaN  None\n",
       "26              The Martian  Sci-Fi                     NaN  None\n",
       "27                Inception  Sci-Fi                     NaN  None"
      ]
     },
     "execution_count": 89,
     "metadata": {},
     "output_type": "execute_result"
    }
   ],
   "source": [
    "final_df = final_df[['name', 'genre', 'description', 'year']]\n",
    "final_df.reset_index(inplace=True, drop=True)\n",
    "final_df.head(100)"
   ]
  },
  {
   "cell_type": "code",
   "execution_count": 92,
   "id": "8b69f729",
   "metadata": {},
   "outputs": [
    {
     "ename": "ValueError",
     "evalue": "Table 'movies' already exists.",
     "output_type": "error",
     "traceback": [
      "\u001b[1;31m---------------------------------------------------------------------------\u001b[0m",
      "\u001b[1;31mValueError\u001b[0m                                Traceback (most recent call last)",
      "Cell \u001b[1;32mIn [92], line 1\u001b[0m\n\u001b[1;32m----> 1\u001b[0m \u001b[43mfinal_df\u001b[49m\u001b[38;5;241;43m.\u001b[39;49m\u001b[43mto_sql\u001b[49m\u001b[43m(\u001b[49m\n\u001b[0;32m      2\u001b[0m \u001b[43m    \u001b[49m\u001b[38;5;124;43m\"\u001b[39;49m\u001b[38;5;124;43mmovies\u001b[39;49m\u001b[38;5;124;43m\"\u001b[39;49m\u001b[43m,\u001b[49m\n\u001b[0;32m      3\u001b[0m \u001b[43m    \u001b[49m\u001b[43mcurrent_engine\u001b[49m\u001b[43m,\u001b[49m\n\u001b[0;32m      4\u001b[0m \u001b[43m    \u001b[49m\u001b[43mdtype\u001b[49m\u001b[43m \u001b[49m\u001b[38;5;241;43m=\u001b[39;49m\u001b[43m \u001b[49m\u001b[43m{\u001b[49m\n\u001b[0;32m      5\u001b[0m \u001b[43m        \u001b[49m\u001b[38;5;124;43m\"\u001b[39;49m\u001b[38;5;124;43mname\u001b[39;49m\u001b[38;5;124;43m\"\u001b[39;49m\u001b[43m:\u001b[49m\u001b[43m \u001b[49m\u001b[43mString\u001b[49m\u001b[43m,\u001b[49m\n\u001b[0;32m      6\u001b[0m \u001b[43m        \u001b[49m\u001b[38;5;124;43m\"\u001b[39;49m\u001b[38;5;124;43mgenre\u001b[39;49m\u001b[38;5;124;43m\"\u001b[39;49m\u001b[43m:\u001b[49m\u001b[43m \u001b[49m\u001b[43mString\u001b[49m\u001b[43m,\u001b[49m\n\u001b[0;32m      7\u001b[0m \u001b[43m        \u001b[49m\u001b[38;5;124;43m\"\u001b[39;49m\u001b[38;5;124;43myear\u001b[39;49m\u001b[38;5;124;43m\"\u001b[39;49m\u001b[43m:\u001b[49m\u001b[43m \u001b[49m\u001b[43mInteger\u001b[49m\u001b[43m,\u001b[49m\n\u001b[0;32m      8\u001b[0m \u001b[43m        \u001b[49m\u001b[38;5;124;43m\"\u001b[39;49m\u001b[38;5;124;43mdescription\u001b[39;49m\u001b[38;5;124;43m\"\u001b[39;49m\u001b[43m:\u001b[49m\u001b[43m \u001b[49m\u001b[43mString\u001b[49m\n\u001b[0;32m      9\u001b[0m \u001b[43m    \u001b[49m\u001b[43m}\u001b[49m\n\u001b[0;32m     10\u001b[0m \u001b[43m)\u001b[49m\n",
      "File \u001b[1;32m~\\.virtualenvs\\Day26-_Ygn5c_E\\lib\\site-packages\\pandas\\core\\generic.py:2951\u001b[0m, in \u001b[0;36mNDFrame.to_sql\u001b[1;34m(self, name, con, schema, if_exists, index, index_label, chunksize, dtype, method)\u001b[0m\n\u001b[0;32m   2794\u001b[0m \u001b[38;5;124;03m\"\"\"\u001b[39;00m\n\u001b[0;32m   2795\u001b[0m \u001b[38;5;124;03mWrite records stored in a DataFrame to a SQL database.\u001b[39;00m\n\u001b[0;32m   2796\u001b[0m \n\u001b[1;32m   (...)\u001b[0m\n\u001b[0;32m   2947\u001b[0m \u001b[38;5;124;03m[(1,), (None,), (2,)]\u001b[39;00m\n\u001b[0;32m   2948\u001b[0m \u001b[38;5;124;03m\"\"\"\u001b[39;00m  \u001b[38;5;66;03m# noqa:E501\u001b[39;00m\n\u001b[0;32m   2949\u001b[0m \u001b[38;5;28;01mfrom\u001b[39;00m \u001b[38;5;21;01mpandas\u001b[39;00m\u001b[38;5;21;01m.\u001b[39;00m\u001b[38;5;21;01mio\u001b[39;00m \u001b[38;5;28;01mimport\u001b[39;00m sql\n\u001b[1;32m-> 2951\u001b[0m \u001b[38;5;28;01mreturn\u001b[39;00m \u001b[43msql\u001b[49m\u001b[38;5;241;43m.\u001b[39;49m\u001b[43mto_sql\u001b[49m\u001b[43m(\u001b[49m\n\u001b[0;32m   2952\u001b[0m \u001b[43m    \u001b[49m\u001b[38;5;28;43mself\u001b[39;49m\u001b[43m,\u001b[49m\n\u001b[0;32m   2953\u001b[0m \u001b[43m    \u001b[49m\u001b[43mname\u001b[49m\u001b[43m,\u001b[49m\n\u001b[0;32m   2954\u001b[0m \u001b[43m    \u001b[49m\u001b[43mcon\u001b[49m\u001b[43m,\u001b[49m\n\u001b[0;32m   2955\u001b[0m \u001b[43m    \u001b[49m\u001b[43mschema\u001b[49m\u001b[38;5;241;43m=\u001b[39;49m\u001b[43mschema\u001b[49m\u001b[43m,\u001b[49m\n\u001b[0;32m   2956\u001b[0m \u001b[43m    \u001b[49m\u001b[43mif_exists\u001b[49m\u001b[38;5;241;43m=\u001b[39;49m\u001b[43mif_exists\u001b[49m\u001b[43m,\u001b[49m\n\u001b[0;32m   2957\u001b[0m \u001b[43m    \u001b[49m\u001b[43mindex\u001b[49m\u001b[38;5;241;43m=\u001b[39;49m\u001b[43mindex\u001b[49m\u001b[43m,\u001b[49m\n\u001b[0;32m   2958\u001b[0m \u001b[43m    \u001b[49m\u001b[43mindex_label\u001b[49m\u001b[38;5;241;43m=\u001b[39;49m\u001b[43mindex_label\u001b[49m\u001b[43m,\u001b[49m\n\u001b[0;32m   2959\u001b[0m \u001b[43m    \u001b[49m\u001b[43mchunksize\u001b[49m\u001b[38;5;241;43m=\u001b[39;49m\u001b[43mchunksize\u001b[49m\u001b[43m,\u001b[49m\n\u001b[0;32m   2960\u001b[0m \u001b[43m    \u001b[49m\u001b[43mdtype\u001b[49m\u001b[38;5;241;43m=\u001b[39;49m\u001b[43mdtype\u001b[49m\u001b[43m,\u001b[49m\n\u001b[0;32m   2961\u001b[0m \u001b[43m    \u001b[49m\u001b[43mmethod\u001b[49m\u001b[38;5;241;43m=\u001b[39;49m\u001b[43mmethod\u001b[49m\u001b[43m,\u001b[49m\n\u001b[0;32m   2962\u001b[0m \u001b[43m\u001b[49m\u001b[43m)\u001b[49m\n",
      "File \u001b[1;32m~\\.virtualenvs\\Day26-_Ygn5c_E\\lib\\site-packages\\pandas\\io\\sql.py:698\u001b[0m, in \u001b[0;36mto_sql\u001b[1;34m(frame, name, con, schema, if_exists, index, index_label, chunksize, dtype, method, engine, **engine_kwargs)\u001b[0m\n\u001b[0;32m    693\u001b[0m \u001b[38;5;28;01melif\u001b[39;00m \u001b[38;5;129;01mnot\u001b[39;00m \u001b[38;5;28misinstance\u001b[39m(frame, DataFrame):\n\u001b[0;32m    694\u001b[0m     \u001b[38;5;28;01mraise\u001b[39;00m \u001b[38;5;167;01mNotImplementedError\u001b[39;00m(\n\u001b[0;32m    695\u001b[0m         \u001b[38;5;124m\"\u001b[39m\u001b[38;5;124m'\u001b[39m\u001b[38;5;124mframe\u001b[39m\u001b[38;5;124m'\u001b[39m\u001b[38;5;124m argument should be either a Series or a DataFrame\u001b[39m\u001b[38;5;124m\"\u001b[39m\n\u001b[0;32m    696\u001b[0m     )\n\u001b[1;32m--> 698\u001b[0m \u001b[38;5;28;01mreturn\u001b[39;00m pandas_sql\u001b[38;5;241m.\u001b[39mto_sql(\n\u001b[0;32m    699\u001b[0m     frame,\n\u001b[0;32m    700\u001b[0m     name,\n\u001b[0;32m    701\u001b[0m     if_exists\u001b[38;5;241m=\u001b[39mif_exists,\n\u001b[0;32m    702\u001b[0m     index\u001b[38;5;241m=\u001b[39mindex,\n\u001b[0;32m    703\u001b[0m     index_label\u001b[38;5;241m=\u001b[39mindex_label,\n\u001b[0;32m    704\u001b[0m     schema\u001b[38;5;241m=\u001b[39mschema,\n\u001b[0;32m    705\u001b[0m     chunksize\u001b[38;5;241m=\u001b[39mchunksize,\n\u001b[0;32m    706\u001b[0m     dtype\u001b[38;5;241m=\u001b[39mdtype,\n\u001b[0;32m    707\u001b[0m     method\u001b[38;5;241m=\u001b[39mmethod,\n\u001b[0;32m    708\u001b[0m     engine\u001b[38;5;241m=\u001b[39mengine,\n\u001b[0;32m    709\u001b[0m     \u001b[38;5;241m*\u001b[39m\u001b[38;5;241m*\u001b[39mengine_kwargs,\n\u001b[0;32m    710\u001b[0m )\n",
      "File \u001b[1;32m~\\.virtualenvs\\Day26-_Ygn5c_E\\lib\\site-packages\\pandas\\io\\sql.py:1732\u001b[0m, in \u001b[0;36mSQLDatabase.to_sql\u001b[1;34m(self, frame, name, if_exists, index, index_label, schema, chunksize, dtype, method, engine, **engine_kwargs)\u001b[0m\n\u001b[0;32m   1682\u001b[0m \u001b[38;5;124;03m\"\"\"\u001b[39;00m\n\u001b[0;32m   1683\u001b[0m \u001b[38;5;124;03mWrite records stored in a DataFrame to a SQL database.\u001b[39;00m\n\u001b[0;32m   1684\u001b[0m \n\u001b[1;32m   (...)\u001b[0m\n\u001b[0;32m   1728\u001b[0m \u001b[38;5;124;03m    Any additional kwargs are passed to the engine.\u001b[39;00m\n\u001b[0;32m   1729\u001b[0m \u001b[38;5;124;03m\"\"\"\u001b[39;00m\n\u001b[0;32m   1730\u001b[0m sql_engine \u001b[38;5;241m=\u001b[39m get_engine(engine)\n\u001b[1;32m-> 1732\u001b[0m table \u001b[38;5;241m=\u001b[39m \u001b[38;5;28;43mself\u001b[39;49m\u001b[38;5;241;43m.\u001b[39;49m\u001b[43mprep_table\u001b[49m\u001b[43m(\u001b[49m\n\u001b[0;32m   1733\u001b[0m \u001b[43m    \u001b[49m\u001b[43mframe\u001b[49m\u001b[38;5;241;43m=\u001b[39;49m\u001b[43mframe\u001b[49m\u001b[43m,\u001b[49m\n\u001b[0;32m   1734\u001b[0m \u001b[43m    \u001b[49m\u001b[43mname\u001b[49m\u001b[38;5;241;43m=\u001b[39;49m\u001b[43mname\u001b[49m\u001b[43m,\u001b[49m\n\u001b[0;32m   1735\u001b[0m \u001b[43m    \u001b[49m\u001b[43mif_exists\u001b[49m\u001b[38;5;241;43m=\u001b[39;49m\u001b[43mif_exists\u001b[49m\u001b[43m,\u001b[49m\n\u001b[0;32m   1736\u001b[0m \u001b[43m    \u001b[49m\u001b[43mindex\u001b[49m\u001b[38;5;241;43m=\u001b[39;49m\u001b[43mindex\u001b[49m\u001b[43m,\u001b[49m\n\u001b[0;32m   1737\u001b[0m \u001b[43m    \u001b[49m\u001b[43mindex_label\u001b[49m\u001b[38;5;241;43m=\u001b[39;49m\u001b[43mindex_label\u001b[49m\u001b[43m,\u001b[49m\n\u001b[0;32m   1738\u001b[0m \u001b[43m    \u001b[49m\u001b[43mschema\u001b[49m\u001b[38;5;241;43m=\u001b[39;49m\u001b[43mschema\u001b[49m\u001b[43m,\u001b[49m\n\u001b[0;32m   1739\u001b[0m \u001b[43m    \u001b[49m\u001b[43mdtype\u001b[49m\u001b[38;5;241;43m=\u001b[39;49m\u001b[43mdtype\u001b[49m\u001b[43m,\u001b[49m\n\u001b[0;32m   1740\u001b[0m \u001b[43m\u001b[49m\u001b[43m)\u001b[49m\n\u001b[0;32m   1742\u001b[0m total_inserted \u001b[38;5;241m=\u001b[39m sql_engine\u001b[38;5;241m.\u001b[39minsert_records(\n\u001b[0;32m   1743\u001b[0m     table\u001b[38;5;241m=\u001b[39mtable,\n\u001b[0;32m   1744\u001b[0m     con\u001b[38;5;241m=\u001b[39m\u001b[38;5;28mself\u001b[39m\u001b[38;5;241m.\u001b[39mconnectable,\n\u001b[1;32m   (...)\u001b[0m\n\u001b[0;32m   1751\u001b[0m     \u001b[38;5;241m*\u001b[39m\u001b[38;5;241m*\u001b[39mengine_kwargs,\n\u001b[0;32m   1752\u001b[0m )\n\u001b[0;32m   1754\u001b[0m \u001b[38;5;28mself\u001b[39m\u001b[38;5;241m.\u001b[39mcheck_case_sensitive(name\u001b[38;5;241m=\u001b[39mname, schema\u001b[38;5;241m=\u001b[39mschema)\n",
      "File \u001b[1;32m~\\.virtualenvs\\Day26-_Ygn5c_E\\lib\\site-packages\\pandas\\io\\sql.py:1631\u001b[0m, in \u001b[0;36mSQLDatabase.prep_table\u001b[1;34m(self, frame, name, if_exists, index, index_label, schema, dtype)\u001b[0m\n\u001b[0;32m   1619\u001b[0m             \u001b[38;5;28;01mraise\u001b[39;00m \u001b[38;5;167;01mValueError\u001b[39;00m(\u001b[38;5;124mf\u001b[39m\u001b[38;5;124m\"\u001b[39m\u001b[38;5;124mThe type of \u001b[39m\u001b[38;5;132;01m{\u001b[39;00mcol\u001b[38;5;132;01m}\u001b[39;00m\u001b[38;5;124m is not a SQLAlchemy type\u001b[39m\u001b[38;5;124m\"\u001b[39m)\n\u001b[0;32m   1621\u001b[0m table \u001b[38;5;241m=\u001b[39m SQLTable(\n\u001b[0;32m   1622\u001b[0m     name,\n\u001b[0;32m   1623\u001b[0m     \u001b[38;5;28mself\u001b[39m,\n\u001b[1;32m   (...)\u001b[0m\n\u001b[0;32m   1629\u001b[0m     dtype\u001b[38;5;241m=\u001b[39mdtype,\n\u001b[0;32m   1630\u001b[0m )\n\u001b[1;32m-> 1631\u001b[0m \u001b[43mtable\u001b[49m\u001b[38;5;241;43m.\u001b[39;49m\u001b[43mcreate\u001b[49m\u001b[43m(\u001b[49m\u001b[43m)\u001b[49m\n\u001b[0;32m   1632\u001b[0m \u001b[38;5;28;01mreturn\u001b[39;00m table\n",
      "File \u001b[1;32m~\\.virtualenvs\\Day26-_Ygn5c_E\\lib\\site-packages\\pandas\\io\\sql.py:834\u001b[0m, in \u001b[0;36mSQLTable.create\u001b[1;34m(self)\u001b[0m\n\u001b[0;32m    832\u001b[0m \u001b[38;5;28;01mif\u001b[39;00m \u001b[38;5;28mself\u001b[39m\u001b[38;5;241m.\u001b[39mexists():\n\u001b[0;32m    833\u001b[0m     \u001b[38;5;28;01mif\u001b[39;00m \u001b[38;5;28mself\u001b[39m\u001b[38;5;241m.\u001b[39mif_exists \u001b[38;5;241m==\u001b[39m \u001b[38;5;124m\"\u001b[39m\u001b[38;5;124mfail\u001b[39m\u001b[38;5;124m\"\u001b[39m:\n\u001b[1;32m--> 834\u001b[0m         \u001b[38;5;28;01mraise\u001b[39;00m \u001b[38;5;167;01mValueError\u001b[39;00m(\u001b[38;5;124mf\u001b[39m\u001b[38;5;124m\"\u001b[39m\u001b[38;5;124mTable \u001b[39m\u001b[38;5;124m'\u001b[39m\u001b[38;5;132;01m{\u001b[39;00m\u001b[38;5;28mself\u001b[39m\u001b[38;5;241m.\u001b[39mname\u001b[38;5;132;01m}\u001b[39;00m\u001b[38;5;124m'\u001b[39m\u001b[38;5;124m already exists.\u001b[39m\u001b[38;5;124m\"\u001b[39m)\n\u001b[0;32m    835\u001b[0m     \u001b[38;5;28;01melif\u001b[39;00m \u001b[38;5;28mself\u001b[39m\u001b[38;5;241m.\u001b[39mif_exists \u001b[38;5;241m==\u001b[39m \u001b[38;5;124m\"\u001b[39m\u001b[38;5;124mreplace\u001b[39m\u001b[38;5;124m\"\u001b[39m:\n\u001b[0;32m    836\u001b[0m         \u001b[38;5;28mself\u001b[39m\u001b[38;5;241m.\u001b[39mpd_sql\u001b[38;5;241m.\u001b[39mdrop_table(\u001b[38;5;28mself\u001b[39m\u001b[38;5;241m.\u001b[39mname, \u001b[38;5;28mself\u001b[39m\u001b[38;5;241m.\u001b[39mschema)\n",
      "\u001b[1;31mValueError\u001b[0m: Table 'movies' already exists."
     ]
    }
   ],
   "source": [
    "final_df.to_sql(\n",
    "    \"movies_2\",\n",
    "    current_engine,\n",
    "    dtype = {\n",
    "        \"name\": String,\n",
    "        \"genre\": String,\n",
    "        \"year\": Integer,\n",
    "        \"description\": String\n",
    "    }\n",
    ")"
   ]
  },
  {
   "cell_type": "code",
   "execution_count": 91,
   "id": "45a4eb72",
   "metadata": {},
   "outputs": [
    {
     "name": "stdout",
     "output_type": "stream",
     "text": [
      "# coding: utf-8\n",
      "from sqlalchemy import BigInteger, Column, Integer, String, Table\n",
      "from sqlalchemy.ext.declarative import declarative_base\n",
      "\n",
      "Base = declarative_base()\n",
      "metadata = Base.metadata\n",
      "\n",
      "\n",
      "class Movie(Base):\n",
      "    __tablename__ = 'movies'\n",
      "\n",
      "    id = Column(Integer, primary_key=True)\n",
      "    name = Column(String)\n",
      "    genre = Column(String)\n",
      "    description = Column(String)\n",
      "    year = Column(Integer)\n",
      "\n",
      "\n",
      "t_movies_2 = Table(\n",
      "    'movies_2', metadata,\n",
      "    Column('index', BigInteger, index=True),\n",
      "    Column('name', String),\n",
      "    Column('genre', String),\n",
      "    Column('description', String),\n",
      "    Column('year', Integer)\n",
      ")\n"
     ]
    }
   ],
   "source": [
    "!sqlacodegen sqlite:///app.db"
   ]
  },
  {
   "cell_type": "code",
   "execution_count": 93,
   "id": "ee2144d7",
   "metadata": {},
   "outputs": [
    {
     "data": {
      "text/plain": [
       "28"
      ]
     },
     "execution_count": 93,
     "metadata": {},
     "output_type": "execute_result"
    }
   ],
   "source": [
    "final_df.to_sql(\n",
    "    \"movies\",\n",
    "    current_engine,\n",
    "    if_exists='replace', # 'fail' 'append' ''''''\n",
    "    dtype = {\n",
    "        \"name\": String,\n",
    "        \"genre\": String,\n",
    "        \"year\": Integer,\n",
    "        \"description\": String\n",
    "    }\n",
    ")"
   ]
  },
  {
   "cell_type": "code",
   "execution_count": 94,
   "id": "4df3e753",
   "metadata": {},
   "outputs": [
    {
     "name": "stdout",
     "output_type": "stream",
     "text": [
      "# coding: utf-8\n",
      "from sqlalchemy import BigInteger, Column, Integer, MetaData, String, Table\n",
      "\n",
      "metadata = MetaData()\n",
      "\n",
      "\n",
      "t_movies = Table(\n",
      "    'movies', metadata,\n",
      "    Column('index', BigInteger, index=True),\n",
      "    Column('name', String),\n",
      "    Column('genre', String),\n",
      "    Column('description', String),\n",
      "    Column('year', Integer)\n",
      ")\n",
      "\n",
      "\n",
      "t_movies_2 = Table(\n",
      "    'movies_2', metadata,\n",
      "    Column('index', BigInteger, index=True),\n",
      "    Column('name', String),\n",
      "    Column('genre', String),\n",
      "    Column('description', String),\n",
      "    Column('year', Integer)\n",
      ")\n"
     ]
    }
   ],
   "source": [
    "!sqlacodegen sqlite:///app.db"
   ]
  },
  {
   "cell_type": "code",
   "execution_count": 97,
   "id": "6359bcd0",
   "metadata": {},
   "outputs": [
    {
     "data": {
      "text/html": [
       "<div>\n",
       "<style scoped>\n",
       "    .dataframe tbody tr th:only-of-type {\n",
       "        vertical-align: middle;\n",
       "    }\n",
       "\n",
       "    .dataframe tbody tr th {\n",
       "        vertical-align: top;\n",
       "    }\n",
       "\n",
       "    .dataframe thead th {\n",
       "        text-align: right;\n",
       "    }\n",
       "</style>\n",
       "<table border=\"1\" class=\"dataframe\">\n",
       "  <thead>\n",
       "    <tr style=\"text-align: right;\">\n",
       "      <th></th>\n",
       "      <th>index</th>\n",
       "      <th>name</th>\n",
       "      <th>genre</th>\n",
       "      <th>description</th>\n",
       "      <th>year</th>\n",
       "    </tr>\n",
       "  </thead>\n",
       "  <tbody>\n",
       "    <tr>\n",
       "      <th>0</th>\n",
       "      <td>0</td>\n",
       "      <td>Interstellar</td>\n",
       "      <td>Sci-Fi</td>\n",
       "      <td>None</td>\n",
       "      <td>None</td>\n",
       "    </tr>\n",
       "    <tr>\n",
       "      <th>1</th>\n",
       "      <td>1</td>\n",
       "      <td>The Martian</td>\n",
       "      <td>Sci-Fi</td>\n",
       "      <td>None</td>\n",
       "      <td>None</td>\n",
       "    </tr>\n",
       "    <tr>\n",
       "      <th>2</th>\n",
       "      <td>2</td>\n",
       "      <td>Inception</td>\n",
       "      <td>Sci-Fi</td>\n",
       "      <td>A dream within a dream</td>\n",
       "      <td>None</td>\n",
       "    </tr>\n",
       "    <tr>\n",
       "      <th>3</th>\n",
       "      <td>3</td>\n",
       "      <td>Guardians of the Galaxy</td>\n",
       "      <td>None</td>\n",
       "      <td>None</td>\n",
       "      <td>None</td>\n",
       "    </tr>\n",
       "    <tr>\n",
       "      <th>4</th>\n",
       "      <td>4</td>\n",
       "      <td>The Martian</td>\n",
       "      <td>Sci-Fi</td>\n",
       "      <td>An another planet</td>\n",
       "      <td>None</td>\n",
       "    </tr>\n",
       "  </tbody>\n",
       "</table>\n",
       "</div>"
      ],
      "text/plain": [
       "   index                     name   genre             description  year\n",
       "0      0             Interstellar  Sci-Fi                    None  None\n",
       "1      1              The Martian  Sci-Fi                    None  None\n",
       "2      2                Inception  Sci-Fi  A dream within a dream  None\n",
       "3      3  Guardians of the Galaxy    None                    None  None\n",
       "4      4              The Martian  Sci-Fi       An another planet  None"
      ]
     },
     "execution_count": 97,
     "metadata": {},
     "output_type": "execute_result"
    }
   ],
   "source": [
    "import sqlite3\n",
    "\n",
    "conx = sqlite3.connect('app.db')\n",
    "conx2 = create_engine(\"sqlite:///app.db\")\n",
    "df = pd.read_sql_query(\"SELECT * FROM movies\", conx2)\n",
    "df.head()"
   ]
  },
  {
   "cell_type": "code",
   "execution_count": null,
   "id": "bc219963",
   "metadata": {},
   "outputs": [],
   "source": []
  }
 ],
 "metadata": {
  "kernelspec": {
   "display_name": "Python 3 (ipykernel)",
   "language": "python",
   "name": "python3"
  },
  "language_info": {
   "codemirror_mode": {
    "name": "ipython",
    "version": 3
   },
   "file_extension": ".py",
   "mimetype": "text/x-python",
   "name": "python",
   "nbconvert_exporter": "python",
   "pygments_lexer": "ipython3",
   "version": "3.10.4"
  }
 },
 "nbformat": 4,
 "nbformat_minor": 5
}
