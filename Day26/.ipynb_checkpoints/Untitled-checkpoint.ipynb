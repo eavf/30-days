{
 "cells": [
  {
   "cell_type": "code",
   "execution_count": 1,
   "id": "eff0c4c5",
   "metadata": {},
   "outputs": [],
   "source": [
    "#!pip install pandas sqlalchemy sqlacodegen"
   ]
  },
  {
   "cell_type": "code",
   "execution_count": 2,
   "id": "04cadc50",
   "metadata": {},
   "outputs": [],
   "source": [
    "import pickle\n",
    "import pandas as pd"
   ]
  },
  {
   "cell_type": "code",
   "execution_count": 3,
   "id": "3d265167",
   "metadata": {},
   "outputs": [],
   "source": [
    "data = [{\"name\": \"Justin\"}]\n",
    "\n",
    "with open(\"users.pkl\", 'wb') as f:\n",
    "    pickle.dump(data, f) # pickle.dump"
   ]
  },
  {
   "cell_type": "code",
   "execution_count": 4,
   "id": "3a068eda",
   "metadata": {},
   "outputs": [
    {
     "name": "stdout",
     "output_type": "stream",
     "text": [
      "[{'name': 'Justin'}] <class 'list'>\n"
     ]
    }
   ],
   "source": [
    "data_from_pkl = pickle.load(open('users.pkl', 'rb')) # pickle.loads -> pickle.load\n",
    "print(data_from_pkl, type(data_from_pkl))"
   ]
  },
  {
   "cell_type": "code",
   "execution_count": 5,
   "id": "99d4f9a6",
   "metadata": {},
   "outputs": [
    {
     "data": {
      "text/html": [
       "<div>\n",
       "<style scoped>\n",
       "    .dataframe tbody tr th:only-of-type {\n",
       "        vertical-align: middle;\n",
       "    }\n",
       "\n",
       "    .dataframe tbody tr th {\n",
       "        vertical-align: top;\n",
       "    }\n",
       "\n",
       "    .dataframe thead th {\n",
       "        text-align: right;\n",
       "    }\n",
       "</style>\n",
       "<table border=\"1\" class=\"dataframe\">\n",
       "  <thead>\n",
       "    <tr style=\"text-align: right;\">\n",
       "      <th></th>\n",
       "      <th>name</th>\n",
       "    </tr>\n",
       "  </thead>\n",
       "  <tbody>\n",
       "    <tr>\n",
       "      <th>0</th>\n",
       "      <td>Justin</td>\n",
       "    </tr>\n",
       "  </tbody>\n",
       "</table>\n",
       "</div>"
      ],
      "text/plain": [
       "     name\n",
       "0  Justin"
      ]
     },
     "execution_count": 5,
     "metadata": {},
     "output_type": "execute_result"
    }
   ],
   "source": [
    "df = pd.DataFrame(data)\n",
    "df.head()"
   ]
  },
  {
   "cell_type": "code",
   "execution_count": 6,
   "id": "5b0db3b8",
   "metadata": {},
   "outputs": [
    {
     "data": {
      "text/plain": [
       "name    object\n",
       "dtype: object"
      ]
     },
     "execution_count": 6,
     "metadata": {},
     "output_type": "execute_result"
    }
   ],
   "source": [
    "df.to_pickle(\"df_pkl\")\n",
    "df.dtypes"
   ]
  },
  {
   "cell_type": "code",
   "execution_count": 7,
   "id": "218f4091",
   "metadata": {},
   "outputs": [
    {
     "data": {
      "text/html": [
       "<div>\n",
       "<style scoped>\n",
       "    .dataframe tbody tr th:only-of-type {\n",
       "        vertical-align: middle;\n",
       "    }\n",
       "\n",
       "    .dataframe tbody tr th {\n",
       "        vertical-align: top;\n",
       "    }\n",
       "\n",
       "    .dataframe thead th {\n",
       "        text-align: right;\n",
       "    }\n",
       "</style>\n",
       "<table border=\"1\" class=\"dataframe\">\n",
       "  <thead>\n",
       "    <tr style=\"text-align: right;\">\n",
       "      <th></th>\n",
       "      <th>name</th>\n",
       "    </tr>\n",
       "  </thead>\n",
       "  <tbody>\n",
       "    <tr>\n",
       "      <th>0</th>\n",
       "      <td>Justin</td>\n",
       "    </tr>\n",
       "  </tbody>\n",
       "</table>\n",
       "</div>"
      ],
      "text/plain": [
       "     name\n",
       "0  Justin"
      ]
     },
     "execution_count": 7,
     "metadata": {},
     "output_type": "execute_result"
    }
   ],
   "source": [
    "df2 = pd.read_pickle(\"df_pkl\")\n",
    "df2.head()"
   ]
  },
  {
   "cell_type": "code",
   "execution_count": 8,
   "id": "2c933701",
   "metadata": {},
   "outputs": [
    {
     "data": {
      "text/plain": [
       "name    object\n",
       "dtype: object"
      ]
     },
     "execution_count": 8,
     "metadata": {},
     "output_type": "execute_result"
    }
   ],
   "source": [
    "df2.dtypes"
   ]
  },
  {
   "cell_type": "code",
   "execution_count": 9,
   "id": "0539a714",
   "metadata": {},
   "outputs": [],
   "source": [
    "df.to_csv(\"my_df.csv\", index=False)"
   ]
  },
  {
   "cell_type": "markdown",
   "id": "b275274e",
   "metadata": {},
   "source": [
    "SQLAlchemy\n",
    "SQLAlchmey & Django have a similar object-relational mappings (aka ORM) are ways to connect Python to a SQL database."
   ]
  },
  {
   "cell_type": "code",
   "execution_count": 10,
   "id": "ca34a7ef",
   "metadata": {},
   "outputs": [],
   "source": [
    "from dataclasses import dataclass\n",
    "\n",
    "@dataclass\n",
    "class Movie:\n",
    "    name:str = 'Unknown'\n",
    "    genre:str = 'Action'\n",
    "    year:int = None\n",
    "    \n",
    "# class Movie:\n",
    "#     name = 'Unknown'\n",
    "#     genre = 'Action'\n",
    "    \n",
    "#     def __init__(self, name='', *args, **kwargs):\n",
    "#         super().__init__(*args, **kwargs)\n",
    "#         self.name = name"
   ]
  },
  {
   "cell_type": "code",
   "execution_count": 11,
   "id": "c1d3b221",
   "metadata": {},
   "outputs": [
    {
     "data": {
      "text/plain": [
       "'Interstellar'"
      ]
     },
     "execution_count": 11,
     "metadata": {},
     "output_type": "execute_result"
    }
   ],
   "source": [
    "movie_obj = Movie(name='Interstellar', genre='Sci-Fi')\n",
    "movie_obj.name"
   ]
  },
  {
   "cell_type": "code",
   "execution_count": 12,
   "id": "ed4dc696",
   "metadata": {},
   "outputs": [],
   "source": [
    "data = [{\n",
    "    \"name\": \"Interstellar\",\n",
    "    \"genre\": \"Sci-Fi\"\n",
    "},\n",
    "{\n",
    "    \"name\": \"The Martian\",\n",
    "    \"genre\": \"Sci-Fi\"\n",
    "},\n",
    "{\n",
    "    \"name\": \"Arrival\",\n",
    "    \"genre\": \"Sci-Fi\"\n",
    "}\n",
    "]"
   ]
  },
  {
   "cell_type": "code",
   "execution_count": 13,
   "id": "11d5d846",
   "metadata": {},
   "outputs": [
    {
     "data": {
      "text/html": [
       "<div>\n",
       "<style scoped>\n",
       "    .dataframe tbody tr th:only-of-type {\n",
       "        vertical-align: middle;\n",
       "    }\n",
       "\n",
       "    .dataframe tbody tr th {\n",
       "        vertical-align: top;\n",
       "    }\n",
       "\n",
       "    .dataframe thead th {\n",
       "        text-align: right;\n",
       "    }\n",
       "</style>\n",
       "<table border=\"1\" class=\"dataframe\">\n",
       "  <thead>\n",
       "    <tr style=\"text-align: right;\">\n",
       "      <th></th>\n",
       "      <th>name</th>\n",
       "      <th>genre</th>\n",
       "    </tr>\n",
       "  </thead>\n",
       "  <tbody>\n",
       "    <tr>\n",
       "      <th>0</th>\n",
       "      <td>Interstellar</td>\n",
       "      <td>Sci-Fi</td>\n",
       "    </tr>\n",
       "    <tr>\n",
       "      <th>1</th>\n",
       "      <td>The Martian</td>\n",
       "      <td>Sci-Fi</td>\n",
       "    </tr>\n",
       "    <tr>\n",
       "      <th>2</th>\n",
       "      <td>Arrival</td>\n",
       "      <td>Sci-Fi</td>\n",
       "    </tr>\n",
       "  </tbody>\n",
       "</table>\n",
       "</div>"
      ],
      "text/plain": [
       "           name   genre\n",
       "0  Interstellar  Sci-Fi\n",
       "1   The Martian  Sci-Fi\n",
       "2       Arrival  Sci-Fi"
      ]
     },
     "execution_count": 13,
     "metadata": {},
     "output_type": "execute_result"
    }
   ],
   "source": [
    "df = pd.DataFrame(data)\n",
    "df.head()"
   ]
  },
  {
   "cell_type": "code",
   "execution_count": 14,
   "id": "1e4b99a5",
   "metadata": {},
   "outputs": [],
   "source": [
    "import sqlalchemy\n",
    "from sqlalchemy import Column, Integer, String\n",
    "from sqlalchemy import create_engine, Column, String, Integer\n",
    "from sqlalchemy.orm import sessionmaker"
   ]
  },
  {
   "cell_type": "code",
   "execution_count": 15,
   "id": "14cf4afa",
   "metadata": {},
   "outputs": [],
   "source": [
    "engine = create_engine(\"sqlite:///app.db\") # mysql, postgres"
   ]
  },
  {
   "cell_type": "code",
   "execution_count": 23,
   "id": "0d8137c1",
   "metadata": {},
   "outputs": [],
   "source": [
    "Session = sessionmaker(bind=engine)\n",
    "my_sess = Session()\n",
    "\n",
    "# why not this way? :\n",
    "\n",
    "#my_sess = sessionmaker(bind=engine)\n",
    "\n",
    "# Because it throw an error......"
   ]
  },
  {
   "cell_type": "code",
   "execution_count": 24,
   "id": "960f6ada",
   "metadata": {},
   "outputs": [],
   "source": [
    "from sqlalchemy.ext.declarative import declarative_base\n",
    "\n",
    "Base = declarative_base()"
   ]
  },
  {
   "cell_type": "code",
   "execution_count": 25,
   "id": "e53588e4",
   "metadata": {},
   "outputs": [],
   "source": [
    "class Movie(Base): # table\n",
    "    __tablename__ = \"movies\"\n",
    "    \n",
    "    id = Column(Integer, primary_key=True) # auto created for us\n",
    "    name = Column(String) # 'Unknown' # col\n",
    "    genre = Column(String) # 'Action' # col\n",
    "    description = Column(String) # 'Action' # col\n",
    "    year = Column(Integer, nullable=True) # None # col\n",
    "    \n",
    "    \n",
    "    def __repr__(self):\n",
    "        return f\"<Movie name={self.name}>\"\n",
    "        \n",
    "# saved instance = row"
   ]
  },
  {
   "cell_type": "code",
   "execution_count": 26,
   "id": "06e7d636",
   "metadata": {},
   "outputs": [],
   "source": [
    "# Add table(s) to database\n",
    "Base.metadata.create_all(engine)"
   ]
  },
  {
   "cell_type": "code",
   "execution_count": 27,
   "id": "d400eed6",
   "metadata": {},
   "outputs": [
    {
     "name": "stdout",
     "output_type": "stream",
     "text": [
      "Interstellar\n"
     ]
    }
   ],
   "source": [
    "movie_obj = Movie(name='Interstellar', genre='Sci-Fi')\n",
    "print(movie_obj.name)"
   ]
  },
  {
   "cell_type": "code",
   "execution_count": 28,
   "id": "94817605",
   "metadata": {},
   "outputs": [],
   "source": [
    "movie_obj.id"
   ]
  },
  {
   "cell_type": "code",
   "execution_count": 29,
   "id": "72da4d45",
   "metadata": {},
   "outputs": [],
   "source": [
    "my_sess.add(movie_obj) # prepare to save\n",
    "my_sess.commit() # save"
   ]
  },
  {
   "cell_type": "code",
   "execution_count": 30,
   "id": "2b64a2e8",
   "metadata": {},
   "outputs": [
    {
     "name": "stdout",
     "output_type": "stream",
     "text": [
      "1 None\n"
     ]
    }
   ],
   "source": [
    "print(movie_obj.id, movie_obj.description)"
   ]
  },
  {
   "cell_type": "code",
   "execution_count": 31,
   "id": "03f04f8c",
   "metadata": {},
   "outputs": [
    {
     "name": "stdout",
     "output_type": "stream",
     "text": [
      "The Martian None\n"
     ]
    }
   ],
   "source": [
    "movie_obj2 = Movie(name='The Martian', genre='Sci-Fi')\n",
    "print(movie_obj2.name, movie_obj2.id)"
   ]
  },
  {
   "cell_type": "code",
   "execution_count": 32,
   "id": "2de73d3e",
   "metadata": {},
   "outputs": [],
   "source": [
    "my_sess.add(movie_obj2)"
   ]
  },
  {
   "cell_type": "code",
   "execution_count": 33,
   "id": "2f831006",
   "metadata": {},
   "outputs": [
    {
     "name": "stdout",
     "output_type": "stream",
     "text": [
      "Inception None\n"
     ]
    }
   ],
   "source": [
    "movie_obj3 = Movie(name='Inception', genre='Sci-Fi')\n",
    "print(movie_obj3.name, movie_obj3.id)"
   ]
  },
  {
   "cell_type": "code",
   "execution_count": 34,
   "id": "a7edd11b",
   "metadata": {},
   "outputs": [],
   "source": [
    "my_sess.add(movie_obj3)"
   ]
  },
  {
   "cell_type": "code",
   "execution_count": 35,
   "id": "6d92893d",
   "metadata": {},
   "outputs": [],
   "source": [
    "my_sess.commit()"
   ]
  },
  {
   "cell_type": "code",
   "execution_count": 36,
   "id": "966f534e",
   "metadata": {},
   "outputs": [
    {
     "name": "stdout",
     "output_type": "stream",
     "text": [
      "2 3\n"
     ]
    }
   ],
   "source": [
    "print(movie_obj2.id, movie_obj3.id)"
   ]
  },
  {
   "cell_type": "markdown",
   "id": "b8784b45",
   "metadata": {},
   "source": [
    "# CRUD in SQLAlchemy\n",
    "Create\n",
    "Retreive\n",
    "Update\n",
    "Delete"
   ]
  },
  {
   "cell_type": "code",
   "execution_count": null,
   "id": "ff904e2f",
   "metadata": {},
   "outputs": [],
   "source": [
    "Session = sessionmaker(bind=engine)\n",
    "session = Session()"
   ]
  },
  {
   "cell_type": "markdown",
   "id": "cb3c0a6c",
   "metadata": {},
   "source": [
    "# Create"
   ]
  },
  {
   "cell_type": "code",
   "execution_count": null,
   "id": "740cd6ba",
   "metadata": {},
   "outputs": [],
   "source": [
    "\n",
    "movie = Movie(name='Guaridans of the Galaxy')\n",
    "session.add(movie)\n",
    "session.commit()"
   ]
  },
  {
   "cell_type": "markdown",
   "id": "a5882165",
   "metadata": {},
   "source": [
    "# Retreive"
   ]
  },
  {
   "cell_type": "markdown",
   "id": "d2bff06e",
   "metadata": {},
   "source": [
    "## Get 1 item"
   ]
  },
  {
   "cell_type": "code",
   "execution_count": null,
   "id": "fdf8d1db",
   "metadata": {},
   "outputs": [],
   "source": [
    "movie_a = session.query(Movie).get(5)\n",
    "print(movie_a.id, movie_a.name, movie_a.description)"
   ]
  },
  {
   "cell_type": "markdown",
   "id": "48bc773d",
   "metadata": {},
   "source": [
    "## List"
   ]
  },
  {
   "cell_type": "code",
   "execution_count": null,
   "id": "eb965f56",
   "metadata": {},
   "outputs": [],
   "source": [
    "qs = session.query(Movie).all()\n",
    "print(qs)"
   ]
  },
  {
   "cell_type": "markdown",
   "id": "b3c31060",
   "metadata": {},
   "source": [
    "## List & Filter by Column Value"
   ]
  },
  {
   "cell_type": "code",
   "execution_count": null,
   "id": "b159bae4",
   "metadata": {},
   "outputs": [],
   "source": [
    "qs = session.query(Movie).filter_by(name='Guardians of the Galaxy').all()\n",
    "qs"
   ]
  },
  {
   "cell_type": "markdown",
   "id": "7b72eeb6",
   "metadata": {},
   "source": [
    "## List & Filter by Column Value Containing Something"
   ]
  },
  {
   "cell_type": "code",
   "execution_count": null,
   "id": "8007eb55",
   "metadata": {},
   "outputs": [],
   "source": [
    "\n",
    "qs = session.query(Movie).filter(Movie.name.contains(\"Guaridans\")).all()\n",
    "qs"
   ]
  },
  {
   "cell_type": "markdown",
   "id": "49ea9af8",
   "metadata": {},
   "source": [
    "## List & Filter by Column Value Containing Something"
   ]
  },
  {
   "cell_type": "code",
   "execution_count": null,
   "id": "abd4dbdc",
   "metadata": {},
   "outputs": [],
   "source": [
    "my_query = input(\"What are you looking for?\\n\") or \"Unknown\"\n",
    "qs = session.query(Movie).filter(Movie.name.contains(my_query)).all()\n",
    "print(qs)"
   ]
  },
  {
   "cell_type": "markdown",
   "id": "b0f95eb2",
   "metadata": {},
   "source": [
    "# Update"
   ]
  },
  {
   "cell_type": "code",
   "execution_count": null,
   "id": "826d091f",
   "metadata": {},
   "outputs": [],
   "source": [
    "movie_a = session.query(Movie).get(5)\n",
    "movie_a.description = \"A dream within a dream\"\n",
    "print(movie_a.id, movie_a.name, movie_a.description)\n",
    "session.commit()"
   ]
  },
  {
   "cell_type": "code",
   "execution_count": null,
   "id": "233d10f1",
   "metadata": {},
   "outputs": [],
   "source": [
    "movie_a = session.query(Movie).get(5)\n",
    "print(movie_a.description)"
   ]
  },
  {
   "cell_type": "code",
   "execution_count": null,
   "id": "bef08241",
   "metadata": {},
   "outputs": [],
   "source": [
    "qs = session.query(Movie).filter(Movie.name.contains(\"Guaridans\")).all()\n",
    "for movie_obj in qs:\n",
    "    movie_obj.name = \"Guardians of the Galaxy\"\n",
    "session.commit()"
   ]
  },
  {
   "cell_type": "code",
   "execution_count": null,
   "id": "0d9bfc82",
   "metadata": {},
   "outputs": [],
   "source": [
    "qs = session.query(Movie).filter(Movie.name.contains(\"Guaridans\")).all()\n",
    "qs"
   ]
  },
  {
   "cell_type": "markdown",
   "id": "d335893f",
   "metadata": {},
   "source": [
    "# Delete"
   ]
  },
  {
   "cell_type": "code",
   "execution_count": null,
   "id": "d753fd45",
   "metadata": {},
   "outputs": [],
   "source": [
    "movie_a = session.query(Movie).get(1)\n",
    "session.delete(movie_a)\n",
    "session.commit()"
   ]
  }
 ],
 "metadata": {
  "kernelspec": {
   "display_name": "Python 3 (ipykernel)",
   "language": "python",
   "name": "python3"
  },
  "language_info": {
   "codemirror_mode": {
    "name": "ipython",
    "version": 3
   },
   "file_extension": ".py",
   "mimetype": "text/x-python",
   "name": "python",
   "nbconvert_exporter": "python",
   "pygments_lexer": "ipython3",
   "version": "3.10.4"
  }
 },
 "nbformat": 4,
 "nbformat_minor": 5
}
