{
 "cells": [
  {
   "cell_type": "code",
   "execution_count": 1,
   "id": "211243cd",
   "metadata": {},
   "outputs": [],
   "source": [
    "#!pip install pandas sqlalchemy sqlacodegen"
   ]
  },
  {
   "cell_type": "code",
   "execution_count": 2,
   "id": "96bf521e",
   "metadata": {},
   "outputs": [],
   "source": [
    "import pickle\n",
    "import pandas as pd"
   ]
  },
  {
   "cell_type": "code",
   "execution_count": 3,
   "id": "57dbd2be",
   "metadata": {},
   "outputs": [],
   "source": [
    "data = [{\"name\": \"Justin\"}]\n",
    "\n",
    "with open(\"users.pkl\", 'wb') as f:\n",
    "    pickle.dump(data, f) # pickle.dump"
   ]
  },
  {
   "cell_type": "code",
   "execution_count": 4,
   "id": "ce1d1a0d",
   "metadata": {},
   "outputs": [
    {
     "name": "stdout",
     "output_type": "stream",
     "text": [
      "[{'name': 'Justin'}] <class 'list'>\n"
     ]
    }
   ],
   "source": [
    "data_from_pkl = pickle.load(open('users.pkl', 'rb')) # pickle.loads -> pickle.load\n",
    "print(data_from_pkl, type(data_from_pkl))"
   ]
  },
  {
   "cell_type": "code",
   "execution_count": 5,
   "id": "49c4fa5d",
   "metadata": {},
   "outputs": [
    {
     "data": {
      "text/html": [
       "<div>\n",
       "<style scoped>\n",
       "    .dataframe tbody tr th:only-of-type {\n",
       "        vertical-align: middle;\n",
       "    }\n",
       "\n",
       "    .dataframe tbody tr th {\n",
       "        vertical-align: top;\n",
       "    }\n",
       "\n",
       "    .dataframe thead th {\n",
       "        text-align: right;\n",
       "    }\n",
       "</style>\n",
       "<table border=\"1\" class=\"dataframe\">\n",
       "  <thead>\n",
       "    <tr style=\"text-align: right;\">\n",
       "      <th></th>\n",
       "      <th>name</th>\n",
       "    </tr>\n",
       "  </thead>\n",
       "  <tbody>\n",
       "    <tr>\n",
       "      <th>0</th>\n",
       "      <td>Justin</td>\n",
       "    </tr>\n",
       "  </tbody>\n",
       "</table>\n",
       "</div>"
      ],
      "text/plain": [
       "     name\n",
       "0  Justin"
      ]
     },
     "execution_count": 5,
     "metadata": {},
     "output_type": "execute_result"
    }
   ],
   "source": [
    "df = pd.DataFrame(data)\n",
    "df.head()"
   ]
  },
  {
   "cell_type": "code",
   "execution_count": 6,
   "id": "3fdac827",
   "metadata": {},
   "outputs": [
    {
     "data": {
      "text/plain": [
       "name    object\n",
       "dtype: object"
      ]
     },
     "execution_count": 6,
     "metadata": {},
     "output_type": "execute_result"
    }
   ],
   "source": [
    "df.to_pickle(\"df_pkl\")\n",
    "df.dtypes"
   ]
  },
  {
   "cell_type": "code",
   "execution_count": 7,
   "id": "8de5c5e7",
   "metadata": {},
   "outputs": [
    {
     "data": {
      "text/html": [
       "<div>\n",
       "<style scoped>\n",
       "    .dataframe tbody tr th:only-of-type {\n",
       "        vertical-align: middle;\n",
       "    }\n",
       "\n",
       "    .dataframe tbody tr th {\n",
       "        vertical-align: top;\n",
       "    }\n",
       "\n",
       "    .dataframe thead th {\n",
       "        text-align: right;\n",
       "    }\n",
       "</style>\n",
       "<table border=\"1\" class=\"dataframe\">\n",
       "  <thead>\n",
       "    <tr style=\"text-align: right;\">\n",
       "      <th></th>\n",
       "      <th>name</th>\n",
       "    </tr>\n",
       "  </thead>\n",
       "  <tbody>\n",
       "    <tr>\n",
       "      <th>0</th>\n",
       "      <td>Justin</td>\n",
       "    </tr>\n",
       "  </tbody>\n",
       "</table>\n",
       "</div>"
      ],
      "text/plain": [
       "     name\n",
       "0  Justin"
      ]
     },
     "execution_count": 7,
     "metadata": {},
     "output_type": "execute_result"
    }
   ],
   "source": [
    "df2 = pd.read_pickle(\"df_pkl\")\n",
    "df2.head()"
   ]
  },
  {
   "cell_type": "code",
   "execution_count": 8,
   "id": "caf31a0f",
   "metadata": {},
   "outputs": [
    {
     "data": {
      "text/plain": [
       "name    object\n",
       "dtype: object"
      ]
     },
     "execution_count": 8,
     "metadata": {},
     "output_type": "execute_result"
    }
   ],
   "source": [
    "df2.dtypes"
   ]
  },
  {
   "cell_type": "code",
   "execution_count": 9,
   "id": "988c57b5",
   "metadata": {},
   "outputs": [],
   "source": [
    "df.to_csv(\"my_df.csv\", index=False)"
   ]
  },
  {
   "cell_type": "markdown",
   "id": "fdb8363b",
   "metadata": {},
   "source": [
    "SQLAlchemy\n",
    "SQLAlchmey & Django have a similar object-relational mappings (aka ORM) are ways to connect Python to a SQL database."
   ]
  },
  {
   "cell_type": "code",
   "execution_count": 10,
   "id": "d6f2e156",
   "metadata": {},
   "outputs": [],
   "source": [
    "from dataclasses import dataclass\n",
    "\n",
    "@dataclass\n",
    "class Movie:\n",
    "    name:str = 'Unknown'\n",
    "    genre:str = 'Action'\n",
    "    year:int = None\n",
    "    \n",
    "# class Movie:\n",
    "#     name = 'Unknown'\n",
    "#     genre = 'Action'\n",
    "    \n",
    "#     def __init__(self, name='', *args, **kwargs):\n",
    "#         super().__init__(*args, **kwargs)\n",
    "#         self.name = name"
   ]
  },
  {
   "cell_type": "code",
   "execution_count": 11,
   "id": "edfb7f46",
   "metadata": {},
   "outputs": [
    {
     "data": {
      "text/plain": [
       "'Interstellar'"
      ]
     },
     "execution_count": 11,
     "metadata": {},
     "output_type": "execute_result"
    }
   ],
   "source": [
    "movie_obj = Movie(name='Interstellar', genre='Sci-Fi')\n",
    "movie_obj.name"
   ]
  },
  {
   "cell_type": "code",
   "execution_count": 12,
   "id": "add3b300",
   "metadata": {},
   "outputs": [],
   "source": [
    "data = [{\n",
    "    \"name\": \"Interstellar\",\n",
    "    \"genre\": \"Sci-Fi\"\n",
    "},\n",
    "{\n",
    "    \"name\": \"The Martian\",\n",
    "    \"genre\": \"Sci-Fi\"\n",
    "},\n",
    "{\n",
    "    \"name\": \"Arrival\",\n",
    "    \"genre\": \"Sci-Fi\"\n",
    "}\n",
    "]"
   ]
  },
  {
   "cell_type": "code",
   "execution_count": 37,
   "id": "bd10ba2a",
   "metadata": {},
   "outputs": [
    {
     "data": {
      "text/html": [
       "<div>\n",
       "<style scoped>\n",
       "    .dataframe tbody tr th:only-of-type {\n",
       "        vertical-align: middle;\n",
       "    }\n",
       "\n",
       "    .dataframe tbody tr th {\n",
       "        vertical-align: top;\n",
       "    }\n",
       "\n",
       "    .dataframe thead th {\n",
       "        text-align: right;\n",
       "    }\n",
       "</style>\n",
       "<table border=\"1\" class=\"dataframe\">\n",
       "  <thead>\n",
       "    <tr style=\"text-align: right;\">\n",
       "      <th></th>\n",
       "      <th>name</th>\n",
       "      <th>genre</th>\n",
       "    </tr>\n",
       "  </thead>\n",
       "  <tbody>\n",
       "    <tr>\n",
       "      <th>0</th>\n",
       "      <td>Interstellar</td>\n",
       "      <td>Sci-Fi</td>\n",
       "    </tr>\n",
       "    <tr>\n",
       "      <th>1</th>\n",
       "      <td>The Martian</td>\n",
       "      <td>Sci-Fi</td>\n",
       "    </tr>\n",
       "    <tr>\n",
       "      <th>2</th>\n",
       "      <td>Arrival</td>\n",
       "      <td>Sci-Fi</td>\n",
       "    </tr>\n",
       "  </tbody>\n",
       "</table>\n",
       "</div>"
      ],
      "text/plain": [
       "           name   genre\n",
       "0  Interstellar  Sci-Fi\n",
       "1   The Martian  Sci-Fi\n",
       "2       Arrival  Sci-Fi"
      ]
     },
     "execution_count": 37,
     "metadata": {},
     "output_type": "execute_result"
    }
   ],
   "source": [
    "df = pd.DataFrame(data)\n",
    "df.head()"
   ]
  },
  {
   "cell_type": "code",
   "execution_count": 38,
   "id": "7b251043",
   "metadata": {},
   "outputs": [],
   "source": [
    "import sqlalchemy\n",
    "from sqlalchemy import Column, Integer, String\n",
    "from sqlalchemy import create_engine, Column, String, Integer\n",
    "from sqlalchemy.orm import sessionmaker"
   ]
  },
  {
   "cell_type": "code",
   "execution_count": 39,
   "id": "289e4adf",
   "metadata": {},
   "outputs": [],
   "source": [
    "engine = create_engine(\"sqlite:///app.db\") # mysql, postgres"
   ]
  },
  {
   "cell_type": "code",
   "execution_count": 40,
   "id": "46ae291f",
   "metadata": {},
   "outputs": [],
   "source": [
    "Session = sessionmaker(bind=engine)\n",
    "my_sess = Session()\n",
    "\n",
    "# why not this way? :\n",
    "\n",
    "#my_sess = sessionmaker(bind=engine)\n",
    "\n",
    "# Because it throw an error......"
   ]
  },
  {
   "cell_type": "code",
   "execution_count": 41,
   "id": "7d984465",
   "metadata": {},
   "outputs": [],
   "source": [
    "from sqlalchemy.ext.declarative import declarative_base\n",
    "\n",
    "Base = declarative_base()"
   ]
  },
  {
   "cell_type": "code",
   "execution_count": 42,
   "id": "097828a1",
   "metadata": {},
   "outputs": [],
   "source": [
    "class Movie(Base): # table\n",
    "    __tablename__ = \"movies\"\n",
    "    \n",
    "    id = Column(Integer, primary_key=True) # auto created for us\n",
    "    name = Column(String) # 'Unknown' # col\n",
    "    genre = Column(String) # 'Action' # col\n",
    "    description = Column(String) # 'Action' # col\n",
    "    year = Column(Integer, nullable=True) # None # col\n",
    "    \n",
    "    \n",
    "    def __repr__(self):\n",
    "        return f\"<Movie name={self.name}>\"\n",
    "        \n",
    "# saved instance = row"
   ]
  },
  {
   "cell_type": "code",
   "execution_count": 43,
   "id": "d7244911",
   "metadata": {},
   "outputs": [],
   "source": [
    "# Add table(s) to database\n",
    "Base.metadata.create_all(engine)"
   ]
  },
  {
   "cell_type": "code",
   "execution_count": 44,
   "id": "056eeac6",
   "metadata": {},
   "outputs": [
    {
     "name": "stdout",
     "output_type": "stream",
     "text": [
      "Interstellar\n"
     ]
    }
   ],
   "source": [
    "movie_obj = Movie(name='Interstellar', genre='Sci-Fi')\n",
    "print(movie_obj.name)"
   ]
  },
  {
   "cell_type": "code",
   "execution_count": 45,
   "id": "9e8e818d",
   "metadata": {},
   "outputs": [],
   "source": [
    "movie_obj.id"
   ]
  },
  {
   "cell_type": "code",
   "execution_count": 46,
   "id": "86256990",
   "metadata": {},
   "outputs": [],
   "source": [
    "my_sess.add(movie_obj) # prepare to save\n",
    "my_sess.commit() # save"
   ]
  },
  {
   "cell_type": "code",
   "execution_count": 47,
   "id": "18a2af89",
   "metadata": {},
   "outputs": [
    {
     "name": "stdout",
     "output_type": "stream",
     "text": [
      "4 None\n"
     ]
    }
   ],
   "source": [
    "print(movie_obj.id, movie_obj.description)"
   ]
  },
  {
   "cell_type": "code",
   "execution_count": 48,
   "id": "18b544ad",
   "metadata": {},
   "outputs": [
    {
     "name": "stdout",
     "output_type": "stream",
     "text": [
      "The Martian None\n"
     ]
    }
   ],
   "source": [
    "movie_obj2 = Movie(name='The Martian', genre='Sci-Fi')\n",
    "print(movie_obj2.name, movie_obj2.id)"
   ]
  },
  {
   "cell_type": "code",
   "execution_count": 49,
   "id": "4fb9c663",
   "metadata": {},
   "outputs": [],
   "source": [
    "my_sess.add(movie_obj2)"
   ]
  },
  {
   "cell_type": "code",
   "execution_count": 50,
   "id": "c999cc09",
   "metadata": {},
   "outputs": [
    {
     "name": "stdout",
     "output_type": "stream",
     "text": [
      "Inception None\n"
     ]
    }
   ],
   "source": [
    "movie_obj3 = Movie(name='Inception', genre='Sci-Fi')\n",
    "print(movie_obj3.name, movie_obj3.id)"
   ]
  },
  {
   "cell_type": "code",
   "execution_count": 51,
   "id": "8a403370",
   "metadata": {},
   "outputs": [],
   "source": [
    "my_sess.add(movie_obj3)"
   ]
  },
  {
   "cell_type": "code",
   "execution_count": 52,
   "id": "2b7d3915",
   "metadata": {},
   "outputs": [],
   "source": [
    "my_sess.commit()"
   ]
  },
  {
   "cell_type": "code",
   "execution_count": 53,
   "id": "e3a8fc24",
   "metadata": {},
   "outputs": [
    {
     "name": "stdout",
     "output_type": "stream",
     "text": [
      "5 6\n"
     ]
    }
   ],
   "source": [
    "print(movie_obj2.id, movie_obj3.id)"
   ]
  },
  {
   "cell_type": "markdown",
   "id": "f5fe63fa",
   "metadata": {},
   "source": [
    "# CRUD in SQLAlchemy\n",
    "Create\n",
    "Retreive\n",
    "Update\n",
    "Delete"
   ]
  },
  {
   "cell_type": "code",
   "execution_count": 54,
   "id": "a9ec4ff1",
   "metadata": {},
   "outputs": [],
   "source": [
    "Session = sessionmaker(bind=engine)\n",
    "session = Session()"
   ]
  },
  {
   "cell_type": "markdown",
   "id": "809f95a5",
   "metadata": {},
   "source": [
    "# Create"
   ]
  },
  {
   "cell_type": "code",
   "execution_count": 55,
   "id": "bb4ee3b1",
   "metadata": {},
   "outputs": [],
   "source": [
    "\n",
    "movie = Movie(name='Guaridans of the Galaxy')\n",
    "session.add(movie)\n",
    "session.commit()"
   ]
  },
  {
   "cell_type": "markdown",
   "id": "e849e493",
   "metadata": {},
   "source": [
    "# Retreive"
   ]
  },
  {
   "cell_type": "markdown",
   "id": "1c3c32c7",
   "metadata": {},
   "source": [
    "## Get 1 item"
   ]
  },
  {
   "cell_type": "code",
   "execution_count": 56,
   "id": "865d9f4d",
   "metadata": {},
   "outputs": [
    {
     "name": "stdout",
     "output_type": "stream",
     "text": [
      "5 The Martian None\n"
     ]
    }
   ],
   "source": [
    "movie_a = session.query(Movie).get(5)\n",
    "print(movie_a.id, movie_a.name, movie_a.description)"
   ]
  },
  {
   "cell_type": "markdown",
   "id": "1d5610d7",
   "metadata": {},
   "source": [
    "## List"
   ]
  },
  {
   "cell_type": "code",
   "execution_count": 57,
   "id": "9f3a1885",
   "metadata": {},
   "outputs": [
    {
     "name": "stdout",
     "output_type": "stream",
     "text": [
      "[<Movie name=Interstellar>, <Movie name=The Martian>, <Movie name=Inception>, <Movie name=Interstellar>, <Movie name=The Martian>, <Movie name=Inception>, <Movie name=Guaridans of the Galaxy>]\n"
     ]
    }
   ],
   "source": [
    "qs = session.query(Movie).all()\n",
    "print(qs)"
   ]
  },
  {
   "cell_type": "markdown",
   "id": "f75de984",
   "metadata": {},
   "source": [
    "## List & Filter by Column Value"
   ]
  },
  {
   "cell_type": "code",
   "execution_count": 58,
   "id": "c12ab27f",
   "metadata": {},
   "outputs": [
    {
     "data": {
      "text/plain": [
       "[]"
      ]
     },
     "execution_count": 58,
     "metadata": {},
     "output_type": "execute_result"
    }
   ],
   "source": [
    "qs = session.query(Movie).filter_by(name='Guardians of the Galaxy').all()\n",
    "qs"
   ]
  },
  {
   "cell_type": "markdown",
   "id": "2f4f9b59",
   "metadata": {},
   "source": [
    "## List & Filter by Column Value Containing Something"
   ]
  },
  {
   "cell_type": "code",
   "execution_count": 59,
   "id": "f9f43861",
   "metadata": {},
   "outputs": [
    {
     "data": {
      "text/plain": [
       "[<Movie name=Guaridans of the Galaxy>]"
      ]
     },
     "execution_count": 59,
     "metadata": {},
     "output_type": "execute_result"
    }
   ],
   "source": [
    "\n",
    "qs = session.query(Movie).filter(Movie.name.contains(\"Guaridans\")).all()\n",
    "qs"
   ]
  },
  {
   "cell_type": "markdown",
   "id": "b2d79734",
   "metadata": {},
   "source": [
    "## List & Filter by Column Value Containing Something"
   ]
  },
  {
   "cell_type": "code",
   "execution_count": 60,
   "id": "58b14003",
   "metadata": {},
   "outputs": [
    {
     "name": "stdout",
     "output_type": "stream",
     "text": [
      "What are you looking for?\n",
      "gua\n",
      "[<Movie name=Guaridans of the Galaxy>]\n"
     ]
    }
   ],
   "source": [
    "my_query = input(\"What are you looking for?\\n\") or \"Unknown\"\n",
    "qs = session.query(Movie).filter(Movie.name.contains(my_query)).all()\n",
    "print(qs)"
   ]
  },
  {
   "cell_type": "markdown",
   "id": "fc1480fe",
   "metadata": {},
   "source": [
    "# Update"
   ]
  },
  {
   "cell_type": "code",
   "execution_count": 61,
   "id": "570f0f73",
   "metadata": {},
   "outputs": [
    {
     "name": "stdout",
     "output_type": "stream",
     "text": [
      "5 The Martian A dream within a dream\n"
     ]
    }
   ],
   "source": [
    "movie_a = session.query(Movie).get(5)\n",
    "movie_a.description = \"A dream within a dream\"\n",
    "print(movie_a.id, movie_a.name, movie_a.description)\n",
    "session.commit()"
   ]
  },
  {
   "cell_type": "code",
   "execution_count": 62,
   "id": "35e60e48",
   "metadata": {},
   "outputs": [
    {
     "name": "stdout",
     "output_type": "stream",
     "text": [
      "A dream within a dream\n"
     ]
    }
   ],
   "source": [
    "movie_a = session.query(Movie).get(5)\n",
    "print(movie_a.description)"
   ]
  },
  {
   "cell_type": "code",
   "execution_count": 63,
   "id": "52a298f6",
   "metadata": {},
   "outputs": [],
   "source": [
    "qs = session.query(Movie).filter(Movie.name.contains(\"Guaridans\")).all()\n",
    "for movie_obj in qs:\n",
    "    movie_obj.name = \"Guardians of the Galaxy\"\n",
    "session.commit()"
   ]
  },
  {
   "cell_type": "code",
   "execution_count": 64,
   "id": "e7ebb953",
   "metadata": {},
   "outputs": [
    {
     "data": {
      "text/plain": [
       "[]"
      ]
     },
     "execution_count": 64,
     "metadata": {},
     "output_type": "execute_result"
    }
   ],
   "source": [
    "qs = session.query(Movie).filter(Movie.name.contains(\"Guaridans\")).all()\n",
    "qs"
   ]
  },
  {
   "cell_type": "markdown",
   "id": "084ddbec",
   "metadata": {},
   "source": [
    "# Delete"
   ]
  },
  {
   "cell_type": "code",
   "execution_count": 65,
   "id": "6346e684",
   "metadata": {},
   "outputs": [],
   "source": [
    "movie_a = session.query(Movie).get(1)\n",
    "session.delete(movie_a)\n",
    "session.commit()"
   ]
  },
  {
   "cell_type": "code",
   "execution_count": 66,
   "id": "11601b87",
   "metadata": {},
   "outputs": [],
   "source": [
    "session.flush()"
   ]
  },
  {
   "cell_type": "markdown",
   "id": "63f42864",
   "metadata": {},
   "source": [
    "#SQLAlchemy & Pandas"
   ]
  },
  {
   "cell_type": "code",
   "execution_count": 68,
   "id": "6d3cc668",
   "metadata": {},
   "outputs": [
    {
     "name": "stdout",
     "output_type": "stream",
     "text": [
      "# coding: utf-8\n",
      "from sqlalchemy import Column, Integer, String\n",
      "from sqlalchemy.ext.declarative import declarative_base\n",
      "\n",
      "Base = declarative_base()\n",
      "metadata = Base.metadata\n",
      "\n",
      "\n",
      "class Movie(Base):\n",
      "    __tablename__ = 'movies'\n",
      "\n",
      "    id = Column(Integer, primary_key=True)\n",
      "    name = Column(String)\n",
      "    genre = Column(String)\n",
      "    description = Column(String)\n",
      "    year = Column(Integer)\n"
     ]
    }
   ],
   "source": [
    "!sqlacodegen sqlite:///app.db"
   ]
  },
  {
   "cell_type": "code",
   "execution_count": null,
   "id": "e6ca7bac",
   "metadata": {},
   "outputs": [],
   "source": []
  },
  {
   "cell_type": "code",
   "execution_count": null,
   "id": "61f422f5",
   "metadata": {},
   "outputs": [],
   "source": []
  },
  {
   "cell_type": "code",
   "execution_count": null,
   "id": "cf0c35eb",
   "metadata": {},
   "outputs": [],
   "source": []
  },
  {
   "cell_type": "code",
   "execution_count": null,
   "id": "4164ee58",
   "metadata": {},
   "outputs": [],
   "source": []
  },
  {
   "cell_type": "code",
   "execution_count": null,
   "id": "726d4ac9",
   "metadata": {},
   "outputs": [],
   "source": []
  }
 ],
 "metadata": {
  "kernelspec": {
   "display_name": "Python 3 (ipykernel)",
   "language": "python",
   "name": "python3"
  },
  "language_info": {
   "codemirror_mode": {
    "name": "ipython",
    "version": 3
   },
   "file_extension": ".py",
   "mimetype": "text/x-python",
   "name": "python",
   "nbconvert_exporter": "python",
   "pygments_lexer": "ipython3",
   "version": "3.10.4"
  }
 },
 "nbformat": 4,
 "nbformat_minor": 5
}
