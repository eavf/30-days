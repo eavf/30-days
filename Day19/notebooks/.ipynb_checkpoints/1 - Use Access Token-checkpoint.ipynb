{
 "cells": [
  {
   "cell_type": "code",
   "execution_count": 1,
   "id": "20386375",
   "metadata": {},
   "outputs": [],
   "source": [
    "#!pip install requests\n"
   ]
  },
  {
   "cell_type": "code",
   "execution_count": 1,
   "id": "3f83c617",
   "metadata": {},
   "outputs": [],
   "source": [
    "import datetime\n",
    "import requests\n",
    "import base64\n",
    "from _kluce import client_id, client_secret"
   ]
  },
  {
   "cell_type": "code",
   "execution_count": 6,
   "id": "879fd053",
   "metadata": {},
   "outputs": [],
   "source": [
    "class SpotifyAPI(object):\n",
    "    access_token = None\n",
    "    access_token_expires = datetime.datetime.now()\n",
    "    access_token_did_expire = True\n",
    "    client_id = None\n",
    "    client_secret = None\n",
    "    token_url = 'https://accounts.spotify.com/api/token'\n",
    "\n",
    "    def __init__(self, client_id, client_secret, *args, **kwargs):\n",
    "        super().__init__(*args, **kwargs)\n",
    "        self.client_id = client_id\n",
    "        self.client_secret = client_secret\n",
    "        \n",
    "    def get_client_credentials(self):\n",
    "        \"\"\"\n",
    "        Returns a base64encoded string \n",
    "        \"\"\"\n",
    "        client_id = self.client_id\n",
    "        client_secret = self.client_secret\n",
    "        if client_id == None or client_secret ==None:\n",
    "            raise Exception(\"You must set client_id a client_secret\")\n",
    "        client_creds = f\"{client_id}:{client_secret}\"\n",
    "        client_creds_b64 = base64.b64encode(client_creds.encode())\n",
    "        return client_creds_b64.decode()\n",
    "    \n",
    "    def get_token_header(self):\n",
    "        client_creds_b64 = self.get_client_credentials()\n",
    "        return {\n",
    "            \"Authorization\": f\"Basic {client_creds_b64}\"\n",
    "        }\n",
    "    \n",
    "    def get_token_data(self):\n",
    "        return {\n",
    "            \"grant_type\": 'client_credentials'\n",
    "        }\n",
    "    \n",
    "    def perform_auth(self):\n",
    "        token_url = self.token_url\n",
    "        token_data = self. get_token_data()\n",
    "        token_header = self.get_token_header()\n",
    "        r = requests.post(token_url, data=token_data, headers=token_header)\n",
    "        if r.status_code not in range(200, 299):\n",
    "            return False\n",
    "        data = r.json()\n",
    "        now = datetime.datetime.now()\n",
    "        access_token = data['access_token']\n",
    "        expire_in = data['expires_in']         # seconds\n",
    "        expires = now + datetime.timedelta(seconds=expire_in)\n",
    "        self.access_token = access_token\n",
    "        self.access_token_expires = expires\n",
    "        access_token_did_expire = expires < now\n",
    "        return True\n",
    "        "
   ]
  },
  {
   "cell_type": "code",
   "execution_count": 7,
   "id": "434a8134",
   "metadata": {},
   "outputs": [],
   "source": [
    "spotify = SpotifyAPI(client_id, client_secret)"
   ]
  },
  {
   "cell_type": "code",
   "execution_count": 8,
   "id": "cbd46325",
   "metadata": {},
   "outputs": [
    {
     "data": {
      "text/plain": [
       "True"
      ]
     },
     "execution_count": 8,
     "metadata": {},
     "output_type": "execute_result"
    }
   ],
   "source": [
    "spotify.perform_auth()"
   ]
  },
  {
   "cell_type": "code",
   "execution_count": 9,
   "id": "79ccc9a1",
   "metadata": {},
   "outputs": [
    {
     "data": {
      "text/plain": [
       "'BQBdUN8pqx5s96p0hkXMl2K1Fwtwo3SNxgbfjKAy8lMCLux9s4LDCgRcY63C0yfjn_omlebwskkhMF49cH0o3Q01aV-TbjY_dS9RjJ4LY6SjzY7705g'"
      ]
     },
     "execution_count": 9,
     "metadata": {},
     "output_type": "execute_result"
    }
   ],
   "source": [
    "spotify.access_token"
   ]
  },
  {
   "cell_type": "code",
   "execution_count": null,
   "id": "6cc3a173",
   "metadata": {},
   "outputs": [],
   "source": [
    "#spotify.search"
   ]
  }
 ],
 "metadata": {
  "kernelspec": {
   "display_name": "Python 3 (ipykernel)",
   "language": "python",
   "name": "python3"
  },
  "language_info": {
   "codemirror_mode": {
    "name": "ipython",
    "version": 3
   },
   "file_extension": ".py",
   "mimetype": "text/x-python",
   "name": "python",
   "nbconvert_exporter": "python",
   "pygments_lexer": "ipython3",
   "version": "3.10.4"
  }
 },
 "nbformat": 4,
 "nbformat_minor": 5
}
