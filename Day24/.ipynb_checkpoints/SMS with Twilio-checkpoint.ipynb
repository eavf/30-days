{
 "cells": [
  {
   "cell_type": "code",
   "execution_count": 6,
   "id": "51d87e30",
   "metadata": {},
   "outputs": [],
   "source": [
    "import json\n",
    "from getpass import getpass\n",
    "\n",
    "from _kluce import account_sid\n",
    "from _kluce import access_token\n",
    "\n",
    "reset_creds = False\n",
    "reset_creds1 = False\n",
    "\n",
    "if reset_creds1:\n",
    "    twilio_sid = getpass(\"What's the Twilio Account SID?\")\n",
    "    twilio_secret = getpass(\"What's the Twilio Secret?\")\n",
    "    '''\n",
    "    This will save our creds from above (blank or not) to a local file\n",
    "    named `creds.json` so we can re-use this credentials.\n",
    "    '''\n",
    "    data = {\n",
    "        \"twilio_sid\": twilio_sid,\n",
    "        \"twilio_secret\": twilio_secret\n",
    "    }\n",
    "    json_data = json.dumps(data)\n",
    "    with open('creds.json', 'w') as f:\n",
    "        f.write(json_data)\n",
    "    #account_sid = 'AC13f2b45130021f2a8e7206d3e35194b7'\n",
    "    #access_token = '83d8e30957fd193144742633ec9feb94'"
   ]
  },
  {
   "cell_type": "code",
   "execution_count": 7,
   "id": "14cbb827",
   "metadata": {},
   "outputs": [],
   "source": [
    "if reset_creds:\n",
    "    twilio_sid = account_sid\n",
    "    twilio_secret = access_token\n",
    "    '''\n",
    "    This will save our creds from above (blank or not) to a local file\n",
    "    named `creds.json` so we can re-use this credentials.\n",
    "    '''\n",
    "    data = {\n",
    "        \"twilio_sid\": twilio_sid,\n",
    "        \"twilio_secret\": twilio_secret\n",
    "    }\n",
    "    json_data = json.dumps(data)\n",
    "    with open('creds.json', 'w') as f:\n",
    "        f.write(json_data)"
   ]
  },
  {
   "cell_type": "code",
   "execution_count": 9,
   "id": "50fbf36a",
   "metadata": {},
   "outputs": [
    {
     "name": "stdout",
     "output_type": "stream",
     "text": [
      "Collecting twilio\n",
      "  Downloading twilio-7.14.0-py2.py3-none-any.whl (1.4 MB)\n",
      "     ---------------------------------------- 1.4/1.4 MB 2.4 MB/s eta 0:00:00\n",
      "Collecting requests>=2.0.0\n",
      "  Using cached requests-2.28.1-py3-none-any.whl (62 kB)\n",
      "Collecting PyJWT<3.0.0,>=2.0.0\n",
      "  Downloading PyJWT-2.4.0-py3-none-any.whl (18 kB)\n",
      "Collecting pytz\n",
      "  Downloading pytz-2022.2.1-py2.py3-none-any.whl (500 kB)\n",
      "     -------------------------------------- 500.6/500.6 kB 3.1 MB/s eta 0:00:00\n",
      "Collecting charset-normalizer<3,>=2\n",
      "  Using cached charset_normalizer-2.1.1-py3-none-any.whl (39 kB)\n",
      "Collecting idna<4,>=2.5\n",
      "  Using cached idna-3.3-py3-none-any.whl (61 kB)\n",
      "Collecting certifi>=2017.4.17\n",
      "  Using cached certifi-2022.6.15-py3-none-any.whl (160 kB)\n",
      "Collecting urllib3<1.27,>=1.21.1\n",
      "  Using cached urllib3-1.26.12-py2.py3-none-any.whl (140 kB)\n",
      "Installing collected packages: pytz, urllib3, PyJWT, idna, charset-normalizer, certifi, requests, twilio\n",
      "Successfully installed PyJWT-2.4.0 certifi-2022.6.15 charset-normalizer-2.1.1 idna-3.3 pytz-2022.2.1 requests-2.28.1 twilio-7.14.0 urllib3-1.26.12\n"
     ]
    }
   ],
   "source": [
    "#!pip install twilio"
   ]
  },
  {
   "cell_type": "code",
   "execution_count": 10,
   "id": "94221d26",
   "metadata": {},
   "outputs": [],
   "source": [
    "twilio_sid = ''\n",
    "twilio_secret = ''\n",
    "with open('creds.json', 'r') as f:\n",
    "    raw_data = f.read()\n",
    "    cred_data = json.loads(raw_data)\n",
    "    twilio_sid = cred_data.get('twilio_sid')\n",
    "    twilio_secret = cred_data.get('twilio_secret')"
   ]
  },
  {
   "cell_type": "code",
   "execution_count": 12,
   "id": "249996a2",
   "metadata": {},
   "outputs": [],
   "source": [
    "from twilio.rest import Client\n",
    "client = Client(twilio_sid, twilio_secret)"
   ]
  },
  {
   "cell_type": "code",
   "execution_count": 18,
   "id": "b2155ce6",
   "metadata": {},
   "outputs": [],
   "source": [
    "my_number = \"+18592955987\"        #????\n",
    "other_number = \"+421944589700\""
   ]
  },
  {
   "cell_type": "code",
   "execution_count": 19,
   "id": "6205c414",
   "metadata": {},
   "outputs": [],
   "source": [
    "body = \"Hello world\"\n",
    "\n",
    "message_twilio = client.messages.create(\n",
    "    messaging_service_sid='MG1a24f2f5eb7d10c80cc3e2a8cb71dfbe',\n",
    "    body = body,\n",
    "    from_ = my_number,\n",
    "    to = other_number)\n"
   ]
  },
  {
   "cell_type": "code",
   "execution_count": 39,
   "id": "3006092c",
   "metadata": {},
   "outputs": [
    {
     "name": "stdout",
     "output_type": "stream",
     "text": [
      "+324545558555\n"
     ]
    }
   ],
   "source": [
    "ignore_numbers = []\n",
    "\n",
    "with open('ignore.json', 'r') as f:\n",
    "    data_ss = f.read()\n",
    "    data = json.loads(data_ss)\n",
    "    \n",
    "    ignore_numbers = data.get('ignore')\n",
    "    print(ignore_numbers)\n",
    "    "
   ]
  },
  {
   "cell_type": "code",
   "execution_count": 40,
   "id": "3e0e418d",
   "metadata": {},
   "outputs": [
    {
     "data": {
      "text/plain": [
       "'Sent from your Twilio trial account - Hello world'"
      ]
     },
     "execution_count": 40,
     "metadata": {},
     "output_type": "execute_result"
    }
   ],
   "source": [
    "msg_sid = message_twilio.sid\n",
    "msg_sid\n",
    "\n",
    "msg_ctx = client.messages.get(msg_sid)\n",
    "msg_instance = msg_ctx.fetch()\n",
    "\n",
    "dir(msg_instance)\n",
    "msg_instance.body\n"
   ]
  },
  {
   "cell_type": "code",
   "execution_count": 45,
   "id": "296851c3",
   "metadata": {},
   "outputs": [
    {
     "name": "stdout",
     "output_type": "stream",
     "text": [
      "0 Sent from your Twilio trial account - Hello world +421944589700 +18592955987 True\n",
      "1 Sent from your Twilio trial account - Hello world +421944589700 +18592955987 True\n"
     ]
    }
   ],
   "source": [
    "messages = client.messages.list(limit = 20, to = other_number, from_ = my_number)\n",
    "\n",
    "for i, record in enumerate(messages):\n",
    "    from_ = record.from_\n",
    "    to = record.to\n",
    "    if from_ in ignore_numbers:\n",
    "        from_ = '-hidden-'\n",
    "    if to in ignore_numbers:\n",
    "        to = '-hidden-'\n",
    "    from_me = False\n",
    "    if from_ == my_number:\n",
    "        from_me = True\n",
    "    print (i, record.body, to, from_, from_me)"
   ]
  },
  {
   "cell_type": "code",
   "execution_count": null,
   "id": "75e71cf1",
   "metadata": {},
   "outputs": [],
   "source": []
  }
 ],
 "metadata": {
  "kernelspec": {
   "display_name": "Python 3 (ipykernel)",
   "language": "python",
   "name": "python3"
  },
  "language_info": {
   "codemirror_mode": {
    "name": "ipython",
    "version": 3
   },
   "file_extension": ".py",
   "mimetype": "text/x-python",
   "name": "python",
   "nbconvert_exporter": "python",
   "pygments_lexer": "ipython3",
   "version": "3.10.4"
  }
 },
 "nbformat": 4,
 "nbformat_minor": 5
}
