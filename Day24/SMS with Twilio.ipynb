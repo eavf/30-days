{
 "cells": [
  {
   "cell_type": "code",
   "execution_count": 2,
   "id": "da18c921",
   "metadata": {},
   "outputs": [],
   "source": [
    "import json\n",
    "from getpass import getpass\n",
    "\n",
    "from _kluce import account_sid\n",
    "from _kluce import access_token\n",
    "\n",
    "reset_creds = False\n",
    "\n",
    "if reset_creds:\n",
    "    twilio_sid = getpass(\"What's the Twilio Account SID?\")\n",
    "    twilio_secret = getpass(\"What's the Twilio Secret?\")\n",
    "    '''\n",
    "    This will save our creds from above (blank or not) to a local file\n",
    "    named `creds.json` so we can re-use this credentials.\n",
    "    '''\n",
    "    data = {\n",
    "        \"twilio_sid\": twilio_sid,\n",
    "        \"twilio_secret\": twilio_secret\n",
    "    }\n",
    "    json_data = json.dumps(data)\n",
    "    with open('creds.json', 'w') as f:\n",
    "        f.write(json_data)"
   ]
  },
  {
   "cell_type": "code",
   "execution_count": null,
   "id": "422d4a2f",
   "metadata": {},
   "outputs": [],
   "source": []
  }
 ],
 "metadata": {
  "kernelspec": {
   "display_name": "Python 3 (ipykernel)",
   "language": "python",
   "name": "python3"
  },
  "language_info": {
   "codemirror_mode": {
    "name": "ipython",
    "version": 3
   },
   "file_extension": ".py",
   "mimetype": "text/x-python",
   "name": "python",
   "nbconvert_exporter": "python",
   "pygments_lexer": "ipython3",
   "version": "3.10.4"
  }
 },
 "nbformat": 4,
 "nbformat_minor": 5
}
