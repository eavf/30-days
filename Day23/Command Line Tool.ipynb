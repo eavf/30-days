{
 "cells": [
  {
   "cell_type": "code",
   "execution_count": 3,
   "id": "47c82d78",
   "metadata": {},
   "outputs": [
    {
     "name": "stdout",
     "output_type": "stream",
     "text": [
      "What is your name?\n",
      "Vladimir\n"
     ]
    }
   ],
   "source": [
    "name = input ('What is your name?\\n') or 'World'"
   ]
  },
  {
   "cell_type": "code",
   "execution_count": 4,
   "id": "7ab3a324",
   "metadata": {},
   "outputs": [
    {
     "name": "stdout",
     "output_type": "stream",
     "text": [
      "Vladimir\n"
     ]
    }
   ],
   "source": [
    "print(name)"
   ]
  },
  {
   "cell_type": "code",
   "execution_count": 9,
   "id": "615d09cb",
   "metadata": {},
   "outputs": [
    {
     "name": "stdout",
     "output_type": "stream",
     "text": [
      "What is your name?\n",
      "\n",
      "What is your name?\n",
      "\n",
      "What is your name?\n",
      "\n",
      "What is your name?\n",
      "\n",
      "What is your name?\n",
      "Vladimir\n"
     ]
    }
   ],
   "source": [
    "tries = 0\n",
    "while True:\n",
    "    name = input ('What is your name?\\n')\n",
    "    if name != None and name != \"\":\n",
    "        break\n",
    "    else:\n",
    "        tries += 1\n",
    "    if tries > 10:\n",
    "        break\n",
    "    else:\n",
    "        continue"
   ]
  },
  {
   "cell_type": "code",
   "execution_count": 12,
   "id": "17abb519",
   "metadata": {},
   "outputs": [
    {
     "name": "stdout",
     "output_type": "stream",
     "text": [
      "What is your password?\n",
      "········\n"
     ]
    }
   ],
   "source": [
    "from getpass import getpass\n",
    "pw = getpass ('What is your password?\\n')"
   ]
  },
  {
   "cell_type": "code",
   "execution_count": 13,
   "id": "6704ec18",
   "metadata": {},
   "outputs": [
    {
     "name": "stdout",
     "output_type": "stream",
     "text": [
      "yfdhgydhf\n"
     ]
    }
   ],
   "source": [
    "print(pw)"
   ]
  },
  {
   "cell_type": "code",
   "execution_count": 14,
   "id": "ff1dc4d5",
   "metadata": {},
   "outputs": [
    {
     "name": "stdout",
     "output_type": "stream",
     "text": [
      "Writing raw_input.py\n"
     ]
    }
   ],
   "source": [
    "%%writefile raw_input.py\n",
    "from getpass import getpass\n",
    "name = input ('What is your name?\\n')\n",
    "pw = getpass ('What is your password?\\n')\n",
    "print (name, pw)"
   ]
  },
  {
   "cell_type": "code",
   "execution_count": 19,
   "id": "01a1e93f",
   "metadata": {},
   "outputs": [
    {
     "name": "stdout",
     "output_type": "stream",
     "text": [
      "Overwriting cli_sys.py\n"
     ]
    }
   ],
   "source": [
    "%%writefile cli_sys.py\n",
    "import sys\n",
    "\n",
    "if __name__ == \"__main__\":\n",
    "    try:\n",
    "        name = sys.argv[1]\n",
    "    except:\n",
    "        name = input ('What is your name?\\n')\n",
    "    from getpass import getpass\n",
    "    pw = getpass ('What is your password?\\n')\n",
    "    \n",
    "    print (name, pw)"
   ]
  },
  {
   "cell_type": "code",
   "execution_count": 27,
   "id": "fe676a09",
   "metadata": {},
   "outputs": [
    {
     "name": "stdout",
     "output_type": "stream",
     "text": [
      "Overwriting cli_argparse.py\n"
     ]
    }
   ],
   "source": [
    "%%writefile cli_argparse.py\n",
    "import argparse\n",
    "\n",
    "if __name__ == \"__main__\":\n",
    "    parser = argparse.ArgumentParser()\n",
    "    parser.add_argument(\"integers\", type=int, nargs=\"+\")\n",
    "    parser.add_argument(\"--sum\", dest='accumulate', action='store_const', const=sum, default=max)\n",
    "    args = parser.parse_args()\n",
    "    print(args.accumulate(args.integers))"
   ]
  },
  {
   "cell_type": "code",
   "execution_count": 29,
   "id": "33ec3e4e",
   "metadata": {},
   "outputs": [
    {
     "name": "stdout",
     "output_type": "stream",
     "text": [
      "Overwriting cli_argparse.py\n"
     ]
    }
   ],
   "source": [
    "%%writefile cli_argparse.py\n",
    "import argparse\n",
    "\n",
    "def my_const_fun(*args, **kwargs):\n",
    "    print('const', args, kwargs)\n",
    "\n",
    "def my_default_fun(*args, **kwargs):\n",
    "    print('default',args, kwargs)\n",
    "\n",
    "    \n",
    "    \n",
    "if __name__ == \"__main__\":\n",
    "    parser = argparse.ArgumentParser()\n",
    "    parser.add_argument(\"integers\", type=int, nargs=\"+\")\n",
    "    parser.add_argument(\"--math\", dest='math_is_fun', action='store_const', const=my_const_fun, default=my_default_fun)\n",
    "    args = parser.parse_args()\n",
    "    print(args.math_is_fun(args.integers))"
   ]
  },
  {
   "cell_type": "code",
   "execution_count": 30,
   "id": "9da7d39d",
   "metadata": {},
   "outputs": [
    {
     "name": "stdout",
     "output_type": "stream",
     "text": [
      "Collecting fire\n",
      "  Downloading fire-0.4.0.tar.gz (87 kB)\n",
      "     ---------------------------------------- 87.7/87.7 kB 1.6 MB/s eta 0:00:00\n",
      "  Preparing metadata (setup.py): started\n",
      "  Preparing metadata (setup.py): finished with status 'done'\n",
      "Requirement already satisfied: six in c:\\users\\vovo\\.virtualenvs\\day23-_pvf6dao\\lib\\site-packages (from fire) (1.16.0)\n",
      "Collecting termcolor\n",
      "  Downloading termcolor-1.1.0.tar.gz (3.9 kB)\n",
      "  Preparing metadata (setup.py): started\n",
      "  Preparing metadata (setup.py): finished with status 'done'\n",
      "Building wheels for collected packages: fire, termcolor\n",
      "  Building wheel for fire (setup.py): started\n",
      "  Building wheel for fire (setup.py): finished with status 'done'\n",
      "  Created wheel for fire: filename=fire-0.4.0-py2.py3-none-any.whl size=115926 sha256=e5bf969dcf1f3cf17b557251013311f5cd226251d4b29cd0c4d789abe5e82ce9\n",
      "  Stored in directory: c:\\users\\vovo\\appdata\\local\\pip\\cache\\wheels\\26\\9a\\dd\\2818b1b023daf077ec3e625c47ae446aca587a5abe48e05212\n",
      "  Building wheel for termcolor (setup.py): started\n",
      "  Building wheel for termcolor (setup.py): finished with status 'done'\n",
      "  Created wheel for termcolor: filename=termcolor-1.1.0-py3-none-any.whl size=4832 sha256=18baed9ac0627d312dcc367a87e8fd6e899604ea5613de410b9850f041cdcfb6\n",
      "  Stored in directory: c:\\users\\vovo\\appdata\\local\\pip\\cache\\wheels\\a1\\49\\46\\1b13a65d8da11238af9616b00fdde6d45b0f95d9291bac8452\n",
      "Successfully built fire termcolor\n",
      "Installing collected packages: termcolor, fire\n",
      "Successfully installed fire-0.4.0 termcolor-1.1.0\n"
     ]
    }
   ],
   "source": [
    "!pip install fire"
   ]
  },
  {
   "cell_type": "code",
   "execution_count": 31,
   "id": "f8b18792",
   "metadata": {},
   "outputs": [
    {
     "name": "stdout",
     "output_type": "stream",
     "text": [
      "Writing cli_fire.py\n"
     ]
    }
   ],
   "source": [
    "%%writefile cli_fire.py\n",
    "\n",
    "import fire\n",
    "\n",
    "def hello(name='world'):\n",
    "    return f\"Hello {name}\"\n",
    "\n",
    "if __name__ == '__main__':\n",
    "    fire.Fire(hello)"
   ]
  },
  {
   "cell_type": "code",
   "execution_count": 32,
   "id": "c39a4eb2",
   "metadata": {},
   "outputs": [
    {
     "name": "stdout",
     "output_type": "stream",
     "text": [
      "Writing cli_fire_inputs.py\n"
     ]
    }
   ],
   "source": [
    "%%writefile cli_fire_inputs.py\n",
    "from getpass import getpass\n",
    "import fire\n",
    "\n",
    "def hello(name='world'):\n",
    "    return f\"Hello {name}\"\n",
    "\n",
    "def login(name=None):\n",
    "    if name == None:\n",
    "        name = input ('What is your name?\\n')\n",
    "    pw = getpass ('What is your password?\\n')\n",
    "    return name, pw\n",
    "\n",
    "if __name__ == '__main__':\n",
    "    fire.Fire(login)"
   ]
  },
  {
   "cell_type": "code",
   "execution_count": 37,
   "id": "e92ccfae",
   "metadata": {},
   "outputs": [
    {
     "name": "stdout",
     "output_type": "stream",
     "text": [
      "Overwriting cli_fire_pipeline.py\n"
     ]
    }
   ],
   "source": [
    "%%writefile cli_fire_pipeline.py\n",
    "import fire\n",
    "from getpass import getpass\n",
    "\n",
    "def login(username = None):\n",
    "    if username == None:\n",
    "        username = input ('Username?\\n')\n",
    "    if username == None:\n",
    "        print(\"A username is required\")\n",
    "        return\n",
    "    pw = getpass ('Password?\\n')\n",
    "    print(username, pw)\n",
    "    return username, pw\n",
    "\n",
    "def scrape_tag(tag=\"python\", query_filter = \"Votes\", page=1, max_pages=50, pagesize = 25):\n",
    "    base_url = 'https://stackoverflow.com/questions/tagged/'\n",
    "    datas = []\n",
    "    for p in range (max_pages):\n",
    "        page_num = p+1\n",
    "        url = f\"{base_url}{tag}?tab={query_filter}&page={page_num}&pagesize={pagesize}\"\n",
    "        datas.append(url)\n",
    "    return datas\n",
    "\n",
    "class Pipeline(object):\n",
    "    def __init__(self):\n",
    "        self.scrape = scrape_tag\n",
    "        self.login = login\n",
    "\n",
    "if __name__ == '__main__':\n",
    "    fire.Fire(Pipeline)"
   ]
  },
  {
   "cell_type": "code",
   "execution_count": 38,
   "id": "dc7d6b84",
   "metadata": {},
   "outputs": [
    {
     "name": "stdout",
     "output_type": "stream",
     "text": [
      "Overwriting cli_fire_pipeline.py\n"
     ]
    }
   ],
   "source": [
    "%%writefile cli_fire_pipeline.py\n",
    "import fire\n",
    "from getpass import getpass\n",
    "\n",
    "class Auth(object):\n",
    "    def login(self, username = None):\n",
    "        if username == None:\n",
    "            username = input ('Username?\\n')\n",
    "        if username == None:\n",
    "            print(\"A username is required\")\n",
    "            return\n",
    "        pw = getpass ('Password?\\n')\n",
    "        print(username, pw)\n",
    "        return username, pw\n",
    "\n",
    "    \n",
    "def login(username = None):\n",
    "    if username == None:\n",
    "        username = input ('Username?\\n')\n",
    "    if username == None:\n",
    "        print(\"A username is required\")\n",
    "        return\n",
    "    pw = getpass ('Password?\\n')\n",
    "    print(username, pw)\n",
    "    return username, pw\n",
    "\n",
    "def scrape_tag(tag=\"python\", query_filter = \"Votes\", page=1, max_pages=50, pagesize = 25):\n",
    "    base_url = 'https://stackoverflow.com/questions/tagged/'\n",
    "    datas = []\n",
    "    for p in range (max_pages):\n",
    "        page_num = p+1\n",
    "        url = f\"{base_url}{tag}?tab={query_filter}&page={page_num}&pagesize={pagesize}\"\n",
    "        datas.append(url)\n",
    "    return datas\n",
    "\n",
    "class Pipeline(object):\n",
    "    def __init__(self):\n",
    "        self.scrape = scrape_tag\n",
    "        self.auth = Auth()\n",
    "        self.login = login\n",
    "\n",
    "if __name__ == '__main__':\n",
    "    fire.Fire(Pipeline)"
   ]
  },
  {
   "cell_type": "code",
   "execution_count": 39,
   "id": "7c476173",
   "metadata": {},
   "outputs": [],
   "source": [
    "# vytvoriť z dna 22 triedu a importovať ju ako tieto tu... do cli"
   ]
  },
  {
   "cell_type": "markdown",
   "id": "483c5b6e",
   "metadata": {},
   "source": [
    "###BONUS"
   ]
  },
  {
   "cell_type": "code",
   "execution_count": 40,
   "id": "64f9299f",
   "metadata": {},
   "outputs": [],
   "source": [
    "import inspect\n",
    "from collections import OrderedDict"
   ]
  },
  {
   "cell_type": "code",
   "execution_count": 41,
   "id": "8be3c69a",
   "metadata": {},
   "outputs": [],
   "source": [
    "def rando_fn (abc, df=\"123\"):\n",
    "    print (abc, df)"
   ]
  },
  {
   "cell_type": "code",
   "execution_count": 42,
   "id": "d4614eca",
   "metadata": {},
   "outputs": [
    {
     "name": "stdout",
     "output_type": "stream",
     "text": [
      "odict_keys(['abc', 'df'])\n"
     ]
    }
   ],
   "source": [
    "sig = inspect.signature(rando_fn)\n",
    "print(sig.parameters.keys())"
   ]
  },
  {
   "cell_type": "code",
   "execution_count": 43,
   "id": "9f962719",
   "metadata": {},
   "outputs": [
    {
     "name": "stdout",
     "output_type": "stream",
     "text": [
      "odict_values([<Parameter \"abc\">, <Parameter \"df='123'\">])\n"
     ]
    }
   ],
   "source": [
    "print(sig.parameters.values())"
   ]
  },
  {
   "cell_type": "code",
   "execution_count": 44,
   "id": "5e61806a",
   "metadata": {},
   "outputs": [
    {
     "name": "stdout",
     "output_type": "stream",
     "text": [
      "odict_items([('abc', <Parameter \"abc\">), ('df', <Parameter \"df='123'\">)])\n"
     ]
    }
   ],
   "source": [
    "print(sig.parameters.items())"
   ]
  },
  {
   "cell_type": "code",
   "execution_count": 45,
   "id": "5880ecd1",
   "metadata": {},
   "outputs": [],
   "source": [
    "def get_signature(fn):\n",
    "    params = inspect.signature(fn).parameters\n",
    "    args = []\n",
    "    kwargs = OrderedDict()\n",
    "    for p in params.values():\n",
    "        if p.default is p.empty:\n",
    "            args.append(p.name)\n",
    "        else:\n",
    "            kwargs[p.name] = p.default\n",
    "    return {\"args\": args, \"kwargs\": kwargs}"
   ]
  },
  {
   "cell_type": "code",
   "execution_count": null,
   "id": "628c01a8",
   "metadata": {},
   "outputs": [],
   "source": []
  }
 ],
 "metadata": {
  "kernelspec": {
   "display_name": "Python 3 (ipykernel)",
   "language": "python",
   "name": "python3"
  },
  "language_info": {
   "codemirror_mode": {
    "name": "ipython",
    "version": 3
   },
   "file_extension": ".py",
   "mimetype": "text/x-python",
   "name": "python",
   "nbconvert_exporter": "python",
   "pygments_lexer": "ipython3",
   "version": "3.10.4"
  }
 },
 "nbformat": 4,
 "nbformat_minor": 5
}
